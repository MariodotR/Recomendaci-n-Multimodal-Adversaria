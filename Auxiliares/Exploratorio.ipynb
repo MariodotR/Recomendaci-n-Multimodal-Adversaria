{
 "cells": [
  {
   "cell_type": "code",
   "execution_count": 1,
   "metadata": {
    "id": "Yr7PfG35ghXO"
   },
   "outputs": [],
   "source": [
    "import sys\n",
    "import math\n",
    "import random\n",
    "import time\n",
    "from PIL import Image\n",
    "#import Queue\n",
    "import numpy as np\n",
    "import threading\n",
    "#from cStringIO import StringIO\n",
    "from io import StringIO\n",
    "import tensorflow as tf\n",
    "tf.compat.v1.disable_eager_execution()\n",
    "import pandas as pd\n",
    "import matplotlib.pyplot as plt\n",
    "\n",
    "from PIL import Image\n",
    "import requests\n",
    "from io import BytesIO\n",
    "import io\n",
    "import PIL"
   ]
  },
  {
   "cell_type": "code",
   "execution_count": 2,
   "metadata": {
    "colab": {
     "base_uri": "https://localhost:8080/"
    },
    "id": "Bkm6ddQ2gqU1",
    "outputId": "a550b8cc-074e-480c-d7ee-c48e91166e7b"
   },
   "outputs": [
    {
     "name": "stdout",
     "output_type": "stream",
     "text": [
      "Mounted at /content/drive\n"
     ]
    }
   ],
   "source": [
    "from google.colab import drive\n",
    "drive.mount('/content/drive')\n",
    "\n",
    "#workdir = '/content/drive/MyDrive/dataset_ml/amazon_men_actualizado/' #mario\n"
   ]
  },
  {
   "cell_type": "code",
   "execution_count": null,
   "metadata": {
    "colab": {
     "base_uri": "https://localhost:8080/"
    },
    "id": "z46D4DcvhC1d",
    "outputId": "0eae5654-644c-43e7-a753-24ca91d0b0f2"
   },
   "outputs": [
    {
     "name": "stdout",
     "output_type": "stream",
     "text": [
      "--2021-12-01 06:45:27--  http://cseweb.ucsd.edu/~wckang/DVBPR/AmazonMenWithImgPartitioned.npy\n",
      "Resolving cseweb.ucsd.edu (cseweb.ucsd.edu)... 132.239.8.30\n",
      "Connecting to cseweb.ucsd.edu (cseweb.ucsd.edu)|132.239.8.30|:80... connected.\n",
      "HTTP request sent, awaiting response... 302 Found\n",
      "Location: https://cseweb.ucsd.edu//~wckang/DVBPR/AmazonMenWithImgPartitioned.npy [following]\n",
      "--2021-12-01 06:45:27--  https://cseweb.ucsd.edu//~wckang/DVBPR/AmazonMenWithImgPartitioned.npy\n",
      "Connecting to cseweb.ucsd.edu (cseweb.ucsd.edu)|132.239.8.30|:443... connected.\n",
      "HTTP request sent, awaiting response... 200 OK\n",
      "Length: 2276159058 (2.1G)\n",
      "Saving to: ‘AmazonMenWithImgPartitioned.npy’\n",
      "\n",
      "AmazonMenWithImgPar 100%[===================>]   2.12G  16.0MB/s    in 2m 9s   \n",
      "\n",
      "2021-12-01 06:47:36 (16.9 MB/s) - ‘AmazonMenWithImgPartitioned.npy’ saved [2276159058/2276159058]\n",
      "\n"
     ]
    }
   ],
   "source": [
    "!wget http://cseweb.ucsd.edu/~wckang/DVBPR/AmazonMenWithImgPartitioned.npy"
   ]
  },
  {
   "cell_type": "code",
   "execution_count": null,
   "metadata": {
    "id": "95MtL-4zhECx"
   },
   "outputs": [],
   "source": [
    "dataset_name = \"AmazonMenWithImgPartitioned.npy\"\n",
    "#dataset_name = \"AmazonWomenWithImgPartitioned.npy\"\n",
    "\n",
    "#Hyper-prameters\n",
    "K = 5#100 # Latent dimensionality\n",
    "lambda1 = 0.001 # Weight decay\n",
    "lambda2 = 1.0 # Regularizer for theta_u\n",
    "learning_rate = 1e-4\n",
    "training_epoch = 2 #20\n",
    "batch_size = 4000 #128\n",
    "dropout = 0.5 # Dropout, probability to keep units\n",
    "numldprocess=4 # multi-threading for loading images\n",
    "\n",
    "\n",
    "dataset = np.load(dataset_name,allow_pickle=True,encoding='bytes')\n",
    "\n",
    "[user_train, user_validation, user_test, Item, usernum, itemnum] = dataset"
   ]
  },
  {
   "cell_type": "markdown",
   "metadata": {
    "id": "ipJFKp7ucXR4"
   },
   "source": [
    "# Pre-procesamiento de datos Amazon-men"
   ]
  },
  {
   "cell_type": "code",
   "execution_count": null,
   "metadata": {
    "colab": {
     "base_uri": "https://localhost:8080/"
    },
    "id": "Wgn1ZWmPcb2E",
    "outputId": "11b048bd-c1d5-4649-e3fb-2a4820385e44"
   },
   "outputs": [
    {
     "name": "stdout",
     "output_type": "stream",
     "text": [
      "La cantidad de items de la categoria T-Shirts:  29588\n"
     ]
    }
   ],
   "source": [
    "#Se seleccionan items de determinadas categorias, como poleras, camisas, etc.\n",
    "\n",
    "seleccionados = []\n",
    "\n",
    "for item in Item:\n",
    "  for n_list in range(len(Item[item][b'categories'])):\n",
    "    if (b'T-Shirts' in Item[item][b'categories'][n_list]) or (b'Shirts' in Item[item][b'categories'][n_list]) or (b'Casual Button-Down Shirts' in Item[item][b'categories'][n_list]) or (b'Polos' in Item[item][b'categories'][n_list]) or (b'Outerwear' in Item[item][b'categories'][n_list]) or (b'Active' in Item[item][b'categories'][n_list]):\n",
    "      seleccionados.append(item)\n",
    "\n",
    "print(\"La cantidad de items de la categoria T-Shirts: \", len(seleccionados))"
   ]
  },
  {
   "cell_type": "code",
   "execution_count": null,
   "metadata": {
    "id": "v2GmIErMcv05"
   },
   "outputs": [],
   "source": [
    "#Se agrupan todos los datos de train, test y validacion en un solo diccionario\n",
    "todo = {}\n",
    "\n",
    "for user in user_train:\n",
    "  todo[user] = user_train[user] + user_test[user] + user_validation[user]"
   ]
  },
  {
   "cell_type": "code",
   "execution_count": null,
   "metadata": {
    "id": "zNqXobgZc22q"
   },
   "outputs": [],
   "source": [
    "#del diccionario anterior se seleccionan sólo los usuarios que han puntuado con 4 o 5 estrellas\n",
    "\n",
    "filtrado={}\n",
    "\n",
    "for u in range(usernum):\n",
    "    for item in todo[u]:\n",
    "        if item['overall'] >= 4 : #tiene rating igual a 5\n",
    "            if u not in filtrado.keys():\n",
    "                filtrado[u]=[item]\n",
    "            else:\n",
    "                filtrado[u].append(item)"
   ]
  },
  {
   "cell_type": "code",
   "execution_count": null,
   "metadata": {
    "id": "JxrmhNyrdLMi"
   },
   "outputs": [],
   "source": [
    "#Se crea un diccionario que contiene usuarios que han comprado los items de las categorias seleccionadas \n",
    "#y los han puntuado con 4 o 5 estrellas\n",
    "\n",
    "dic_interacciones_tshirt={}\n",
    "\n",
    "for user in filtrado.keys():\n",
    "  for item in range(len(filtrado[user])):\n",
    "    if filtrado[user][item][b'productid'] in seleccionados:\n",
    "      if user not in dic_interacciones_tshirt.keys():\n",
    "        dic_interacciones_tshirt[user]=[filtrado[user][item]]\n",
    "      else:\n",
    "        dic_interacciones_tshirt[user].append(filtrado[user][item])"
   ]
  },
  {
   "cell_type": "code",
   "execution_count": null,
   "metadata": {
    "id": "FL3Pp5u0deTq"
   },
   "outputs": [],
   "source": [
    "#validos son los usuarios con 3 o mas interacciones, que han puesto ratings 4 o 5 y han comprado las categorias escogidas\n",
    "\n",
    "validos = {}\n",
    "\n",
    "for user in dic_interacciones_tshirt:\n",
    "  if len(dic_interacciones_tshirt[user])>2:\n",
    "    validos[user] = dic_interacciones_tshirt[user]"
   ]
  },
  {
   "cell_type": "code",
   "execution_count": null,
   "metadata": {
    "id": "lrvXDoH1eDB1"
   },
   "outputs": [],
   "source": [
    "#diccionario que muestra {usuario: [productid1, productid2,...]} \n",
    "\n",
    "lista_user_item = {}\n",
    "\n",
    "for user in validos:\n",
    "  for item in range(len(validos[user])):\n",
    "    if user not in lista_user_item.keys():\n",
    "      lista_user_item[user] = [validos[user][item][b'productid']]\n",
    "    else:\n",
    "      lista_user_item[user].append(validos[user][item][b'productid'])"
   ]
  },
  {
   "cell_type": "code",
   "execution_count": null,
   "metadata": {
    "id": "u99W65cJeE0c"
   },
   "outputs": [],
   "source": [
    "#Muestra con qué usuarios y en qué items el usuario u tiene intersección.\n",
    "#{user_u = (user_v, {item_i})}\n",
    "\n",
    "interseccion = {}\n",
    "\n",
    "for user in range(len(lista_user_item)):\n",
    "  usuario = list(lista_user_item.keys())[user]\n",
    "  for otro_user in list(lista_user_item.keys())[user+1:]:\n",
    "    if set(lista_user_item[usuario])&set(lista_user_item[otro_user]) != set():\n",
    "      if usuario not in interseccion.keys():\n",
    "        interseccion[usuario] = [(otro_user, set(lista_user_item[usuario])&set(lista_user_item[otro_user]))]\n",
    "      else:\n",
    "        interseccion[usuario].append((otro_user, set(lista_user_item[usuario])&set(lista_user_item[otro_user])))\n",
    "  "
   ]
  },
  {
   "cell_type": "code",
   "execution_count": null,
   "metadata": {
    "id": "douDWyNEeyJ8"
   },
   "outputs": [],
   "source": [
    "test = []\n",
    "\n",
    "for user in interseccion:\n",
    "  if len(interseccion[user][0][1]) == 1:\n",
    "    test.append((user, interseccion[user][0][1]))\n",
    "  else:\n",
    "    test.append((user, {list(interseccion[user][0][1])[0]}))"
   ]
  },
  {
   "cell_type": "code",
   "execution_count": null,
   "metadata": {
    "id": "rGHa-SCae2V7"
   },
   "outputs": [],
   "source": [
    "train = []\n",
    "\n",
    "for user, i in test:\n",
    "  item = list(i)[0]\n",
    "  for it in lista_user_item[user]:\n",
    "    if it != item:\n",
    "      train.append((user, {it}))"
   ]
  },
  {
   "cell_type": "code",
   "execution_count": null,
   "metadata": {
    "id": "LLG9UqzUe8Uq"
   },
   "outputs": [],
   "source": [
    "dic_train = {}\n",
    "\n",
    "for user, i in train:\n",
    "  item = list(i)[0]\n",
    "  for j in range(len(validos[user])):\n",
    "    if validos[user][j][b'productid'] == item:\n",
    "      if user not in dic_train.keys():\n",
    "        dic_train[user] = [validos[user][j]]\n",
    "      else:\n",
    "        dic_train[user].append(validos[user][j])"
   ]
  },
  {
   "cell_type": "code",
   "execution_count": null,
   "metadata": {
    "id": "14PGKUmRe8TR"
   },
   "outputs": [],
   "source": [
    "dic_test = {}\n",
    "\n",
    "for user, i in test:\n",
    "  item = list(i)[0]\n",
    "  for j in range(len(validos[user])):\n",
    "    if validos[user][j][b'productid'] == item:\n",
    "      if user not in dic_test.keys():\n",
    "        dic_test[user] = [validos[user][j]]\n",
    "      else:\n",
    "        dic_test[user].append(validos[user][j])"
   ]
  },
  {
   "cell_type": "code",
   "execution_count": null,
   "metadata": {
    "id": "BK4moGmNfDOX"
   },
   "outputs": [],
   "source": [
    "np.save('dic_train_men.npy', dic_train) \n",
    "np.save('dic_test_men.npy', dic_test) "
   ]
  },
  {
   "cell_type": "code",
   "execution_count": 3,
   "metadata": {
    "id": "s7V6RjfTaGVM"
   },
   "outputs": [],
   "source": [
    "dic_train = np.load(workdir + 'dic_train_men.npy',allow_pickle='TRUE')\n",
    "dic_train=list(dic_train.reshape(-1,1))[0][0]\n",
    "\n",
    "dic_test = np.load(workdir + 'dic_test_men.npy',allow_pickle='TRUE')\n",
    "dic_test=list(dic_test.reshape(-1,1))[0][0]"
   ]
  },
  {
   "cell_type": "markdown",
   "metadata": {
    "id": "ATvEgKZOfZG3"
   },
   "source": [
    "## Análisis exploratorio de datos"
   ]
  },
  {
   "cell_type": "markdown",
   "metadata": {
    "id": "5hAuBCu9gDnb"
   },
   "source": [
    "**Usuarios:** 3834\n",
    "\n",
    "**Items:** 9106\n",
    "\n",
    "**Interacciones:** 12884\n",
    "\n",
    "**Sparcity:** 0.037%\n",
    "\n",
    "**Max interacciones:** 38\n",
    "\n",
    "**Min interacciones:** 2\n",
    "\n",
    "**Coldstart:** 2.9%"
   ]
  },
  {
   "cell_type": "code",
   "execution_count": 8,
   "metadata": {
    "colab": {
     "base_uri": "https://localhost:8080/"
    },
    "id": "dEa4fpv-fdhe",
    "outputId": "0107b23a-f2c4-414b-fe0a-5debba983937"
   },
   "outputs": [
    {
     "name": "stdout",
     "output_type": "stream",
     "text": [
      "Cantidad de usuarios: 3834\n",
      "Cantidad de items: 9106\n",
      "Cantidad de interacciones: 12884\n",
      "Sparcity: 0.0369037892664166 %\n",
      "Usuario con mayor cantidad de interacciones: 38\n",
      "Usuario con menor cantidad de interacciones: 2\n",
      "Coldstart: 2.888205578739293\n"
     ]
    }
   ],
   "source": [
    "print(\"Cantidad de usuarios:\", len(dic_train))\n",
    "\n",
    "#Cuenta la cantidad de items en Train\n",
    "items = set()\n",
    "for user in dic_train:\n",
    "  #items.add(dic_test[user][0][b'productid'])\n",
    "  for item in range(len(dic_train[user])):\n",
    "    items.add(dic_train[user][item][b'productid'])\n",
    "\n",
    "print(\"Cantidad de items:\", len(items))\n",
    "\n",
    "#Cuenta la cantidad de iteracciones usuario-item en Train\n",
    "\n",
    "int_ = 0\n",
    "\n",
    "for user in dic_train:\n",
    "  int_+= len(dic_train[user])\n",
    "\n",
    "print(\"Cantidad de interacciones:\", int_)\n",
    "\n",
    "#Calcula Sparcity\n",
    "\n",
    "print(\"Sparcity:\", int_/(len(items)*len(dic_train))*100, \"%\")\n",
    "\n",
    "#Calcula maximo y minimo de interacciones\n",
    "\n",
    "dic_int = {}\n",
    "\n",
    "for user in dic_train:\n",
    "  dic_int[user]=len(dic_train[user])\n",
    "\n",
    "int_max = np.max(list(dic_int.values()))\n",
    "int_min = np.min(list(dic_int.values()))\n",
    "\n",
    "print(\"Usuario con mayor cantidad de interacciones:\", int_max)\n",
    "print(\"Usuario con menor cantidad de interacciones:\", int_min)\n",
    "\n",
    "coldstart = 0\n",
    "\n",
    "for user in dic_test:\n",
    "  if dic_test[user][0][b'productid'] not in items:\n",
    "    coldstart+=1\n",
    "\n",
    "print(\"Coldstart:\", coldstart/len(items)*100)"
   ]
  },
  {
   "cell_type": "code",
   "execution_count": null,
   "metadata": {
    "id": "mgJK7LlVmFmc"
   },
   "outputs": [],
   "source": [
    "df_train = pd.DataFrame(columns=['user_id', 'product_id', 'rating'])\n",
    "k=0\n",
    "\n",
    "for user in dic_train:\n",
    "  for item in range(len(dic_train[user])):\n",
    "    df_train.loc[k] = [user, dic_train[user][item][b'productid'], dic_train[user][item]['overall']]\n",
    "    k+=1"
   ]
  },
  {
   "cell_type": "code",
   "execution_count": null,
   "metadata": {
    "id": "BeTS0hoVnE1d"
   },
   "outputs": [],
   "source": [
    "df_test = pd.DataFrame(columns=['user_id', 'product_id', 'rating'])\n",
    "k=0\n",
    "\n",
    "for user in dic_test:\n",
    "  for item in range(len(dic_test[user])):\n",
    "    df_test.loc[k] = [user, dic_test[user][item][b'productid'], dic_test[user][item]['overall']]\n",
    "    k+=1"
   ]
  },
  {
   "cell_type": "code",
   "execution_count": null,
   "metadata": {
    "id": "57IXrCDRnOQr"
   },
   "outputs": [],
   "source": [
    "df_train.to_csv('df_train.csv', header=True)\n",
    "df_test.to_csv('df_test.csv', header=True)"
   ]
  },
  {
   "cell_type": "markdown",
   "metadata": {
    "id": "XFmjr-vyiono"
   },
   "source": [
    "## Distribución de interacciones por item"
   ]
  },
  {
   "cell_type": "code",
   "execution_count": null,
   "metadata": {
    "colab": {
     "base_uri": "https://localhost:8080/",
     "height": 350
    },
    "id": "jaT9-wAXi-K0",
    "outputId": "3912ff23-64a3-497f-8f3c-202d40191664"
   },
   "outputs": [
    {
     "data": {
      "image/png": "[encoded data removed]",
      "text/plain": [
       "<Figure size 576x360 with 1 Axes>"
      ]
     },
     "metadata": {
      "needs_background": "light"
     },
     "output_type": "display_data"
    }
   ],
   "source": [
    "plt.figure(figsize=(8,5))\n",
    "\n",
    "plt.hist(df_train[\"product_id\"].value_counts(), bins=20, range= [2,21], ec='k')\n",
    "plt.xlabel('nº de iteracciones')\n",
    "plt.ylabel('Cantidad')\n",
    "plt.title(\"Distribución del nº de interacciones por item\")\n",
    "plt.locator_params(axis='x', integer=True)\n",
    "plt.show()"
   ]
  },
  {
   "cell_type": "markdown",
   "metadata": {
    "id": "TWaR1r-QjoLD"
   },
   "source": [
    "## Distribución de interacciones por usuario"
   ]
  },
  {
   "cell_type": "code",
   "execution_count": null,
   "metadata": {
    "colab": {
     "base_uri": "https://localhost:8080/",
     "height": 350
    },
    "id": "a5313qz1jOBU",
    "outputId": "937348b0-96a3-40dc-8113-6c41c8164593"
   },
   "outputs": [
    {
     "data": {
      "image/png": "[encoded data removed]",
      "text/plain": [
       "<Figure size 576x360 with 1 Axes>"
      ]
     },
     "metadata": {
      "needs_background": "light"
     },
     "output_type": "display_data"
    }
   ],
   "source": [
    "plt.figure(figsize=(8,5))\n",
    "\n",
    "plt.hist(df_train[\"user_id\"].value_counts(), bins = 35, range= [2,35], ec= 'k')\n",
    "plt.xlabel('nº de iteracciones')\n",
    "plt.ylabel('Cantidad')\n",
    "plt.title(\"Distribución del nº de interacciones por usuario\")\n",
    "plt.show()"
   ]
  },
  {
   "cell_type": "markdown",
   "metadata": {
    "id": "EoPRlEWZNmlv"
   },
   "source": [
    "# Pre-procesamiento de datos Amazon-women"
   ]
  },
  {
   "cell_type": "code",
   "execution_count": null,
   "metadata": {
    "colab": {
     "base_uri": "https://localhost:8080/"
    },
    "id": "wLF8bTnvNs0W",
    "outputId": "d9d72b8f-3198-4416-96b1-fa654bfa15d0"
   },
   "outputs": [
    {
     "name": "stdout",
     "output_type": "stream",
     "text": [
      "--2021-12-01 06:15:20--  http://cseweb.ucsd.edu/~wckang/DVBPR/AmazonWomenWithImgPartitioned.npy\n",
      "Resolving cseweb.ucsd.edu (cseweb.ucsd.edu)... 132.239.8.30\n",
      "Connecting to cseweb.ucsd.edu (cseweb.ucsd.edu)|132.239.8.30|:80... connected.\n",
      "HTTP request sent, awaiting response... 302 Found\n",
      "Location: https://cseweb.ucsd.edu//~wckang/DVBPR/AmazonWomenWithImgPartitioned.npy [following]\n",
      "--2021-12-01 06:15:21--  https://cseweb.ucsd.edu//~wckang/DVBPR/AmazonWomenWithImgPartitioned.npy\n",
      "Connecting to cseweb.ucsd.edu (cseweb.ucsd.edu)|132.239.8.30|:443... connected.\n",
      "HTTP request sent, awaiting response... 200 OK\n",
      "Length: 6644545540 (6.2G)\n",
      "Saving to: ‘AmazonWomenWithImgPartitioned.npy.1’\n",
      "\n",
      "AmazonWomenWithImgP 100%[===================>]   6.19G  19.1MB/s    in 7m 47s  \n",
      "\n",
      "2021-12-01 06:23:08 (13.6 MB/s) - ‘AmazonWomenWithImgPartitioned.npy.1’ saved [6644545540/6644545540]\n",
      "\n"
     ]
    }
   ],
   "source": [
    "!wget http://cseweb.ucsd.edu/~wckang/DVBPR/AmazonWomenWithImgPartitioned.npy "
   ]
  },
  {
   "cell_type": "code",
   "execution_count": null,
   "metadata": {
    "id": "rsPWzcY3PRJP"
   },
   "outputs": [],
   "source": [
    "#dataset_name = \"AmazonMenWithImgPartitioned.npy\"\n",
    "dataset_name = \"AmazonWomenWithImgPartitioned.npy\"\n",
    "\n",
    "#Hyper-prameters\n",
    "K = 5#100 # Latent dimensionality\n",
    "lambda1 = 0.001 # Weight decay\n",
    "lambda2 = 1.0 # Regularizer for theta_u\n",
    "learning_rate = 1e-4\n",
    "training_epoch = 2 #20\n",
    "batch_size = 4000 #128\n",
    "dropout = 0.5 # Dropout, probability to keep units\n",
    "numldprocess=4 # multi-threading for loading images\n",
    "\n",
    "\n",
    "dataset = np.load(dataset_name,allow_pickle=True,encoding='bytes')\n",
    "\n",
    "[user_train, user_validation, user_test, Item, usernum, itemnum] = dataset"
   ]
  },
  {
   "cell_type": "code",
   "execution_count": null,
   "metadata": {
    "id": "H5PBxd4rVmr8"
   },
   "outputs": [],
   "source": [
    "#or (b'Leggings' in Item[item][b'categories'][n_list]) or (b'Dresses' in Item[item][b'categories'][n_list]) or (b'Active' in Item[item][b'categories'][n_list])"
   ]
  },
  {
   "cell_type": "code",
   "execution_count": null,
   "metadata": {
    "colab": {
     "base_uri": "https://localhost:8080/"
    },
    "id": "xiQplBIgP5-7",
    "outputId": "0f796b25-c4d5-4c31-e888-a290541c3fb3"
   },
   "outputs": [
    {
     "name": "stdout",
     "output_type": "stream",
     "text": [
      "La cantidad de items de la categoria T-Shirts:  37892\n"
     ]
    }
   ],
   "source": [
    "#Se seleccionan items de determinadas categorias, como poleras, camisas, etc.\n",
    "\n",
    "seleccionados = []\n",
    "\n",
    "for item in Item:\n",
    "  for n_list in range(len(Item[item][b'categories'])):\n",
    "    if (b'T-Shirts' in Item[item][b'categories'][n_list]) or (b'Shirts' in Item[item][b'categories'][n_list]) or (b'Casual Button-Down Shirts' in Item[item][b'categories'][n_list]) or (b'Polos' in Item[item][b'categories'][n_list]) or (b'Outerwear' in Item[item][b'categories'][n_list]) or ( b'Tops & Tees' in Item[item][b'categories'][n_list]) or (b'Knits & Tees' in Item[item][b'categories'][n_list]):\n",
    "      seleccionados.append(item)\n",
    "\n",
    "print(\"La cantidad de items de la categoria T-Shirts: \", len(seleccionados))"
   ]
  },
  {
   "cell_type": "code",
   "execution_count": null,
   "metadata": {
    "id": "FwOYV_SyRJRv"
   },
   "outputs": [],
   "source": [
    "#Se agrupan todos los datos de train, test y validacion en un solo diccionario\n",
    "todo = {}\n",
    "\n",
    "for user in user_train:\n",
    "  todo[user] = user_train[user] + user_test[user] + user_validation[user]"
   ]
  },
  {
   "cell_type": "code",
   "execution_count": null,
   "metadata": {
    "id": "D3SI_yKDRXUo"
   },
   "outputs": [],
   "source": [
    "#del diccionario anterior se seleccionan sólo los usuarios que han puntuado con 4 o 5 estrellas\n",
    "\n",
    "filtrado={}\n",
    "\n",
    "for u in range(usernum):\n",
    "    for item in todo[u]:\n",
    "        if item['overall'] >= 4 : #tiene rating igual a 5\n",
    "            if u not in filtrado.keys():\n",
    "                filtrado[u]=[item]\n",
    "            else:\n",
    "                filtrado[u].append(item)"
   ]
  },
  {
   "cell_type": "code",
   "execution_count": null,
   "metadata": {
    "id": "yUyqbtPvRYgk"
   },
   "outputs": [],
   "source": [
    "#Se crea un diccionario que contiene usuarios que han comprado los items de las categorias seleccionadas \n",
    "#y los han puntuado con 4 o 5 estrellas\n",
    "\n",
    "dic_interacciones_tshirt={}\n",
    "\n",
    "for user in filtrado.keys():\n",
    "  for item in range(len(filtrado[user])):\n",
    "    if filtrado[user][item][b'productid'] in seleccionados:\n",
    "      if user not in dic_interacciones_tshirt.keys():\n",
    "        dic_interacciones_tshirt[user]=[filtrado[user][item]]\n",
    "      else:\n",
    "        dic_interacciones_tshirt[user].append(filtrado[user][item])"
   ]
  },
  {
   "cell_type": "code",
   "execution_count": null,
   "metadata": {
    "id": "mwIpyNZpRfXc"
   },
   "outputs": [],
   "source": [
    "#validos son los usuarios con 3 o mas interacciones, que han puesto ratings 4 o 5 y han comprado las categorias escogidas\n",
    "\n",
    "validos = {}\n",
    "\n",
    "for user in dic_interacciones_tshirt:\n",
    "  if len(dic_interacciones_tshirt[user])>2:\n",
    "    validos[user] = dic_interacciones_tshirt[user]"
   ]
  },
  {
   "cell_type": "code",
   "execution_count": null,
   "metadata": {
    "id": "2A6PLucDRk2r"
   },
   "outputs": [],
   "source": [
    "#diccionario que muestra {usuario: [productid1, productid2,...]} \n",
    "\n",
    "lista_user_item = {}\n",
    "\n",
    "for user in validos:\n",
    "  for item in range(len(validos[user])):\n",
    "    if user not in lista_user_item.keys():\n",
    "      lista_user_item[user] = [validos[user][item][b'productid']]\n",
    "    else:\n",
    "      lista_user_item[user].append(validos[user][item][b'productid'])"
   ]
  },
  {
   "cell_type": "code",
   "execution_count": null,
   "metadata": {
    "id": "yMIAdjLNRoz5"
   },
   "outputs": [],
   "source": [
    "#Muestra con qué usuarios y en qué items el usuario u tiene intersección.\n",
    "#{user_u = (user_v, {item_i})}\n",
    "\n",
    "interseccion = {}\n",
    "\n",
    "for user in range(len(lista_user_item)):\n",
    "  usuario = list(lista_user_item.keys())[user]\n",
    "  for otro_user in list(lista_user_item.keys())[user+1:]:\n",
    "    if set(lista_user_item[usuario])&set(lista_user_item[otro_user]) != set():\n",
    "      if usuario not in interseccion.keys():\n",
    "        interseccion[usuario] = [(otro_user, set(lista_user_item[usuario])&set(lista_user_item[otro_user]))]\n",
    "      else:\n",
    "        interseccion[usuario].append((otro_user, set(lista_user_item[usuario])&set(lista_user_item[otro_user])))"
   ]
  },
  {
   "cell_type": "code",
   "execution_count": null,
   "metadata": {
    "id": "xPnd_WrFRsk9"
   },
   "outputs": [],
   "source": [
    "test = []\n",
    "\n",
    "for user in interseccion:\n",
    "  if len(interseccion[user][0][1]) == 1:\n",
    "    test.append((user, interseccion[user][0][1]))\n",
    "  else:\n",
    "    test.append((user, {list(interseccion[user][0][1])[0]}))"
   ]
  },
  {
   "cell_type": "code",
   "execution_count": null,
   "metadata": {
    "id": "eLKNDbHJRtHq"
   },
   "outputs": [],
   "source": [
    "train = []\n",
    "\n",
    "for user, i in test:\n",
    "  item = list(i)[0]\n",
    "  for it in lista_user_item[user]:\n",
    "    if it != item:\n",
    "      train.append((user, {it}))"
   ]
  },
  {
   "cell_type": "code",
   "execution_count": null,
   "metadata": {
    "id": "uV8W718sR2BO"
   },
   "outputs": [],
   "source": [
    "dic_train = {}\n",
    "\n",
    "for user, i in train:\n",
    "  item = list(i)[0]\n",
    "  for j in range(len(validos[user])):\n",
    "    if validos[user][j][b'productid'] == item:\n",
    "      if user not in dic_train.keys():\n",
    "        dic_train[user] = [validos[user][j]]\n",
    "      else:\n",
    "        dic_train[user].append(validos[user][j])"
   ]
  },
  {
   "cell_type": "code",
   "execution_count": null,
   "metadata": {
    "id": "a9xUzUcLR52E"
   },
   "outputs": [],
   "source": [
    "dic_test = {}\n",
    "\n",
    "for user, i in test:\n",
    "  item = list(i)[0]\n",
    "  for j in range(len(validos[user])):\n",
    "    if validos[user][j][b'productid'] == item:\n",
    "      if user not in dic_test.keys():\n",
    "        dic_test[user] = [validos[user][j]]\n",
    "      else:\n",
    "        dic_test[user].append(validos[user][j])"
   ]
  },
  {
   "cell_type": "code",
   "execution_count": null,
   "metadata": {
    "id": "tFfqBjRFZccI"
   },
   "outputs": [],
   "source": [
    "np.save('dic_train_women.npy', dic_train) \n",
    "np.save('dic_test_women.npy', dic_test) "
   ]
  },
  {
   "cell_type": "code",
   "execution_count": 9,
   "metadata": {
    "id": "HeI2sBS_ndwK"
   },
   "outputs": [],
   "source": [
    "workdir = '/content/drive/MyDrive/ANN-2021-I/women/'\n",
    "\n",
    "dic_train = np.load(workdir + 'dic_train_women.npy',allow_pickle='TRUE')\n",
    "dic_train=list(dic_train.reshape(-1,1))[0][0]\n",
    "\n",
    "dic_test = np.load(workdir + 'dic_test_women.npy',allow_pickle='TRUE')\n",
    "dic_test=list(dic_test.reshape(-1,1))[0][0]"
   ]
  },
  {
   "cell_type": "markdown",
   "metadata": {
    "id": "j8pzokkOOkxA"
   },
   "source": [
    "## Análisis exploratorio de datos"
   ]
  },
  {
   "cell_type": "markdown",
   "metadata": {
    "id": "CaweqzFVOkxA"
   },
   "source": [
    "**Usuarios:** 3158\n",
    "\n",
    "**Items:** 7245\n",
    "\n",
    "**Interacciones:** 11350\n",
    "\n",
    "**Sparcity:** 0.05%\n",
    "\n",
    "**Max interacciones:** 90\n",
    "\n",
    "**Min interacciones:** 2\n",
    "\n",
    "**Coldstart:** 2.7%"
   ]
  },
  {
   "cell_type": "code",
   "execution_count": 10,
   "metadata": {
    "colab": {
     "base_uri": "https://localhost:8080/"
    },
    "id": "H99aEX9LOkxB",
    "outputId": "8a9505d3-9d3e-458b-d66e-12cdf6e9f0e7"
   },
   "outputs": [
    {
     "name": "stdout",
     "output_type": "stream",
     "text": [
      "Cantidad de usuarios: 3158\n",
      "Cantidad de items: 7245\n",
      "Cantidad de interacciones: 11350\n",
      "Sparcity: 0.04960727212014488 %\n",
      "Usuario con mayor cantidad de interacciones: 90\n",
      "Usuario con menor cantidad de interacciones: 2\n",
      "Coldstart: 2.7743271221532093\n"
     ]
    }
   ],
   "source": [
    "print(\"Cantidad de usuarios:\", len(dic_train))\n",
    "\n",
    "#Cuenta la cantidad de items en Train\n",
    "items = set()\n",
    "for user in dic_train:\n",
    "  #items.add(dic_test[user][0][b'productid'])\n",
    "  for item in range(len(dic_train[user])):\n",
    "    items.add(dic_train[user][item][b'productid'])\n",
    "\n",
    "print(\"Cantidad de items:\", len(items))\n",
    "\n",
    "#Cuenta la cantidad de iteracciones usuario-item en Train\n",
    "\n",
    "int_ = 0\n",
    "\n",
    "for user in dic_train:\n",
    "  int_+= len(dic_train[user])\n",
    "\n",
    "print(\"Cantidad de interacciones:\", int_)\n",
    "\n",
    "#Calcula Sparcity\n",
    "\n",
    "print(\"Sparcity:\", int_/(len(items)*len(dic_train))*100, \"%\")\n",
    "\n",
    "#Calcula maximo y minimo de interacciones\n",
    "\n",
    "dic_int = {}\n",
    "\n",
    "for user in dic_train:\n",
    "  dic_int[user]=len(dic_train[user])\n",
    "\n",
    "int_max = np.max(list(dic_int.values()))\n",
    "int_min = np.min(list(dic_int.values()))\n",
    "\n",
    "print(\"Usuario con mayor cantidad de interacciones:\", int_max)\n",
    "print(\"Usuario con menor cantidad de interacciones:\", int_min)\n",
    "\n",
    "coldstart = 0\n",
    "\n",
    "for user in dic_test:\n",
    "  if dic_test[user][0][b'productid'] not in items:\n",
    "    coldstart+=1\n",
    "\n",
    "print(\"Coldstart:\", coldstart/len(items)*100)"
   ]
  },
  {
   "cell_type": "code",
   "execution_count": null,
   "metadata": {
    "id": "B6i-DNQCOkxB"
   },
   "outputs": [],
   "source": [
    "df_train = pd.DataFrame(columns=['user_id', 'product_id', 'rating'])\n",
    "k=0\n",
    "\n",
    "for user in dic_train:\n",
    "  for item in range(len(dic_train[user])):\n",
    "    df_train.loc[k] = [user, dic_train[user][item][b'productid'], dic_train[user][item]['overall']]\n",
    "    k+=1"
   ]
  },
  {
   "cell_type": "code",
   "execution_count": null,
   "metadata": {
    "id": "ST_g0ypqOkxB"
   },
   "outputs": [],
   "source": [
    "df_test = pd.DataFrame(columns=['user_id', 'product_id', 'rating'])\n",
    "k=0\n",
    "\n",
    "for user in dic_test:\n",
    "  for item in range(len(dic_test[user])):\n",
    "    df_test.loc[k] = [user, dic_test[user][item][b'productid'], dic_test[user][item]['overall']]\n",
    "    k+=1"
   ]
  },
  {
   "cell_type": "code",
   "execution_count": null,
   "metadata": {
    "id": "N2JpyoxGOkxB"
   },
   "outputs": [],
   "source": [
    "df_train.to_csv('df_train_women.csv', header=True)\n",
    "df_test.to_csv('df_test_women.csv', header=True)"
   ]
  },
  {
   "cell_type": "markdown",
   "metadata": {
    "id": "ZenaBYO3sdPf"
   },
   "source": [
    "## Distribución de interacciones por item"
   ]
  },
  {
   "cell_type": "code",
   "execution_count": null,
   "metadata": {
    "colab": {
     "base_uri": "https://localhost:8080/",
     "height": 350
    },
    "id": "FEUiRJ1EsdPf",
    "outputId": "2221a58b-66c9-4b68-a4ab-677220192fcf"
   },
   "outputs": [
    {
     "data": {
      "image/png": "[encoded data removed]",
      "text/plain": [
       "<Figure size 576x360 with 1 Axes>"
      ]
     },
     "metadata": {
      "needs_background": "light"
     },
     "output_type": "display_data"
    }
   ],
   "source": [
    "plt.figure(figsize=(8,5))\n",
    "\n",
    "plt.hist(df_train[\"product_id\"].value_counts(), bins=40, range= [2,40], ec='k')\n",
    "plt.xlabel('nº de iteracciones')\n",
    "plt.ylabel('Cantidad')\n",
    "plt.title(\"Distribución del nº de interacciones por item\")\n",
    "plt.locator_params(axis='x', integer=True)\n",
    "plt.show()"
   ]
  },
  {
   "cell_type": "markdown",
   "metadata": {
    "id": "vhcEC10xshhv"
   },
   "source": [
    "## Distribución de interacciones por usuario"
   ]
  },
  {
   "cell_type": "code",
   "execution_count": null,
   "metadata": {
    "colab": {
     "base_uri": "https://localhost:8080/",
     "height": 350
    },
    "id": "Ezt_W0kKshhv",
    "outputId": "82c8fb32-6242-4cb9-de35-df38847d2013"
   },
   "outputs": [
    {
     "data": {
      "image/png": "[encoded data removed]",
      "text/plain": [
       "<Figure size 576x360 with 1 Axes>"
      ]
     },
     "metadata": {
      "needs_background": "light"
     },
     "output_type": "display_data"
    }
   ],
   "source": [
    "plt.figure(figsize=(8,5))\n",
    "\n",
    "plt.hist(df_train[\"user_id\"].value_counts(), bins = 40, range= [2,40], ec= 'k')\n",
    "plt.xlabel('nº de iteracciones')\n",
    "plt.ylabel('Cantidad')\n",
    "plt.title(\"Distribución del nº de interacciones por usuario\")\n",
    "plt.show()"
   ]
  }
 ],
 "metadata": {
  "colab": {
   "collapsed_sections": [],
   "name": "Exploratorio.ipynb",
   "provenance": [],
   "toc_visible": true
  },
  "kernelspec": {
   "display_name": "Python 3",
   "language": "python",
   "name": "python3"
  },
  "language_info": {
   "codemirror_mode": {
    "name": "ipython",
    "version": 3
   },
   "file_extension": ".py",
   "mimetype": "text/x-python",
   "name": "python",
   "nbconvert_exporter": "python",
   "pygments_lexer": "ipython3",
   "version": "3.7.10"
  },
  "toc": {
   "base_numbering": 1,
   "nav_menu": {},
   "number_sections": true,
   "sideBar": true,
   "skip_h1_title": true,
   "title_cell": "Table of Contents",
   "title_sidebar": "Contents",
   "toc_cell": false,
   "toc_position": {},
   "toc_section_display": true,
   "toc_window_display": true
  },
  "varInspector": {
   "cols": {
    "lenName": 16,
    "lenType": 16,
    "lenVar": 40
   },
   "kernels_config": {
    "python": {
     "delete_cmd_postfix": "",
     "delete_cmd_prefix": "del ",
     "library": "var_list.py",
     "varRefreshCmd": "print(var_dic_list())"
    },
    "r": {
     "delete_cmd_postfix": ") ",
     "delete_cmd_prefix": "rm(",
     "library": "var_list.r",
     "varRefreshCmd": "cat(var_dic_list()) "
    }
   },
   "types_to_exclude": [
    "module",
    "function",
    "builtin_function_or_method",
    "instance",
    "_Feature"
   ],
   "window_display": false
  }
 },
 "nbformat": 4,
 "nbformat_minor": 1
}
