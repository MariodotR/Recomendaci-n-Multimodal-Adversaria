{
  "cells": [
    {
      "cell_type": "code",
      "execution_count": null,
      "metadata": {
        "id": "TffNbYWMzw7Z"
      },
      "outputs": [],
      "source": [
        "import sys\n",
        "import math\n",
        "import random\n",
        "import time\n",
        "from PIL import Image\n",
        "from multiprocessing import Queue\n",
        "import numpy as np\n",
        "import threading\n",
        "#from cStringIO import StringIO\n",
        "import io\n",
        "from io import StringIO\n",
        "import tensorflow as tf\n",
        "import PIL"
      ]
    },
    {
      "cell_type": "code",
      "execution_count": null,
      "metadata": {
        "colab": {
          "base_uri": "https://localhost:8080/"
        },
        "id": "Zml4ZH8KgSk7",
        "outputId": "afcdea59-b7e7-47a4-b811-4ec78e3e5633"
      },
      "outputs": [
        {
          "name": "stdout",
          "output_type": "stream",
          "text": [
            "Mounted at /content/drive\n"
          ]
        }
      ],
      "source": [
        "from google.colab import drive\n",
        "drive.mount('/content/drive')\n",
        "\n",
        "#workdir = '/content/drive/MyDrive/dataset_ml/amazon_men_actualizado/' #mario\n",
        "workdir = '/content/drive/MyDrive/amazon_men_actualizado/'"
      ]
    },
    {
      "cell_type": "code",
      "execution_count": null,
      "metadata": {
        "id": "6qQeAQpkcuID"
      },
      "outputs": [],
      "source": [
        "user_train = np.load(workdir + 'dic_train_men.npy',allow_pickle='TRUE')\n",
        "user_train=list(user_train.reshape(-1,1))[0][0]\n",
        "\n",
        "user_test = np.load(workdir + 'dic_test_men.npy',allow_pickle='TRUE')\n",
        "user_test=list(user_test.reshape(-1,1))[0][0]\n",
        "\n",
        "Item = np.load(workdir + 'items_men.npy',allow_pickle='TRUE')\n",
        "Item=list(Item.reshape(-1,1))[0][0]\n"
      ]
    },
    {
      "cell_type": "code",
      "execution_count": null,
      "metadata": {
        "id": "_lr08_tJ_KhE"
      },
      "outputs": [],
      "source": [
        "#Hyper-prameters\n",
        "K = 100 # Latent dimensionality\n",
        "lambda1 = 0.001 # Weight decay\n",
        "lambda2 = 0.1 # Regularizer for theta_u\n",
        "learning_rate = 0.1\n",
        "training_epoch = 600\n",
        "batch_size = 128 #4000\n",
        "dropout = 0.5 # Dropout, probability to keep units\n",
        "numldprocess=4 # multi-threading for loading images\n",
        "usernum = len(user_train)"
      ]
    },
    {
      "cell_type": "code",
      "execution_count": null,
      "metadata": {
        "id": "Py3OfQVwgpBF"
      },
      "outputs": [],
      "source": [
        "set_im = []\n",
        "\n",
        "for user in user_train:\n",
        "  for item in range(len(user_train[user])):\n",
        "    if user_train[user][item][b'productid'] not in set_im:\n",
        "      set_im.append(user_train[user][item][b'productid'])\n",
        "itemnum= len(set_im)"
      ]
    },
    {
      "cell_type": "code",
      "execution_count": null,
      "metadata": {
        "id": "3zneRIBe2SMz"
      },
      "outputs": [],
      "source": [
        "# Create some wrappers for simplicity\n",
        "def conv2d(x, W, b, strides=1):\n",
        "    # Conv2D wrapper, with bias and relu activation\n",
        "    x = tf.nn.conv2d(x, W, strides=[1, strides, strides, 1], padding='SAME')\n",
        "    x = tf.nn.bias_add(x, b)\n",
        "    return tf.nn.relu(x)\n",
        "\n",
        "def maxpool2d(x, k=2):\n",
        "    return tf.nn.max_pool(x, ksize=[1, k, k, 1], strides=[1, k, k, 1],\n",
        "                          padding='SAME')\n",
        "\n",
        "def avgpool2d(x, k=2):\n",
        "    return tf.nn.avg_pool(x, ksize=[1, k, k, 1], strides=[1, k, k, 1],\n",
        "                          padding='SAME')\n",
        "\n",
        "weights = {\n",
        "    'wc1': [11, 11, 3, 64],\n",
        "    'wc2': [5, 5, 64, 256],\n",
        "    'wc3': [3, 3, 256, 256],\n",
        "    'wc4': [3, 3, 256, 256],\n",
        "    'wc5': [3, 3, 256, 256],    \n",
        "    'wd1': [7*7*256, 4096],\n",
        "    'wd2': [4096, 4096],\n",
        "    'wd3': [4096, K],\n",
        "}\n",
        "\n",
        "biases = {\n",
        "    'bc1': [64],\n",
        "    'bc2': [256],\n",
        "    'bc3': [256],\n",
        "    'bc4': [256],\n",
        "    'bc5': [256],\n",
        "    'bd1': [4096],\n",
        "    'bd2': [4096],\n",
        "    'bd3': [K],\n",
        "}\n",
        "\n",
        "def Weights(name):\n",
        "    return tf.compat.v1.get_variable(name,dtype=tf.float32,shape=weights[name],initializer=tf.compat.v1.keras.initializers.glorot_normal())\n",
        "\n",
        "def Biases(name):\n",
        "    return tf.compat.v1.get_variable(name,dtype=tf.float32,initializer=tf.zeros(biases[name]))\n",
        "       \n",
        "# Create CNN model\n",
        "def CNN(x,dropout):\n",
        "    # Reshape input picture\n",
        "    x = tf.reshape(x, shape=[-1, 224, 224, 3])\n",
        "\n",
        "\n",
        "    conv1 = conv2d(x, Weights('wc1'), Biases('bc1'), strides=4)\n",
        "    conv1 = tf.nn.relu(conv1)\n",
        "    conv1 = maxpool2d(conv1, k=2)\n",
        "    \n",
        "    conv2 = conv2d(conv1, Weights('wc2'), Biases('bc2'))\n",
        "    conv2 = tf.nn.relu(conv2)\n",
        "    conv2 = maxpool2d(conv2, k=2)\n",
        "    \n",
        "    conv3 = conv2d(conv2, Weights('wc3'), Biases('bc3'))\n",
        "    conv3 = tf.nn.relu(conv3)\n",
        "    \n",
        "    conv4 = conv2d(conv3, Weights('wc4'), Biases('bc4'))\n",
        "    conv4 = tf.nn.relu(conv4)\n",
        "    \n",
        "    conv5 = conv2d(conv4, Weights('wc5'), Biases('bc5'))\n",
        "    conv5 = tf.nn.relu(conv5)\n",
        "    conv5 = maxpool2d(conv5, k=2)\n",
        "\n",
        "    fc1 = tf.reshape(conv5, [-1,weights['wd1'][0]])\n",
        "    fc1 = tf.add(tf.matmul(fc1, Weights('wd1')), Biases('bd1'))\n",
        "    fc1 = tf.nn.relu(fc1)\n",
        "    fc1 = tf.nn.dropout(fc1, dropout)\n",
        "    \n",
        "    fc2 = tf.add(tf.matmul(fc1, Weights('wd2')), Biases('bd2'))\n",
        "    fc2 = tf.nn.relu(fc2)\n",
        "    fc2 = tf.nn.dropout(fc2, dropout)\n",
        "    \n",
        "    fc3 = tf.add(tf.matmul(fc2, Weights('wd3')), Biases('bd3'))\n",
        "    \n",
        "    return fc3"
      ]
    },
    {
      "cell_type": "code",
      "execution_count": null,
      "metadata": {
        "id": "Y76eX6W45cbP"
      },
      "outputs": [],
      "source": [
        "#define model\n",
        "tf.compat.v1.reset_default_graph()\n",
        "tf.compat.v1.disable_eager_execution()\n",
        "with tf.device('/gpu:0'):\n",
        "    #training sample\n",
        "    queueu = tf.compat.v1.placeholder(dtype=tf.int32,shape=[1])\n",
        "    queuei = tf.compat.v1.placeholder(dtype=tf.int32,shape=[1])\n",
        "    queuej = tf.compat.v1.placeholder(dtype=tf.int32,shape=[1])\n",
        "    queueimage1 = tf.compat.v1.placeholder(dtype=tf.uint8,shape=[224,224,3])\n",
        "    queueimage2 = tf.compat.v1.placeholder(dtype=tf.uint8,shape=[224,224,3])\n",
        "    batch_train_queue = tf.compat.v1.FIFOQueue(batch_size*5, dtypes=[tf.int32,tf.int32,tf.int32,tf.uint8,tf.uint8], shapes=[[1],[1],[1],[224,224,3],[224,224,3]])\n",
        "    batch_train_queue_op = batch_train_queue.enqueue([queueu,queuei,queuej,queueimage1,queueimage2]);\n",
        "    u,i,j,image1,image2 = batch_train_queue.dequeue_many(batch_size)\n",
        "\n",
        "    image_test=tf.compat.v1.placeholder(dtype=tf.uint8,shape=[batch_size,224,224,3])\n",
        "    \n",
        "    image1=(tf.compat.v1.to_float(image1)-127.5)/127.5\n",
        "    image2=(tf.compat.v1.to_float(image2)-127.5)/127.5\n",
        "    _image_test=(tf.compat.v1.to_float(image_test)-127.5)/127.5\n",
        "\n",
        "    u=tf.reshape(u,shape=[batch_size])\n",
        "    i=tf.reshape(i,shape=[batch_size])\n",
        "    j=tf.reshape(j,shape=[batch_size])\n",
        "    \n",
        "    keep_prob = tf.compat.v1.placeholder(tf.float32) #dropout (keep probability)\n",
        "\n",
        "    #siamese networks\n",
        "    with tf.compat.v1.variable_scope(\"DVBPR\") as scope:\n",
        "        result1 = CNN(image1,dropout) #primera cnn\n",
        "        scope.reuse_variables() #pesos compartidos\n",
        "        result2 = CNN(image2,dropout) #segunda cnn\n",
        "        result_test = CNN(_image_test, 0.99) #dropout 1?\n",
        "        nn_regularizers = sum(map(tf.nn.l2_loss,[Weights('wd1'), Weights('wd2'), Weights('wd3'), Weights('wc1'), Weights('wc2'), Weights('wc3'), Weights('wc4'), Weights('wc5')]))\n",
        "        thetau = tf.Variable(tf.compat.v1.random_uniform([usernum,K],minval=0,maxval=1)/100)\n",
        "   #loss\n",
        "    cost_train = tf.reduce_sum(tf.compat.v1.log(tf.sigmoid(tf.reduce_sum(tf.multiply(tf.gather(thetau,u),tf.subtract(result1,result2)),1,keepdims=True))))\n",
        "    regularizers = tf.nn.l2_loss(tf.gather(thetau,u))\n",
        "    cost_train -= lambda1 * nn_regularizers + lambda2 * regularizers #regulariza pesos y norma de la representacion\n",
        "    optimizer =  tf.compat.v1.train.AdamOptimizer(learning_rate=learning_rate).minimize(-cost_train)  #adam\n",
        "    \n",
        "# Initializing the variables\n",
        "init = tf.compat.v1.initialize_all_variables()\n"
      ]
    },
    {
      "cell_type": "code",
      "execution_count": null,
      "metadata": {
        "id": "MnKCoi_y5lAD"
      },
      "outputs": [],
      "source": [
        "\n",
        "def AUC(user_train, user_test, U, I):\n",
        "  \"\"\"\n",
        "  para cada usuario cuenta cuantos items de una muestra aleatoria tiene rating menor a \n",
        "  al rating del item consumido en test\n",
        "  \"\"\"\n",
        "  ans=0\n",
        "  cc=0\n",
        "\n",
        "  for user in user_test:\n",
        "      item_test= user_test[user][0][b'productid']\n",
        "      if item_test in set_im: #esta en train....\n",
        "        item_test= set_im.index(item_test)\n",
        "        T=np.dot(U[list(user_test.keys()).index(user),:],I.T)\n",
        "        cc+=1\n",
        "        no_considerar= set([set_im.index(user_train[user][item][b'productid']) for item in range(len(user_train[user]))]+ [item_test]) \n",
        "        count=0\n",
        "        tmpans=0\n",
        "\n",
        "        for j in random.sample(set_im,int(50*(len(no_considerar)-1))): #sample\n",
        "            j= set_im.index(j)\n",
        "            if j in no_considerar: continue\n",
        "            if T[item_test] > T[j]:\n",
        "              tmpans+=1\n",
        "            count +=1\n",
        "\n",
        "        tmpans/=float(count)\n",
        "        ans+=tmpans\n",
        "  \n",
        "  ans/=float(cc)\n",
        "  return ans\n",
        "\n",
        "def Evaluation(step): #para cada epoca???? \n",
        "    print ('...')\n",
        "    U=sess.run(thetau) #representacion visual del usuario\n",
        "    I=np.zeros([itemnum,K],dtype=np.float32) #matriz para guardar todas las representaciones de las imagenes en K dim\n",
        "    idx=np.array_split(range(itemnum),(itemnum+batch_size-1)/batch_size) #np.array_split(range(itemnum),5)\n",
        "    \n",
        "    input_images=np.zeros([batch_size,224,224,3],dtype=np.int8)\n",
        "    for i in range(len(idx)): \n",
        "        print(\"minibatch: \", i,\"/\",len(idx))\n",
        "        cc=0\n",
        "        for j in idx[i]: #para cada elemento del minibatch i\n",
        "             #accedo a los indices de imagenes que corresponden\n",
        "            img_ = PIL.Image.open(io.BytesIO(Item[ set_im[j]][b'imgs']))\n",
        "            input_images[cc]=np.uint8(np.asarray( img_.convert('RGB').resize((224,224)))) #guarda la imagen\n",
        "            cc+=1\n",
        "        #en cada minibatch ejecuta y guarda\n",
        "        I[idx[i][0]:(idx[i][-1]+1)]=sess.run(result_test,feed_dict={image_test:input_images})[:(idx[i][-1]-idx[i][0]+1)]\n",
        "    print ('export finised! lei las imagenes')\n",
        "    np.save('UI_'+str(K)+'_'+str(step)+'.npy',[U,I])\n",
        "    return AUC(user_train,user_train,U,I), AUC(user_train,user_test,U,I) #train, test\n",
        "\n",
        "def sample(user):\n",
        "    u = random.choice(list(user.keys()))#user id random\n",
        "    numu = len(user[u]) # cantidad de items consumidos por ese usuario\n",
        "    i = set_im.index(user[u][random.randrange(numu)][b'productid']) #escoger un producto id al azar de esos\n",
        "    M=set()\n",
        "    for item in user[u]:\n",
        "        M.add(set_im.index(item[b'productid'])) #se crea el conjunto M de productos unicos del usuario\n",
        "\n",
        "    while True:\n",
        "        j= set_im.index(random.choice(set_im)) #se escoge un item al azar\n",
        "        if (not j in M): break #si el item no fue consumido por el usuario listo...\n",
        "        \n",
        "    return (u,i,j)\n",
        "\n",
        "\n",
        "def load_image_async(): #carga imagenes\n",
        "    print(\"load_image\")\n",
        "    while True:\n",
        "        (uuu,iii,jjj)=sample(user_train)\n",
        "        #iii_fix= set_im.index(iii)\n",
        "        #jjj_fix= set_im.index(jjj)\n",
        "        #print(\"index: \", iii_fix, \"item\", iii, \"\\n\")\n",
        "        img = PIL.Image.open(io.BytesIO(Item[set_im[iii]][b'imgs']))\n",
        "        jpg1=np.uint8(np.asarray( img.convert('RGB').resize((224,224))))\n",
        "        img_j = PIL.Image.open(io.BytesIO(Item[set_im[jjj]][b'imgs'])) \n",
        "        jpg2=np.uint8(np.asarray( img_j.convert('RGB').resize((224,224))))\n",
        "\n",
        "        sess.run(batch_train_queue_op,feed_dict={queueu:np.asarray([uuu]),\n",
        "                                                 queuei:np.asarray([iii]),\n",
        "                                                 queuej:np.asarray([jjj]),\n",
        "                                                 queueimage1:jpg1,queueimage2:jpg2,\n",
        "                                                })"
      ]
    },
    {
      "cell_type": "code",
      "execution_count": null,
      "metadata": {
        "colab": {
          "base_uri": "https://localhost:8080/"
        },
        "id": "VTCOHQjvAF0D",
        "outputId": "aa43b868-67fc-48bc-e6ce-b18aa36eb2ea"
      },
      "outputs": [
        {
          "name": "stdout",
          "output_type": "stream",
          "text": [
            "load_image\n",
            "load_image\n",
            "load_image\n",
            "load_image\n",
            "inicia train\n",
            "CPU times: user 654 ms, sys: 228 ms, total: 881 ms\n",
            "Wall time: 768 ms\n"
          ]
        },
        {
          "name": "stderr",
          "output_type": "stream",
          "text": [
            "/usr/local/lib/python3.7/dist-packages/tensorflow/python/client/session.py:1771: UserWarning: An interactive session is already active. This can cause out-of-memory errors in some cases. You must explicitly call `InteractiveSession.close()` to release resources held by the other session(s).\n",
            "  warnings.warn('An interactive session is already active. This can '\n"
          ]
        }
      ],
      "source": [
        "%%time\n",
        "f=open('DVBPR.log','w')\n",
        "config = tf.compat.v1.ConfigProto(log_device_placement=False,allow_soft_placement=True)\n",
        "sess=tf.compat.v1.Session(config=config)\n",
        "sess.run(init)\n",
        "\n",
        "gpu_options = tf.compat.v1.GPUOptions(allow_growth=True)\n",
        "session = tf.compat.v1.InteractiveSession(config=tf.compat.v1.ConfigProto(gpu_options=gpu_options))\n",
        "\n",
        "t=[0]*numldprocess\n",
        "for i in range(numldprocess):\n",
        "    t[i] = threading.Thread(target=load_image_async)\n",
        "    t[i].daemon=True\n",
        "    t[i].start()\n",
        "\n",
        "oneiteration = 0\n",
        "for item in user_train: oneiteration+=len(user_train[item]) # total interacciones\n",
        "\n",
        "step = 1\n",
        "saver = tf.compat.v1.train.Saver([k for k in tf.compat.v1.global_variables() if k.name.startswith('DVBPR')])\n",
        "\n",
        "epoch=0\n",
        "print(\"inicia train\")"
      ]
    },
    {
      "cell_type": "code",
      "execution_count": null,
      "metadata": {
        "colab": {
          "base_uri": "https://localhost:8080/"
        },
        "id": "WXw2WWl4PhVN",
        "outputId": "3aed82f9-a36a-4241-c56b-c3f0ed271b73"
      },
      "outputs": [
        {
          "name": "stdout",
          "output_type": "stream",
          "text": [
            "cantidad de epocas convolucionales:  60393\n"
          ]
        }
      ],
      "source": [
        "print(\"cantidad de epocas convolucionales: \",int((training_epoch*oneiteration+1)/batch_size) )"
      ]
    },
    {
      "cell_type": "code",
      "execution_count": null,
      "metadata": {
        "colab": {
          "background_save": true
        },
        "id": "B8tT2q_OdsHl",
        "outputId": "836cd3ab-b601-4e49-e82c-5a5f1ec57954"
      },
      "outputs": [
        {
          "name": "stdout",
          "output_type": "stream",
          "text": [
            "Step#1000 CNN update\n",
            "Step#2000 CNN update\n",
            "Step#3000 CNN update\n",
            "Step#4000 CNN update\n",
            "Step#5000 CNN update\n",
            "Step#6000 CNN update\n",
            "Step#7000 CNN update\n",
            "Step#8000 CNN update\n",
            "Step#9000 CNN update\n",
            "Step#10000 CNN update\n",
            "Step#11000 CNN update\n",
            "Step#12000 CNN update\n",
            "Step#13000 CNN update\n",
            "Step#14000 CNN update\n",
            "Step#15000 CNN update\n",
            "Step#16000 CNN update\n",
            "Step#17000 CNN update\n",
            "Step#18000 CNN update\n",
            "Step#19000 CNN update\n",
            "Step#20000 CNN update\n",
            "Step#21000 CNN update\n",
            "Step#22000 CNN update\n",
            "Step#23000 CNN update\n",
            "Step#24000 CNN update\n",
            "Step#25000 CNN update\n",
            "Step#26000 CNN update\n",
            "Step#27000 CNN update\n",
            "Step#28000 CNN update\n",
            "Step#29000 CNN update\n",
            "Step#30000 CNN update\n",
            "Step#31000 CNN update\n",
            "Step#32000 CNN update\n",
            "Step#33000 CNN update\n",
            "Step#34000 CNN update\n",
            "Step#35000 CNN update\n",
            "Step#36000 CNN update\n",
            "Step#37000 CNN update\n",
            "Step#38000 CNN update\n",
            "Step#39000 CNN update\n",
            "Step#40000 CNN update\n",
            "Step#41000 CNN update\n",
            "Step#42000 CNN update\n",
            "Step#43000 CNN update\n",
            "Step#44000 CNN update\n",
            "Step#45000 CNN update\n",
            "Step#46000 CNN update\n",
            "Step#47000 CNN update\n",
            "Step#48000 CNN update\n",
            "Step#49000 CNN update\n",
            "Step#50000 CNN update\n",
            "Step#51000 CNN update\n",
            "Step#52000 CNN update\n",
            "Step#53000 CNN update\n",
            "Step#54000 CNN update\n",
            "Step#55000 CNN update\n",
            "Step#56000 CNN update\n",
            "Step#57000 CNN update\n",
            "Step#58000 CNN update\n",
            "Step#59000 CNN update\n",
            "Step#60000 CNN update\n",
            "Optimization Finished!\n",
            "CPU times: user 1d 2h 9min 35s, sys: 57min 49s, total: 1d 3h 7min 24s\n",
            "Wall time: 8h 5min 30s\n"
          ]
        }
      ],
      "source": [
        "%%time\n",
        "loss=[]\n",
        "while step * batch_size <= training_epoch*oneiteration+1: # cuantas veces supera la cantidad de interacciones\n",
        "\n",
        "    _,l=sess.run([optimizer,cost_train], feed_dict={keep_prob: dropout})\n",
        "    loss.append(l)\n",
        "    if step%1000==0:\n",
        "        print ('Step#'+str(step)+' CNN update') # loss: '+ str(-l) )\n",
        "    \n",
        "    #loss.append(-l)\n",
        "   # if step % 100000==0: # mostrar algunas veces los resultados...\n",
        "    #    epoch+=1\n",
        "     #   saver.save(sess,'./DVBPR_auc_'+str(K)+'_'+str(step)+'.ckpt')\n",
        "      #  auc_train,auc_test=Evaluation(step)\n",
        "       # print ('Epoch #'+str(epoch)+': test: '+str(auc_test)+' train: '+str(auc_train)+'\\n')\n",
        "        #f.write('Epoch #'+str(epoch)+': test: '+str(auc_test)+' train: '+str(auc_train)+'\\n')\n",
        "        #f.flush()\n",
        "    \n",
        "    step += 1\n",
        "print (\"Optimization Finished!\")\n"
      ]
    },
    {
      "cell_type": "code",
      "execution_count": null,
      "metadata": {
        "colab": {
          "background_save": true
        },
        "id": "2V98UnRsin8I",
        "outputId": "0cec3d4b-f552-46d7-8330-31c93620f13b"
      },
      "outputs": [
        {
          "name": "stdout",
          "output_type": "stream",
          "text": [
            "...\n",
            "minibatch:  0 / 72\n",
            "minibatch:  1 / 72\n",
            "minibatch:  2 / 72\n",
            "minibatch:  3 / 72\n",
            "minibatch:  4 / 72\n",
            "minibatch:  5 / 72\n",
            "minibatch:  6 / 72\n",
            "minibatch:  7 / 72\n",
            "minibatch:  8 / 72\n",
            "minibatch:  9 / 72\n",
            "minibatch:  10 / 72\n",
            "minibatch:  11 / 72\n",
            "minibatch:  12 / 72\n",
            "minibatch:  13 / 72\n",
            "minibatch:  14 / 72\n",
            "minibatch:  15 / 72\n",
            "minibatch:  16 / 72\n",
            "minibatch:  17 / 72\n",
            "minibatch:  18 / 72\n",
            "minibatch:  19 / 72\n",
            "minibatch:  20 / 72\n",
            "minibatch:  21 / 72\n",
            "minibatch:  22 / 72\n",
            "minibatch:  23 / 72\n",
            "minibatch:  24 / 72\n",
            "minibatch:  25 / 72\n",
            "minibatch:  26 / 72\n",
            "minibatch:  27 / 72\n",
            "minibatch:  28 / 72\n",
            "minibatch:  29 / 72\n",
            "minibatch:  30 / 72\n",
            "minibatch:  31 / 72\n",
            "minibatch:  32 / 72\n",
            "minibatch:  33 / 72\n",
            "minibatch:  34 / 72\n",
            "minibatch:  35 / 72\n",
            "minibatch:  36 / 72\n",
            "minibatch:  37 / 72\n",
            "minibatch:  38 / 72\n",
            "minibatch:  39 / 72\n",
            "minibatch:  40 / 72\n",
            "minibatch:  41 / 72\n",
            "minibatch:  42 / 72\n",
            "minibatch:  43 / 72\n",
            "minibatch:  44 / 72\n",
            "minibatch:  45 / 72\n",
            "minibatch:  46 / 72\n",
            "minibatch:  47 / 72\n",
            "minibatch:  48 / 72\n",
            "minibatch:  49 / 72\n",
            "minibatch:  50 / 72\n",
            "minibatch:  51 / 72\n",
            "minibatch:  52 / 72\n",
            "minibatch:  53 / 72\n",
            "minibatch:  54 / 72\n",
            "minibatch:  55 / 72\n",
            "minibatch:  56 / 72\n",
            "minibatch:  57 / 72\n",
            "minibatch:  58 / 72\n",
            "minibatch:  59 / 72\n",
            "minibatch:  60 / 72\n",
            "minibatch:  61 / 72\n",
            "minibatch:  62 / 72\n",
            "minibatch:  63 / 72\n",
            "minibatch:  64 / 72\n",
            "minibatch:  65 / 72\n",
            "minibatch:  66 / 72\n",
            "minibatch:  67 / 72\n",
            "minibatch:  68 / 72\n",
            "minibatch:  69 / 72\n",
            "minibatch:  70 / 72\n",
            "minibatch:  71 / 72\n",
            "export finised! lei las imagenes\n"
          ]
        },
        {
          "name": "stderr",
          "output_type": "stream",
          "text": [
            "/usr/local/lib/python3.7/dist-packages/numpy/core/_asarray.py:136: VisibleDeprecationWarning: Creating an ndarray from ragged nested sequences (which is a list-or-tuple of lists-or-tuples-or ndarrays with different lengths or shapes) is deprecated. If you meant to do this, you must specify 'dtype=object' when creating the ndarray\n",
            "  return array(a, dtype, copy=False, order=order, subok=True)\n"
          ]
        },
        {
          "name": "stdout",
          "output_type": "stream",
          "text": [
            "auc train:  0.0  auc test:  0.0\n"
          ]
        }
      ],
      "source": [
        "auc_train,auc_test=Evaluation(step)\n",
        "print(\"auc train: \", auc_train,\" auc test: \", auc_test)\n",
        "np.save(workdir+\"resultado.npy\", [auc_train,auc_test])\n",
        "np.save(workdir+\"perdida.npy\",loss)"
      ]
    },
    {
      "cell_type": "code",
      "execution_count": null,
      "metadata": {
        "id": "RVRUz_IoS2xc"
      },
      "outputs": [],
      "source": [
        "loss=np.load(workdir+\"perdida.npy\")"
      ]
    },
    {
      "cell_type": "code",
      "execution_count": null,
      "metadata": {
        "colab": {
          "base_uri": "https://localhost:8080/",
          "height": 283
        },
        "id": "7ze1G0IhTRVz",
        "outputId": "e6d6b127-71e8-4382-c309-a531bc13da41"
      },
      "outputs": [
        {
          "data": {
            "text/plain": [
              "[<matplotlib.lines.Line2D at 0x7fdd6bce8ed0>]"
            ]
          },
          "execution_count": 5,
          "metadata": {},
          "output_type": "execute_result"
        },
        {
          "data": {
            "image/png": "[encoded data removed]",
            "text/plain": [
              "<Figure size 432x288 with 1 Axes>"
            ]
          },
          "metadata": {},
          "output_type": "display_data"
        }
      ],
      "source": [
        "import matplotlib.pyplot as plt\n",
        "plt.plot(range(len(loss)), loss)"
      ]
    },
    {
      "cell_type": "code",
      "execution_count": null,
      "metadata": {
        "id": "Hk5akIP4Td_H"
      },
      "outputs": [],
      "source": [
        ""
      ]
    }
  ],
  "metadata": {
    "accelerator": "GPU",
    "colab": {
      "background_execution": "on",
      "collapsed_sections": [],
      "machine_shape": "hm",
      "name": "DVBPR.ipynb",
      "provenance": []
    },
    "kernelspec": {
      "display_name": "Python 3",
      "name": "python3"
    },
    "language_info": {
      "name": "python"
    }
  },
  "nbformat": 4,
  "nbformat_minor": 0
}