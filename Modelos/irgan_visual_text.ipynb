{
  "nbformat": 4,
  "nbformat_minor": 0,
  "metadata": {
    "accelerator": "GPU",
    "colab": {
      "name": "irgan_visual_text.ipynb",
      "provenance": [],
      "collapsed_sections": [
        "Wa37Wu_tmZ0Q",
        "oz0bbxx-tsKB",
        "PjnuefL1mdUU",
        "EzgYVrjhtGBa"
      ],
      "machine_shape": "hm"
    },
    "kernelspec": {
      "display_name": "Python 3",
      "language": "python",
      "name": "python3"
    },
    "language_info": {
      "codemirror_mode": {
        "name": "ipython",
        "version": 3
      },
      "file_extension": ".py",
      "mimetype": "text/x-python",
      "name": "python",
      "nbconvert_exporter": "python",
      "pygments_lexer": "ipython3",
      "version": "3.7.10"
    },
    "toc": {
      "base_numbering": 1,
      "nav_menu": {},
      "number_sections": true,
      "sideBar": true,
      "skip_h1_title": false,
      "title_cell": "Table of Contents",
      "title_sidebar": "Contents",
      "toc_cell": false,
      "toc_position": {
        "height": "calc(100% - 180px)",
        "left": "10px",
        "top": "150px",
        "width": "296.962px"
      },
      "toc_section_display": true,
      "toc_window_display": true
    },
    "varInspector": {
      "cols": {
        "lenName": 16,
        "lenType": 16,
        "lenVar": 40
      },
      "kernels_config": {
        "python": {
          "delete_cmd_postfix": "",
          "delete_cmd_prefix": "del ",
          "library": "var_list.py",
          "varRefreshCmd": "print(var_dic_list())"
        },
        "r": {
          "delete_cmd_postfix": ") ",
          "delete_cmd_prefix": "rm(",
          "library": "var_list.r",
          "varRefreshCmd": "cat(var_dic_list()) "
        }
      },
      "types_to_exclude": [
        "module",
        "function",
        "builtin_function_or_method",
        "instance",
        "_Feature"
      ],
      "window_display": false
    }
  },
  "cells": [
    {
      "cell_type": "markdown",
      "metadata": {
        "id": "e9ysjia76BOp"
      },
      "source": [
        "# IRGAN"
      ]
    },
    {
      "cell_type": "markdown",
      "metadata": {
        "id": "JeR_hmKqpnAB"
      },
      "source": [
        "Codigo:\n",
        "\n",
        "https://github.com/geek-ai/irgan\n",
        "\n",
        "paper: \n",
        "\n",
        "https://arxiv.org/pdf/1705.10513.pdf"
      ]
    },
    {
      "cell_type": "markdown",
      "metadata": {
        "id": "7T9tLDtVBlgX"
      },
      "source": [
        "Una GAN discreta (como SeqGan) pero que el generador es modelado como un politica de aprendizaje reforzado para seleccionar el documento candidato $d$ en el estado dado la query $q_n$, y una metrica de relevancia $r$ que es entrenado via una politica de gradientes"
      ]
    },
    {
      "cell_type": "markdown",
      "metadata": {
        "id": "oREzkvuF6DhH"
      },
      "source": [
        "Quieren poner enfoque en el entrenamiento adversario, osea usan modelos simples e iguales para D y G"
      ]
    },
    {
      "cell_type": "markdown",
      "metadata": {
        "id": "18oHp-BWc4Gw"
      },
      "source": [
        "El módulo pickle implementa un algoritmo para convertir un objeto Python arbitrario en una serie de bytes. Este proceso también se llama serializar \"el objeto\". El flujo de bytes que representa el objeto se puede transmitir o almacenar y luego reconstruir para crear un nuevo objeto con las mismas características.\n",
        "\n",
        "El módulo cPickle implementa el mismo algoritmo, en C en lugar de Python. Es muchas veces más rápido que la implementación de Python, pero no permite al usuario crear una subclase de Pickle. Si la subclasificación no es importante para su uso, probablemente desee utilizar cPickle."
      ]
    },
    {
      "cell_type": "code",
      "metadata": {
        "id": "WZmLNRllc5yX"
      },
      "source": [
        "import _pickle as cPickle #guarda el modelo..\n",
        "from IPython.display import Latex\n",
        "import tensorflow as tf\n",
        "import numpy as np\n",
        "import multiprocessing\n",
        "import pandas as pd \n",
        "import random\n",
        "import pickle\n",
        "\n",
        "cores = multiprocessing.cpu_count()\n",
        "random.seed(0)\n",
        "\n",
        "\n",
        "import matplotlib.pyplot as plt\n",
        "import heapq\n",
        "tf.compat.v1.disable_eager_execution()"
      ],
      "execution_count": null,
      "outputs": []
    },
    {
      "cell_type": "markdown",
      "metadata": {
        "id": "Wa37Wu_tmZ0Q"
      },
      "source": [
        "## Discriminativo DNS"
      ]
    },
    {
      "cell_type": "code",
      "metadata": {
        "id": "xkx5B9xJciJ6"
      },
      "source": [
        "\n",
        "class DIS():\n",
        "    def __init__(self, itemNum, userNum, emb_dim,visual_matrix, visual_emb,reviews, lamda, param=None, initdelta=0.05, learning_rate=0.05,imageFeatureDim= 4096):\n",
        "        self.itemNum = itemNum\n",
        "        self.userNum = userNum\n",
        "        self.emb_dim = emb_dim\n",
        "        self.lamda = lamda  # regularization parameters\n",
        "        self.param = param\n",
        "        self.visual_I = visual_matrix #preentrenada no aprendible\n",
        "        self.k2 = visual_emb\n",
        "        self.initdelta = initdelta\n",
        "        self.learning_rate = learning_rate\n",
        "        self.reviews = reviews #[usernum,1]\n",
        "        self.imageFeatureDim= imageFeatureDim\n",
        "        self.d_params = []\n",
        "\n",
        "        with tf.compat.v1.compat.v1.variable_scope('discriminator'):\n",
        "            if self.param is None: #Si no hay param -> inicializacion aleatoria\n",
        "                self.user_embeddings = tf.compat.v1.Variable(\n",
        "                    tf.compat.v1.random_uniform([self.userNum, self.emb_dim], minval=-self.initdelta, maxval=self.initdelta,\n",
        "                                      dtype=tf.compat.v1.float32))\n",
        "                self.item_embeddings = tf.compat.v1.Variable(\n",
        "                    tf.compat.v1.random_uniform([self.itemNum, self.emb_dim], minval=-self.initdelta, maxval=self.initdelta,\n",
        "                                      dtype=tf.compat.v1.float32))\n",
        "                self.item_bias = tf.compat.v1.Variable(tf.compat.v1.zeros([self.itemNum]))\n",
        "                #####################################\n",
        "                self.visual_U = tf.compat.v1.Variable(\n",
        "                    tf.compat.v1.random_uniform([self.userNum, self.k2], minval=-self.initdelta, maxval=self.initdelta,\n",
        "                                      dtype=tf.compat.v1.float32))\n",
        "                #E\n",
        "                self.itemEmb_W = tf.compat.v1.Variable(\n",
        "                    tf.compat.v1.random_uniform([self.imageFeatureDim,self.k2], minval=-self.initdelta, maxval=self.initdelta,\n",
        "                                      dtype=tf.compat.v1.float32))\n",
        "                #beta\n",
        "                self.visual_item_bias = tf.compat.v1.Variable(\n",
        "                    tf.compat.v1.random_uniform([self.itemNum,self.imageFeatureDim], minval=-self.initdelta, maxval=self.initdelta,\n",
        "                                      dtype=tf.compat.v1.float32))\n",
        "                \n",
        "\n",
        "                ###################################################\n",
        "                self.bias_reviews = tf.compat.v1.Variable(tf.compat.v1.zeros([self.userNum]))\n",
        "\n",
        "            else: #lee los parametros del archivo\n",
        "                self.user_embeddings = tf.compat.v1.Variable(self.param[0])\n",
        "                self.item_embeddings = tf.compat.v1.Variable(self.param[1])\n",
        "                self.item_bias = tf.compat.v1.Variable(self.param[2])\n",
        "                #######################################\n",
        "                self.visual_U = tf.compat.v1.Variable(self.param[3])\n",
        "                self.itemEmb_W = tf.compat.v1.Variable(self.param[4])\n",
        "                self.visual_item_bias = tf.compat.v1.Variable(self.param[5])\n",
        "                ###########################\n",
        "                self.bias_reviews = tf.compat.v1.Variable(self.param[6])\n",
        "\n",
        "            self.d_params = [self.user_embeddings, self.item_embeddings, self.item_bias,  self.visual_U, self.itemEmb_W, self.visual_item_bias , self.bias_reviews]\n",
        "        \n",
        "        # placeholder definition\n",
        "        self.u = tf.compat.v1.placeholder(tf.compat.v1.int32)\n",
        "        self.pos = tf.compat.v1.placeholder(tf.compat.v1.int32)\n",
        "        self.neg = tf.compat.v1.placeholder(tf.compat.v1.int32)\n",
        "\n",
        "        self.u_embedding = tf.compat.v1.nn.embedding_lookup(self.user_embeddings, self.u)\n",
        "        self.pos_embedding = tf.compat.v1.nn.embedding_lookup(self.item_embeddings, self.pos)\n",
        "        self.pos_bias = tf.compat.v1.gather(self.item_bias, self.pos)\n",
        "        self.neg_embedding = tf.compat.v1.nn.embedding_lookup(self.item_embeddings, self.neg)\n",
        "        self.neg_bias = tf.compat.v1.gather(self.item_bias, self.neg)\n",
        "\n",
        "        ##################################################################################\n",
        "\n",
        "        self.visual_U_vector = tf.compat.v1.nn.embedding_lookup(self.visual_U, self.u)\n",
        "        self.visual_I_matrix_pos = tf.compat.v1.nn.embedding_lookup(self.visual_I, self.pos) #[1,4096]\n",
        "        self.visual_I_matrix_neg = tf.compat.v1.nn.embedding_lookup(self.visual_I, self.neg)\n",
        "        self.visual_pos_bias = tf.compat.v1.gather(self.visual_item_bias, self.pos) #[1,4096]\n",
        "        self.visual_neg_bias = tf.compat.v1.gather(self.visual_item_bias, self.neg)\n",
        "\n",
        "       ##################\n",
        "\n",
        "        self.Ef_pos= tf.matmul( self.visual_I_matrix_pos,self.itemEmb_W) #f_i x E= [1,4096]x[4096,k2]= [1,k2]\n",
        "        self.Ef_neg= tf.matmul(self.visual_I_matrix_neg,self.itemEmb_W) \n",
        "        self.Ef= tf.compat.v1.matmul(self.itemEmb_W,self.visual_I,transpose_a=True,transpose_b=True ) #E^T x f^T =  [k2,4096]x[4096,#I] = [k2,#I]\n",
        "        self.bf_pos=tf.compat.v1.reduce_sum(tf.compat.v1.multiply(self.visual_I_matrix_pos, self.visual_pos_bias),1)#[1,4096]x[1,4096]\n",
        "        self.bf_neg=  tf.compat.v1.reduce_sum(tf.compat.v1.multiply(self.visual_I_matrix_neg, self.visual_neg_bias),1)\n",
        "          \n",
        "        \n",
        "        ##################\n",
        "\n",
        "        self.reviews_u = tf.compat.v1.gather(self.reviews, self.u) #[#dim_u,1]\n",
        "        self.dim_u= tf.shape(self.u_embedding)[0]\n",
        "        self.b= tf.compat.v1.gather(self.bias_reviews, self.u) #[1, #dim_u]\n",
        "        self.ones= tf.ones([self.itemNum,self.dim_u]) #[#I,dim_u]\n",
        "        self.sxb_s= tf.compat.v1.multiply(self.b, tf.transpose(self.reviews_u) ) #[1,#dimu]x[1,#dim_u]= [1,#dimu]\n",
        "        self.user_bias_review = tf.transpose(tf.compat.v1.multiply(self.sxb_s, self.ones)) #[#dim_u,#I]\n",
        "\n",
        "        self.pre_logits = tf.compat.v1.sigmoid(\n",
        "            tf.compat.v1.reduce_sum(tf.compat.v1.multiply(self.u_embedding, self.pos_embedding - self.neg_embedding),1) # [1,k]x[1,k] multuply es element wise, reduce sum sum, osea producto punto.\n",
        "             + self.pos_bias - self.neg_bias\n",
        "             +  tf.compat.v1.reduce_sum( tf.compat.v1.multiply(self.visual_U_vector,self.Ef_pos- self.Ef_neg ) ,1 )  # [1,k2]x[1,k2]\n",
        "             +self.bf_pos- self.bf_neg \n",
        "                          ) +self.sxb_s\n",
        "             \n",
        "        \n",
        " \n",
        "        self.reg= self.lamda * (\n",
        "            tf.compat.v1.nn.l2_loss(self.u_embedding) +\n",
        "            tf.compat.v1.nn.l2_loss(self.pos_embedding) +\n",
        "            tf.compat.v1.nn.l2_loss(self.pos_bias) +\n",
        "            tf.compat.v1.nn.l2_loss(self.neg_embedding) +\n",
        "            tf.compat.v1.nn.l2_loss(self.neg_bias)+\n",
        "            tf.compat.v1.nn.l2_loss(self.visual_U_vector) +\n",
        "            tf.compat.v1.nn.l2_loss(self.itemEmb_W) +\n",
        "            tf.compat.v1.nn.l2_loss(self.visual_neg_bias) +\n",
        "            tf.compat.v1.nn.l2_loss(self.visual_pos_bias)+\n",
        "            tf.compat.v1.nn.l2_loss(self.b)\n",
        "            )\n",
        "\n",
        "        self.pre_loss = -tf.compat.v1.reduce_mean(tf.compat.v1.log(self.pre_logits)) + self.reg\n",
        "        d_opt = tf.compat.v1.train.GradientDescentOptimizer(self.learning_rate)\n",
        "        self.d_updates = d_opt.minimize(self.pre_loss, var_list=self.d_params)\n",
        "\n",
        "        # for test stage, self.u: [batch_size]\n",
        "        \n",
        "                          # uxI= [batch_size,k]x[k,#I]=[batch_size,#I]                                                     # b_i= [1, #I]        # [batch_size, k2]x[k2, #I]  = [bact_size,#I]                                             #beta elementwise f = [#,4096]elementwise[#I,4096]= [1, #I]                              #[batch,#I]\n",
        "        self.all_rating = tf.compat.v1.matmul(self.u_embedding, self.item_embeddings, transpose_a=False,transpose_b=True) + self.item_bias + tf.compat.v1.matmul(self.visual_U_vector, self.Ef, transpose_a=False, transpose_b=False) +  tf.compat.v1.reduce_sum(tf.compat.v1.multiply(self.visual_item_bias , self.visual_I),1)+ self.user_bias_review                    \n",
        "\n",
        "        #self.all_logits = tf.compat.v1.reduce_sum(tf.compat.v1.multiply(self.u_embedding, self.item_embeddings), 1) + self.item_bias\n",
        "        # for dns sample\n",
        "        #esto da muy grande\n",
        "                                                                        # [1,k]x[#I,k] = [1,#I]                                 #[1, #I]                                                      #[1,k2]x[#I,k2]=[1,#I]\n",
        "        self.dns_rating = tf.compat.v1.reduce_sum(tf.compat.v1.multiply(self.u_embedding, self.item_embeddings), 1) + self.item_bias + tf.compat.v1.reduce_sum(tf.compat.v1.multiply(self.visual_U_vector, tf.transpose(self.Ef) ), 1) + tf.compat.v1.reduce_sum(tf.compat.v1.multiply(self.visual_item_bias , self.visual_I),1  )+ self.user_bias_review  \n",
        "\n",
        "    def save_model(self, sess, filename):\n",
        "        param = sess.run(self.d_params)\n",
        "        cPickle.dump(param, open(filename, 'wb'))  #antes w"
      ],
      "execution_count": null,
      "outputs": []
    },
    {
      "cell_type": "markdown",
      "metadata": {
        "id": "oz0bbxx-tsKB"
      },
      "source": [
        "## utils.py"
      ]
    },
    {
      "cell_type": "code",
      "metadata": {
        "id": "xfkSKD5CtwxK"
      },
      "source": [
        "import linecache\n",
        "import numpy as np\n",
        "\n",
        "\n",
        "def file_len(fname):\n",
        "    with open(fname) as f:\n",
        "        for i, l in enumerate(f):\n",
        "            pass\n",
        "    return i + 1\n",
        "\n",
        "\n",
        "# Get batch data from training set\n",
        "def get_batch_data(file, index, size):  # 1,5->1,2,3,4,5\n",
        "    user = []\n",
        "    item = []\n",
        "    label = []\n",
        "    for i in range(index, index + size):\n",
        "        line = linecache.getline(file, i)\n",
        "        line = line.strip()\n",
        "        line = line.split()\n",
        "        user.append(int(line[0]))\n",
        "        user.append(int(line[0]))\n",
        "        item.append(int(line[1]))\n",
        "        item.append(int(line[2]))\n",
        "        label.append(1.)\n",
        "        label.append(0.)\n",
        "    return user, item, label\n",
        "\n",
        "\n"
      ],
      "execution_count": null,
      "outputs": []
    },
    {
      "cell_type": "markdown",
      "metadata": {
        "id": "PjnuefL1mdUU"
      },
      "source": [
        "## Generador"
      ]
    },
    {
      "cell_type": "code",
      "metadata": {
        "id": "jEM2J1CTmhOn"
      },
      "source": [
        "class GEN():\n",
        "    def __init__(self, itemNum, userNum, emb_dim, visual_matrix, visual_emb, reviews,lamda, param=None, initdelta=0.05, learning_rate=0.05,imageFeatureDim= 4096):\n",
        "        self.itemNum = itemNum\n",
        "        self.userNum = userNum\n",
        "        self.emb_dim = emb_dim\n",
        "        self.lamda = lamda  # regularization parameters\n",
        "        self.param = param\n",
        "        self.initdelta = initdelta\n",
        "        self.learning_rate = learning_rate\n",
        "        self.g_params = []\n",
        "        self.reviews = reviews #[usernum,1]\n",
        "        self.visual_I = visual_matrix #preentrenada no aprendible\n",
        "        self.k2 = visual_emb\n",
        "        self.imageFeatureDim= imageFeatureDim\n",
        "\n",
        "        with tf.compat.v1.variable_scope('generator'):\n",
        "            if self.param == None: #inicialización de representaciones\n",
        "                self.user_embeddings = tf.compat.v1.Variable(\n",
        "                    tf.compat.v1.random_uniform([self.userNum, self.emb_dim], minval=-self.initdelta, maxval=self.initdelta,\n",
        "                                      dtype=tf.compat.v1.float32))\n",
        "                self.item_embeddings = tf.compat.v1.Variable(\n",
        "                    tf.compat.v1.random_uniform([self.itemNum, self.emb_dim], minval=-self.initdelta, maxval=self.initdelta,\n",
        "                                      dtype=tf.compat.v1.float32))\n",
        "                self.item_bias = tf.compat.v1.Variable(tf.compat.v1.zeros([self.itemNum]))\n",
        "                #####################################\n",
        "                self.visual_U = tf.compat.v1.Variable(\n",
        "                    tf.compat.v1.random_uniform([self.userNum, self.k2], minval=-self.initdelta, maxval=self.initdelta,\n",
        "                                      dtype=tf.compat.v1.float32))\n",
        "                #E\n",
        "                self.itemEmb_W = tf.compat.v1.Variable(\n",
        "                    tf.compat.v1.random_uniform([self.imageFeatureDim,self.k2], minval=-self.initdelta, maxval=self.initdelta,\n",
        "                                      dtype=tf.compat.v1.float32))\n",
        "                #beta\n",
        "                self.visual_item_bias = tf.compat.v1.Variable(\n",
        "                    tf.compat.v1.random_uniform([self.itemNum,self.imageFeatureDim], minval=-self.initdelta, maxval=self.initdelta,\n",
        "                                      dtype=tf.compat.v1.float32))\n",
        "\n",
        "                ###################################################\n",
        "                self.bias_reviews = tf.compat.v1.Variable(tf.compat.v1.zeros([self.userNum]))\n",
        "\n",
        "            else:\n",
        "                self.user_embeddings = tf.compat.v1.Variable(self.param[0])\n",
        "                self.item_embeddings = tf.compat.v1.Variable(self.param[1])\n",
        "                self.item_bias = tf.compat.v1.Variable(param[2])\n",
        "                                #######################################\n",
        "                self.visual_U = tf.compat.v1.Variable(self.param[3])\n",
        "                self.itemEmb_W = tf.compat.v1.Variable(self.param[4])\n",
        "                self.visual_item_bias = tf.compat.v1.Variable(self.param[5])\n",
        "                ###########################\n",
        "                self.bias_reviews = tf.compat.v1.Variable(self.param[6])\n",
        "            self.g_params = [self.user_embeddings, self.item_embeddings, self.item_bias,self.visual_U, self.itemEmb_W, self.visual_item_bias, self.bias_reviews ]\n",
        "\n",
        "        self.u = tf.compat.v1.placeholder(tf.compat.v1.int32)\n",
        "        self.i = tf.compat.v1.placeholder(tf.compat.v1.int32)\n",
        "        self.reward = tf.compat.v1.placeholder(tf.compat.v1.float32)\n",
        "\n",
        "        self.u_embedding = tf.compat.v1.nn.embedding_lookup(self.user_embeddings, self.u)\n",
        "        self.i_embedding = tf.compat.v1.nn.embedding_lookup(self.item_embeddings, self.i)\n",
        "        self.i_bias = tf.compat.v1.gather(self.item_bias, self.i)\n",
        "\n",
        "\n",
        "        ##################################################################################\n",
        "\n",
        "        self.visual_U_vector = tf.compat.v1.nn.embedding_lookup(self.visual_U, self.u)\n",
        "        self.visual_I_matrix_i= tf.compat.v1.nn.embedding_lookup(self.visual_I, self.i) #[1,4096]\n",
        "        self.visual_bias_i = tf.compat.v1.gather(self.visual_item_bias, self.i) #[1,4096]\n",
        "\n",
        "       ##################\n",
        "\n",
        "        self.Ef_i= tf.matmul( self.visual_I_matrix_i,self.itemEmb_W) #f_i x E= [1,4096]x[4096,k2]= [1,k2]\n",
        "        self.Ef= tf.compat.v1.matmul(self.itemEmb_W,self.visual_I,transpose_a=True,transpose_b=True ) #E^T x f^T =  [k2,4096]x[4096,#I] = [k2,#I]\n",
        "        self.bf_i=tf.compat.v1.reduce_sum(tf.compat.v1.multiply(self.visual_I_matrix_i, self.visual_bias_i),1)#[1,4096]x[1,4096]\n",
        "          \n",
        "        \n",
        "        ##################\n",
        "\n",
        "        self.reviews_u = tf.compat.v1.gather(self.reviews, self.u) #[#dim_u,1]\n",
        "        self.dim_u= tf.shape(self.u_embedding)[0]\n",
        "        self.b= tf.compat.v1.gather(self.bias_reviews, self.u) #[1, #dim_u]\n",
        "        self.ones= tf.ones([self.itemNum,self.dim_u]) #[#I,dim_u]\n",
        "        self.sxb_s= tf.compat.v1.multiply(self.b, tf.transpose(self.reviews_u) ) #[1,#dimu]x[1,#dim_u]= [1,#dimu]\n",
        "        self.user_bias_review = tf.transpose(tf.compat.v1.multiply(self.sxb_s, self.ones)) #[#dim_u,#I]\n",
        "\n",
        "\n",
        "\n",
        "                                                                        #[1,k]x[#I,k]                                   #[1,#I]                                # [1,k2]x[1,k2]\n",
        "        self.all_logits = tf.compat.v1.reduce_sum(tf.compat.v1.multiply(self.u_embedding, self.item_embeddings), 1) + self.item_bias +  tf.compat.v1.reduce_sum(tf.compat.v1.multiply(self.visual_U_vector, tf.transpose(self.Ef) ), 1) + tf.compat.v1.reduce_sum(tf.compat.v1.multiply(self.visual_item_bias , self.visual_I),1)+self.sxb_s  \n",
        "\n",
        "        self.i_prob = tf.compat.v1.gather(\n",
        "            tf.compat.v1.reshape(tf.compat.v1.nn.softmax(tf.compat.v1.reshape(self.all_logits, [1, -1])), [-1]),\n",
        "            self.i)\n",
        "\n",
        "        self.reg= self.lamda * (tf.compat.v1.nn.l2_loss(self.u_embedding) + tf.compat.v1.nn.l2_loss(self.i_embedding) + tf.compat.v1.nn.l2_loss(self.i_bias)+\n",
        "                                 tf.compat.v1.nn.l2_loss(self.visual_U_vector) +tf.compat.v1.nn.l2_loss(self.itemEmb_W) +tf.compat.v1.nn.l2_loss(self.visual_bias_i)  + tf.compat.v1.nn.l2_loss(self.b) )\n",
        "        \n",
        "        self.gan_loss = -tf.compat.v1.reduce_mean(tf.compat.v1.log(self.i_prob) * self.reward) + self.reg\n",
        "\n",
        "        g_opt = tf.compat.v1.train.GradientDescentOptimizer(self.learning_rate)\n",
        "\n",
        "        self.gan_updates = g_opt.minimize(self.gan_loss, var_list=self.g_params)\n",
        "\n",
        "        # for test stage, self.u: [batch_size]\n",
        "        self.all_rating = tf.compat.v1.matmul(self.u_embedding, self.item_embeddings, transpose_a=False,\n",
        "                                    transpose_b=True) + self.item_bias + tf.compat.v1.matmul(self.visual_U_vector, self.Ef, transpose_a=False, transpose_b=False) +  tf.compat.v1.reduce_sum(tf.compat.v1.multiply(self.visual_item_bias , self.visual_I),1) + self.user_bias_review \n",
        "\n",
        "    def save_model(self, sess, filename):\n",
        "        param = sess.run(self.g_params)\n",
        "        cPickle.dump(param, open(filename, 'wb')) #mismo cambio"
      ],
      "execution_count": null,
      "outputs": []
    },
    {
      "cell_type": "markdown",
      "metadata": {
        "id": "EzgYVrjhtGBa"
      },
      "source": [
        "## Discriminador"
      ]
    },
    {
      "cell_type": "markdown",
      "metadata": {
        "id": "2Y1XtLZr2Lzr"
      },
      "source": [
        "$f_{\\phi} (q,d)= s_{\\phi} (q,d)= s(u,i)= b_i + v_u^Tv_i$\n",
        "\n",
        "Máquina de factorización sencilla\n",
        "\n",
        "Su labor es distinguir (clasificar) si el documento $d$ es relevante (real, etiqueta=1, ejemplo positivo) para la consulta $q$. Estimando la probabilidad:\n",
        "\n",
        "$D(d|q)= \\sigma (f_{\\phi} (q,d))= \\dfrac{exp(f_{\\phi} (q,d))}{1+ exp(f_{\\phi} (q,d))} $\n",
        "\n",
        "Su objetivo entonces es maximiza la log verosimititud de distrinción entre documentos verdaderos y generados:\n",
        "\n",
        "$\\phi^{*}=\\arg \\max _{\\phi} \\sum_{n=1}^{N}\\left(\\mathbb{E}_{d \\sim p_{\\text {true }}\\left(d \\mid q_{n}, r\\right)}\\left[\\log \\left(\\sigma\\left(f_{\\phi}\\left(d, q_{n}\\right)\\right)\\right]+\\right.\\right.$\n",
        "$\\left.\\mathbb{E}_{d \\sim p_{\\theta^{*}}\\left(d \\mid q_{n}, r\\right)}\\left[\\log \\left(1-\\sigma\\left(f_{\\phi}\\left(d, q_{n}\\right)\\right)\\right)\\right]\\right)$\n",
        "\n",
        "Modelo generativo actual fijo"
      ]
    },
    {
      "cell_type": "code",
      "metadata": {
        "id": "QhMzSMIttFGV"
      },
      "source": [
        "class DIS():\n",
        "    def __init__(self, itemNum, userNum, emb_dim, visual_matrix, visual_emb,reviews, lamda, param=None, initdelta=0.05, learning_rate=0.05,imageFeatureDim=4096):\n",
        "        self.itemNum = itemNum\n",
        "        self.userNum = userNum\n",
        "        self.emb_dim = emb_dim\n",
        "        self.lamda = lamda  # regularization parameters\n",
        "        self.param = param\n",
        "        self.reviews = reviews #[usernum,1]\n",
        "        self.initdelta = initdelta\n",
        "        self.learning_rate = learning_rate\n",
        "        self.d_params = []\n",
        "        self.visual_I = visual_matrix #preentrenada no aprendible\n",
        "        self.k2 = visual_emb\n",
        "        self.imageFeatureDim= imageFeatureDim\n",
        "\n",
        "        with tf.compat.v1.variable_scope('discriminator'):\n",
        "          #inicializacion\n",
        "            if self.param == None:\n",
        "                self.user_embeddings = tf.compat.v1.Variable(\n",
        "                    tf.compat.v1.random_uniform([self.userNum, self.emb_dim], minval=-self.initdelta, maxval=self.initdelta,\n",
        "                                      dtype=tf.compat.v1.float32))\n",
        "                self.item_embeddings = tf.compat.v1.Variable(\n",
        "                    tf.compat.v1.random_uniform([self.itemNum, self.emb_dim], minval=-self.initdelta, maxval=self.initdelta,\n",
        "                                      dtype=tf.compat.v1.float32))\n",
        "                self.item_bias = tf.compat.v1.Variable(tf.compat.v1.zeros([self.itemNum]))\n",
        "                #####################################\n",
        "                self.visual_U = tf.compat.v1.Variable(\n",
        "                    tf.compat.v1.random_uniform([self.userNum, self.k2], minval=-self.initdelta, maxval=self.initdelta,\n",
        "                                      dtype=tf.compat.v1.float32))\n",
        "                #E\n",
        "                self.itemEmb_W = tf.compat.v1.Variable(\n",
        "                    tf.compat.v1.random_uniform([self.imageFeatureDim,self.k2], minval=-self.initdelta, maxval=self.initdelta,\n",
        "                                      dtype=tf.compat.v1.float32))\n",
        "                #beta\n",
        "                self.visual_item_bias = tf.compat.v1.Variable(\n",
        "                    tf.compat.v1.random_uniform([self.itemNum,self.imageFeatureDim], minval=-self.initdelta, maxval=self.initdelta,\n",
        "                                      dtype=tf.compat.v1.float32))\n",
        "\n",
        "                ###################################################\n",
        "                self.bias_reviews = tf.compat.v1.Variable(tf.compat.v1.zeros([self.userNum]))\n",
        "\n",
        "            else:\n",
        "                self.user_embeddings = tf.compat.v1.Variable(self.param[0])\n",
        "                self.item_embeddings = tf.compat.v1.Variable(self.param[1])\n",
        "                self.item_bias = tf.compat.v1.Variable(self.param[2])\n",
        "                #######################################\n",
        "                self.visual_U = tf.compat.v1.Variable(self.param[3])\n",
        "                self.itemEmb_W = tf.compat.v1.Variable(self.param[4])\n",
        "                self.visual_item_bias = tf.compat.v1.Variable(self.param[5])\n",
        "                ###########################\n",
        "                self.bias_reviews = tf.compat.v1.Variable(self.param[6])                \n",
        "\n",
        "        self.d_params = [self.user_embeddings, self.item_embeddings, self.item_bias,self.visual_U, self.itemEmb_W, self.visual_item_bias , self.bias_reviews ]\n",
        "\n",
        "        # placeholder definition\n",
        "        self.u = tf.compat.v1.placeholder(tf.compat.v1.int32)\n",
        "        self.i = tf.compat.v1.placeholder(tf.compat.v1.int32)\n",
        "        self.label = tf.compat.v1.placeholder(tf.compat.v1.float32)\n",
        "        #indexaciones\n",
        "        #V_u\n",
        "        self.u_embedding = tf.compat.v1.nn.embedding_lookup(self.user_embeddings, self.u)\n",
        "        #V_i\n",
        "        self.i_embedding = tf.compat.v1.nn.embedding_lookup(self.item_embeddings, self.i)\n",
        "        #b_i\n",
        "        self.i_bias = tf.compat.v1.gather(self.item_bias, self.i)\n",
        "\n",
        "\n",
        "        ##################################################################################\n",
        "\n",
        "        self.visual_U_vector = tf.compat.v1.nn.embedding_lookup(self.visual_U, self.u)\n",
        "        self.visual_I_matrix_i= tf.compat.v1.nn.embedding_lookup(self.visual_I, self.i) #[1,4096]\n",
        "        self.visual_bias_i = tf.compat.v1.gather(self.visual_item_bias, self.i) #[1,4096]\n",
        "\n",
        "       ##################\n",
        "        self.Ef_i= tf.matmul( self.visual_I_matrix_i,self.itemEmb_W) #f_i x E= [1,4096]x[4096,k2]= [1,k2]\n",
        "        self.Ef= tf.compat.v1.matmul(self.itemEmb_W,self.visual_I,transpose_a=True,transpose_b=True ) #E^T x f^T =  [k2,4096]x[4096,#I] = [k2,#I]\n",
        "        self.bf_i=tf.compat.v1.reduce_sum(tf.compat.v1.multiply(self.visual_I_matrix_i, self.visual_bias_i),1)#[1,4096]x[1,4096]\n",
        "          \n",
        "        \n",
        "        ##################\n",
        "        \n",
        "        self.reviews_u = tf.compat.v1.gather(self.reviews, self.u) #[#dim_u,1]\n",
        "        self.dim_u= tf.shape(self.u_embedding)[0]\n",
        "        self.b= tf.compat.v1.gather(self.bias_reviews, self.u) #[1, #dim_u]\n",
        "        self.ones= tf.ones([self.itemNum,self.dim_u]) #[#I,dim_u]\n",
        "        self.sxb_s= tf.compat.v1.multiply(self.b, tf.transpose(self.reviews_u) ) #[1,#dimu]x[1,#dim_u]= [1,#dimu]\n",
        "        self.user_bias_review = tf.transpose(tf.compat.v1.multiply(self.sxb_s, self.ones)) #[#dim_u,#I]\n",
        "        #################\n",
        "\n",
        "        #b_i+vu*v_i\n",
        "        self.pre_logits = tf.compat.v1.reduce_sum(tf.compat.v1.multiply(self.u_embedding, self.i_embedding), 1) + self.i_bias + tf.compat.v1.reduce_sum( tf.compat.v1.multiply(self.visual_U_vector,self.Ef_i ) ,1 ) + self.bf_i+ self.sxb_s\n",
        "        #sigmoide cross entropy con regularización l2 \n",
        "        self.reg= self.lamda * (\n",
        "            tf.compat.v1.nn.l2_loss(self.u_embedding) + tf.compat.v1.nn.l2_loss(self.i_embedding) + tf.compat.v1.nn.l2_loss(self.i_bias)+\n",
        "                                 tf.compat.v1.nn.l2_loss(self.visual_U_vector) +tf.compat.v1.nn.l2_loss(self.itemEmb_W) +tf.compat.v1.nn.l2_loss(self.visual_bias_i)+ tf.compat.v1.nn.l2_loss(self.b) )\n",
        "        \n",
        "        self.pre_loss = tf.compat.v1.nn.sigmoid_cross_entropy_with_logits(labels=self.label,\n",
        "                                                                logits=self.pre_logits) + self.reg\n",
        "        #SGD\n",
        "        d_opt = tf.compat.v1.train.GradientDescentOptimizer(self.learning_rate)\n",
        "        self.d_updates = d_opt.minimize(self.pre_loss, var_list=self.d_params)\n",
        "        #Recompensa: \n",
        "        #b_i+vu*v_i\n",
        "        self.reward_logits = tf.compat.v1.reduce_sum(tf.compat.v1.multiply(self.u_embedding, self.i_embedding),\n",
        "                                           1) + self.i_bias +  tf.compat.v1.reduce_sum( tf.compat.v1.multiply(self.visual_U_vector,self.Ef_i ) ,1 ) + self.bf_i+ self.sxb_s\n",
        "        #2sig(f)-1\n",
        "        self.reward = 2 * (tf.compat.v1.sigmoid(self.reward_logits) - 0.5)\n",
        "\n",
        "        # for test stage, self.u: [batch_size]\n",
        "        self.all_rating = tf.compat.v1.matmul(self.u_embedding, self.item_embeddings, transpose_a=False,\n",
        "                                    transpose_b=True) + self.item_bias + tf.compat.v1.matmul(self.visual_U_vector, self.Ef, transpose_a=False, transpose_b=False) +  tf.compat.v1.reduce_sum(tf.compat.v1.multiply(self.visual_item_bias , self.visual_I),1) +self.user_bias_review  \n",
        "\n",
        "        #1 usuario todos los items.\n",
        "        \n",
        "        self.all_logits = tf.compat.v1.reduce_sum(tf.compat.v1.multiply(self.u_embedding, self.item_embeddings), 1) + self.item_bias +  tf.compat.v1.reduce_sum(tf.compat.v1.multiply(self.visual_U_vector, tf.transpose(self.Ef) ), 1) + tf.compat.v1.reduce_sum(tf.compat.v1.multiply(self.visual_item_bias , self.visual_I),1) +self.user_bias_review   \n",
        "        \n",
        "        #self.NLL = -tf.compat.v1.reduce_mean(tf.compat.v1.log(\n",
        "            #tf.compat.v1.gather(tf.compat.v1.reshape(tf.compat.v1.nn.softmax(tf.compat.v1.reshape(self.all_logits, [1, -1])), [-1]), self.i)))\n",
        "        # for dns sample\n",
        "         \n",
        "        self.dns_rating = tf.compat.v1.reduce_sum(tf.compat.v1.multiply(self.u_embedding, self.item_embeddings), 1) + self.item_bias + tf.compat.v1.reduce_sum(tf.compat.v1.multiply(self.visual_U_vector, tf.transpose(self.Ef) ), 1) + tf.compat.v1.reduce_sum(tf.compat.v1.multiply(self.visual_item_bias , self.visual_I),1)  +self.user_bias_review  \n",
        "\n",
        "    def save_model(self, sess, filename):\n",
        "        param = sess.run(self.d_params)\n",
        "        cPickle.dump(param, open(filename, 'w'))"
      ],
      "execution_count": null,
      "outputs": []
    },
    {
      "cell_type": "markdown",
      "metadata": {
        "id": "iex1cUN48yNZ"
      },
      "source": [
        "# Adaptación de IRGAN"
      ]
    },
    {
      "cell_type": "markdown",
      "metadata": {
        "id": "Rfo9HdFNyRa6"
      },
      "source": [
        "## Lectura Amazon "
      ]
    },
    {
      "cell_type": "code",
      "metadata": {
        "colab": {
          "base_uri": "https://localhost:8080/"
        },
        "id": "p-Rey0DTyRa6",
        "outputId": "b8289cdf-6fb3-40fc-8f31-3d1f8bc70199"
      },
      "source": [
        "from google.colab import drive\n",
        "drive.mount('/content/drive')\n",
        "\n",
        "workdir = '/content/drive/MyDrive/dataset_ml/amazon_men_actualizado/' \n",
        "#workdir = '/content/drive/MyDrive/dataset_ml/women/' \n",
        "\n",
        "usuarios_train = np.load(workdir+'dic_train_men.npy',allow_pickle='TRUE')\n",
        "usuarios_train=list(usuarios_train.reshape(-1,1))[0][0]\n",
        "usuarios_test = np.load(workdir+'dic_test_men.npy',allow_pickle='TRUE')\n",
        "usuarios_test=list(usuarios_test.reshape(-1,1))[0][0]\n",
        "DIS_TRAIN_FILE =workdir+ \"dis-train.txt\"\n",
        "DIS_MODEL_FILE =   workdir+\"model_dns_IRGANvisual.pkl\" #rutaaaa"
      ],
      "execution_count": null,
      "outputs": [
        {
          "output_type": "stream",
          "name": "stdout",
          "text": [
            "Drive already mounted at /content/drive; to attempt to forcibly remount, call drive.mount(\"/content/drive\", force_remount=True).\n"
          ]
        }
      ]
    },
    {
      "cell_type": "code",
      "metadata": {
        "id": "GfCSPCJ-yRa6"
      },
      "source": [
        "dic_feautures = np.load(workdir+'features_women_effnet.npy',allow_pickle='TRUE')\n",
        "dic_feautures=list(dic_feautures.reshape(-1,1))[0][0]"
      ],
      "execution_count": null,
      "outputs": []
    },
    {
      "cell_type": "code",
      "metadata": {
        "id": "4wKFa7dUyRa7"
      },
      "source": [
        "#########################################################################################\n",
        "# Hyper-parameters\n",
        "#########################################################################################\n",
        "EMB_DIM = 10\n",
        "K2=500\n",
        "DNS_K = 5"
      ],
      "execution_count": null,
      "outputs": []
    },
    {
      "cell_type": "code",
      "metadata": {
        "id": "BHYsg7rQyRa7"
      },
      "source": [
        "user_pos_test = {}\n",
        "user_pos_train_review = {}\n",
        "user_pos_train= {}\n",
        "c_t=0\n",
        "all_items= []\n",
        "\n",
        "\n",
        "for u in usuarios_train.keys():\n",
        "  for item in usuarios_train[u]:\n",
        "    if item[b\"productid\"] not in all_items:\n",
        "      all_items.append(item[b\"productid\"])\n",
        "    \n",
        "    if u not in user_pos_train: #nuevo\n",
        "      user_pos_train[u] = [item[b\"productid\"]]\n",
        "      user_pos_train_review[u]= [item[\"reviewText\"]]\n",
        "    else: #sino agrego\n",
        "      user_pos_train[u].append(item[b\"productid\"])\n",
        "      user_pos_train_review[u].append(item[\"reviewText\"])\n",
        "all_user= list(user_pos_train.keys())\n",
        "\n",
        "for u in usuarios_train.keys():    \n",
        "  item=usuarios_test[u][0]\n",
        "  if item[b\"productid\"] not in all_items:\n",
        "    c_t+=1\n",
        "  else:\n",
        "    user_pos_test[u] = [item[b\"productid\"]]\n",
        "\n",
        "ITEM_NUM=len(all_items)\n",
        "USER_NUM= len(usuarios_train.keys())"
      ],
      "execution_count": null,
      "outputs": []
    },
    {
      "cell_type": "code",
      "metadata": {
        "colab": {
          "base_uri": "https://localhost:8080/"
        },
        "id": "1y3AlUDTyRa7",
        "outputId": "cb58af8f-54fa-4726-d241-143ce1eaf5c3"
      },
      "source": [
        "print(\"% de items en test que no estan en train: \",c_t/len(all_items)*100)\n",
        "print(\"n item: \", ITEM_NUM, \"n usuarios: \", USER_NUM)"
      ],
      "execution_count": null,
      "outputs": [
        {
          "output_type": "stream",
          "name": "stdout",
          "text": [
            "% de items en test que no estan en train:  2.888205578739293\n",
            "n item:  9106 n usuarios:  3834\n"
          ]
        }
      ]
    },
    {
      "cell_type": "code",
      "metadata": {
        "id": "kOtSW4BvyRa7",
        "colab": {
          "base_uri": "https://localhost:8080/",
          "height": 235
        },
        "outputId": "2608d896-0969-4cb6-8569-8a8018d5cb24"
      },
      "source": [
        "c=0\n",
        "for i in all_items:\n",
        "  vector= dic_feautures[i]\n",
        "  if c==0:\n",
        "    visual_matrix= vector\n",
        "    c=1\n",
        "  else:\n",
        "    visual_matrix= np.concatenate((visual_matrix, vector),axis=0)"
      ],
      "execution_count": null,
      "outputs": [
        {
          "output_type": "error",
          "ename": "NameError",
          "evalue": "ignored",
          "traceback": [
            "\u001b[0;31m---------------------------------------------------------------------------\u001b[0m",
            "\u001b[0;31mNameError\u001b[0m                                 Traceback (most recent call last)",
            "\u001b[0;32m<ipython-input-8-e6b9f52650e0>\u001b[0m in \u001b[0;36m<module>\u001b[0;34m()\u001b[0m\n\u001b[1;32m      1\u001b[0m \u001b[0mc\u001b[0m\u001b[0;34m=\u001b[0m\u001b[0;36m0\u001b[0m\u001b[0;34m\u001b[0m\u001b[0;34m\u001b[0m\u001b[0m\n\u001b[1;32m      2\u001b[0m \u001b[0;32mfor\u001b[0m \u001b[0mi\u001b[0m \u001b[0;32min\u001b[0m \u001b[0mall_items\u001b[0m\u001b[0;34m:\u001b[0m\u001b[0;34m\u001b[0m\u001b[0;34m\u001b[0m\u001b[0m\n\u001b[0;32m----> 3\u001b[0;31m   \u001b[0mvector\u001b[0m\u001b[0;34m=\u001b[0m \u001b[0mdic_feautures\u001b[0m\u001b[0;34m[\u001b[0m\u001b[0mi\u001b[0m\u001b[0;34m]\u001b[0m\u001b[0;34m\u001b[0m\u001b[0;34m\u001b[0m\u001b[0m\n\u001b[0m\u001b[1;32m      4\u001b[0m   \u001b[0;32mif\u001b[0m \u001b[0mc\u001b[0m\u001b[0;34m==\u001b[0m\u001b[0;36m0\u001b[0m\u001b[0;34m:\u001b[0m\u001b[0;34m\u001b[0m\u001b[0;34m\u001b[0m\u001b[0m\n\u001b[1;32m      5\u001b[0m     \u001b[0mvisual_matrix\u001b[0m\u001b[0;34m=\u001b[0m \u001b[0mvector\u001b[0m\u001b[0;34m\u001b[0m\u001b[0;34m\u001b[0m\u001b[0m\n",
            "\u001b[0;31mNameError\u001b[0m: name 'dic_feautures' is not defined"
          ]
        }
      ]
    },
    {
      "cell_type": "code",
      "metadata": {
        "colab": {
          "base_uri": "https://localhost:8080/"
        },
        "id": "QkeYlTfc2DFO",
        "outputId": "8edaed76-4c3b-4423-d119-58ce19afdcee"
      },
      "source": [
        "print(visual_matrix.shape)"
      ],
      "execution_count": null,
      "outputs": [
        {
          "output_type": "stream",
          "name": "stdout",
          "text": [
            "(7245, 1536)\n"
          ]
        }
      ]
    },
    {
      "cell_type": "code",
      "metadata": {
        "colab": {
          "base_uri": "https://localhost:8080/"
        },
        "id": "dPhzAUnEyRa7",
        "outputId": "4d513b2c-3447-4228-88cc-a05bd255cb4f"
      },
      "source": [
        "np.max(visual_matrix)"
      ],
      "execution_count": null,
      "outputs": [
        {
          "output_type": "execute_result",
          "data": {
            "text/plain": [
              "19.334303"
            ]
          },
          "metadata": {},
          "execution_count": 25
        }
      ]
    },
    {
      "cell_type": "code",
      "metadata": {
        "id": "SkUTjJ8uyRa7"
      },
      "source": [
        "visual_matrix= visual_matrix/np.max(visual_matrix)"
      ],
      "execution_count": null,
      "outputs": []
    },
    {
      "cell_type": "markdown",
      "metadata": {
        "id": "DPSXpFFC8_2X"
      },
      "source": [
        "#men"
      ]
    },
    {
      "cell_type": "code",
      "metadata": {
        "colab": {
          "base_uri": "https://localhost:8080/"
        },
        "id": "RHP9uE5h07Vc",
        "outputId": "b314b907-bef7-4891-9611-6eac02402c0a"
      },
      "source": [
        "from textblob import TextBlob\n",
        "reviw_prom={}\n",
        "for u in user_pos_train_review.keys():\n",
        "  l=[]\n",
        "  for item in user_pos_train_review[u]:\n",
        "     l.append(TextBlob(item).sentiment.polarity)\n",
        "  reviw_prom[u]=np.mean(l)\n",
        "reviews= np.reshape(list(reviw_prom.values()),(-1,1))\n",
        "reviews=reviews.astype(\"float32\")\n",
        "reviews.shape"
      ],
      "execution_count": null,
      "outputs": [
        {
          "output_type": "execute_result",
          "data": {
            "text/plain": [
              "(3834, 1)"
            ]
          },
          "metadata": {},
          "execution_count": 13
        }
      ]
    },
    {
      "cell_type": "code",
      "source": [
        "reviw_prom_men= reviw_prom"
      ],
      "metadata": {
        "id": "eq-T8KI1MNFy"
      },
      "execution_count": null,
      "outputs": []
    },
    {
      "cell_type": "code",
      "metadata": {
        "colab": {
          "base_uri": "https://localhost:8080/"
        },
        "id": "bTunBqBZ5Tse",
        "outputId": "787d1f22-8e8b-4e0a-ed91-62ef737f3c47"
      },
      "source": [
        "user_pos_train_review[all_user[ np.argmax(list(reviw_prom.values())) ]]"
      ],
      "execution_count": null,
      "outputs": [
        {
          "output_type": "execute_result",
          "data": {
            "text/plain": [
              "['great design! I wish we had this one when I was a kid!',\n",
              " 'Great shirt! the teenager who is sporting it is very happy!']"
            ]
          },
          "metadata": {},
          "execution_count": 15
        }
      ]
    },
    {
      "cell_type": "code",
      "source": [
        "all_user[ np.argmax(list(reviw_prom.values())) ]"
      ],
      "metadata": {
        "colab": {
          "base_uri": "https://localhost:8080/"
        },
        "id": "8axtkYxM1cvI",
        "outputId": "914482e3-6c24-4bf0-8f6d-84cfc1f53048"
      },
      "execution_count": null,
      "outputs": [
        {
          "output_type": "execute_result",
          "data": {
            "text/plain": [
              "11467"
            ]
          },
          "metadata": {},
          "execution_count": 16
        }
      ]
    },
    {
      "cell_type": "markdown",
      "metadata": {
        "id": "-gdMFPeg5x0d"
      },
      "source": [
        "['¡buen diseño! ¡Ojalá tuviéramos este cuando era niño! ',\n",
        "  '¡Gran camisa! ¡el adolescente que lo está luciendo está muy feliz! ']"
      ]
    },
    {
      "cell_type": "code",
      "metadata": {
        "colab": {
          "base_uri": "https://localhost:8080/",
          "height": 72
        },
        "id": "a7Ps3Mgm57L-",
        "outputId": "b5417129-cfe4-453f-8871-33097b29fcb6"
      },
      "source": [
        "user_pos_train_review[all_user[ np.argpartition((list(reviw_prom.values())),3)[0] ]][0]"
      ],
      "execution_count": null,
      "outputs": [
        {
          "output_type": "execute_result",
          "data": {
            "application/vnd.google.colaboratory.intrinsic+json": {
              "type": "string"
            },
            "text/plain": [
              "\"We are Seattle Seahawks Season ticket holders and the November/December games present some issues when it comes to keeping warm. Even though my wife and I wear parkas and jeans and bring blankets, our legs still get cold. Silk long johns are the answer. They provide as much warmth as the heavier cotton types but barely add any bulk. They're comfortable and while after sitting for a couple of hours out in the cold of the stadium our legs still get cold, these help a lot.\""
            ]
          },
          "metadata": {},
          "execution_count": 21
        }
      ]
    },
    {
      "cell_type": "markdown",
      "metadata": {
        "id": "HdEQZ0is7gZJ"
      },
      "source": [
        "[\"Somos poseedores de boletos de temporada de los Seattle Seahawks y los juegos de noviembre / diciembre presentan algunos problemas cuando se trata de mantenernos calientes. Aunque mi esposa y yo usamos parkas y jeans y llevamos mantas, nuestras piernas todavía se enfrían. Los calzoncillos largos de seda son los respuesta. Proporcionan tanta calidez como los tipos de algodón más pesados, pero apenas agregan volumen. Son cómodos y, aunque después de estar sentados un par de horas en el frío del estadio, nuestras piernas todavía se enfrían, esto ayuda mucho \". ,\n",
        "  Los uso con mis calcetines de lana Carhart. Vamos a muchas actividades al aire libre en el invierno donde tenemos que sentarnos durante unas horas y mis pies siempre se enfrían. Ya no. Funcionan a las mil maravillas ']."
      ]
    },
    {
      "cell_type": "code",
      "source": [
        "user_pos_train_review[all_user[ np.argpartition((list(reviw_prom.values())),3)[0] ]][1]"
      ],
      "metadata": {
        "colab": {
          "base_uri": "https://localhost:8080/",
          "height": 54
        },
        "id": "D3TonhNA6rz7",
        "outputId": "f512c2b4-8fc6-45b3-d643-29288f173873"
      },
      "execution_count": null,
      "outputs": [
        {
          "output_type": "execute_result",
          "data": {
            "application/vnd.google.colaboratory.intrinsic+json": {
              "type": "string"
            },
            "text/plain": [
              "'I use these with my Carhart Wool socks. We go to a lot of outdoor activities in the winter where we have to sit for a few hours and my feet always got cold. Not anymore. These work like a charm.'"
            ]
          },
          "metadata": {},
          "execution_count": 22
        }
      ]
    },
    {
      "cell_type": "code",
      "source": [
        "all_user[ np.argpartition((list(reviw_prom.values())),3)[0] ]"
      ],
      "metadata": {
        "colab": {
          "base_uri": "https://localhost:8080/"
        },
        "id": "tD5kBtmz1jpY",
        "outputId": "b5a1feae-9990-4b8a-e64e-757e55f95ee5"
      },
      "execution_count": null,
      "outputs": [
        {
          "output_type": "execute_result",
          "data": {
            "text/plain": [
              "31564"
            ]
          },
          "metadata": {},
          "execution_count": 18
        }
      ]
    },
    {
      "cell_type": "code",
      "metadata": {
        "colab": {
          "base_uri": "https://localhost:8080/",
          "height": 617
        },
        "id": "T2G93U1X3r0U",
        "outputId": "4a008944-34ad-4c13-b934-2f117f6bbce9"
      },
      "source": [
        "import plotly.graph_objects as go\n",
        "\n",
        "fig = go.Figure(data=[go.Box(y=list(reviw_prom_men.values()), name= \" \") ]  )\n",
        "fig.update_layout(\n",
        "   title='Polaridad promedio de review por usuario',height=600, width=800)\n",
        "fig.show()\n"
      ],
      "execution_count": null,
      "outputs": [
        {
          "output_type": "display_data",
          "data": {
            "text/html": [
              "<html>\n",
              "<head><meta charset=\"utf-8\" /></head>\n",
              "<body>\n",
              "    <div>\n",
              "            <script src=\"https://cdnjs.cloudflare.com/ajax/libs/mathjax/2.7.5/MathJax.js?config=TeX-AMS-MML_SVG\"></script><script type=\"text/javascript\">if (window.MathJax) {MathJax.Hub.Config({SVG: {font: \"STIX-Web\"}});}</script>\n",
              "                <script type=\"text/javascript\">window.PlotlyConfig = {MathJaxConfig: 'local'};</script>\n",
              "        <script src=\"https://cdn.plot.ly/plotly-latest.min.js\"></script>    \n",
              "            <div id=\"b4b5aca2-5e94-4fa2-a2ba-e5117d16068b\" class=\"plotly-graph-div\" style=\"height:600px; width:800px;\"></div>\n",
              "            <script type=\"text/javascript\">\n",
              "                \n",
              "                    window.PLOTLYENV=window.PLOTLYENV || {};\n",
              "                    \n",
              "                if (document.getElementById(\"b4b5aca2-5e94-4fa2-a2ba-e5117d16068b\")) {\n",
              "                    Plotly.newPlot(\n",
              "                        'b4b5aca2-5e94-4fa2-a2ba-e5117d16068b',\n",
              "                        [{\"name\": \" \", \"type\": \"box\", \"y\": [0.4629464285714286, 0.5361791383219955, 0.32401515151515153, 0.33994708994708994, 0.30952380952380953, 0.5125, 0.3954365079365079, 0.35968750000000005, 0.44722222222222224, 0.2978835978835979, 0.5268154761904762, 0.6883333333333332, 0.4395833333333333, 0.4088888888888889, 0.3829761904761904, 0.2583333333333333, 0.13495788689867635, 0.3230555555555555, 0.2151105442176871, 0.3591231684981685, 0.29999999999999993, 0.41640625000000003, 0.51125, 0.3470000000000001, 0.3262896825396825, 0.22916666666666666, 0.5, 0.34375, 0.5080208333333334, 0.39, 0.3164285714285714, 0.27191762007833437, 0.305711038961039, 0.16010530474816187, 0.22026515151515155, 0.5041666666666667, 0.29702380952380947, 0.30969854797979796, 0.3340972222222222, 0.3444444444444445, 0.13855555555555557, 0.3597222222222222, 0.11546296296296296, 0.875, 0.4756944444444444, 0.2804280430261399, 0.29200000000000004, 0.38794817927170866, 0.0029513888888888914, 0.28654761904761905, 0.3190021244187911, 0.1234722222222222, 0.30527777777777776, 0.1360655929038282, 0.5055, 0.2477777777777778, -0.1949404761904762, 0.2927777777777778, 0.07235491071428571, 0.4145833333333333, 0.4131944444444445, 0.3554642857142857, 0.6087500000000001, 0.22644303613053612, 0.2934375, 0.2803819444444445, 0.12502834467120183, 0.3902777777777778, 0.1486242974861396, 0.5245833333333334, 0.23357142857142854, 0.2801874069940476, 0.2211607142857143, 0.25198806244260796, 0.26531746031746034, 0.32883763227513224, 0.48125, 0.371767563591093, 0.3960606060606061, 0.2808333333333334, 0.29872023809523807, 0.4140648148148148, 0.051155045351473916, 0.3139668367346939, 0.3848593073593074, 0.1386894465894466, 0.11462962962962962, 0.26079545454545455, 0.3028195488721805, 0.3438311688311688, 0.52625, 0.5326530612244897, 0.604, 0.055009920634920634, 0.2029513888888889, 0.3, 0.4094480519480519, 0.34732142857142856, 0.44306175595238095, 0.42116666666666663, 0.45260416666666675, 0.09086174242424243, 0.2964523809523809, 0.5217207792207792, 0.2694444444444445, 0.6149956597222223, 0.38232954545454545, 0.23664529914529916, 0.6188888888888888, 0.2995833333333333, 0.19198809523809524, -0.11467236467236468, 0.48046130952380955, 0.7141666666666666, 0.349619708994709, 0.1301388888888889, 0.4916666666666667, 0.31304121572871574, 0.22242681000971817, 0.5166666666666667, 0.37036931818181823, 0.3104269784448356, 0.3318055555555555, 0.3696428571428571, 0.15626543209876545, 0.4027083333333332, 0.09097222222222222, 0.30271364795918365, 0.295, 0.13381639194139194, 0.24477777777777776, 0.3017361111111111, 0.32744614512471654, 0.29642857142857143, 0.5055555555555555, 0.1878761446886447, 0.1096792847304211, 0.542064393939394, 0.30132508116883117, 0.30114033189033196, 0.28956810235219327, 0.35478937728937726, 0.41804166666666676, 0.175, 0.26659010228454677, 0.4611111111111111, 0.2692362201290773, 0.5337500000000001, 0.36696056547619044, 0.23790509259259257, 0.41083333333333333, 0.33299242424242426, 0.3330397727272727, 0.4212962962962963, 0.4179315547767929, 0.4866666666666667, 0.4357142857142857, 0.19203373015873015, 0.19593253968253968, 0.40959750566893427, 0.16976190476190475, 0.3479117063492064, 0.17291666666666666, 0.36000000000000004, 0.24125, 0.4263333333333333, 0.45625000000000004, 0.3639596118167547, 0.4117559523809524, 0.4345899470899471, 0.4177991452991453, 0.4506547619047619, 0.4390476190476191, 0.20439713064713064, 0.19909458494936436, 0.43416666666666665, 0.4608333333333333, 0.36081813186813194, 0.18893253968253967, 0.28825757575757577, 0.33838271103896106, 0.5150000000000001, 0.21330952380952378, 0.20038295038295037, 0.125, 0.4094020562770563, 0.21883361678004534, 0.19583333333333333, 0.08583333333333332, 0.2644132653061224, 0.3541666666666667, 0.5064285714285716, 0.55, 0.3107142857142857, 0.36624999999999996, 0.16417410714285716, 0.15000000000000002, 0.5012698412698412, 0.12638888888888888, 0.3868055555555555, 0.12295351473922901, 0.44472222222222224, 0.006442307692307678, 0.32970628908128913, 0.334212512025012, 0.4583333333333333, 0.3045345218095905, 0.20287698412698413, 0.160462962962963, 0.24609778911564625, 0.12441468253968255, 0.26233516483516484, 0.2708333333333333, -0.0675265731292517, 0.534, 0.46439318783068784, 0.29141666666666666, 0.634375, 0.2713383838383839, 0.29193121693121693, 0.248534152423287, 0.13169642857142858, 0.5, 0.1893939393939394, 0.317718253968254, 0.25476190476190474, 0.20274801587301583, 0.41818783068783066, 0.30333333333333334, -0.02996173469387757, 0.31511904761904763, 0.20733901515151512, 0.37222222222222223, 0.096375, 0.30242559523809526, 0.22904761904761903, 0.47708333333333336, 0.30156489769844314, 0.325234375, 0.4347619047619048, 0.40226190476190476, 0.38083333333333336, 0.4932539682539682, 0.14854166666666666, 0.282989477842419, 0.20911044973544973, 0.31364583333333335, 0.21800912698412694, 0.43749999999999994, 0.24772727272727274, 0.07722819715007213, 0.5461666666666667, 0.22961309523809523, 0.23415242165242164, 0.25901785714285713, 0.75, 0.30341666666666667, 0.44583333333333336, 0.5, -0.09999999999999992, 0.6125, 0.30803571428571425, 0.4239586089065255, 0.23777651515151516, 0.39387755102040817, 0.3803030303030303, 0.25, 0.5944444444444444, 0.01562500000000004, 0.29166666666666663, 0.49603174603174605, 0.20327777777777778, 0.395, 0.5099206349206349, 0.8160000000000001, 0.3401957671957672, 0.29771825396825397, 0.502470238095238, 0.3994444444444445, 0.4067460317460318, 0.3620833333333333, 0.31126923076923074, 0.35071428571428576, 0.35816433566433564, 0.4281249999999999, 0.4611111111111111, 0.3198263888888889, 0.23604166666666665, 0.2833906525573192, 0.37, 0.05277777777777778, 0.19955357142857144, 0.2548511904761905, 0.5220714285714286, 0.4619208958715761, 0.3810185185185185, 0.29928571428571427, 0.12398315018315018, 0.3038265306122449, 0.23317804737672548, 0.2868000637755102, 0.2902480158730159, 0.23702062643239113, 0.45805555555555555, 0.17782407407407408, 0.48862500000000003, 0.09433333333333332, 0.2283459595959596, 0.251712396069539, 0.5562500000000001, 0.38472222222222224, 0.3339285714285714, 0.5486507936507936, 0.5673333333333334, 0.5734300595238095, 0.19080357142857143, 0.3510204081632653, 0.4767965367965368, 0.44191433896791044, 0.23854166666666665, 0.09392857142857142, 0.5357142857142857, 0.1, 0.4275, 0.48733333333333334, 0.18175, 0.4009615384615384, 0.4469337606837607, 0.35, 0.26694444444444443, 0.37335246598639454, 0.38647186147186147, 0.35320350362367164, 0.40006377551020406, 0.23106060606060605, 0.1582090132090132, 0.22633333333333333, 0.3520119047619048, 0.4291666666666666, 0.36269841269841274, 0.35388095238095235, 0.3371599002849003, 0.32281746031746034, 0.6028645833333334, 0.2731547619047619, 0.29111111111111115, 0.11666666666666667, 0.2800076530612245, 0.6000056689342403, 0.18305555555555553, 0.5424627976190477, 0.3621279761904762, 0.4943455782312925, 0.5311423611111111, 0.25409564393939393, 0.427046130952381, 0.5454545454545454, 0.15083333333333332, 0.020833333333333343, 0.19411830357142856, 0.44849046015712685, 0.3416666666666667, 0.30583333333333335, 0.07995430495430496, 0.46268253968253964, 0.2488238095238095, 0.32767857142857143, 0.48839569160997737, 0.036660879629629654, 0.3296654555761699, 0.36, 0.258032965037867, 0.0811607142857143, 0.11942046957671959, 0.2328125, 0.33297288359788363, 0.1649702380952381, 0.2830849395313681, 0.2226172161172161, 0.44791666666666663, 0.17375, 0.33046875, 0.407647266313933, 0.3040722222222222, 0.55, 0.19493981481481482, 0.2486734693877551, 0.209293395009519, 0.3647331349206349, 0.3819444444444444, 0.36975056689342406, 0.6667380952380952, 0.4291666666666667, 0.2898271474297136, 0.08368205868205869, 0.43333333333333335, 0.09360269360269359, 0.23918518518518517, 0.2839488636363636, 0.32467948717948725, 0.38, 0.21666666666666667, 0.3443610093610094, 0.18587301587301588, 0.109, 0.46041666666666664, 0.19970238095238096, 0.445107646982647, 0.08071428571428571, 0.41620408163265304, 0.1725, 0.26026455026455025, 0.16634920634920633, 0.22976190476190475, 0.6169285714285715, 0.20958333333333334, 0.3771494708994709, 0.6131249999999999, 0.47916666666666663, 0.1077157738095238, 0.19362244897959185, 0.23619047619047623, 0.349537037037037, 0.3840277777777778, 0.5025000000000001, 0.048214285714285716, 0.19148809523809526, 0.29479399172256315, 0.35, -0.015303030303030303, 0.1758482142857143, 0.009280303030303036, 0.18339947089947092, 0.5738888888888889, 0.24323593073593072, 0.2896825396825397, 0.29883333333333334, 0.3313383838383838, 0.24773809523809526, 0.30996472663139324, 0.08206018518518518, 0.33958333333333335, 0.4363095238095238, 0.6392857142857142, 0.34500687143544284, 0.6200000000000001, 0.4151388888888889, 0.23537774725274724, 0.19339521919879066, 0.45699074074074075, 0.3190476190476191, 0.20658895502645502, 0.3758333333333333, 0.17142857142857143, 0.24111679491143775, 0.40817761479591835, 0.39979166666666666, 0.3540909090909091, 0.02834280303030303, -0.031428571428571424, 0.45499999999999996, 0.23177083333333334, 0.3645833333333333, 0.2582077922077922, 0.31086309523809524, 0.24577838827838827, 0.3439523100907029, 0.27641369047619047, 0.38080014859479144, 0.18229166666666663, 0.29579081632653065, 0.5445238095238095, 0.46166666666666667, 0.7333333333333333, 0.4742061237373737, 0.2384332024144054, 0.2610119047619048, 0.2875, 0.22485119047619048, 0.12380952380952381, 0.1605004409171076, 0.48000000000000015, 0.40128571428571425, 0.37744212962962964, 0.4395833333333333, 0.35714285714285715, 0.0570394882894883, 0.21726190476190474, 0.5771527777777777, 0.1597222222222222, 0.15378559557726226, 0.42063492063492064, 0.29591420153920156, 0.5833333333333333, 0.6015178571428572, 0.2256439393939394, 0.3511111111111111, 0.15615827800049076, 0.17500000000000002, 0.19380555555555556, 0.13952380952380952, 0.09229166666666666, 0.49666666666666665, 0.16726190476190478, 0.2157638888888889, 0.214498371998372, 0.34998582766439906, 0.3905059523809524, 0.4975, 0.3644230769230769, 0.42823412698412694, 0.24270833333333336, 0.15503296703296704, 0.2830867346938776, 0.12017857142857141, 0.13837698412698413, 0.47066964285714286, 0.690625, -0.02312499999999998, 0.33006155303030305, 0.3348882783882784, 0.07231792717086835, 0.40416666666666673, 0.4574801587301587, 0.0, 0.4392857142857143, 0.4343434343434343, 0.228693404064309, 0.34208333333333335, 0.07166666666666667, 0.715625, 0.32880180776014106, 0.18560168997668997, 0.1586213786213786, 0.17935339506172843, 0.37533129444959806, 0.06437074829931974, 0.2349153439153439, 0.08750000000000001, 0.4644465252009895, 0.4226190476190476, 0.20435698088759313, 0.34833333333333333, 0.27314814814814814, 0.215625, 0.3281428571428571, 0.2879166666666667, 0.4461998456790124, 0.452020202020202, 0.3470238095238095, 0.29566326530612247, 0.08333333333333333, 0.2871207248331431, 0.5750000000000001, 0.2673868312757201, 0.30326767676767674, 0.40106666666666674, 0.3639974053724054, 0.3383333333333333, 0.36875, 0.29595734126984125, 0.2769444444444445, 0.5108333333333334, 0.5138888888888888, 0.41573260073260077, 0.5748139880952381, 0.287396978021978, 0.2411630036630037, 0.2361904761904762, 0.39204545454545453, 0.2696825396825397, 0.10333333333333333, 0.18417735951218095, 0.40921470342522975, 0.4925595238095238, 0.3527777777777778, 0.5315714285714285, 0.0, 0.06859747023809523, 0.21816666666666665, 0.08407407407407408, 0.2250504298941799, 0.26787037037037037, 0.17035714285714287, 0.42128571428571426, 0.17505681818181817, 0.34747931697931705, 0.12910714285714286, 0.43847222222222226, 0.48500000000000004, 0.3888965201465202, 0.21684628237259815, 0.5619047619047619, 0.2241666666666667, 0.26607142857142857, 0.3833333333333333, 0.3958333333333333, 0.5016666666666667, 0.39687500000000003, 0.3676417824074074, 0.45440228174603176, 0.44562500000000005, 0.2916666666666667, 0.5016666666666667, 0.4010416666666667, 0.3123076923076923, 0.565422619047619, 0.5595833333333333, 0.09986111111111107, 0.43487878787878786, 0.2673, 0.60075, 0.4132169011544012, 0.20313852813852817, 0.4274038461538462, 0.35666666666666663, 0.14907407407407408, 0.2834535834535835, 0.5833333333333333, 0.11666666666666664, 0.40763888888888894, 0.5931972789115646, 0.39618055555555554, 0.30669642857142854, 0.3332407407407407, 0.18693134093915342, 0.6100000000000001, 0.3363888888888889, 0.34858333333333336, 0.34014649193010543, 0.29305555555555557, 0.4756944444444444, 0.5508928571428572, 0.4747048611111111, 0.3536781091535435, 0.3424512987012987, 0.5958333333333333, 0.18878968253968256, 0.34845238095238096, 0.44236201298701305, 0.48000000000000004, 0.05500000000000001, 0.5270833333333333, 0.31667617349970295, 0.11154761904761906, 0.371875, 0.0, 0.5370039682539683, 0.13348214285714285, 0.5484126984126984, 0.25275, 0.2550298466965134, 0.5521717171717172, 0.4186597222222222, 0.22325925925925927, 0.26639564732142856, 0.5325, 0.0, 0.23083333333333336, 0.04999999999999999, 0.49700000000000005, 0.25661931818181816, 0.41625, 0.2633055337519623, 0.2053794642857143, 0.22034438775510204, 0.2985267857142857, 0.03208333333333334, 0.17791666666666667, 0.10967579365079365, 0.323452380952381, 0.3197380952380952, 0.3176704545454545, 0.3370238095238095, 0.3671269841269841, 0.38958333333333334, 0.3499999999999999, 0.7, 0.26666666666666666, 0.23921957671957672, 0.10229013480392157, 0.18160714285714286, 0.2132147327980661, 0.35088564213564216, 0.28928571428571426, 0.53125, 0.33830544455544453, 0.43506944444444445, 0.41333333333333333, 0.1754166666666667, 0.192109477124183, 0.4777777777777778, 0.21458333333333335, 0.19870823409492003, 0.2588333333333333, 0.38973214285714286, 0.26311624649859944, 0.24151234567901236, 0.07291666666666667, 0.18071794871794866, 0.4563425925925926, 0.6645833333333333, 0.3367857142857143, 0.22366666666666668, 0.47777777777777775, 0.21687708855472015, 0.2931746031746032, 0.09446396857111142, 0.5622510822510822, 0.32923403976975407, 0.2513888888888889, 0.03451999389499388, 0.4765625, 0.590625, 0.2255080191798942, 0.3424898678428621, 0.09380952380952381, 0.4039259259259259, 0.6087037037037036, 0.22919348398515063, 0.28777777777777774, 0.5010757575757575, 0.41501736111111115, 0.3315972222222222, 0.692, 0.38125, 0.9126562500000001, 0.48261904761904756, 0.17863335077620793, 0.059402391259534115, 0.35211309523809525, 0.2954135948927615, 0.24220238095238095, 0.26666666666666666, 0.2232984607984608, 0.6222222222222221, 0.4558333333333333, 0.23033609988642334, 0.43125, 0.32272222222222224, 0.589937641723356, 0.2464285714285714, 0.3416666666666667, 0.07776785714285714, 0.47337868480725626, 0.44375, 0.21363033234126982, 0.3260187155864677, 0.2578300865800866, 0.31625000000000003, 0.20906001984126985, 0.6166666666666667, 0.20576388888888889, 0.3375, 0.17504050925925926, 0.34682539682539687, 0.28121598639455786, 0.6310937499999999, 0.3113888888888888, 0.16482015533486125, 0.2056994047619048, 0.21299016955266953, 0.18290107709750567, 0.1459479879046342, 0.5151118326118327, 0.44945833333333335, 0.3, 0.1995773996442983, 0.31833050794289336, 0.29428571428571426, 0.647, 0.21111111111111114, 0.07348502577669244, 0.17301587301587298, 0.17791077969649396, 0.36298611111111106, 0.17405753968253967, 0.20552517361111108, 0.5209305555555556, 0.6388888888888888, 0.505625, 0.04166666666666666, 0.39444444444444443, 0.5866666666666667, 0.22804487179487176, 0.31625000000000003, 0.23333333333333334, 0.3527676027676028, 0.1543175747863248, 0.2596898835291693, 0.512716049382716, 0.32002289562289565, 0.24192857142857144, 0.40166666666666667, 0.35748797498797497, 0.26359126984126985, 0.15481247477804683, 0.605, 0.3657380952380952, 0.1654103535353535, 0.31631944444444443, 0.315, 0.22370039682539683, 0.1703220390720391, 0.4724285714285714, 0.17674902547298382, 0.44416666666666665, 0.4083333333333333, 0.4303125, 0.5050952380952382, 0.4054677579365079, 0.14583333333333331, 0.5916666666666667, 0.4316826923076923, 0.31721500721500717, 0.1598214285714286, 0.4302116038723181, 0.2337492913832199, 0.34306060606060607, 0.3801587301587302, 0.19965367965367964, 0.26034197052947056, 0.509375, 0.42708333333333337, 0.2719449213980464, 0.3213888888888889, 0.3836397058823529, 0.24794642857142857, 0.2365975690975691, 0.3033333333333333, 0.6575, 0.2592261904761905, 0.17791467079928616, 0.3954960317460317, 0.26966540404040407, 0.3827690972222222, 0.34765151515151516, 0.3540277777777777, 0.35080158730158734, 0.35000000000000003, 0.2298253524253524, 0.1785714285714286, 0.0, 0.21561207311207312, 0.5286666666666666, 0.2969583333333333, 0.26135735544217686, 0.3577777777777778, 0.23413318452380952, 0.3564331501831502, 0.3386127946127946, 0.351, 0.31402407116692826, 0.2743055555555556, 0.10680555555555554, 0.315625, 0.182703373015873, 0.20174024470899474, 0.42232142857142857, 0.31310515873015876, 0.38625, 0.2223063973063973, 0.21462962962962961, 0.18932422189969356, 0.4732142857142857, 0.41208333333333336, 0.28821759259259266, 0.3850262237762238, 0.12854166666666667, 0.575, 0.33695436507936505, 0.4140972222222223, 0.25857959850606904, 0.40325000000000005, 0.2079671717171717, 0.38875000000000004, 0.6075353535353536, 0.4602136752136752, 0.11708829365079365, 0.1767750235875236, 0.1488558201058201, 0.47000000000000003, 0.4493367346938776, 0.2674393315018315, 0.2835882173382173, 0.13997280345677912, 0.5954166666666667, 0.1685537686809616, 0.4709750566893424, 0.1803505291005291, 0.1249985259662679, 0.3162962962962963, 0.242405532104733, 0.20923826173826174, 0.19519008769008772, 0.1629804876496053, 0.4848958333333333, 0.34424603174603174, 0.26425894431846814, 0.2024456941867656, 0.3735888528138528, 0.3228160430839002, 0.234755291005291, 0.7214285714285714, 0.37857142857142856, 0.24895833333333334, 0.3771306818181818, 0.18500768893415953, 0.22254464285714287, 0.24958333333333332, 0.5046666666666667, 0.16970532391585022, 0.320987293956044, 0.2631764069264069, 0.21284293831168835, 0.3375, 0.2802380952380952, 0.3394179894179894, 0.3362951853918651, 0.5043333333333334, 0.22373188405797106, 0.22416666666666665, 0.24652777777777776, 0.25104166666666666, 0.4427455357142857, 0.2828120490620491, 0.36808035714285714, 0.3070634920634921, 0.21635101010101013, 0.2220145089285714, 0.5607142857142857, 0.3001785714285714, 0.7000000000000001, 0.2896875, 0.20764221799831045, 0.21639880952380958, 0.462936507936508, 0.27365384615384614, 0.16911341289615608, 0.12666666666666668, 0.3515625, 0.4525555555555556, 0.24011904761904762, 0.36458333333333337, 0.34270833333333334, -0.05500000000000005, 0.24532814407814407, 0.3206349206349206, 0.15014880952380952, 0.5103219696969697, 0.4294158286736412, 0.1326997770747771, 0.4465515873015873, 0.2988095238095238, 0.2860064935064935, 0.14136280386280387, 0.3010008169934641, 0.06832070707070709, 0.26210750360750357, 0.2888888888888889, 0.12229010025062657, 0.235, 0.34375, 0.6239583333333334, 0.22863636363636364, 0.20071598847109048, 0.42905303030303027, 0.2968253968253968, 0.5107374847374847, 0.530952380952381, 0.3390625, 0.4833333333333333, 0.34791666666666665, 0.39829763407888413, 0.24785283389450055, 0.4821074481074481, 0.3606415343915344, 0.4162202380952381, 0.08275396825396825, 0.11591421277135563, 0.36875, 0.45089285714285715, 0.2565277777777778, 0.3428472222222222, 0.23741567460317464, 0.3741666666666667, 0.291297619047619, 0.47627314814814814, 0.4716666666666667, 0.2694444444444445, 0.2626388888888889, 0.34140008140008143, 0.42252607709750567, 0.26687500000000003, 0.47489583333333335, 0.05, 0.33904761904761904, 0.6572916666666666, 0.38875000000000004, 0.24034086284086284, 0.40290211640211643, 0.42295, 0.27055555555555555, 0.29672619047619053, 0.24000000000000005, 0.09973290598290599, 0.4091269841269842, 0.32590277777777776, 0.36875, 0.3712244897959184, 0.34303703703703703, 0.35989969135802474, 0.47089285714285717, 0.4, 0.2422821569456185, 0.355925925925926, 0.45388888888888895, 0.5000000000000001, 0.2548568376068376, 0.3422222222222222, 0.3511904761904763, 0.42121212121212126, 0.6346666666666666, 0.012876157407407406, 0.62, 0.029374999999999984, 0.06716666666666667, 0.4828395061728395, 0.23720238095238094, 0.1506548774166646, 0.0322172619047619, 0.09675339366515835, 0.3489748677248678, 0.1975, 0.3909722222222222, 0.22795815295815294, 0.07741611067503926, 0.37299620132953465, 0.23800000000000004, 0.05942063492063492, 0.1524621212121212, 0.6339285714285714, 0.2907341960288389, 0.34895833333333337, 0.43111111111111106, 0.3147619047619048, 0.26333333333333336, 0.625, 0.3111111111111111, 0.36041666666666666, 0.14083333333333334, 0.2811596513605442, 0.175696131550911, 0.25625, 0.38694047619047617, 0.2279761904761905, 0.2569932306255836, 0.3456052593742811, 0.3166827755577756, 0.35455357142857147, 0.17983022486772487, 0.35333333333333333, 0.49587301587301585, 0.15962250481000484, 0.358425925925926, 0.15101190476190476, 0.125, 0.56, 0.004067460317460317, 0.8166666666666667, 0.3983333333333334, 0.1467032967032967, 0.44642857142857145, 0.32045454545454544, 0.11949786324786325, 0.12083333333333335, -0.05, 0.3046296296296296, 0.3679783950617284, 0.17520833333333333, 0.06864417989417992, 0.3671374458874459, 0.311525974025974, 0.42033564814814817, 0.410625, 0.59, 0.584672619047619, 0.30277777777777776, 0.47571428571428576, 0.49250000000000005, 0.2559149184149184, 0.3408982683982684, 0.5174776785714286, 0.2726190476190476, 0.26375000000000004, 0.08688725490196078, 0.2028985507246377, 0.38518518518518513, 0.4446560846560847, 0.1542063492063492, 0.35086805555555556, 0.5038888888888889, 0.024375000000000004, 0.32898076923076924, 0.11717236467236469, 0.28979076479076477, 0.29477241805813237, 0.43410418407128937, 0.6616071428571428, 0.2571428571428571, 0.32235449735449734, 0.32954545454545453, 0.3721354166666666, 0.29408786848072566, 0.2925347222222222, 0.396875, 0.16238275613275613, 0.39250621402407115, 0.4230424783549784, 0.3063015873015873, 0.22666666666666668, 0.6452380952380953, 0.48564754689754686, 0.33166666666666667, 0.4021874999999999, 0.4878968253968254, 0.5670436507936507, 0.23899016135379775, 0.3560847042576429, 0.1673827776059919, 0.6666666666666666, 0.5551111111111111, 0.295, 0.35208333333333336, 0.4, 0.39049999999999996, 0.2517708333333334, 0.071875, 0.09167379712301588, 0.19565476190476191, 0.2564312770562771, 0.3041666666666667, 0.3628663003663003, 0.3121341066341066, 0.24305555555555555, 0.2512673357692155, 0.35725623582766436, 0.2978381229034824, 0.41463293650793653, 0.49547619047619046, 0.35002216958211857, 0.48888888888888893, 0.28408730158730156, 0.38333333333333336, 0.27777777777777773, 0.20303585567871282, 0.4675, 0.18940170940170942, 0.49861111111111117, 0.35, 0.0576923076923077, 0.1760814246803258, 0.425, 0.254047619047619, 0.4311291454081633, 0.41666666666666674, 0.27596064814814814, 0.2581845238095238, 0.725, 0.44363636363636366, 0.21127946127946126, 0.1779653987987321, 0.15625, 0.31666666666666665, 0.3284722222222222, 0.28738977072310407, 0.1413938492063492, 0.5354166666666667, 0.3599596088435374, 0.16005293263646925, 0.17916666666666664, 0.19172280844155842, 0.34875661375661376, 0.12083333333333333, 0.3015993265993266, 0.35229166666666667, 0.2849047619047619, 0.22728693181818183, 0.4816666666666667, 0.1892857142857143, 0.22780102040816325, 0.2684375, 0.10411458333333333, 0.24166666666666664, 0.526875, 0.34512362637362637, 0.11237103174603175, 0.51875, 0.3227966889880952, 0.22146464646464645, 0.2807291666666667, 0.2923232323232323, 0.3109246675943104, 0.3230074896694215, 0.42000000000000004, 0.15322222222222223, 0.6958333333333333, 0.3470833333333333, 0.3484948979591837, 0.24, 0.14, 0.3159208152958153, 0.5041666666666667, 0.30518518518518517, 0.17850508866133868, 0.16195436507936506, 0.34437321937321935, 0.17124999999999999, 0.48392857142857143, 0.3738095238095238, 0.43726190476190474, -0.0361111111111111, 0.6135416666666667, 0.5375, 0.059260267555909, 0.5251984126984127, 0.1276984126984127, 0.3458333333333333, 0.4330496632996633, 0.44244791666666666, 0.1336160714285714, 0.614030505952381, 0.3766642278439153, 0.35583333333333333, 0.37222222222222223, 0.2875, 0.0025000000000000022, 0.5767857142857143, 0.42447916666666663, 0.32499999999999996, 0.17738095238095236, 0.38357142857142856, 0.01953125, 0.39647321428571425, 0.26878908128908124, 0.38265151515151513, 0.45499999999999996, 0.2497101449275362, 0.2716857142857142, 0.44817212301587306, 0.1854421126012035, 0.1871138186177249, 0.3983346560846561, 0.5210884353741496, 0.23888888888888887, 0.5125, 0.025226856476856477, 0.29125, 0.32045899470899475, 0.4159682539682539, 0.21345486111111112, 0.16389880952380953, 0.07953703703703703, 0.4344444444444444, 0.1915277777777778, 0.1435479720109822, 0.3238095238095238, 0.24907738095238097, 0.43060952380952383, 0.07115740740740742, 0.2041510323721862, 0.08210317460317461, 0.34630102040816324, 0.4559126984126984, 0.3322222222222222, 0.05384424603174602, 0.2686111111111111, 0.3207892416225749, 0.09879535147392289, 0.45, 0.33012286985501266, 0.35100000000000015, 0.3626984126984127, 0.30436904761904765, 0.27704545454545454, 0.12752267573696144, 0.225, 0.3423611111111111, 0.11572613894042467, 0.058035714285714274, 0.03626860119047619, 0.26949816849816854, 0.2773003472222222, 0.18774022108843536, 0.379, 0.2809752747252747, 0.47475, 0.19131944444444443, 0.36011904761904767, 0.4295833333333334, 0.4813177083333333, 0.47972222222222216, 0.13444444444444448, 0.1658375850340136, 0.2576984126984127, 0.5610999999999999, 0.17006944444444444, 0.40975000000000006, 0.3589285714285714, 0.625, 0.1505050505050505, 0.358125, 0.14166666666666666, 0.40541666666666665, 0.200741594714809, 0.19630952380952382, 0.37916666666666665, 0.53125, 0.13291202844774272, 0.1815208333333333, 0.2125, 0.1713131313131313, 0.23080357142857144, 0.4137738095238096, 0.4669416099773242, 0.25666666666666665, 0.20554193899782136, 0.12386561355311355, 0.007490079365079366, 0.21087642609126983, 0.43935897435897436, 0.12604166666666666, 0.3259163059163059, 0.24054761904761904, 0.4455587301587302, 0.248647633744856, 0.1613267195767196, 0.4372222222222222, 0.5, 0.525892857142857, 0.276875, 0.23333333333333336, 0.6078125, 0.4744791666666667, 0.3491964285714285, 0.18538690476190475, 0.21933740857454093, 0.25170917508417506, 0.28500000000000003, 0.24732234432234432, 0.625, 0.42781250000000004, 0.3446628787878788, 0.40079861111111115, 0.49902777777777785, 0.17881944444444445, -0.19305555555555556, 0.23835813492063493, 0.41579365079365077, 0.27499999999999997, 0.2209077380952381, 0.5257086167800454, 0.5479166666666667, 0.16111111111111112, 0.3791323953823954, 0.1766540404040404, 0.5371130952380953, 0.17777777777777776, 0.10464015151515152, 0.46509469696969696, 0.022499999999999985, 0.33229166666666665, 0.2605708874458874, 0.26154761904761903, 0.39446401515151513, 0.22922739297739295, 0.17821428571428571, 0.5241468253968254, 0.28284632034632035, 0.26388888888888884, 0.15669888147566718, -0.016666666666666663, 0.5395833333333333, 0.2414948532044397, 0.377175, 0.45439236111111114, 0.22950757575757577, 0.06312500000000001, 0.12285464535464535, 0.2540744843391902, 0.1408333333333333, 0.29120535714285717, 0.29374999999999996, 0.18055555555555555, 0.2714285714285715, 0.37085606812169314, 0.5042857142857143, 0.5116666666666667, 0.38400613275613277, 0.62625, 0.29595454545454547, 0.5525, 0.40375, 0.2779775432900433, 0.3310185185185185, 0.1323611111111111, 0.24416666666666667, 0.35321150097465887, 0.013869047619047638, 0.395765306122449, 0.4611160714285714, 0.4906926406926407, 0.2942708333333333, 0.3585965307840308, 0.37812500000000004, 0.30252380952380953, 0.3191666666666667, 0.13679025706803483, 0.25293650793650796, 0.22267857142857142, 0.3734862172097871, 0.18613636363636363, 0.2657008508732646, 0.41247023809523814, 0.24768518518518515, 0.1966696575816474, 0.5449999999999999, 0.1538095238095238, 0.5928571428571429, 0.5933333333333333, 0.354375, 0.2, 0.3173373015873016, 0.34619047619047627, 0.23053354978354976, 0.22083333333333333, 0.5809523809523809, 0.20429834054834053, 0.5266666666666666, 0.35, 0.12557738095238094, 0.6842063492063492, 0.39335648148148145, 0.4247916666666667, 0.3532528409090909, 0.6269620907738095, 1.0, 0.5070833333333333, 0.15941786283891546, 0.4349603174603175, 0.5515625, 0.5533333333333333, 0.2102976190476191, 0.29665178571428574, 0.1473148148148148, 0.28903809523809526, 0.24407407407407408, 0.27977114898989897, 0.44375, 0.32104166666666667, 0.04543939393939394, 0.15096161616161616, 0.33394345238095235, 0.636, 0.28799997745310246, 0.11784090909090908, 0.30462962962962964, 0.39584859584859583, 0.5799999999999998, 0.3575071699134199, 0.38722943722943726, 0.3349692307692308, 0.44767609126984126, 0.3595335149181304, 0.6071428571428571, 0.4663888888888889, -0.034104938271604934, 0.48333333333333334, 0.27449156746031744, 0.2630246913580247, 0.5536666666666666, 0.19208333333333333, 0.4916666666666667, 0.28863203463203463, 0.23841071428571428, 0.39656249999999993, 0.31142857142857144, 0.2912552213868004, 0.3579166666666667, 0.3205952380952381, 0.4408673469387755, 0.4180357142857143, 0.1830121930538597, 0.625, 0.45957792207792203, 0.5255, 0.575, 0.29, 0.36959996220710506, 0.3835, 0.02185156113727542, 0.217531746031746, 0.46943620457824997, 0.3354875283446712, 0.06066666666666668, 0.27983368097951433, 0.48875, 0.1628541666666667, 0.3904166666666667, 0.42214285714285715, 0.26651785714285714, 0.09093194444444444, 0.2117517006802721, 0.3557436868686869, 0.20033882783882787, 0.4574907384282384, 0.3422619047619047, 0.22874999999999998, 0.7250000000000001, 0.2275, 0.3177083333333333, 0.1376068376068376, 0.2503571428571429, 0.20779637896825398, 0.26335978835978835, 0.37666666666666665, 0.6067857142857143, 0.47395833333333337, 0.3104166666666667, 0.2565476190476191, 0.3086111111111111, 0.28305555555555556, 0.1627973455942206, 0.23335227272727274, 0.29756944444444444, 0.4075, 0.12291666666666667, 0.38493939393939397, 0.2939444444444444, 0.40395833333333336, 0.16111567691518655, 0.22052484882842024, 0.31081196581196585, 0.32569444444444445, 0.41901823870573873, 0.20885416666666667, 0.24885064935064938, 0.3220703125, 0.40625, 0.38160416666666663, 0.012384259259259251, 0.4395238095238095, 0.2333333333333333, 0.5266666666666666, 0.2735, 0.30306437389770724, 0.24385606060606063, 0.17299603174603176, 0.14391098484848486, 0.11740837287712289, 0.3403815628815629, 0.36882480130099177, 0.36720238095238095, 0.31750000000000006, 0.4395833333333333, 0.485, 0.3988888888888889, 0.04450000000000001, 0.4705555555555556, 0.13255102040816327, -0.025000000000000022, 0.2619444444444444, 0.2900233667847304, 0.2985008818342152, 0.35416666666666663, 0.0, 0.2329045414462081, 0.2703535997732426, 0.2152457958707959, 0.5641666666666667, 0.3172013888888889, 0.2346875, 0.17839940297444945, 0.21192099567099568, 0.3024590092447235, 0.24604761904761904, 0.7375, 0.4990500000000001, 0.4502430555555556, 0.23391203703703697, 0.26416666666666666, 0.2932679581221248, 0.25375000000000003, 0.18333333333333332, 0.21458333333333335, 0.253314594356261, 0.21420811287477956, 0.4246761363636364, 0.5808771306818181, 0.4341666666666667, 0.27852884615384615, 0.10267857142857142, 0.42000000000000004, 0.14745535714285715, 0.2607129774986918, 0.0391626984126984, 0.4675774754346183, 0.42382936507936514, 0.3125, 0.46375000000000005, 0.2773319128787879, 0.38421717171717173, 0.6725, 0.346875, 0.14617024840239126, 0.3056610056610056, 0.6394847470238095, 0.3894223484848485, 0.31428571428571433, 0.6410714285714285, 0.2670610119047619, 0.38666666666666666, 0.4140304667040778, 0.2930555555555555, 0.2791666666666667, 0.44219708994708995, 0.10677083333333334, 0.1749349206349206, 0.3080555555555556, 0.1986111111111111, 0.5549999999999999, 0.3666666666666667, 0.13120163034619442, 0.35000000000000003, 0.525, 0.2319444444444444, 0.27603772306023855, 0.34625, 0.28016156462585035, 0.475, 0.4883333333333333, 0.29208333333333336, 0.1863888888888889, 0.19083333333333333, 0.17031513338953813, 0.32007575757575757, 0.1255324074074074, 0.37121031746031746, 0.4299107142857143, 0.2001736111111111, 0.566125, 0.33660317460317457, 0.22795758928571427, 0.17853168326382612, 0.2645234765234765, 0.15279982363315694, 0.2875, 0.30513532763532764, 0.31310185185185185, 0.20052083333333334, 0.3061499530167733, 0.7, 0.6, 0.6614285714285714, 0.44538690476190473, 0.47034722222222225, 0.42833333333333334, 0.40415013227513225, 0.3688463718820862, 0.0450892857142857, 0.37222222222222223, 0.06440476190476191, 0.23294238683127574, 0.05462962962962962, 0.2571888528138528, 0.36523809523809525, 0.4076884920634921, 0.32588293650793654, 0.32053571428571426, 0.22837301587301584, 0.40826407967032974, 0.5175, 0.3025, 0.36251217532467533, 0.25055555555555553, 0.44002752009894863, 0.5346651785714286, 0.3666666666666667, 0.21133658008658007, 0.3385714285714286, 0.4357435483663162, 0.5711111111111111, 0.27197512601358753, 0.3755555555555556, 0.2794196428571428, 0.19737180885636657, 0.4097112750014536, 0.18955026455026455, 0.2935802469135803, 0.16892857142857143, 0.17037037037037037, 0.4334256897203326, 0.405, 0.40686111111111106, 0.21802881275373395, 0.42777777777777776, 0.1529761904761905, 0.15634920634920635, 0.24249999999999997, 0.30625, 0.14654761904761904, 0.4861111111111111, 0.30764742202242207, 0.16099771825396825, 0.20060296846011133, 0.5273015873015873, 0.4271527777777777, 0.4666666666666666, 0.18411172161172165, 0.39313548752834465, 0.27362861811391226, 0.3511679292929293, 0.3890476190476191, 0.37809027777777776, 0.09000000000000001, 0.4245651455026455, 0.12272727272727273, 0.4261111111111111, 0.23008301803274112, 0.453125, 0.4368055555555556, 0.17361111111111113, 0.19352495822890559, 0.512020202020202, 0.1820345961908462, 0.14479166666666665, 0.3833333333333333, 0.3786111111111111, 0.46, 0.30073181592712844, 0.1577557319223986, 0.425, 0.16330357142857144, 0.5045034013605443, 0.1439814814814815, 0.42972966269841273, 0.4803571428571428, 0.31858353524369154, 0.24627916065416067, 0.3364814814814815, 0.3018801965230537, 0.19791666666666669, 0.1864484126984127, 0.2942029785168883, 0.3154374999999999, 0.5799404761904762, 0.10381944444444444, 0.4375, 0.6822048611111112, 0.5319444444444444, 0.09914772727272728, 0.32734375, 0.49416666666666675, 0.29166666666666663, 0.23680555555555557, 0.5968888888888888, 0.239525462962963, 0.19464285714285712, 0.41833333333333333, 0.39888888888888885, 0.6172222222222222, 0.26, 0.13810893901420215, 0.2322727272727273, 0.396875, 0.22514430014430012, 0.5866666666666666, 0.4566666666666667, 0.42500000000000004, 0.5473958333333333, 0.46319444444444446, 0.47770833333333335, 0.18055555555555555, 0.26336367880485523, 0.24174567816968384, 0.53, 0.4755555555555555, 0.3138888888888889, 0.16661458333333332, 0.21100274725274726, 0.4175, 0.19702380952380952, 0.19249999999999998, 0.4029166666666667, 0.5983333333333333, 0.18825757575757573, 0.45138888888888884, 0.5183928571428572, 0.26666666666666666, 0.3938888888888889, 0.20541666666666666, 0.3753769841269841, 0.3106580919080919, 0.27022930194805195, 0.10925843253968254, 0.43991344809208077, 0.14652648096275547, 0.2972517361111111, 0.2163944128787879, 0.26995343040797587, 0.15310639880952384, 0.08701092558235413, 0.5491666666666667, 0.46957671957671954, 0.22333333333333333, 0.22583586151188192, 0.5452083333333333, 0.1299537037037037, 0.41666666666666663, 0.3566724537037037, 0.3293662067099567, 0.17250694444444445, 0.003705357142857149, 0.5049470592680432, 0.36178571428571427, 0.2835860582558305, 0.3988095238095238, 0.24424558080808081, 0.36568750000000005, 0.025376984126984123, 0.2729124149659864, 0.14033560090702948, 0.3226190476190476, 0.2709360469777136, 0.22880952380952382, 0.15252794612794612, 0.11486607142857143, 0.3816666666666667, 0.3396216931216931, 0.41735714285714287, -0.020833333333333332, 0.3916666666666666, 0.3614583333333334, 0.2934895833333333, 0.4069166666666666, 0.21666666666666667, 0.3972222222222222, 0.1761326741440378, 0.20952380952380953, 0.44097222222222227, 0.33047960069444443, 0.07948468198468198, 0.3693333333333333, 0.3164965986394558, 0.4003968253968254, 0.31192838210620943, 0.21666666666666667, 0.21944444444444441, 0.154265873015873, 0.1499581128747795, 0.4042889030612245, 0.4768181818181818, 0.427, 0.5, 0.19124999999999998, 0.3435836385836386, 0.3257509157509158, 0.666261574074074, 0.5073863636363636, 0.15252976190476192, 0.2933928571428571, 0.24404761904761907, 0.1802777777777778, 0.2442104797484262, 0.2931806958473625, 0.4817857142857143, 0.47343749999999996, 0.6278765190972222, 0.6597402597402597, 0.5219444444444444, 0.4681122448979591, 0.13905438311688315, 0.10624999999999998, 0.28757976591309925, 0.4013737100004069, 0.1386391981034838, 0.4469444444444444, 0.3610166396103896, 0.4929722222222222, 0.685, 0.4833333333333334, 0.15004652972300034, 0.3185218253968254, 0.5709895833333334, 0.38510416666666675, 0.4325, 0.3423611111111111, -0.011263227513227524, 0.0886564166827325, 0.46184371184371187, 0.25863095238095235, 0.4913580246913581, 0.20288600288600286, 0.4974305555555555, 0.4333333333333333, 0.3109335839598998, 0.7000000000000001, 0.22591269841269843, 0.15844065656565653, 0.5308333333333333, 0.30061507936507936, 0.1458942982460655, 0.2669096866096866, 0.23441764178193758, 0.5020833333333333, 0.26825396825396824, 0.17091410903910906, 0.4, 0.2788690476190476, 0.1517760942760943, 0.35736309523809523, 0.5558531746031746, 0.2812229437229437, 0.6637150072150072, -0.05791666666666671, 0.2841269841269842, 0.19246031746031744, 0.2422222222222222, 0.6316666666666667, 0.35, 0.12312654320987655, 0.6, 0.30368303571428573, 0.2629761904761905, 0.1848116169544741, 0.3671741452991453, 0.41214967818629283, 0.47650462962962964, 0.43333333333333335, 0.1711111111111111, 0.2660218253968254, 0.34671428571428575, 0.285, 0.05769325912183054, 0.1436449400906295, 0.32081746031746033, 0.595, 0.3782638888888889, 0.3716071428571429, 0.21870551889233955, 0.17979297488226062, 0.20120125245125245, 0.2284311224489796, 0.5385912698412698, 0.4341269841269841, 0.20085034013605443, 0.17381180094415388, 0.4285714285714286, 0.18086805555555557, 0.20969356261022928, 0.5620833333333334, 0.14331977546263258, 0.24583333333333335, 0.3242777777777777, 0.23677580536346773, 0.39255952380952386, 0.1529761904761905, 0.5754718846450618, 0.7374999999999999, 0.30768872331372327, 0.5977777777777777, 0.23671343537414968, 0.7464285714285714, 0.35833333333333334, 0.44250000000000006, 0.43333333333333335, 0.39783549783549776, 0.413, 0.26563949938949943, 0.056398809523809525, 0.14916666666666667, 0.125, 0.1843181818181818, 0.3330357142857143, 0.16354166666666667, 0.26776960784313725, 0.2586590909090909, 0.503125, 0.297436846543624, 0.02557142857142858, 0.46979591836734697, 0.2472363400488401, 0.2128826530612245, 0.20111381673881676, 0.29527777777777775, 0.6183333333333334, 0.32314814814814813, 0.3335388321995465, 0.3026190476190476, 0.2508333333333333, 0.4309895833333333, 0.29561447811447805, 0.37461032196969696, 0.21113636363636365, 0.7188888888888888, 0.31018518518518523, 0.47431860269360276, 0.1581547619047619, 0.21646031746031746, 0.8342708333333334, 0.11703703703703704, 0.004464285714285698, 0.1602951388888889, 0.1588979341736695, 0.4608333333333334, 0.15215848965848966, 0.2033333333333333, 0.37200000000000005, 0.14319901571739807, 0.21657186948853618, 0.08124999999999999, 0.30190476190476195, 0.16665332546362494, 0.1483824211502783, 0.2596607905982906, 0.1427142857142857, 0.1851602564102564, 0.3919761904761905, 0.5916666666666666, 0.18, 0.4590833333333333, 0.19097222222222224, 0.27248484848484844, 0.12705555555555553, 0.6258333333333332, 0.3498299319727891, 0.4583333333333333, 0.6, 0.3264718614718615, 0.3365184583934584, 0.27363095238095236, 0.3029513888888889, 0.40605324074074084, 0.34523809523809523, 0.5625, 0.28196428571428567, 0.24805009920634916, 0.42566137566137563, 0.5107142857142857, 0.05720238095238095, 0.1291419631093544, 0.4873784722222223, 0.4166666666666667, 0.5170454545454546, 0.18005952380952378, 0.31957491582491576, 0.2671098901098901, 0.31645833333333334, 0.15545995670995674, 0.64, 0.3776785714285714, 0.4781904761904762, 0.15073784722222222, 0.2416666666666667, 0.4307094017094018, 0.3416666666666667, 0.43735449735449733, 0.375, 0.05530612244897959, 0.2643939393939394, 0.19148809523809524, 0.3362373737373738, 0.2624814814814815, 0.31182929421768707, 0.19666666666666666, 0.541170634920635, 0.3500000000000001, 0.10324255071851227, 0.2311111111111111, 0.45, 0.15944019274376417, 0.44375, 0.625, 0.37797619047619047, 0.10658730158730156, 0.28598214285714285, 0.25655243945868944, 0.15465277777777778, 0.49936459720834725, 0.2261991341991342, 0.5397395833333333, 0.16006424702090025, 0.196984126984127, 0.29864718614718616, 0.30625, 0.7388888888888889, 0.14553571428571427, 0.370625, 0.28465029761904764, 0.5784722222222223, 0.2786666666666667, 0.23208333333333336, 0.4596726190476191, 0.22080853174603174, 0.00663580246913581, 0.22630332341269843, 0.39489087301587306, 0.5522738095238094, 0.25805555555555554, 0.17517573696145125, 0.37, 0.48035714285714287, 0.30787037037037035, 0.528125, 0.054166666666666675, 0.3125, 0.37462962962962965, 0.2899047619047619, 0.3017857142857143, 0.2517857142857143, 0.17544444444444446, 0.42777777777777776, 0.32029012345679014, 0.5906529017857143, 0.2630952380952381, 0.43355555555555564, 0.31603937728937725, 0.5095238095238095, 0.08398268398268399, 0.08772182610417904, 0.4000000000000001, 0.5171458333333333, 0.10507936507936506, 0.25493055555555555, 0.19410375867518725, 0.009722222222222224, 0.4606666666666667, 0.438030303030303, 0.48651190476190476, 0.5745833333333334, 0.4619047619047619, 0.01583333333333331, 0.3580952380952381, 0.075, 0.3532738095238095, 0.08594093406593406, 0.29436285936285933, 0.2554848484848484, 0.16240079365079366, 0.2884920634920635, 0.37395833333333334, 0.493, 0.43875, 0.39255952380952386, 0.1720898977895413, 0.34195965608465606, 0.20045238095238097, 0.696, 0.4625, 0.41888888888888887, 0.335452380952381, 0.45536458333333335, 0.10561631944444441, 0.10200000000000002, 0.8025, 0.2140625, 0.19288600288600288, 0.2516203703703704, 0.15, 0.46704545454545454, 0.25999999999999995, 0.207423154446964, 0.21164894364894363, 0.5425, 0.34964285714285714, 0.3803571428571429, 0.459375, 0.38707482993197284, 0.23917446750780086, 0.19201190476190477, 0.10442599786126569, 0.3223888888888889, 0.36737998900808927, 0.21869949494949492, 0.2324776785714286, 0.5241477272727273, 0.2279899691358025, 0.394047619047619, 0.27641847363945576, 0.3335578703703703, 0.31935692195231674, 0.20677477614977618, 0.27003472222222225, 0.5177678571428572, 0.46285714285714286, 0.3986304873511905, -0.045833333333333344, 0.565579365079365, 0.17563591269841272, 0.3017361111111111, 0.26750496031746035, 0.43875000000000003, 0.19844742063492066, 0.43293333333333334, 0.15468749999999998, 0.18833333333333332, 0.2556335034013605, 0.2828656084656085, 0.01157407407407407, 0.46166666666666667, 0.3575, 0.2263425925925926, -0.028749999999999984, 0.28125, 0.525, 0.4666666666666666, 0.2066653591916839, 0.5874999999999999, 0.2883387445887446, 0.540753732048375, 0.39055102040816325, 0.23089285714285718, 0.6833333333333333, 0.2158203125, 0.1351739618406285, 0.249347617252029, 0.21407935236060235, 0.2316550925925926, 0.19548363095238094, 0.24109940984940986, 0.25833333333333336, 0.19683352758352757, 0.44511111111111107, 0.18488636363636365, 0.24605639730639733, 0.48244047619047614, 0.38215238095238097, 0.1268253968253968, 0.139375, 0.2489285714285714, 0.49215909996811225, 0.2010993867243867, 0.38761904761904764, 0.15338899911816578, 0.16087772181522184, 0.4784722222222222, 0.40619474275724277, 0.15600790775247297, 0.1881324404761905, 0.46071428571428574, 0.6277777777777778, 0.4666666666666667, 0.39773242630385486, 0.17704411139455783, 0.08110817166372723, 0.23268849206349207, 0.3356410256410256, 0.13086580086580085, 0.20797173746392494, 0.14500000000000002, 0.3391203703703704, 0.4708333333333333, 0.2947587977498692, 0.2255263772175537, 0.3812693688586546, 0.4285416666666667, 0.13984126984126985, 0.45499999999999996, 0.3929292929292929, 0.36709898230424554, 0.4797619047619047, 0.185, 0.3418019480519481, 0.24699776785714284, 0.4439761904761905, 0.33601562500000004, 0.1939342403628118, 0.5062500000000001, 0.29048241341991343, 0.1611706349206349, 0.41892857142857143, 0.23124783549783548, 0.22849025974025972, 0.43106060606060603, 0.3633214285714285, 0.3574594155844156, 0.3829506802721089, 0.12238636363636361, 0.2620659722222222, 0.4333333333333333, 0.27079790249433106, 0.15559027777777779, 0.0, 0.18154761904761904, 0.2755952380952381, 0.12839032475520482, 0.2460985419808949, 0.313, 0.22286255411255412, 0.1954439796314796, 0.4116071428571429, 0.20549431818181818, 0.23645833333333335, 0.4465131662169, 0.035320004070004095, 0.42500000000000004, 0.40843915343915344, 0.34930555555555554, 0.21190365961199295, 0.14083333333333334, 0.5394345238095238, 0.42388888888888887, 0.11944444444444444, 0.313234126984127, 0.225, 0.32102380952380954, 0.41879629629629633, 0.016666666666666656, 0.15321022727272732, 0.17946428571428572, 0.3992857142857143, 0.5119791666666667, 0.4625, 0.6754687500000001, 0.4125, 0.13925, 0.32122767857142853, 0.14375000000000002, 0.49282812500000006, 0.10432539682539684, 0.23559303350970018, 0.33836805555555555, 0.17162851037851037, 0.3845238095238095, 0.2587225274725275, 0.29113636363636364, 0.19436986840895193, 0.3213075396825397, 0.25535714285714284, 0.17022222222222225, 0.3834063852813853, 0.5833333333333334, 0.6062103174603175, 0.11122508278758278, 0.218415607404578, 0.3198943615907902, 0.2665866540866541, 0.24210113960113958, 0.32875000000000004, 0.08999313186813185, 0.54375, 0.5966666666666667, 0.38547438672438666, 0.17217048836580084, 0.1404761904761905, 0.49696969696969695, 0.19257679455047874, 0.20460393772893773, 0.23120370370370372, 0.2878130511463845, 0.17594217608849716, 0.23313492063492067, 0.36348544973544966, 0.06964285714285713, 0.13502184139784948, 0.23461202938475667, 0.3177083333333333, 0.5142857142857142, 0.6434444444444445, 0.44861111111111107, 0.2677777777777778, 0.2546875, 0.19424221611721612, 0.2315623475092401, 0.2827116402116402, 0.26409027777777777, 0.65625, 0.24426905505659563, 0.16583333333333333, 0.15638888888888888, 0.26797472075249856, 0.20572916666666669, 0.6005050505050505, 0.60625, 0.23151708227669765, 0.21055555555555555, -0.0744047619047619, 0.2504910714285714, 0.3541666666666667, 0.40224206349206354, 0.2497916666666667, 0.26880952380952383, 0.5747222222222222, 0.35708333333333336, -0.02013888888888888, 0.5124553571428572, 0.375, 0.1918154761904762, 0.4953333333333334, 0.2246476616817526, 0.26263888888888887, 0.34582721167170566, 0.19870370370370372, 0.22048196984421473, 0.35000000000000003, 0.25, 0.2678174603174603, 0.23827380952380955, 0.4259444444444444, 0.36268077601410936, 0.38125, 0.4005912698412698, 0.548, 0.2875, 0.39999999999999997, 0.23858569382006883, 0.27976190476190477, 0.48270833333333335, 0.38256172839506175, 0.2426967592592593, 0.08124999999999999, 0.4529166666666667, 0.3797321428571429, 0.32452380952380955, 0.1917559523809524, 0.3577777777777778, 0.42235978835978844, 0.49666666666666665, 0.3833333333333333, 0.2833333333333333, 0.16850198412698414, 0.1792077228327228, 0.03958333333333333, 0.31010989010989015, 0.385125, 0.10083333333333333, 0.25555555555555554, 0.11226204351204351, 0.22013888888888888, 0.233, 0.4932916666666667, 0.4607419217687075, 0.2745423280423281, 0.645, 0.3763095238095238, 0.33976190476190476, 0.30666666666666664, 0.6483333333333333, 0.31496031746031744, 0.38166666666666665, 0.06964285714285715, 0.23424823633156966, 0.11865079365079366, 0.5404166666666667, 0.2266474358974359, 0.27996031746031746, 0.3583786324786325, 0.07184640522875817, 0.28620370370370374, 0.1830274470899471, 0.22436666666666666, 0.14209199700594627, -0.005909391534391538, 0.34436507936507943, 0.3685779914529915, 0.4860416666666667, 0.2340277777777778, 0.19061126373626375, 0.19847222222222222, 0.18541666666666667, 0.4679220779220779, 0.17318452380952382, 0.275, 0.06696428571428571, 0.30437905844155844, 0.475, 0.3709821428571428, 0.44020833333333337, 0.4359854282622139, 0.20033453525641023, 0.04031452087007644, 0.24372874149659865, 0.26956229581229585, 0.1866013071895425, 0.20275676263771503, 0.3710069444444445, 0.37083333333333335, 0.44943452380952376, 0.20641908198638964, 0.3319212962962963, 0.37197742733457023, 0.3842171717171717, 0.5027777777777779, 0.42194444444444446, 0.5721666666666667, 0.09461805555555555, 0.10419146825396824, 0.18718253968253967, 0.4903132891414141, 0.13401785714285713, 0.35975942460317467, 0.3950396825396825, -0.024999999999999994, 0.3400119047619048, 0.26180555555555557, 0.23128747795414462, 0.3492435897435897, 0.40549404761904767, 0.302323717948718, 0.19407987012987013, 0.2989958900226757, 0.2905357142857143, 0.21285353535353535, 0.28363690476190473, 0.3270833333333334, 0.6403333333333333, 0.5555555555555555, 0.3186607142857143, 0.33204545454545453, 0.3277777777777778, 0.4404166666666667, 0.19969076479076478, 0.4038888888888889, 0.3078703703703704, 0.30364583333333334, 0.3511851851851852, 0.6520833333333333, 0.23670816814023338, 0.45724489795918366, 0.4103333333333333, 0.21250000000000002, 0.3625, 0.19328123784235918, 0.4926041666666667, 0.16999999999999998, 0.5625, 0.08119047619047619, 0.27832671957671956, 0.3096598424723425, 0.12044871794871795, 0.20694588681309103, 0.581111111111111, 0.35773148148148143, 0.35583333333333333, 0.48895833333333333, 0.18257972582972584, 0.2718253968253968, 0.40375, 0.6477777777777778, 0.19972222222222222, 0.39916666666666667, 0.20357142857142857, 0.2828102453102453, 0.31673076923076926, 0.13761487050960733, 0.1857142857142857, 0.3217573696145125, 0.23268939393939395, 0.5391666666666666, 0.4485185185185185, 0.36, 0.2103000992063492, 0.3736111111111111, 0.455625, 0.31596266901822456, 0.17669185906685908, 0.34929523809523805, 0.20426112467779137, 0.20090228174603175, 0.31916666666666665, 0.2772252747252747, 0.15436011904761904, 0.27316795183982684, 0.575, 0.23134302503052498, 0.2650396825396825, -0.012500000000000025, 1.0, 0.12320436507936508, 0.37700617283950616, 0.3773962053571429, 0.11693452380952381, 0.33934895833333334, 0.41041666666666665, 0.30107142857142855, 0.21757215007215006, 0.16048601398601398, 0.35205026455026456, 0.3728392857142857, 0.1491170634920635, 0.13518518518518516, 0.30483333333333335, 0.35777529761904764, 0.15687500000000001, 0.38260416666666663, 0.2786666666666667, 0.4664649001172439, 0.5312456597222223, 0.49750000000000005, 0.595, 0.389375, 0.20046130952380953, 0.49375, 0.554, 0.5739880952380952, 0.3625, 0.4040277777777778, 0.42537878787878786, 0.5227083333333333, 0.4583333333333333, 0.3360515873015873, 0.20870535714285712, 0.58, 0.39799206349206356, 0.4116666666666667, 0.18333333333333335, 0.343841952690167, 0.29553587962962957, 0.22436507936507938, 0.38015873015873014, 0.2388510101010101, 0.3625, 0.31027529761904765, 0.5674999999999999, 0.1658266697588126, 0.7125, 0.5174603174603174, 0.2622762648809524, 0.3238095238095238, 0.3797209821428571, 0.3173809523809524, 0.18333333333333335, 0.3762220982142857, 0.4250578703703703, 0.20363527676027676, 0.20736598792154348, 0.1358482142857143, 0.34417100694444447, 0.1280208333333333, 0.3184722222222222, 0.23020833333333332, 0.2796149646943298, 0.1696682946682947, 0.15181878306878305, 0.445077380952381, 0.2727753727753728, 0.3532291666666667, 0.4107142857142857, 0.24657738095238094, 0.21959821428571424, 0.36904761904761907, 0.236156462585034, 0.4034907407407407, 0.33121693121693124, 0.2111111111111111, 0.31611607142857145, 0.49976190476190485, 0.35111607142857143, 0.27189480110532743, 0.12877777777777777, 0.2729796358665844, -0.08652777777777779, 0.3521875, 0.3194444444444445, 0.1855241402116402, 0.30887648809523804, 0.3838809523809523, 0.3228794642857143, 0.3692984693877551, 0.40811287477954145, 0.527482993197279, 0.21688836416109147, 0.21333333333333332, 0.16008730158730156, 0.34197775263951735, 0.33815609737484736, 0.32785714285714285, 0.4548469387755103, 0.3291517857142857, 0.31389770723104055, 0.6166666666666667, 0.41327851386928766, 0.14815934065934067, 0.4008333333333334, 0.29871031746031745, 0.38669969512195124, 0.2801162494912495, 0.05499999999999999, 0.3793518518518519, 0.32166666666666666, 0.4464722222222222, 0.3615419501133787, 0.46177890011223344, -0.25000000000000006, 0.1341517857142857, 0.6333333333333333, 0.6083333333333333, 0.052678571428571436, 0.185933411826269, 0.5111111111111111, 0.5232568027210884, 0.527, 0.171983024691358, 0.2041337481962482, -0.042205215419501126, 0.14943310657596373, 0.2933680555555555, 0.46875, 0.5462142857142858, 0.3310208333333333, 0.5916666666666667, 0.08061111111111112, 0.30311639749139746, 0.14966517857142855, 0.40875, 0.2916971371882086, 0.10394444444444444, 0.6922222222222221, 0.24970238095238095, 0.6900000000000001, 0.4123095238095238, 0.18700396825396826, 0.4443452380952381, 0.1682079081632653, 0.30255952380952383, 0.16171190675266764, 0.1398148148148148, 0.4578888888888889, 0.69375, 0.27601313713891357, 0.396484375, 0.1439767573696145, 0.4890063904349619, 0.1513555445326279, 0.23182314213564212, 0.2020833333333333, 0.1262324929971989, 0.4704614504419192, 0.2387194055944056, 0.23669902319902322, 0.18230820105820109, 0.4375, 0.3491220238095238, 0.2650180375180375, 0.175, 0.35297817460317465, 0.36875, 0.34030303030303033, 0.33730158730158727, 0.15, 0.23108465608465611, 0.4339583333333334, 0.42625, 0.27244444444444443, 0.6016666666666667, 0.4411234301412873, 0.5916666666666667, 0.6925, 0.3114606227106227, 0.43607142857142855, 0.26998206731540064, 0.13124542124542127, 0.2766919191919192, 0.40246031746031746, 0.2958482142857143, 0.5702919813368055, 0.42791666666666667, 0.3426190476190476, 0.4033333333333333, 0.18884083922030354, 0.24375, 0.16739771666242254, 0.21153795202291445, 0.14910714285714288, 0.4885416666666667, 0.21302083333333338, 0.5083333333333333, 0.2879220779220779, 0.35938492063492067, 0.3666666666666667, 0.2896081349206349, 0.3097278911564626, 0.08802761061689635, 0.13061933106575963, 0.6428571428571428, 0.32586805555555554, 0.16666666666666666, 0.3354166666666667, 0.22258493455861875, 0.31676587301587306, 0.15217213074990854, 0.3206886574074074, 0.005833333333333329, 0.3680357142857143, 0.3077916666666667, 0.42414772727272726, 0.49149999999999994, 0.3291666666666666, 0.34190476190476193, 0.375, 0.3396428571428572, 0.32375, 0.18340683621933626, 0.19011755189255186, 0.48583333333333334, 0.24583333333333335, 0.661875, 0.2711309523809524, 0.42083333333333334, 0.15000000000000002, 0.2149630230880231, 0.16350274725274724, 0.6708333333333334, 0.2532738095238095, 0.3516666666666667, 0.2916666666666667, 0.3592757936507937, 0.3569444444444444, 0.021626984126984123, 0.13730982253041077, 0.34500000000000003, 0.1340909090909091, 0.3152980642043142, 0.14266098484848486, 0.27199404761904766, 0.1581060606060606, 0.0, 0.2834027777777778, 0.09893691130298271, 0.15760425993759328, 0.3187083333333333, 0.43657407407407406, 0.355, 0.1958333333333333, 0.32984375, 0.37866300366300365, 0.42, 0.22208333333333335, 0.08560606060606062, 0.13779761904761906, 0.3193877551020408, 0.36073606601731606, 0.36, 0.5291666666666667, 0.29355158730158726, 0.005555555555555554, 0.5404799367299368, 0.47222222222222227, 0.3583333333333334, 0.49730056980056986, 0.22292032967032968, 0.28993197278911564, 0.10068783068783067, 0.22452380952380951, 0.6318333333333332, 0.4407275132275132, 0.12701785714285715, 0.2986979166666667, 0.3, 0.45152777777777775, 0.43277777777777776, 0.35184249084249086, 0.38916666666666666, 0.3373798076923077, 0.19803571428571426, 0.2500496031746032, 0.24600694444444443, 0.5729166666666667, 0.11745911826268969, 0.1935019841269841, 0.500515873015873, 0.18255055437184348, 0.30374999999999996, 0.3583333333333334, -0.096875, 0.5171428571428571, 0.074073782942204, 0.18047839506172839, 0.31420763760049475, 0.324, 0.15069444444444444, 0.30673469387755103, 0.37530303030303025, 0.16984481292517006, 0.3466666666666666, 0.22999999999999998, 0.40854166666666664, 0.4328108465608466, 0.4370476190476191, 0.2586111111111111, 0.566170634920635, 0.28694223985890654, 0.3104166666666667, 0.6, 0.537881324404762, 0.6187499999999999, 0.36904761904761907, 0.273030303030303, 0.29030257936507936, 0.508095238095238, 0.24000000000000005, 0.19132829554704553, 0.34375, 0.4158564814814815, 0.22166666666666668, 0.30520833333333336, 0.44119047619047624, 0.12335317460317463, 0.1761458333333333, 0.1702297364951898, 0.5082433862433863, 0.3130208333333333, 0.37165178571428575, 0.09583333333333333, 0.2925107709750567, 0.15419669913419912, 0.5703703703703703, 0.1678931523205172, 0.49988247863247864, 0.3626363636363636, 0.3535912698412698, 0.10194805194805194, 0.191, 0.26999999999999996, 0.35666666666666663, 0.3780478395061729, 0.35208333333333336, 0.5104166666666666, 0.3833333333333333, 0.38666666666666666, 0.2744747539167182, 0.31805555555555554, 0.1741096866096866, 0.5316666666666667, 0.4991666666666667, 0.486468962585034, 0.39255102040816325, 0.20544306184012068, 0.4469322344322344, 0.20495453042328043, 0.1618054533186112, 0.12311688311688312, 0.40427380952380954, 0.3133333333333333, 0.25208829365079366, 0.5554398148148149, 0.31141439909297053, 0.3405555555555555, 0.2036309523809524, 0.2634722222222222, 0.049999999999999996, 0.5258974358974359, 0.2698809523809524, 0.08250000000000002, 0.4735, 0.5016666666666667, 0.24913015873015873, 0.4033333333333333, 0.30760091145833335, 0.5964615862667235, 0.2533895502645503, 0.2175925925925926, 0.25625000000000003, 0.2244060932453789, 0.45833333333333326, 0.40208333333333335, 0.13752714646464648, 0.3775462962962963, 0.1667991970826792, 0.225135582010582, 0.3906344696969697, 0.2788888888888889, 0.20239583333333333, 0.4792410714285715, 0.1295746584933375, 0.48750000000000004, 0.35000000000000003, 0.85, 0.445, 0.10232796964939822, 0.23494588744588749, 0.2583333333333333, 0.27990636778680256, 0.3458333333333333, 0.19794879062736204, 0.22779017857142855, 0.6015357142857143, 0.4341666666666666, 0.6750000000000002, 0.23283289241622582, 0.6277866861030127, 0.41214285714285714, 0.4038417658730159, 0.41666666666666663, 0.1085714285714286, 0.26733333333333337, 0.20476190476190476, 0.30000000000000004, 0.24312499999999998, 0.4922284226190476, 0.2406950456950457, 0.3297115800865801, 0.13229166666666667, 0.3298772675736962, 0.27675595238095235, 0.16856153786300845, 0.16006944444444443, 0.3833333333333333, 0.44906250000000003, 0.4466666666666667, 0.3840714285714285, 0.49738888888888894, 0.4820833333333333, 0.3392795349019839, 0.33062499999999995, 0.2104166666666667, 0.4889793010673137, 0.18495963912630578, 0.275, 0.45458333333333334, 0.046473214285714284, 0.4628814935064935, 0.21625, 0.2011616376348519, 0.5520833333333334, 0.7333333333333334, 0.26816468253968256, 0.38697916666666665, 0.46406250000000004, 0.32347222222222216, 0.3670535714285714, 0.4435416666666666, 0.17089285714285715, 0.31086309523809524, 0.24786268939393938, 0.08634502752149809, 0.6096296296296296, 0.34975, 0.4464171245421245, 0.15013708513708515, 0.4052777777777778, 0.7, 0.4911111111111111, 0.24764309764309764, 0.33785714285714286, 0.25916666666666666, 0.3232142857142857, 0.09756578947368419, 0.6467857142857143, 0.31875, 0.23675000000000004, 0.30223765432098765, 0.5687872023809524, 0.27207341269841273, 0.2698214285714286, 0.5133333333333333, 0.08834378391670059, 0.26634542705971276, 0.038500000000000006, 0.4004166666666667, 0.12063492063492062, 0.497125, 0.31127777777777776, 0.293437322845805, 0.23489583333333333, 0.46250930059523804, 0.20049908685064938, 0.1532785336356765, 0.31416666666666665, 0.2326376488095238, 0.35343749999999996, 0.3986111111111111, 0.17450000000000002, 0.3783333333333333, 0.15580769989155085, 0.23499999999999996, 0.28898391988669764, 0.3395220734126984, 0.2667809174952032, 0.4344444444444445, 0.2120238095238095, 0.5727083333333334, 0.15000000000000002, 0.578125, 0.22972222222222224, 0.48850649350649356, 0.40106060606060606, 0.3627777777777778, 0.3160351518736612, 0.2819047619047619, 0.16545291514041519, 0.2056666666666667, 0.29510416666666667, 0.23607142857142857, 0.28943265068265067, 0.7250000000000001, 0.41111111111111115, 0.39525545634920634, 0.3167938311688312, 0.15771604938271602, 0.2999285714285715, 0.06616409632034634, 0.2814674648268398, 0.3784722222222222, 0.18616522366522367, 0.64525, 0.40134910024615905, 0.2024003461033536, 0.20807627428931777, 0.2230952380952381, 0.24662494912494912, 0.39375000000000004, 0.38196106472892183, 0.4008333333333333, 0.11575753421276441, 0.2413425099206349, 0.15527777777777776, 0.5096666666666666, 0.34172619047619046, 0.2972205687830688, 0.07321428571428568, 0.6096428571428572, 0.5130208333333333, 0.2151121794871795, 0.5666666666666667, 0.3515863095238096, 0.07479166666666666, 0.24637445887445888, 0.3334285714285714, 0.19666666666666666, 0.23850108225108224, 0.28267045454545453, 0.3076666666666667, 0.44509476273148146, 0.34574074074074074, 0.4797619047619047, 0.25892857142857145, 0.5541666666666667, 0.39232323232323224, 0.5375, 0.31160714285714286, 0.31805555555555554, 0.2582440476190476, 0.3504464285714286, 0.6225, 0.4623469387755102, 0.3336877289377289, 0.41733333333333333, 0.12053918650793652, 0.13859375, 0.35520833333333335, 0.3332777777777778, 0.17495265151515152, 0.31, 0.37891774891774893, 0.4017767857142857, 0.41626190476190483, 0.13410218253968254, 0.5358333333333334, 0.4149479166666667, 0.36911458333333336, 0.1785576923076923, 0.42472222222222217, 0.2109775641025641, 0.5398833333333333, 0.7, 0.35, 0.24020318223443224, 0.27588673832180327, 0.5770833333333334, 0.10574404761904761, 0.23272108843537417, 0.40499999999999997, 0.09120370370370372, 0.30222222222222217, 0.22270304803540242, 0.16203703703703706, 0.2546875, 0.23285710841049387, 0.06593915343915342, 0.325, 0.016666666666666677, 0.23459821428571428, 0.30833333333333335, 0.3547619047619048, 0.33384848484848484, 0.32064732142857144, 0.13990578865578868, 0.454484126984127, 0.23798374905517763, 0.1216504329004329, 0.3453858024691358, 0.40832407407407406, 0.25171875, 0.275, 0.2701226551226551, 0.27057549221611726, 0.316601713762428, 0.14709755688663875, 0.4777777777777778, 0.30972222222222223, 0.2922222222222222, -0.056770833333333326, 0.18125944822373397, 0.45624999999999993, 0.5375, 0.24446428571428575, 0.18333333333333332, 0.4559490526834277, 0.19133283995513692, 0.14517006802721089, 0.5425, 0.35797725340136055, 0.6499999999999999, 0.7, 0.06354166666666666, 0.24083533750200414, 0.12316220238095238, 0.4536458333333333, 0.2589977199671077, 0.17711998456790126, 0.4521954174297925, 0.325, 0.2258333333333333, 0.2245365418775506, 0.43577706349206347, 0.08284970238095239, -0.05625000000000001, 0.30429012345679013, 0.5, 0.2852281746031746, 0.24979967948717946, 0.20844444444444446, 0.2888888888888889, 0.24965060763888888, 0.4336904761904761, 0.19595238095238093, 0.2596607142857143, 0.25432539682539684, 0.26262838468720817, 0.25954427516927514, 0.4502380952380952, 0.5235229276895943, 0.2762962962962963, 0.022458791208791205, 0.28208333333333335, 0.5650000000000001, 0.11362949907235623, 0.2833333333333333, 0.47666666666666657, 0.5125, 0.31875, 0.5083333333333333, 0.26144143554857835, 0.329, 0.3299305555555555, 0.4625, 0.32142857142857145, 0.3833333333333333, 0.4683333333333333, 0.2916666666666667, 0.32749999999999996, 0.3735185185185185, 0.38669047619047614, 0.24163690476190475, 0.3233643990929705, 0.28106190476190474, 0.3611111111111111, 0.5302949134199134, -0.003156887755102032, 0.2811507936507936, 0.5645833333333333, 0.10957410053885713, 0.07644112060778725, 0.3601666666666667, 0.2995448179271708, 0.07572636853886854, 0.30185185185185187, 0.50625, 0.12248677248677248, 0.38030663780663776, 0.4054036458333333, 0.27599999999999997, 0.4096229186118892, 0.2875, 0.1765625, 0.27025396825396825, 0.35714285714285715, 0.10631519274376416, 0.3958482142857142, 0.6442976190476191, 0.47187499999999993, 0.25375000000000003, 0.4395833333333333, 0.26709145769744846, 0.21098157051282054, 0.4253571428571429, 0.16898148148148148, 0.31587782587782587, 0.615, 0.5094345238095238, 0.21517857142857144, 0.35349206349206347, 0.48827777777777787, 0.3483723958333333, 0.28202302021567777, 0.19404761904761905, 0.11686578798185943, 0.2316770729270729, 0.16964325412242082, 0.20655555555555558, 0.040934523809523816, 0.33184343434343433, 0.14933035714285714, 0.34494047619047624, 0.49375, 0.08586309523809521, 0.044915674603174596, 0.37837372448979595, 0.4766666666666667, 0.41616666666666663, 0.3529265873015873, 0.42566666666666675, 0.3035714285714286, 0.4, 0.25474537037037037, 0.3957792207792208, 0.4179991883116883, 0.5838068181818182, 0.3916666666666666, 0.29339991605616605, 0.42626262626262634, 0.3215145502645503, 0.40468750000000003, 0.019603174603174598, 0.3213321995464853, 0.4124028922466423, 0.39258967169569847, 0.3942123015873016, 0.21223214285714287, 0.5892857142857143, 0.17616815476190473, 0.3737179487179487, 0.17388488247863249, 0.0, 0.42338095238095236, 0.30798611111111107, 0.503030303030303, 0.6333333333333333, 0.21071428571428574, 0.22563082385450808, 0.46475, 0.19930777555777557, 0.6788888888888889, 0.35113662131519274, 0.4633333333333333, 0.34672619047619047, 0.2549316578483245, 0.4708333333333333, 0.07152777777777777, 0.33771825396825395, 0.06357142857142856, 0.07777777777777778, 0.16237774725274723, 0.0876918536009445, 0.600952380952381, 0.3890625, 0.3642526455026455, 0.08625000000000002, 0.32031250000000006, 0.14118686868686867, 0.4015873015873016, 0.2866666666666667, 0.5162698412698412, 0.23903120409301523, 0.068125, 0.1736235119047619, 0.28256448412698415, 0.3818990384615385, 0.4416666666666667, 0.5115625, 0.28609693877551023, 0.46556277056277057, 0.45833333333333337, 0.1650651927437642, 0.32555555555555554, 0.16315934065934065, 0.4970833333333334, 0.831111111111111, 0.08101851851851853, 0.20197228891556623, 0.36187500000000006, 0.26246811224489797, 0.5321428571428571, 0.42708333333333337, 0.3976190476190476, 0.07222222222222223, 0.31601190476190477, 0.12083333333333336, 0.3313234126984127, 0.17626861884689207, 0.4125, 0.23894444444444443, 0.19434525543900544, 0.5218750000000001, 0.4648834792439702, 0.16562728937728938, 0.35257936507936505, 0.1955830964864578, 0.6, 0.10833333333333335, 0.465, 0.08499999999999999, 0.25558333333333333, 0.3265476190476191, 0.20302083333333332, 0.4666269841269841, 0.2403846153846154, 0.3316552197802197, 0.519375, 0.2838125, 0.4247916666666667, 0.18734257567260962, 0.18775144608477942, 0.28572438672438677, 0.2807011217948718, -0.060937500000000006, 0.5466666666666666, 0.3995164835164834, 0.22331349206349205, 0.6959613532913165, 0.25277777777777777, 0.3683333333333333, 0.24050925925925928, 0.2928333333333333, 0.38166666666666665, 0.4458333333333333, 0.10900919627110105, 0.19913386657434273, 0.5358630952380952, 0.21958333333333332, 0.3861309523809524, 0.49047979797979796, 0.12324404761904761, 0.324484126984127, 0.3711561673280423, 0.2591382575757576, 0.1757936507936508, 0.2929639804639805, 0.45, 0.17389870931537602, 0.38923611111111117, 0.17011660561660563, 0.5875, 0.3556818181818182, 0.21609397546897546, 0.5658333333333334, 0.07724358974358972, 0.26674623113512, 0.30815476190476193, 0.41666666666666663, 0.24250000000000002, 0.14666666666666667, 0.2145833333333334, 0.5376388888888888, 0.5833333333333333, 0.5452261904761905, 0.37187499999999996, 0.4699349647266314, 0.215625, 0.675, 0.18385416666666668, 0.18947195767195765, 0.41352380952380957, 0.2525, 0.0319047619047619, 0.4041666666666667, 0.1359983766233766, 0.17772449772449772, 0.698828125, 0.22055059523809525, 0.3476666666666667, 0.1092013888888889, 0.37389156298247206, 0.26974588744588746, 0.18888888888888888, 0.25929232804232805, 0.39444444444444454, 0.30140861742424246, 0.1407886109583601, 0.31461688311688313, 0.4666418650793651, 0.34950000000000003, 0.365, 0.22165704665704666, 0.08247767857142857, 0.19233276643990926, 0.3128492063492063, 0.3072407407407407, 0.325, 0.2126454274891775, 0.2768055555555556, 0.24063131313131314, 0.42895833333333333, 0.4025974025974026, 0.21875, 0.32698412698412693, 0.44249999999999995, 0.43004464285714283, 0.2669561688311688, 0.17769451530612246, 0.4133210578002245, 0.13874185074185075, 0.32076719576719576, 0.28830795454545455, 0.3324421296296296, 0.2284090909090909, 0.21020833333333339, 0.16085790753784474, 0.029960317460317454, 0.22916666666666663, 0.13776094884647516, 0.6225, 0.25965288679574394, 0.3065277777777778, 0.1614795918367347, 0.11038764266036995, 0.4222916666666667, 0.219208664021164, 0.27051587301587304, 0.24535714285714286, 0.30597222222222226, 0.38095238095238093, 0.1878422619047619, 0.22025474091880343, 0.5392261904761906, 0.35833333333333334, 0.5099116161616162, 0.1392207792207792, 0.23363980463980463, -0.07595238095238094, 0.32047619047619047, 0.5092063492063492, 0.598828125, 0.2961464102686529, 0.14920517676767675, 0.66359375, 0.3052083333333333, 0.23416666666666666, 0.4620833333333333, 0.24944083694083694, 0.39999999999999997, 0.4221984126984127, 0.20616491584102312, 0.28368833943833943, 0.1748511904761905, 0.335, 0.383234126984127, 0.28, 0.23730158730158732, 0.17090630269201698, 0.1512216553287982, 0.45646572012643444, 0.04300677001569856, 0.4530486111111111, 0.11443158331830207, 0.47522222222222227, 0.21238789682539683, 0.4701235431235431, 0.09789417989417991, 0.2998744151810922, 0.21675444925444923, 0.18024691358024691, 0.2589186507936508, 0.2671825396825397, 0.2750805246340961, 0.38112500000000005, 0.6061154513888889, 0.038938492063492064, 0.28750000000000003, 0.575, 0.4638392857142857, 0.5875, 0.2802441431117902, 0.4857465277777777, 0.2938129578754579, 0.27241760198490966, 0.2698106833642548, 0.23631701631701635, 0.31142045454545453, 0.19245713878985937, 0.3838333333333333, 0.383654185320852, 0.29873015873015873, 0.6006944444444444, 0.1482142857142857, 0.6111111111111112, 0.15829670329670328, 0.5691666666666666, 0.43102380952380953, 0.06184615384615385, 0.31457352171637887, 0.4875, 0.33751517772351103, 0.47022902494331065, 0.625, 0.2596354166666666, 0.23277380952380952, 0.3710503472222222, 0.43265625, 0.36046626984126984, 0.42324263038548754, 0.15220238095238098, 0.22440759916721456, -0.08499999999999996, 0.1777186588921283, 0.3575851521164021, 0.16891723356009072, -0.08333333333333333, 0.06806036656580135, 0.5514583333333333, 0.26868844952361437, 0.1582702482702483, 0.4080332479312071, 0.3791973544973545, 0.5244444444444444, 0.29630230880230884, 0.07886904761904762, 0.04027777777777778, 0.36875, 0.21716269841269842, 0.3015746753246753, 0.5829166666666667, 0.3808333333333333, 0.1341723877973878, 0.2905122481684982, 0.3458333333333333, 0.05625, 0.4398809523809524, 0.16686507936507936, 0.19831349206349208, 0.49078231292517005, 0.4030555555555555, 0.22354166666666667, 0.2671428571428571, 0.022448979591836726, 0.4304545454545455, -0.10624999999999997, 0.3061170238926415, 0.5123095238095238, 0.2051817365835223, 0.4453888888888889, 0.49000000000000005, 0.2134077380952381, 0.09817069504569503, 0.32791666666666663, 0.281487493987494, 0.23909762032838958, 0.6525000000000001, 0.27840151204159824, 0.30784545631136545, 0.39166666666666666, 0.31494897959183676, 0.3342803030303031, 0.38150297619047624, 0.4902444444444445, 0.2896494708994709, 0.17944444444444443, 0.25809126984126984, 0.6138392857142857, 0.18359638047138047, 0.5862499999999999, 0.34270833333333334, 0.6336363636363637, 0.1952380952380952, 0.16026584526584528, 0.1903382034632035, 0.19865079365079363, 0.34909226190476195, 0.29472870879120877, -0.23333333333333334, 0.25, 0.20142839964268539, 0.521, 0.2974537037037037, 0.48583333333333334, 0.45617857142857143, 0.11297619047619047, 0.5481944444444444, 0.245, 0.31821428571428567, 0.28472222222222227, 0.48917824074074073, 0.18303635342532046, 0.049181547619047625, 0.45416666666666666, 0.6708333333333334, 0.15746336996336996, 0.5438095238095239, 0.24952614379084967, 0.14236111111111113, 0.309, 0.6125, 0.16107407407407406, 0.3156481481481481, 0.6002604166666666, 0.050855654761904776, 0.09186452762923353, 0.09841269841269841, 0.0, 0.34055555555555556, 0.17416396103896103, 0.3547619047619047, 0.11603163992869873, 0.23158135981665393, 0.3333333333333333, 0.26447610294117646, 0.37222222222222223, 0.525, 0.3755685036414203, 0.0819139194139194, 0.22133597883597883, 0.1575883093978332, 0.5291666666666667, 0.659375, 0.2846417006196418, 0.07247777396214897, 0.20675099206349204, 0.23895070207570204, 0.32816666666666666, 0.3117733134920635, 0.2155681818181818, 0.401077380952381, 0.13226851851851854, 0.47777777777777775, 0.45500000000000007, 0.18067182817182817, 0.12769951499118168, 0.32746704862089476, 0.3616666666666667, 0.17291666666666666, 0.4309115646258504, 0.03287037037037037, 0.3160539233852191, 0.49955018939393936, 0.09430555555555556, 0.2495612874779541, 0.412797619047619, 0.18251578282828285, 0.36406250000000007, 0.27319305694305696, 0.3239325396825397, 0.20770833333333333, 0.4083333333333333, 0.41698863636363637, 0.5111111111111111, 0.42933333333333334, 0.07255163817663818, 0.2367453231292517, 0.14196064298115083, 0.20971202550284188, 0.17230769230769233, 0.4203619047619048, 0.2598809523809524, 0.12833333333333335, 0.2071949404761905, 0.7110000000000001, 0.5992113095238096, 0.644047619047619, 0.17043285248504178, 0.33705555555555555, 0.23541156462585036, 0.3466666666666667, 0.5203125, 0.4093377976190476, 0.16619865441996198, 0.36050000966295603, 0.2802083333333333, 0.007733134920634915, 0.40237878787878784, 0.31875000000000003, 0.2138888888888889, 0.40654761904761905, 0.19611978262133545, 0.1826248237359349, 0.2882619047619047, 0.16873115079365078, 0.6376488095238095, 0.38567930581323434, 0.242598792989418, 0.3933333333333333, 0.42500000000000004, 0.0, 0.38920085470085464, 0.395, 0.1390338827838828, 0.29747565692943845, 0.11602182539682539, 0.35119047619047616, 0.20333333333333334, 0.22708333333333336, 0.3109722222222222, 0.15000000000000002, 0.350679788961039, 0.1979632391418106, 0.17988425925925924, 0.2683531746031746, 0.04895833333333334, 0.31875, 0.34180555555555553, 0.15625, 0.1937010582010582, 0.5328240740740741, 0.6680555555555556, 0.35877551020408166, -0.007394688644688637, 0.44500000000000006, 0.7593333333333334, 0.24282625360750365, 0.4005431547619047, 0.3401844336219336, 0.1915972222222222, 0.3358333333333333, 0.2906471861471861, 0.37777777777777777, 0.2774568288854003, 0.30202442956349207, 0.45499999999999996, 0.14111111111111113, 0.27847222222222223, 0.22996031746031748, 0.17730199483814318, 0.14736013986013985, 0.614375]}],\n",
              "                        {\"height\": 600, \"template\": {\"data\": {\"bar\": [{\"error_x\": {\"color\": \"#2a3f5f\"}, \"error_y\": {\"color\": \"#2a3f5f\"}, \"marker\": {\"line\": {\"color\": \"#E5ECF6\", \"width\": 0.5}}, \"type\": \"bar\"}], \"barpolar\": [{\"marker\": {\"line\": {\"color\": \"#E5ECF6\", \"width\": 0.5}}, \"type\": \"barpolar\"}], \"carpet\": [{\"aaxis\": {\"endlinecolor\": \"#2a3f5f\", \"gridcolor\": \"white\", \"linecolor\": \"white\", \"minorgridcolor\": \"white\", \"startlinecolor\": \"#2a3f5f\"}, \"baxis\": {\"endlinecolor\": \"#2a3f5f\", \"gridcolor\": \"white\", \"linecolor\": \"white\", \"minorgridcolor\": \"white\", \"startlinecolor\": \"#2a3f5f\"}, \"type\": \"carpet\"}], \"choropleth\": [{\"colorbar\": {\"outlinewidth\": 0, \"ticks\": \"\"}, \"type\": \"choropleth\"}], \"contour\": [{\"colorbar\": {\"outlinewidth\": 0, \"ticks\": \"\"}, \"colorscale\": [[0.0, \"#0d0887\"], [0.1111111111111111, \"#46039f\"], [0.2222222222222222, \"#7201a8\"], [0.3333333333333333, \"#9c179e\"], [0.4444444444444444, \"#bd3786\"], [0.5555555555555556, \"#d8576b\"], [0.6666666666666666, \"#ed7953\"], [0.7777777777777778, \"#fb9f3a\"], [0.8888888888888888, \"#fdca26\"], [1.0, \"#f0f921\"]], \"type\": \"contour\"}], \"contourcarpet\": [{\"colorbar\": {\"outlinewidth\": 0, \"ticks\": \"\"}, \"type\": \"contourcarpet\"}], \"heatmap\": [{\"colorbar\": {\"outlinewidth\": 0, \"ticks\": \"\"}, \"colorscale\": [[0.0, \"#0d0887\"], [0.1111111111111111, \"#46039f\"], [0.2222222222222222, \"#7201a8\"], [0.3333333333333333, \"#9c179e\"], [0.4444444444444444, \"#bd3786\"], [0.5555555555555556, \"#d8576b\"], [0.6666666666666666, \"#ed7953\"], [0.7777777777777778, \"#fb9f3a\"], [0.8888888888888888, \"#fdca26\"], [1.0, \"#f0f921\"]], \"type\": \"heatmap\"}], \"heatmapgl\": [{\"colorbar\": {\"outlinewidth\": 0, \"ticks\": \"\"}, \"colorscale\": [[0.0, \"#0d0887\"], [0.1111111111111111, \"#46039f\"], [0.2222222222222222, \"#7201a8\"], [0.3333333333333333, \"#9c179e\"], [0.4444444444444444, \"#bd3786\"], [0.5555555555555556, \"#d8576b\"], [0.6666666666666666, \"#ed7953\"], [0.7777777777777778, \"#fb9f3a\"], [0.8888888888888888, \"#fdca26\"], [1.0, \"#f0f921\"]], \"type\": \"heatmapgl\"}], \"histogram\": [{\"marker\": {\"colorbar\": {\"outlinewidth\": 0, \"ticks\": \"\"}}, \"type\": \"histogram\"}], \"histogram2d\": [{\"colorbar\": {\"outlinewidth\": 0, \"ticks\": \"\"}, \"colorscale\": [[0.0, \"#0d0887\"], [0.1111111111111111, \"#46039f\"], [0.2222222222222222, \"#7201a8\"], [0.3333333333333333, \"#9c179e\"], [0.4444444444444444, \"#bd3786\"], [0.5555555555555556, \"#d8576b\"], [0.6666666666666666, \"#ed7953\"], [0.7777777777777778, \"#fb9f3a\"], [0.8888888888888888, \"#fdca26\"], [1.0, \"#f0f921\"]], \"type\": \"histogram2d\"}], \"histogram2dcontour\": [{\"colorbar\": {\"outlinewidth\": 0, \"ticks\": \"\"}, \"colorscale\": [[0.0, \"#0d0887\"], [0.1111111111111111, \"#46039f\"], [0.2222222222222222, \"#7201a8\"], [0.3333333333333333, \"#9c179e\"], [0.4444444444444444, \"#bd3786\"], [0.5555555555555556, \"#d8576b\"], [0.6666666666666666, \"#ed7953\"], [0.7777777777777778, \"#fb9f3a\"], [0.8888888888888888, \"#fdca26\"], [1.0, \"#f0f921\"]], \"type\": \"histogram2dcontour\"}], \"mesh3d\": [{\"colorbar\": {\"outlinewidth\": 0, \"ticks\": \"\"}, \"type\": \"mesh3d\"}], \"parcoords\": [{\"line\": {\"colorbar\": {\"outlinewidth\": 0, \"ticks\": \"\"}}, \"type\": \"parcoords\"}], \"pie\": [{\"automargin\": true, \"type\": \"pie\"}], \"scatter\": [{\"marker\": {\"colorbar\": {\"outlinewidth\": 0, \"ticks\": \"\"}}, \"type\": \"scatter\"}], \"scatter3d\": [{\"line\": {\"colorbar\": {\"outlinewidth\": 0, \"ticks\": \"\"}}, \"marker\": {\"colorbar\": {\"outlinewidth\": 0, \"ticks\": \"\"}}, \"type\": \"scatter3d\"}], \"scattercarpet\": [{\"marker\": {\"colorbar\": {\"outlinewidth\": 0, \"ticks\": \"\"}}, \"type\": \"scattercarpet\"}], \"scattergeo\": [{\"marker\": {\"colorbar\": {\"outlinewidth\": 0, \"ticks\": \"\"}}, \"type\": \"scattergeo\"}], \"scattergl\": [{\"marker\": {\"colorbar\": {\"outlinewidth\": 0, \"ticks\": \"\"}}, \"type\": \"scattergl\"}], \"scattermapbox\": [{\"marker\": {\"colorbar\": {\"outlinewidth\": 0, \"ticks\": \"\"}}, \"type\": \"scattermapbox\"}], \"scatterpolar\": [{\"marker\": {\"colorbar\": {\"outlinewidth\": 0, \"ticks\": \"\"}}, \"type\": \"scatterpolar\"}], \"scatterpolargl\": [{\"marker\": {\"colorbar\": {\"outlinewidth\": 0, \"ticks\": \"\"}}, \"type\": \"scatterpolargl\"}], \"scatterternary\": [{\"marker\": {\"colorbar\": {\"outlinewidth\": 0, \"ticks\": \"\"}}, \"type\": \"scatterternary\"}], \"surface\": [{\"colorbar\": {\"outlinewidth\": 0, \"ticks\": \"\"}, \"colorscale\": [[0.0, \"#0d0887\"], [0.1111111111111111, \"#46039f\"], [0.2222222222222222, \"#7201a8\"], [0.3333333333333333, \"#9c179e\"], [0.4444444444444444, \"#bd3786\"], [0.5555555555555556, \"#d8576b\"], [0.6666666666666666, \"#ed7953\"], [0.7777777777777778, \"#fb9f3a\"], [0.8888888888888888, \"#fdca26\"], [1.0, \"#f0f921\"]], \"type\": \"surface\"}], \"table\": [{\"cells\": {\"fill\": {\"color\": \"#EBF0F8\"}, \"line\": {\"color\": \"white\"}}, \"header\": {\"fill\": {\"color\": \"#C8D4E3\"}, \"line\": {\"color\": \"white\"}}, \"type\": \"table\"}]}, \"layout\": {\"annotationdefaults\": {\"arrowcolor\": \"#2a3f5f\", \"arrowhead\": 0, \"arrowwidth\": 1}, \"coloraxis\": {\"colorbar\": {\"outlinewidth\": 0, \"ticks\": \"\"}}, \"colorscale\": {\"diverging\": [[0, \"#8e0152\"], [0.1, \"#c51b7d\"], [0.2, \"#de77ae\"], [0.3, \"#f1b6da\"], [0.4, \"#fde0ef\"], [0.5, \"#f7f7f7\"], [0.6, \"#e6f5d0\"], [0.7, \"#b8e186\"], [0.8, \"#7fbc41\"], [0.9, \"#4d9221\"], [1, \"#276419\"]], \"sequential\": [[0.0, \"#0d0887\"], [0.1111111111111111, \"#46039f\"], [0.2222222222222222, \"#7201a8\"], [0.3333333333333333, \"#9c179e\"], [0.4444444444444444, \"#bd3786\"], [0.5555555555555556, \"#d8576b\"], [0.6666666666666666, \"#ed7953\"], [0.7777777777777778, \"#fb9f3a\"], [0.8888888888888888, \"#fdca26\"], [1.0, \"#f0f921\"]], \"sequentialminus\": [[0.0, \"#0d0887\"], [0.1111111111111111, \"#46039f\"], [0.2222222222222222, \"#7201a8\"], [0.3333333333333333, \"#9c179e\"], [0.4444444444444444, \"#bd3786\"], [0.5555555555555556, \"#d8576b\"], [0.6666666666666666, \"#ed7953\"], [0.7777777777777778, \"#fb9f3a\"], [0.8888888888888888, \"#fdca26\"], [1.0, \"#f0f921\"]]}, \"colorway\": [\"#636efa\", \"#EF553B\", \"#00cc96\", \"#ab63fa\", \"#FFA15A\", \"#19d3f3\", \"#FF6692\", \"#B6E880\", \"#FF97FF\", \"#FECB52\"], \"font\": {\"color\": \"#2a3f5f\"}, \"geo\": {\"bgcolor\": \"white\", \"lakecolor\": \"white\", \"landcolor\": \"#E5ECF6\", \"showlakes\": true, \"showland\": true, \"subunitcolor\": \"white\"}, \"hoverlabel\": {\"align\": \"left\"}, \"hovermode\": \"closest\", \"mapbox\": {\"style\": \"light\"}, \"paper_bgcolor\": \"white\", \"plot_bgcolor\": \"#E5ECF6\", \"polar\": {\"angularaxis\": {\"gridcolor\": \"white\", \"linecolor\": \"white\", \"ticks\": \"\"}, \"bgcolor\": \"#E5ECF6\", \"radialaxis\": {\"gridcolor\": \"white\", \"linecolor\": \"white\", \"ticks\": \"\"}}, \"scene\": {\"xaxis\": {\"backgroundcolor\": \"#E5ECF6\", \"gridcolor\": \"white\", \"gridwidth\": 2, \"linecolor\": \"white\", \"showbackground\": true, \"ticks\": \"\", \"zerolinecolor\": \"white\"}, \"yaxis\": {\"backgroundcolor\": \"#E5ECF6\", \"gridcolor\": \"white\", \"gridwidth\": 2, \"linecolor\": \"white\", \"showbackground\": true, \"ticks\": \"\", \"zerolinecolor\": \"white\"}, \"zaxis\": {\"backgroundcolor\": \"#E5ECF6\", \"gridcolor\": \"white\", \"gridwidth\": 2, \"linecolor\": \"white\", \"showbackground\": true, \"ticks\": \"\", \"zerolinecolor\": \"white\"}}, \"shapedefaults\": {\"line\": {\"color\": \"#2a3f5f\"}}, \"ternary\": {\"aaxis\": {\"gridcolor\": \"white\", \"linecolor\": \"white\", \"ticks\": \"\"}, \"baxis\": {\"gridcolor\": \"white\", \"linecolor\": \"white\", \"ticks\": \"\"}, \"bgcolor\": \"#E5ECF6\", \"caxis\": {\"gridcolor\": \"white\", \"linecolor\": \"white\", \"ticks\": \"\"}}, \"title\": {\"x\": 0.05}, \"xaxis\": {\"automargin\": true, \"gridcolor\": \"white\", \"linecolor\": \"white\", \"ticks\": \"\", \"title\": {\"standoff\": 15}, \"zerolinecolor\": \"white\", \"zerolinewidth\": 2}, \"yaxis\": {\"automargin\": true, \"gridcolor\": \"white\", \"linecolor\": \"white\", \"ticks\": \"\", \"title\": {\"standoff\": 15}, \"zerolinecolor\": \"white\", \"zerolinewidth\": 2}}}, \"title\": {\"text\": \"Polaridad promedio de review por usuario\"}, \"width\": 800},\n",
              "                        {\"responsive\": true}\n",
              "                    ).then(function(){\n",
              "                            \n",
              "var gd = document.getElementById('b4b5aca2-5e94-4fa2-a2ba-e5117d16068b');\n",
              "var x = new MutationObserver(function (mutations, observer) {{\n",
              "        var display = window.getComputedStyle(gd).display;\n",
              "        if (!display || display === 'none') {{\n",
              "            console.log([gd, 'removed!']);\n",
              "            Plotly.purge(gd);\n",
              "            observer.disconnect();\n",
              "        }}\n",
              "}});\n",
              "\n",
              "// Listen for the removal of the full notebook cells\n",
              "var notebookContainer = gd.closest('#notebook-container');\n",
              "if (notebookContainer) {{\n",
              "    x.observe(notebookContainer, {childList: true});\n",
              "}}\n",
              "\n",
              "// Listen for the clearing of the current output cell\n",
              "var outputEl = gd.closest('.output');\n",
              "if (outputEl) {{\n",
              "    x.observe(outputEl, {childList: true});\n",
              "}}\n",
              "\n",
              "                        })\n",
              "                };\n",
              "                \n",
              "            </script>\n",
              "        </div>\n",
              "</body>\n",
              "</html>"
            ]
          },
          "metadata": {}
        }
      ]
    },
    {
      "cell_type": "markdown",
      "metadata": {
        "id": "_Y1CVm4H9LIy"
      },
      "source": [
        "#women"
      ]
    },
    {
      "cell_type": "code",
      "metadata": {
        "colab": {
          "base_uri": "https://localhost:8080/"
        },
        "id": "cH6A7LsO9LIz",
        "outputId": "dd14312a-a263-4c6b-ee1c-9c0c20bd007b"
      },
      "source": [
        "from textblob import TextBlob\n",
        "reviw_prom_w={}\n",
        "for u in user_pos_train_review.keys():\n",
        "  l=[]\n",
        "  for item in user_pos_train_review[u]:\n",
        "     l.append(TextBlob(item).sentiment.polarity)\n",
        "  reviw_prom_w[u]=np.mean(l)\n",
        "reviews= np.reshape(list(reviw_prom_w.values()),(-1,1))\n",
        "reviews=reviews.astype(\"float32\")\n",
        "reviews.shape"
      ],
      "execution_count": null,
      "outputs": [
        {
          "output_type": "execute_result",
          "data": {
            "text/plain": [
              "(3158, 1)"
            ]
          },
          "metadata": {},
          "execution_count": 38
        }
      ]
    },
    {
      "cell_type": "code",
      "metadata": {
        "colab": {
          "base_uri": "https://localhost:8080/"
        },
        "id": "xZQ8XL4Y9LI0",
        "outputId": "bfebe015-38ed-4a31-a0c4-928ac6754633"
      },
      "source": [
        "user_pos_train_review[all_user[ np.argmax(list(reviw_prom.values())) ]]"
      ],
      "execution_count": null,
      "outputs": [
        {
          "data": {
            "text/plain": [
              "['The color is nice youthfull, and the style too .I bought it for my daughter and she was very happy with it.',\n",
              " 'It is very sexy blouse.fits real nice!!',\n",
              " 'Have been buying for about 2 years now.Love the all the blouses!!.They are very nice quality and wash great!!Just love them!!']"
            ]
          },
          "execution_count": 11,
          "metadata": {},
          "output_type": "execute_result"
        }
      ]
    },
    {
      "cell_type": "code",
      "metadata": {
        "colab": {
          "base_uri": "https://localhost:8080/"
        },
        "id": "UGh1zIuN9LI0",
        "outputId": "e0809525-48c7-4eb0-bd24-ec10c553d26f"
      },
      "source": [
        "user_pos_train_review[all_user[ np.argpartition((list(reviw_prom.values())),3)[0] ]]"
      ],
      "execution_count": null,
      "outputs": [
        {
          "data": {
            "text/plain": [
              "[\"I was hoping I wouldn't have to layer with this tee, but I do. I hate it when my bra is visible through my shirt. Like the color though.\",\n",
              " 'Material is medium weight and stretchy. The color is true and the shirt seems well made. Fits me well. No complaints.']"
            ]
          },
          "execution_count": 12,
          "metadata": {},
          "output_type": "execute_result"
        }
      ]
    },
    {
      "cell_type": "code",
      "source": [
        "reviw_prom_w= reviw_prom"
      ],
      "metadata": {
        "id": "lmUXLOgtNjRS"
      },
      "execution_count": null,
      "outputs": []
    },
    {
      "cell_type": "code",
      "metadata": {
        "colab": {
          "base_uri": "https://localhost:8080/",
          "height": 617
        },
        "id": "dpbNmsHl9LI1",
        "outputId": "3a05eeed-38e1-461e-91fd-d06f120d27a5"
      },
      "source": [
        "import plotly.graph_objects as go\n",
        "\n",
        "fig = go.Figure()\n",
        "fig.add_trace(go.Box(y=list(reviw_prom_w.values()), name= \"Women\")  )\n",
        "fig.add_trace(go.Box(y=list(reviw_prom_men.values()), name= \"Men\")   )\n",
        "fig.update_layout(\n",
        "   title='Polaridad promedio de review por usuario',height=600, width=800)\n",
        "fig.show()\n"
      ],
      "execution_count": null,
      "outputs": [
        {
          "output_type": "display_data",
          "data": {
            "text/html": [
              "<html>\n",
              "<head><meta charset=\"utf-8\" /></head>\n",
              "<body>\n",
              "    <div>\n",
              "            <script src=\"https://cdnjs.cloudflare.com/ajax/libs/mathjax/2.7.5/MathJax.js?config=TeX-AMS-MML_SVG\"></script><script type=\"text/javascript\">if (window.MathJax) {MathJax.Hub.Config({SVG: {font: \"STIX-Web\"}});}</script>\n",
              "                <script type=\"text/javascript\">window.PlotlyConfig = {MathJaxConfig: 'local'};</script>\n",
              "        <script src=\"https://cdn.plot.ly/plotly-latest.min.js\"></script>    \n",
              "            <div id=\"0624cac9-2456-4c71-90a2-3bbc0e941f08\" class=\"plotly-graph-div\" style=\"height:600px; width:800px;\"></div>\n",
              "            <script type=\"text/javascript\">\n",
              "                \n",
              "                    window.PLOTLYENV=window.PLOTLYENV || {};\n",
              "                    \n",
              "                if (document.getElementById(\"0624cac9-2456-4c71-90a2-3bbc0e941f08\")) {\n",
              "                    Plotly.newPlot(\n",
              "                        '0624cac9-2456-4c71-90a2-3bbc0e941f08',\n",
              "                        [{\"name\": \"Women\", \"type\": \"box\", \"y\": [0.3134899051565718, 0.37782986111111116, 0.41218750000000004, 0.368375, 0.18833333333333335, 0.2916666666666667, 0.030499999999999996, 0.31361111111111106, 0.29851190476190476, 0.15337428048142332, 0.3413496071829405, 0.5064583333333332, 0.40846648143523145, 0.12571129319024058, 0.2750347222222222, 0.52, 0.5, 0.128907941017316, 0.4572222222222222, 0.3588888888888889, 0.25, 0.3928571428571429, 0.3657359307359308, 0.3772817460317461, 0.19005217519106407, 0.43645833333333334, 0.29813571640777525, 0.3211163023174742, 0.04854166666666665, 0.26249999999999996, 0.15625, 0.4214285714285715, 0.2971560846560846, 0.47224574829931976, 0.3143121693121693, 0.47285714285714286, 0.4570871913580247, 0.2911189431913116, 0.31484375000000003, 0.3458571428571429, 0.21852678571428574, 0.3064732142857143, 0.0962339743589744, 0.26443401913367587, 0.3021329365079365, 0.2299450549450549, 0.4708730158730159, 0.33525132275132274, 0.19239583333333335, 0.5428571428571429, 0.18797161172161173, 0.33905092592592595, 0.30979675079194313, 0.250952380952381, 0.21800347222222222, 0.19980158730158729, 0.29788988095238095, 0.43217902973762345, 0.21071428571428572, 0.3979166666666667, 0.3798375496031746, 0.15919444444444444, 0.3095171957671958, 0.40071747835497834, 0.38005, 0.24606575963718824, 0.5944010416666666, 0.38383238636363637, 0.39483333333333337, 0.41708333333333336, 0.19625487882664916, 0.24708333333333332, 0.29565476190476186, 0.3402157738095237, 0.5813151041666668, 0.3053472222222222, 0.175, 0.2305102819165319, 0.2588113275613276, 0.1140825163398693, 0.3554166666666667, 0.36799206349206354, 0.2846726190476191, 0.3343465909090909, 0.1870364964896215, 0.425, 0.03229166666666667, 0.31192488511373967, 0.43875000000000003, 0.3114285714285714, 0.09971382783882786, 0.4698051948051948, 0.4185532407407408, 0.26798511904761907, 0.13336977313215936, 0.3360416666666666, 0.199821047008547, 0.2805154320987654, 0.29407151182151187, 0.14793951418951418, 0.3836785714285714, 0.4030952380952381, 0.34884115884115885, 0.137037037037037, 0.5598611111111111, 0.24152281746031748, 0.3872367959421531, 0.12199193434770358, 0.24531324111969272, 0.3296825396825397, 0.25076530612244896, 0.2088284306396551, 0.11988095238095242, 0.2976623376623377, 0.339375, 0.29074074074074074, 0.6846666666666668, 0.45476190476190476, 0.31388430218508345, 0.3844444444444444, 0.23565842598270959, 0.37083333333333335, 0.21093073593073594, 0.10906249999999999, 0.6577579365079365, 0.2396659689516832, 0.25396825396825395, 0.2604717813051146, 0.35329861111111105, 0.4, 0.20110928362573102, 0.4934027777777777, 0.4055555555555555, 0.2825441886156172, 0.3202777777777778, 0.4409935897435897, 0.12380952380952381, 0.47222222222222227, 0.8002604166666667, 0.3383333333333333, 0.3670138888888889, 0.515625, 0.2816078347578348, 0.35250690901360543, 0.27629629629629626, 0.7010565476190476, 0.08331632653061223, 0.3631930114638448, 0.20089285714285718, 0.34341614486703775, 0.2526041666666667, 0.24323787878787878, 0.4294871794871795, 0.13980158730158732, 0.3077651515151515, 0.2888194444444444, 0.4475, 0.3891666666666667, 0.6206785714285714, 0.30004251700680273, 0.11944444444444445, 0.26703763828763827, 0.3158854166666667, 0.1937111374736375, 0.4452380952380952, 0.13235119047619048, 0.46964285714285714, 0.3000992063492064, 0.3615041666666667, 0.4868181818181818, 0.2324765338827839, 0.4139766483516483, 0.403125, 0.2991741071428571, 0.23143658424908425, 0.5083333333333333, 0.635, 0.28934988790754657, 0.5511111111111111, 0.04741758241758243, 0.10892857142857147, 0.33698412698412694, 0.49375, 0.30924999999999997, 0.19714357864357862, 0.3794642857142857, 0.23166666666666666, 0.5383333333333332, 0.5874999999999999, 0.33845899470899476, 0.2437705146705147, 0.3383234126984127, 0.296875, 0.17458829365079367, 0.19027777777777777, 0.1738650793650794, 0.10907738095238093, 0.16666666666666666, 0.2526785714285714, 0.32662037037037034, 0.15357142857142858, 0.3725, 0.5853598484848485, 0.5738888888888889, 0.5437037037037037, 0.35714285714285715, 0.18898809523809523, 0.2604760748510749, 0.45969065656565655, 0.23328703703703707, 0.44333333333333336, 0.23333333333333334, 0.16703125000000002, 0.42363862433862426, 0.22562956664147144, 0.518, 0.3534166666666667, 0.2910907029478458, 0.257098336344107, 0.7895833333333333, 0.46805555555555556, 0.2222916666666667, 0.23020833333333332, 0.1986447185145102, 0.30170634920634926, 0.246967772967773, 0.4175, 0.2563690476190476, 0.4170882936507936, 0.2995526763336914, 0.14390542328042327, 0.49603174603174605, 0.29020833333333335, 0.3575396825396826, 0.04705687830687831, 0.2013888888888889, 0.2141666666666667, 0.17278935185185187, 0.3534365594722737, 0.2713541666666667, 0.32215773809523807, 0.2478482036754096, 0.32783172241118674, 0.15745158250840066, 0.2125, 0.2655697994135494, 0.3740277777777778, 0.2627028969301219, 0.3938888888888889, 0.41000000000000003, 0.2974206349206349, 0.32185185185185183, 0.19375000000000003, 0.39572420634920635, 0.2683633991669706, 0.5121527777777778, 0.31614715378821284, 0.3422202380952381, 0.2349720418470418, 0.2719761904761905, 0.2557291666666667, 0.27106311274509803, 0.20961992703064136, 0.2731900477994228, 0.3001026487099857, 0.4400210961877629, 0.20977072310405648, 0.3458333333333333, 0.13420035037426342, 0.48814153439153446, 0.2780952380952381, 0.33749999999999997, 0.3236111111111111, 0.39444444444444443, -0.22500000000000003, 0.27987528344671203, 0.15816483516483515, 0.3556652948021995, 0.4166666666666667, 0.2863095238095238, 0.3906806657848325, 0.28077380952380954, 0.2875, 0.29464590964590964, 0.3537037037037037, 0.48270507812499996, 0.16501322751322753, 0.2941942239858906, 0.44815340909090906, 0.22482142857142856, 0.39794580419580416, 0.4590293040293041, 0.3653769841269841, 0.2905744949494949, 0.3118494352869353, 0.15816666666666668, 0.2778769841269841, 0.12062996031746032, 0.13958333333333334, 0.08869047619047618, 0.2575762987012987, 0.21284722222222227, 0.1875, -0.0004726890756302782, 0.4883994708994709, 0.15763888888888888, 0.405219298245614, 0.194944234006734, 0.43854166666666666, 0.41179407051282046, 0.2726379440665155, 0.31872294372294374, 0.18212481962481966, 0.14642255892255893, 0.2475917207792208, 0.18586309523809524, 0.65, 0.21445932539682538, 0.5317708333333334, 0.4085119047619048, 0.27318053063530034, 0.178125, 0.23138703062810204, 0.23784391534391533, 0.291875, 0.22604166666666667, 0.265, 0.3421626984126984, 0.31565476190476194, 0.33355583900226754, 0.3267857142857143, 0.4743015873015874, 0.29910714285714285, 0.38730769230769235, 0.28328373015873015, 0.16785135582010585, 0.12281249999999999, 0.37023809523809526, 0.42033446712018135, 0.15185108024691357, 0.5638888888888889, 0.18311057692307692, 0.21919337606837608, 0.44583333333333336, 0.2729021164021164, 0.2891105725623583, 0.4512333333333333, 0.2810657596371882, 0.6354166666666667, 0.2714032738095238, 0.2740079365079365, 0.19097222222222224, 0.26111274899323456, 0.20357142857142857, 0.1414493575207861, 0.45146825396825396, 0.47380952380952385, 0.265, 0.2614901198574668, 0.26491898148148146, 0.35595238095238096, 0.09488605327421115, 0.2546491702741703, 0.525, 0.24282936691134746, 0.38892803030303025, 0.3689429012345679, 0.2670572916666667, 0.19452083703086379, 0.325, 0.44093750000000004, 0.30951774691358025, 0.2890059523809524, 0.23035714285714287, 0.26728708791208794, 0.03583333333333335, 0.24584035622497166, 0.29562862579179955, 0.28412800162800156, 0.15716357206012382, 0.19266667707881627, 0.2295625, 0.4201636904761904, 0.2950265151515151, 0.49583333333333335, 0.33646825396825397, 0.3536638407888408, 0.4082016369958726, 0.313054295792391, 0.25545918367346937, 0.40935185185185186, 0.4680555555555555, 0.29055555555555557, 0.278405941775507, 0.16644597069597072, 0.5194556051587302, 0.3416666666666667, 0.1555952380952381, 0.23079392636684304, 0.2130017006802721, 0.47222222222222227, 0.3558928571428572, 0.135625, 0.43194444444444446, 0.43645833333333334, 0.21134444890126708, 0.44975, 0.32972163865546217, 0.1609375, 0.6409090909090909, 0.4833333333333334, 0.19705782312925169, 0.4492102573352574, 0.24678571428571427, 0.375, 0.626076388888889, 0.27285714285714285, 0.28560681216931216, 0.21327947845804987, 0.28751984126984126, 0.3603589819766291, 0.2827164502164502, 0.4270833333333333, 0.375, 0.27437570861678007, 0.20827645502645498, 0.38195326994434137, 0.41906746031746034, 0.2030952380952381, 0.3408333333333334, 0.1917989417989418, 0.15892857142857142, 0.5066871843434343, 0.4737371794871794, 0.4006216931216931, 0.2598258066875254, 0.22683285197708275, 0.24589032127053614, 0.2063115079365079, 0.13964002267573697, 0.2783730158730159, 0.30317784256559765, 0.4445238095238095, 0.6, 0.03334098639455783, 0.5916269841269841, 0.44330357142857146, 0.42482142857142857, 0.41250000000000003, 0.3116183385579937, 0.23417245370370368, 0.271031746031746, 0.34, 0.3857142857142857, 0.5005714285714286, 0.07218253968253968, 0.3697943344004268, 0.4598055555555556, 0.3067189393939394, 0.028174603174603175, 0.18198715768358625, 0.33256312396753573, 0.2924371693121693, 0.3941666666666667, 0.20532005321067817, 0.35835097001763677, 0.37625, 0.029999999999999995, 0.29748677248677247, 0.23111111111111113, 0.2722802197802198, 0.3509680134680135, 0.1575559163059163, 0.4040873015873016, 0.3206730769230769, 0.36944444444444446, 0.2222767857142857, 0.5608333333333333, 0.2629326923076923, 0.25278866844958287, 0.42033974358974363, 0.3049603174603175, 0.16419642857142858, 0.45656250000000004, 0.3021164021164021, 0.23519074341296564, 0.31024305555555554, 0.24580357142857143, 0.2876851851851852, 0.547908163265306, 0.5433610284391535, 0.27994708994708994, 0.39505581609748275, 0.18815192743764167, 0.4047790178571429, 0.2729166666666667, 0.17141493055555554, 0.3640335648148148, 0.325, 0.2721785714285714, 0.267743894993895, 0.19707142857142856, 0.2671428571428571, 0.16770833333333332, 0.40855555555555556, 0.26875, 0.26441220238095237, 0.4615763851310726, 0.27886141636141637, 0.19373415392327728, 0.29208537527287526, 0.2193452380952381, 0.39999999999999997, 0.19517045454545454, 0.5058854166666666, 0.16625707914108945, 0.43584325396825396, 0.4093870851370851, 0.28833333333333333, 0.2584201388888889, 0.35952380952380947, 0.34290674603174603, 0.4041666666666667, 0.3333857808857809, 0.2894097222222222, 0.1992739898989899, 0.29872023809523807, 0.3779166666666667, 0.2740909090909091, 0.49166666666666664, 0.4314484126984128, 0.1440091575091575, 0.20724251938537652, 0.3547993827160494, 0.2381713992577088, 0.41036458333333337, 0.1971513605442177, 0.5805, 0.15707296176046176, 0.3025, 0.3058333333333333, 0.2847079136141636, 0.06250000000000001, 0.3958333333333333, 0.06062499999999999, 0.2992097172024933, 0.2520162133055419, 0.2787387967521896, 0.4875694444444444, 0.289578373015873, 0.2938681318681319, 0.34883333333333333, 0.3637733628805057, 0.11740079365079367, 0.5093749999999999, 0.261770108235386, 0.39884615384615385, 0.23130787037037037, 0.39510912698412703, 0.3273809523809524, 0.37318840579710144, 0.24791666666666665, 0.23780631713965045, 0.22781250000000003, 0.2006137566137566, 0.2385643939393939, 0.29327050264550264, 0.18434115602103313, 0.3296416546416546, 0.18782127594627596, 0.5717261904761904, 0.42471958705357143, 0.18216369047619044, 0.2428965937336473, 0.23978103409780993, 0.27943272005772, 0.509375, 0.2826632395382396, 0.20606874767744338, 0.4410185185185185, 0.4611111111111111, 0.38227777777777777, 0.5511642107892107, 0.5416666666666666, 0.23671571484071482, 0.2855489417989418, 0.25435267857142857, 0.24361640211640212, 0.2865468550872686, 0.22596428571428573, 0.5760416666666667, 0.25136651542901545, 0.3416612038754896, 0.47146464646464636, 0.45716666666666667, 0.528843537414966, 0.4865972222222223, 0.15953703703703703, 0.226759577097923, 0.131668139906591, 0.3131944444444444, 0.4117393162393162, 0.08500744047619047, 0.33240740740740743, 0.2439918831168831, 0.13202081758629378, 0.2455357142857143, 0.08194444444444444, 0.24456349206349207, 0.28450892857142857, 0.28713834908963587, 0.2702651515151515, 0.5233796296296296, 0.24837755102040815, 0.43333333333333335, 0.34041666666666665, 0.4142261904761906, 0.23791294642857144, 0.20347222222222225, 0.5643452380952381, 0.08587835775335775, 0.2583705357142857, 0.2815874680874681, 0.09076548451548451, 0.17118055555555556, 0.426892551892552, 0.19573412698412695, 0.299495554613891, 0.2391698554421769, -0.06488095238095241, 0.44833333333333336, 0.22859341179653675, 0.23148148148148148, 0.4900793650793651, 0.21354166666666666, 0.21562499999999998, 0.4570567765567765, 0.48208333333333336, 0.5583333333333333, 0.2079861111111111, 0.3343055555555556, 0.2983545131015369, 0.5261111111111111, 0.23730820105820105, 0.28755681818181816, 0.3422013788680456, 0.3028492063492063, 0.18548280423280425, 0.34585660866910867, 0.19807870370370373, 0.2711710061827283, 0.4038888888888889, 0.22356601731601733, 0.3802083333333333, 0.5828819444444444, -0.07791666666666666, 0.2047392290249433, 0.3011187423687424, 0.11172273021762817, 0.4840277777777778, 0.19371387023470357, 0.3361363636363636, 0.2582638888888889, 0.14029017857142856, 0.19686147186147185, 0.2571006944444445, 0.27821969696969695, 0.25629204996392496, 0.17906288156288155, 0.4302083333333333, 0.3805687079124579, 0.3829166666666667, 0.2205687830687831, 0.23864583333333333, 0.5213333333333333, 0.16478587962962965, 0.2563988095238095, 0.5108829365079365, 0.3597916666666667, 0.19256637806637805, 0.3337037037037037, 0.4375, 0.3244791666666667, 0.40541666666666665, 0.09659444721944725, 0.50625, 0.20778061224489797, 0.5175000000000001, 0.22424689964878752, 0.45828869047619053, 0.41297619047619044, 0.341449494949495, 0.22694459111395757, 0.2954166666666667, 0.396875, 0.3153621933621934, 0.19307621865314173, 0.4034583333333333, 0.2199524439405392, 0.4920833333333333, 0.4904513888888889, 0.4222222222222223, 0.28541666666666665, 0.49790123456790125, 0.29465673215673216, 0.2683288933288933, 0.44481481481481483, 0.3364285714285714, 0.12433022995522997, 0.24080838143338149, 0.2452641369047619, 0.18549886621315193, 0.4719444444444445, 0.39, 0.4333333333333333, 0.22732142857142856, 0.25014423076923076, 0.17638675213675215, 0.2909090909090909, 0.2428769841269841, 0.051666666666666666, 0.26345072751322757, 0.1461942546540761, 0.33587527056277056, 0.15458333333333332, 0.4100435606060606, 0.22833333333333333, 0.453125, 0.3012628141534392, 0.33645833333333336, 0.49874999999999997, 0.298015873015873, 0.165625, 0.38458994708994715, 0.375, 0.5538333333333334, 0.22443386970172685, 0.052500000000000005, 0.4176909722222223, 0.18044179580476669, 0.606875, 0.37063492063492065, 0.36833333333333335, 0.10610119047619046, 0.3578497023809524, 0.35058862433862437, 0.33878621378621376, 0.3858333333333333, 0.36636904761904765, 0.2895634920634921, 0.21170634920634923, 0.3000330687830688, 0.0900185560053981, 0.256875, 0.36747448979591835, 0.27083333333333337, 0.2986111111111111, 0.17621409671977856, 0.2666666666666667, 0.13727813852813855, 0.31802204438074, 0.2717916666666667, 0.17893055555555554, 0.30012471655328804, 0.3521428571428571, 0.37308012820512826, 0.4966765873015873, 0.3993055555555556, 0.65375, 0.270978835978836, 0.54625, 0.51, 0.35201034580498863, 0.3700756792879189, 0.46734375000000006, 0.20729828042328044, 0.46299999999999997, 0.21188186813186816, 0.17123412698412696, 0.41875, 0.22688049337284033, 0.36232142857142857, 0.2774479166666666, 0.43396367521367524, 0.26292989417989415, 0.31008810286935284, 0.2773809523809524, 0.34047293526785716, 0.28425346434870247, 0.4236441798941799, 0.6616071428571428, 0.4085549943883277, 0.44708333333333333, 0.12458333333333332, 0.26005527210884355, 0.13275752314814815, 0.2030746882086168, 0.25202132936507937, 0.35476190476190483, 0.2613521155767076, 0.20130903976975406, 0.3114070767195767, 0.5773809523809523, 0.21777396214896214, 0.3175480769230769, 0.2396875, 0.37972222222222224, 0.32044954648526075, 0.37388392857142855, 0.4425925925925926, 0.28677083333333336, 0.3883333333333333, 0.2327724358974359, 0.20488095238095244, 0.41316137566137573, 0.3666666666666667, -0.0072916666666666685, 0.444492428527355, 0.20596990740740742, 0.3441666666666667, 0.21307692307692305, 0.30469413919413924, 0.44425, 0.38899831649831657, 0.3522470238095239, 0.14620052566481137, 0.1870759430627852, 0.19440724206349203, 0.53, 0.6125, 0.33452380952380956, 0.36369842167636285, 0.2593458049886621, 0.24414824263038548, 0.5466666666666666, 0.225, 0.24933333333333332, 0.5285185185185185, 0.3467462945889628, 0.37087391774891776, 0.37295634920634924, 0.3542328042328043, 0.19696180555555554, 0.35218571428571427, 0.38839015151515155, 0.58875, 0.3705280671296296, 0.3479251700680272, 0.22160317460317458, 0.30540178571428567, 0.40750000000000003, 0.23750000000000002, 0.013736263736263729, 0.311639245014245, 0.35208333333333336, 0.12517857142857144, -0.08377976190476188, 0.15078125, 0.5725, 0.26066326530612244, 0.5277777777777778, 0.31288580246913583, 0.3902281746031746, 0.3225979179550608, 0.5, 0.26325090294956366, 0.41570833333333335, 0.22703827174809316, 0.4927796378968254, 0.28629859203296704, 0.3409739320286196, 0.27342261904761905, 0.37793467600108227, 0.3515589569160998, 0.3252060439560439, 0.4738095238095238, 0.26049603174603175, 0.5598333333333333, 0.28518518518518515, 0.11843750000000001, 0.2916666666666667, 0.24578423579801048, 0.5488690476190476, 0.40950396825396823, 0.11977418745275888, 0.39444444444444443, 0.25727651014109343, 0.20709490740740744, 0.15875, 0.39666666666666667, 0.2966666666666667, 0.518452380952381, 0.28138790772719346, 0.22471489833469, 0.24543178382464095, 0.4948148148148148, 0.25394841269841273, 0.32508928571428575, 0.4927083333333333, 0.42049851190476195, 0.5625595238095239, 0.2766826923076923, 0.6573863636363637, 0.14335164835164835, 0.5333333333333333, 0.30948128768770217, 0.2912698412698413, 0.32112393779060444, 0.28130377435064935, 0.46249999999999997, 0.634775641025641, 0.19606481481481483, 0.33753968253968253, 0.31714781746031745, 0.0585470852743271, 0.2919782598354027, 0.5083333333333333, 0.4391904761904762, 0.21253757816257818, 0.44265625000000003, 0.3542893217893218, 0.2375, 0.25494047619047616, 0.15178418803418806, 0.287026465568745, 0.2754813797313797, 0.45069444444444445, 0.2670138888888889, 0.5033333333333333, 0.22651289682539683, 0.3004761904761905, 0.5378571428571428, 0.33734633605665354, 0.5135, 0.2984016754850088, 0.6708333333333333, 0.26194274376417237, 0.2094665750915751, 0.23944444444444443, 0.36180803571428566, 0.26526785714285717, 0.22332365873088714, 0.3637152777777778, 0.34791666666666665, 0.2971850198412699, 0.35281557494792787, 0.48194444444444445, 0.18296993804806305, 0.2967261904761904, 0.4125, 0.16095085470085468, 0.19146230158730154, 0.2145952380952381, 0.37222222222222223, 0.230625, 0.2924706452498119, 0.3183539377289378, 0.45087962962962963, 0.3304864604206709, 0.25057870370370366, 0.49444444444444446, 0.14896214896214893, 0.359469696969697, 0.425, 0.6157738095238096, 0.1803391780177494, 0.25543290043290046, 0.3780753968253968, 0.39083333333333337, 0.38704662698412695, 0.2864815541601256, 0.18906250000000002, 0.32610119047619046, 0.4231712962962963, 0.21825396825396826, 0.24243265993266, 0.3295874672946102, 0.35984380035778063, 0.2099626068376068, 0.14146825396825394, 0.4460007122507123, 0.46388888888888885, 0.18105158730158732, 0.3428333333333333, 0.42458767361111116, 0.11374999999999999, 0.36162698412698413, 0.19071428571428573, 0.19908370043173962, 0.35, 0.4475, 0.33888888888888896, 0.38625, 0.3996853741496598, 0.42875, 0.49375, 0.4270833333333333, 0.3207444490033776, 0.48157419217687075, 0.3772544642857143, -0.1369318181818182, 0.3675925925925926, 0.1699404761904762, 0.5313541666666667, 0.2591666666666667, 0.39499999999999996, 0.575, 0.7766666666666667, 0.10026041666666667, 0.27357413419913423, 0.31831577681577683, 0.16726190476190475, 0.12028897028897029, 0.4524305555555556, 0.24139093137254902, 0.3854107142857143, 0.39834656084656084, 0.37232142857142864, 0.27, 0.32676816239316236, 0.3354166666666667, 0.3112847222222222, 0.30199339351125065, 0.37308241758241756, 0.13310405643738976, 0.2443650793650794, 0.10833408919123204, 0.22421085858585857, 0.228354028164296, 0.22382113199300702, 0.29795227920227924, 0.168364705165692, 0.28928571428571426, 0.4397916666666667, 0.31, 0.31875, 0.40156250000000004, 0.49375, 0.17050565175565174, 0.23649890865300716, 0.3876068376068376, 0.23440192743764174, 0.5958333333333333, 0.2801020408163265, 0.39811393467643463, 0.41250000000000003, 0.3806746031746032, 0.2907142857142857, 0.19284013605442177, 0.33634513634513635, 0.5325, 0.17937247474747475, 0.505359126984127, 0.35998677248677247, 0.345, 0.3956970113220113, 0.10041666666666665, 0.17371031746031745, 0.71875, 0.45625, 0.2914285714285715, 0.32770292207792207, 0.385, 0.29500000000000004, 0.5044642857142857, 0.22149305555555554, 0.2327258597883598, 0.44534027777777785, 0.4515541265117158, 0.4021875, 0.3296296296296296, 0.6691428571428573, 0.37765624999999997, 0.233946608946609, 0.5932051282051282, 0.4458333333333333, 0.12539908008658007, 0.19027555199430202, 0.6108333333333333, 0.2934523809523809, 0.3561111111111111, 0.21833333333333332, 0.4222222222222222, 0.23476041666666667, 0.46904761904761905, 0.2743284493284493, 0.36250000000000004, 0.2321726190476191, 0.3516454317838246, 0.2771138583638584, 0.4070436507936508, 0.35859722222222223, 0.15595238095238095, 0.19868691879108547, 0.19852347883597884, 0.17893738977072313, 0.29043398730898734, 0.40982142857142856, 0.33305482278138526, 0.6053809523809524, 0.685, 0.3675381758554836, 0.11499999999999999, 0.21325837742504408, 0.3140526556776556, 0.15503613945578232, 0.4174319727891156, 0.05, 0.2815708101422387, 0.1937384259259259, 0.4112933830939783, 0.2788690476190476, 0.20719372267166386, 0.20752777777777776, 0.2726987734487734, 0.3450177728704044, 0.5232142857142856, 0.27445498511904765, 0.47100260416666667, 0.26454600954600954, 0.24605158730158735, 0.3751138787138787, 0.45703125, 0.30833333333333335, 0.10634920634920636, 0.11965277777777779, 0.44508928571428574, 0.6269097222222222, 0.28372564935064937, 0.28871649029982366, 0.2799280626780627, 0.14892498805542284, 0.4229166666666666, 0.3391007180650038, 0.20779347781847785, 0.1725325814874426, 0.42465277777777777, 0.2583333333333333, 0.6350977891156463, 0.24128977272727273, 0.2646990740740741, 0.13202786796536797, 0.15280017601446175, 0.4733333333333333, 0.29508417508417506, 0.3253571428571429, 0.14529968805704102, 0.2073214285714286, 0.34329184704184706, 0.4305039525691699, 0.26158910533910534, 0.28842720453566045, 0.21270833333333333, 0.31319538926681784, 0.41642299107142855, 0.35375, 0.2271212121212121, 0.5724330357142857, 0.11944444444444444, 0.37036458333333333, 0.3669007936507937, 0.296875, 0.1539547258297258, 0.3259833847193987, 0.3168020833333333, 0.2616837169650469, 0.35226530612244894, 0.13166666666666665, 0.1683198056817123, 0.15672123015873018, 0.28753302253302254, 0.2895546536796537, 0.1101190476190476, 0.19036868079836827, 0.2631982600732601, 0.06249999999999997, 0.30256410256410254, 0.5194444444444445, 0.6375, 0.4303125, 0.09583333333333333, 0.30380952380952386, 0.11662064955978, 0.6051972101972102, 0.375, 0.2747671299159394, 0.333984375, 0.18091503267973857, 0.23645833333333333, 0.22528549382716054, 0.30876984126984125, 0.19703125, 0.10708198051948052, 0.1532537774725275, 0.3416470057720058, 0.23035714285714287, 0.2851982924482924, 0.2594459475709476, 0.13393740188383046, 0.13696608946608946, 0.585, 0.25063167735042735, 0.4580555555555556, 0.6638888888888889, 0.3827083333333333, 0.3053571428571428, 0.26571008852258854, 0.39664500777000783, 0.043452380952380944, 0.3516782407407408, 0.41083333333333333, 0.1, 0.4125595238095238, 0.35920634920634925, 0.3819444444444444, 0.2446428571428571, 0.2875, 0.4357142857142857, 0.19029036090287518, 0.43472222222222223, 0.29444940476190473, 0.5898611111111111, 0.23106060606060608, 0.46715167548500874, 0.42666666666666675, 0.48963913690476185, 0.17152777777777778, 0.2700877310099124, 0.30101190476190476, 0.3325042735042735, 0.26162294715866147, 0.24305555555555558, 0.4067654680919987, 0.39687500000000003, 0.12738095238095237, 0.2581386470672185, 0.20805555555555555, 0.2922321428571429, 0.24375000000000002, 0.49835164835164836, 0.44250036743092297, 0.24648656898656895, 0.503452380952381, 0.1, 0.18386363636363637, 0.29128205128205126, 0.625, 0.09236874236874237, 0.34532426303854874, 0.24026424393005716, 0.2694444444444445, 0.24322916666666666, 0.2261101662887377, 0.2675088183421517, 0.17189952904238617, 0.30133928571428575, 0.28625, 0.24080561463625982, 0.3745535714285714, 0.1117857142857143, 0.43610858585858586, 0.4042678571428571, 0.45222222222222225, 0.5222222222222221, 0.3, 0.5818914141414142, 0.09108035714285714, 0.35240079365079363, 0.44027777777777777, 0.45436507936507936, 0.1505574229691877, 0.4582589285714285, 0.3063095238095238, 0.3710714285714286, 0.18171957671957673, 0.6308333333333334, 0.3511111111111111, 0.36849690082644626, 0.4305555555555556, 0.47328042328042325, 0.24584927721088434, 0.27437996031746037, 0.4420159111721612, 0.38877551020408163, 0.28447916666666667, 0.27369791666666665, 0.22083333333333335, 0.29231684981684986, 0.4734693877551021, 0.3418518518518518, 0.23104938271604938, 0.393, 0.3316632653061225, 0.6041666666666666, 0.2707142857142857, 0.3331995980210266, 0.26087962962962963, 0.44305139305139307, 0.28142361111111114, 0.3311904761904762, 0.1531517094017094, 0.2504840455840456, 0.4898214285714286, 0.3417410714285714, 0.34703703703703703, 0.32859523809523805, 0.349375, -0.0740492724867725, 0.3158796296296296, 0.36944444444444446, 0.33281604613335386, 0.26371428571428573, 0.180625, 0.22330586080586082, 0.5187877451766341, 0.12265406162464984, 0.43, 0.4346902649890571, 0.3889880952380953, 0.09107142857142858, 0.28526785714285713, 0.309577850877193, 0.2421875, 0.43130354387125225, 0.17787698412698413, 0.28194444444444444, 0.48972222222222234, 0.369280753968254, 0.2827696078431373, 0.22177884615384613, 0.2858796296296296, -0.016791005291005287, 0.31411911583786584, 0.2986734307359308, 0.33953042328042327, 0.26363095238095235, 0.26185326908541195, 0.4695851370851371, 0.4614795918367347, 0.06532738095238096, 0.31521355434929654, 0.47461767399267396, 0.36017951625094485, 0.4033163265306122, 0.15865649892435604, 0.3919642857142857, 0.24597066847158988, 0.388718820861678, 0.5395833333333333, 0.5343333333333332, 0.26587301587301587, 0.35909090909090907, 0.3981233465608466, 0.2640873015873016, 0.15558300264550265, 0.3676587301587302, 0.45955357142857145, 0.4107142857142857, 0.30632882111177806, 0.3596666666666667, 0.15317799353774458, 0.22534059644059642, 0.4357142857142857, 0.25103174603174605, 0.4312797619047619, 0.5275000000000001, 0.3497685185185185, 0.47555555555555556, 0.2991220238095238, 0.4288461538461539, 0.2646241906241906, 0.43510544217687075, 0.22645833333333332, 0.2439285714285714, 0.27131944444444445, 0.3452380952380952, 0.25166132478632475, 0.39249999999999996, 0.37704081632653064, 0.26037037037037036, 0.34255194866408106, 0.319564800279086, 0.5204117063492063, 0.43101908893575563, 0.6193684895833333, 0.42658730158730157, 0.08466269841269841, 0.3501620370370371, 0.16078622718928842, 0.5177901785714285, 0.1744839474251239, 0.4216742252456538, 0.2516666666666667, 0.22140374331550802, 0.35373397435897436, 0.35208333333333336, 0.16510416666666666, 0.3013454861111111, 0.40454240362811794, 0.1448660714285714, 0.287384760301427, 0.21999384623012297, 0.3287981859410431, 0.580952380952381, 0.2449237270665842, 0.2424489795918367, 0.2701648351648352, 0.19058755503294322, 0.35520833333333335, 0.4318112244897959, 0.11152777777777777, 0.14012419871794873, 0.37502411795380547, 0.5708333333333333, 0.41111111111111115, 0.4796875, 0.2965277777777778, 0.31899250440917104, 0.3728670634920635, 0.333452380952381, 0.39880952380952384, 0.3894166666666667, 0.12404320987654321, 0.5125, 0.22852843416568905, 0.29743196248196246, 0.33586309523809527, 0.20994047619047623, 0.5266250000000001, 0.41796554834054833, 0.37268668831168833, 0.2319765361952862, 0.08203632968338849, 0.1078125, 0.5, 0.42465659340659345, 0.21461309523809524, 0.10729166666666667, 0.16723765432098767, 0.31372222222222224, 0.12674679487179488, 0.2231845238095238, 0.346875, 0.08932948179271709, 0.4113888888888889, 0.31515625, 0.3561011904761905, 0.05459019836298626, 0.2792135642135642, 0.3638419142585809, 0.5121031746031746, 0.36138392857142854, 0.36633597883597885, 0.4015, 0.14785353535353538, 0.4145833333333333, 0.24605654761904766, 0.3647420634920635, 0.29349206349206347, 0.33317588083213084, 0.18072853072853076, 0.4543750000000001, 0.2504040404040404, 0.3711309523809524, 0.06416666666666668, 0.4438035714285714, 0.3369191919191919, 0.32062127976190474, 0.4254365079365079, 0.5254166666666666, 0.24226652964481912, 0.16617800453514736, 0.358452380952381, 0.2181988536155203, 0.1973735119047619, 0.16244915674603178, 0.3836916208791209, 0.48898437499999997, 0.4145833333333333, 0.4208333333333333, 0.3506782106782107, 0.28273809523809523, 0.4163888888888888, 0.2791517857142857, 0.5084013605442178, 0.31693084693084694, 0.32045454545454544, 0.4079356060606061, 0.4310714285714285, 0.3023809523809524, 0.20155420274170277, 0.35912698412698413, 0.2977169744318182, 0.3371527777777778, 0.3645335276967931, 0.23750232150890044, 0.16606774761186524, 0.3410714285714286, 0.23541666666666666, 0.5332407407407407, 0.35666666666666663, 0.4255476190476191, 0.18966145833333334, 0.45, 0.73828125, 0.24583333333333335, 0.3537301587301587, 0.4341666666666667, 0.22520833333333332, 0.2737181766646052, 0.26444549894549896, 0.6545238095238095, 0.2793430335097002, 0.22939850427350428, 0.30771683673469385, 0.3887557283985856, 0.43738996362433863, 0.348828125, 0.3661989795918367, 0.1414960361699492, 0.28451140873015873, 0.22868838507625272, 0.28335429364053316, 0.15974042095861993, 0.20937499999999998, 0.46166666666666667, 0.1013888888888889, 0.16052754435107378, 0.4557692307692308, 0.0972917129167129, 0.039999999999999994, 0.38824118589743584, 0.215627636417815, 0.31566043083900225, 0.4619940476190476, 0.3024905372405372, 0.3147857142857143, 0.3625, 0.3571752136752137, 0.3134457671957672, 0.06621445105820108, 0.3618134675202546, 0.10792215390429677, 0.25535714285714284, 0.43267045454545455, 0.30439453093203095, 0.4634185773074662, 0.1478252645100471, 0.31337301587301586, 0.2050595238095238, 0.29741934974747475, 0.1200892857142857, 0.29179994388327724, 0.2592386146518091, 0.1367898814148814, 0.5145337301587302, 0.26166747835497833, 0.2578598484848485, 0.19947916666666668, 0.27584307609261655, 0.3297327226345084, 0.3694329975579976, 0.17997942386831278, 0.05714285714285716, 0.34125, 0.47097222222222224, 0.5877777777777778, 0.5200148809523809, 0.29476851851851854, 0.2657142857142857, 0.13334325396825397, 0.36873015873015874, 0.16559722446670977, 0.19604918440145713, 0.35525, 0.2627832167832168, 0.34880952380952385, 0.3220899470899471, 0.4215277777777777, 0.17916666666666667, 0.13333333333333333, 0.16623412698412696, 0.5316666666666667, 0.23805059523809524, 0.10986765960038986, 0.16625660648874935, 0.24254120879120877, 0.52, 0.04635416666666667, 0.11547619047619048, 0.42809137291280147, 0.2944056856885804, 0.6078125, 0.3703505291005292, 0.5341600529100529, 0.36124999999999996, 0.4605902777777777, 0.33560090702947853, 0.2362906746031746, 0.35, 0.2739583333333333, 0.409029304029304, 0.21167564247921392, 0.2791666666666667, 0.26607142857142857, 0.4625, 0.3453747795414462, 0.3561755952380952, 0.47500000000000003, 0.4625, 0.3776785714285714, 0.35400000000000004, 0.17930799755799756, 0.07572115384615385, 0.23369708994708996, 0.22724747474747478, 0.44524305555555554, 0.3669171626984127, 0.3867588702147526, 0.252963546529723, 0.46005555555555555, 0.09503968253968254, 0.4853174603174603, 0.426875, 0.269579168847026, 0.39337034493284495, 0.38821428571428573, 0.5064382440476191, 0.14718671679197998, 0.2771527777777778, 0.2802698412698413, 0.1791580815018315, 0.3909259259259259, 0.335625, 0.44032738095238094, 0.3014087301587302, 0.3041666666666667, 0.2413961038961039, 0.24539502164502164, 0.3806547619047619, 0.48058974358974355, 0.12070473251028806, 0.2560148618742369, 0.1435664682539683, 0.5499999999999999, 0.12557425213675216, 0.35267857142857145, 0.02053571428571429, 0.17065497002997002, 0.33311688311688314, 0.2240132965579394, 0.3508928571428571, 0.39125, 0.28449074074074077, 0.53625, 0.21640873015873016, 0.23982750178062678, 0.29526880196523053, 0.5510714285714285, 0.1719702380952381, 0.4051041666666667, 0.38035714285714284, 0.38474839743589745, 0.33975641025641024, 0.3421938775510204, 0.2988293650793651, 0.21251190476190474, 0.453125, 0.25672686688311686, 0.27035714285714285, 0.11382051282051281, 0.3841269841269841, 0.44870257314701756, 0.28611111111111115, 0.2922613894042465, 0.2649305555555555, 0.22578719412771142, 0.31375170068027214, 0.26322649572649576, 0.3480059523809524, 0.3295675223214286, 0.5302210884353743, 0.30208333333333337, 0.44791666666666663, 0.22836309523809523, 0.40222222222222226, 0.5116666666666667, 0.14941361185111185, 0.46611111111111103, 0.30662232300327535, 0.3766666666666667, 0.1875, 0.5625925925925925, 0.33653273809523815, 0.47374627976190475, 0.26321428571428573, 0.08761904761904764, 0.40388888888888885, 0.35, 0.2791015625, 0.13065277777777778, 0.3573268398268398, 0.3045833333333333, 0.24881222943722947, 0.2708728937728938, 0.17506063962992416, 0.6378472222222222, 0.1666121794871795, 0.16204561311704171, 0.37829861111111107, 0.39898809523809525, 0.15972222222222224, 0.20726190476190476, 0.10833333333333335, 0.3954166666666667, 0.13200396825396826, 0.22457802854938272, 0.054282407407407404, 0.32958333333333334, 0.45083333333333336, 0.2820646367521368, 0.39989105017006804, 0.16882575757575757, 0.5092592592592593, 0.13237227182539682, 0.43162698412698414, 0.19962139271663082, 0.16028645833333333, 0.40625, 0.5076666666666667, 0.47185245310245316, 0.2750780238280239, -0.005833333333333343, 0.24078601137424666, 0.47000000000000003, 0.39251282051282055, 0.36818181818181817, 0.36865905629041096, 0.44475519480519476, 0.474375, 0.6025, 0.39775462962962965, 0.285, 0.4083333333333333, 0.5421296296296296, 0.29259259259259257, 0.2905723749554919, 0.4818560606060606, 0.3789423076923077, 0.19095780762447434, 0.3728174603174603, 0.3983333333333334, 0.2620950527646956, 0.42106481481481484, 0.3228154919375157, 0.15586220492470493, 0.3296532999164578, 0.2870039682539683, 0.3515625, 0.26306238404452686, 0.30684343434343436, 0.3784226190476191, 0.30947273879966186, 0.2636201298701299, 0.26459674456202237, 0.19413614163614165, 0.38359126984126984, 0.17464206318372985, 0.3990500583335186, 0.3976190476190476, 0.5194878472222222, 0.39416666666666667, 0.2359837278106509, 0.3305059523809524, 0.21684853749191985, 0.2122767857142857, 0.42627416938997825, 0.17881944444444442, 0.4609375, 0.3836967592592593, 0.4066666666666667, 0.29637896825396826, 0.3916666666666667, 0.19202433784164552, 0.1410180616717841, 0.3941220238095238, 0.22111603413295144, 0.3954081632653061, 0.27881070483749054, 0.31252482016990946, 0.17457688386073805, 0.4179914772727273, 0.17425853428360116, 0.15380208333333334, 0.4181547619047619, 0.4916666666666667, 0.23808333333333334, 0.15178472222222222, 0.2398065476190476, 0.2358883645885023, 0.41285714285714287, 0.2299776785714286, 0.5043551587301587, 0.3751388888888889, 0.2561846405228758, 0.1817956349206349, 0.3666666666666667, 0.3488095238095238, 0.3401058201058201, 0.4444444444444444, 0.19183673469387755, 0.39243055555555556, 0.29732142857142857, 0.42946428571428574, 0.3215046296296296, 0.28865079365079366, 0.3641666666666667, 0.3363059585813492, 0.2898611111111111, 0.3592986223845599, 0.35333333333333333, 0.33823696145124715, 0.22708333333333333, 0.11299999999999999, 0.3856770833333333, 0.4034126984126984, 0.4082750582750583, 0.3866139971139971, 0.14254205486542443, 0.2687322746697747, 0.38984775641025643, 0.22743055555555558, 0.3954166666666667, 0.18289835164835166, 0.6796296296296296, 0.2634486902399849, 0.14270833333333333, 0.5493333333333333, 0.11516474920007526, 0.2599075543730149, 0.24166666666666664, 0.5702539682539682, 0.523809523809524, 0.7038194444444443, 0.37916666666666665, 0.4198412698412699, 0.20119498556998558, 0.22115076712503182, 0.2742376142376142, 0.3458333333333333, 0.5748774210611979, 0.3071194546194546, 0.158953373015873, 0.12923280423280423, 0.1803535280508965, 0.12061457061457063, 0.2757512626262626, 0.41833333333333333, 0.3132711038961039, 0.2912037037037037, 0.4842857142857143, 0.25481601731601733, 0.3098320578231293, 0.555, 0.21694184618291762, 0.5147135416666667, 0.3972222222222222, 0.29777777777777775, 0.2739583333333334, 0.40607142857142864, 0.13458333333333333, 0.28097222222222223, 0.22236111111111115, 0.31476934523809524, 0.4714444444444445, 0.355, 0.4484722222222223, 0.14166666666666666, 0.09116071428571426, 0.39453414351851857, 0.4869444444444444, 0.23633928571428572, 0.07108630952380951, 0.38732142857142854, 0.2623883928571428, 0.41333333333333333, 0.3082528167517007, 0.2946385645604396, 0.6907407407407408, 0.5227380952380952, 0.2384375, 0.46935897435897433, 0.16358136502873344, 0.49783560090702955, 0.22788879440665152, 0.2937830687830688, 0.6113492063492064, 0.26958333333333334, 0.56125, 0.4324494047619048, 0.10777777777777779, 0.34950000000000003, 0.47734126984126984, 0.3805322802197802, 0.19539754178962254, 0.55, 0.40444444444444444, 0.3665178571428571, 0.593956043956044, 0.46120779220779223, 0.4698214285714286, 0.5, 0.27625, 0.2599222374475248, 0.12770993440111086, 0.3528174603174603, 0.39073129251700683, 0.25515059015059016, 0.35507054673721344, 0.39375000000000004, 0.3593560606060606, 0.03236111111111111, 0.22193392255892255, 0.3999682724682725, 0.36864332096474955, 0.5166666666666666, 0.177035124836849, 0.21518072453340312, 0.2439200680272109, 0.51, 0.48701298701298695, 0.36329931972789115, 0.47222222222222215, 0.3, 0.21529761904761907, 0.48333333333333334, 0.20749999999999996, 0.34226190476190477, 0.2777472535731464, 0.38666666666666666, 0.43280277777777776, 0.373015873015873, 0.3548941798941799, 0.3370851370851371, 0.1573245372352515, 0.35612942612942616, 0.46875, 0.1826003803888419, 0.39239229024943306, 0.2593877551020408, 0.19724330357142858, 0.4875, 0.577617845117845, 0.2789814814814815, 0.4641666666666667, 0.2876790364583333, 0.38983829365079364, 0.2832638888888889, 0.27375, 0.25555555555555554, 0.19666666666666666, 0.46640625, 0.27413903061224487, 0.24088293650793652, 0.3509600527967875, 0.1617898661167892, 0.35414285714285715, 0.105, 0.21888745498199277, 0.4575, 0.2, 0.36354166666666665, 0.3893229166666667, 0.2511111111111111, 0.3286381003256003, 0.39821428571428574, 0.16903935185185182, 0.3913988095238095, 0.20182084986772486, 0.20614583333333336, 0.31302083333333336, 0.16614583333333333, 0.33819444444444446, 0.02678571428571427, 0.25312500000000004, 0.5132916666666667, 0.3104166666666667, 0.42562500000000003, 0.2414003219003219, 0.26057870370370373, 0.2318835978835979, 0.17750000000000002, 0.5125, 0.21202473958333334, 0.49453257060399913, 0.24928571428571428, 0.4111111111111111, 0.29987752399886103, 0.3354166666666667, 0.4431122448979592, 0.3957407407407407, 0.287863991910867, 0.3046726190476191, 0.24367742272347537, 0.09880865114417747, 0.40271577380952384, 0.3037819940476191, 0.27627218934911246, 0.6083333333333333, 0.138125, 0.44500000000000006, 0.4015625, 0.2770913900913901, 0.5692261904761905, 0.07210802469135802, 0.4611111111111112, 0.3170617103984451, 0.1, 0.2735165143498477, 0.35625, 0.4166666666666667, 0.5322222222222222, 0.371811755952381, 0.6825, 0.2105952380952381, 0.32487109989915386, 0.22443452380952383, 0.30697802197802204, 0.3611153628117914, 0.4660238095238095, 0.2873534952701619, 0.4974843073593073, 0.28066578483245147, 0.4124978354978355, 0.32289612097304404, 0.27499999999999997, 0.21296296296296297, 0.21661805555555552, 0.2548992673992674, 0.2768235930735931, 0.45845202664399093, 0.3085952380952381, 0.3145833333333333, 0.12520833333333334, 0.3277777777777778, 0.37752976190476195, 0.2881172839506173, 0.2703246753246753, 0.1519549233834948, 0.3288756613756614, 0.29794642857142856, 0.47791666666666666, 0.801875, 0.23458049886621313, 0.371875, 0.4676136363636363, 0.39984126984126983, 0.1798611111111111, 0.24839824263038546, 0.4178571428571428, 0.3208333333333333, 0.3610416666666667, 0.3566751700680272, 0.42704497354497367, 0.274041394335512, 0.3704166666666667, 0.4116373672623672, 0.33699999999999997, 0.26483630952380954, 0.3009920634920635, 0.2902294799498747, 0.2234375, 0.2771355727605727, 0.32217261904761907, 0.3291666666666667, 0.125521978021978, 0.38724489795918365, 0.35678989955357143, 0.32954680735930736, 0.258028083028083, 0.3188703108234358, 0.24441042291042286, 0.03761863136863137, 0.3250396825396826, 0.45238095238095244, 0.4007361111111112, 0.38432539682539685, 0.48750000000000004, 0.1571254208754209, 0.5767578125, 0.37249018838304554, 0.3190669515669516, 0.21182634164777023, 0.5366443452380953, 0.18159637188208616, 0.25689720332577476, 0.37142857142857144, 0.20996392991783816, 0.2518698893698894, 0.43843452380952386, 0.2157787255527211, 0.5531666666666667, 0.16516426282051283, 0.4731547619047619, 0.30655175264550266, 0.14285714285714285, 0.5066666666666667, 0.35238095238095235, 0.2944620811287478, 0.1390625, 0.25533404095904094, 0.11124227335164837, 0.30143060643060643, 0.4995925925925926, 0.19985870610870607, 0.3965843958451829, 0.23681633885438233, 0.14020833333333332, 0.4627232142857143, 0.32264249639249637, 0.164076093659427, 0.49162544091710764, 0.3375, 0.5616944444444444, 0.36545138888888884, 0.2816666666666666, 0.5628472222222222, 0.3421418128654971, 0.25478025793650794, 0.38530925217309153, 0.2517857142857143, 0.29686237373737373, 0.3618615224061653, 0.36404761904761906, 0.4161468253968254, 0.22468584656084656, 0.19999999999999998, 0.24851168831168832, 0.27566964285714285, 0.14578703703703702, 0.31986111111111104, 0.43803310886644226, 0.5166666666666666, 0.5658333333333333, 0.2879489642856548, 0.2590694226408512, 0.6083333333333334, 0.22003826530612244, 0.20558035714285716, 0.28071057256235826, 0.4112152777777778, 0.2774153001062723, 0.23110969387755104, 0.463317461927953, 0.19260879723842692, 0.19032530604834527, 0.23750566893424038, 0.41326551226551234, 0.4062389291465378, 0.19808201058201058, 0.46636111111111106, 0.4035833333333333, 0.4219736324281778, 0.3615986394557823, 0.3847222222222222, 0.23867908583186362, 0.2877289377289377, 0.27151785714285714, 0.17696236376791932, 0.29185380591630594, 0.3609523809523809, 0.23560554029304032, 0.33492521367521366, 0.55, 0.3801803751803752, 0.28601827801827806, 0.390079365079365, 0.2998130341880342, 0.4033333333333333, 0.13395238095238096, 0.54, 0.2608611294297569, 0.3975, 0.2245580808080808, 0.3234410294566544, 0.30000000000000004, 0.31875, 0.19853174603174603, 0.12379807692307693, 0.29523313492063485, 0.45125, 0.5792222222222223, 0.5309999999999999, 0.2552777777777778, 0.14441391941391943, 0.3582407407407407, 0.3116334465385805, 0.5041666666666667, 0.23363636363636364, 0.24012472587719297, 0.35520833333333335, 0.15994949494949495, 0.42976673789173786, 0.2783472222222222, 0.4646969696969697, 0.36749358974358975, 0.19792124542124542, 0.43285714285714283, 0.28494897959183674, 0.2240740740740741, 0.3225, 0.3478459821428571, 0.21719860524175996, 0.5549609375, 0.1863668430335097, 0.16834180402930402, 0.4336681547619048, 0.2796726190476191, 0.16594983719983722, 0.2128238428238428, 0.33999999999999997, 0.3097470238095238, 0.42362373737373743, 0.5127083333333333, 0.3432291666666667, 0.19687500000000002, 0.21809833176691729, 0.49021190476190474, 0.6299999999999999, 0.2544794094794095, 0.46375, 0.4292063492063492, 0.3965079365079365, 0.25690447126043386, 0.3083180014430014, 0.25667224702380953, 0.5175, 0.17788247053872056, 0.3781932591218305, 0.3125, 0.3928571428571429, 0.16706207482993196, 0.16828042328042328, 0.18303246753246755, 0.6602777777777779, 0.4008333333333333, 0.3118849206349207, 0.304396645021645, 0.3059584039697676, 0.2680952380952381, 0.12099206349206348, 0.25071158008658007, 0.21507142857142864, 0.21259920634920637, 0.5590625, 0.3909311224489796, 0.23062041257353758, 0.3154166666666667, 0.43583333333333335, 0.31416514041514043, 0.42500000000000004, 0.19791666666666666, 0.32143253282929396, 0.39235119047619044, 0.3216666666666666, 0.4512202380952381, 0.32450218976479484, 0.3458333333333334, 0.25963159063159064, 0.3779166666666666, 0.2140079365079365, 0.6060000000000001, 0.22023809523809523, 0.1390625, 0.4564285714285714, 0.19942857142857143, 0.3055555555555556, 0.21557183557183557, 0.22781127602556175, 0.143125, 0.37916666666666665, 0.3226509632342966, 0.15844538737761243, 0.24831349206349204, 0.2720839632149156, 0.24321338383838384, 0.35277364417989415, 0.1640625, 0.14784523809523809, 0.18936210305942103, 0.4026851851851852, 0.15104166666666669, 0.105, 0.3522222222222222, 0.26774038461538463, 0.21340919880083836, 0.19507595486111112, 0.057708333333333334, 0.35480769230769227, 0.6422519841269841, 0.45701530612244895, 0.2510037011599512, 0.40038888888888896, 0.269375, 0.1257996632996633, 0.4222222222222222, 0.16951792982150124, 0.2987777396214896, 0.18333006279434852, 0.4024305555555555, 0.3346320346320346, 0.4245833333333333, 0.15796012849584276, 0.22439000814000812, 0.4540674603174603, 0.3866369047619048, 0.16357413419913416, 0.5388095238095238, 0.49312728937728934, 0.23511904761904762, 0.32698863636363634, 0.25271400226757373, 0.3408482142857143, 0.36333333333333334, 0.37048484848484853, 0.13890847247990104, 0.2932400118052, 0.3167202380952381, 0.24265595053095054, 0.2910643523143523, 0.3896503496503496, 0.27527777777777773, 0.14484126984126985, 0.2493229166666667, 0.5804761904761905, 0.3066170634920635, 0.4048333333333333, 0.5602579365079365, 0.3505902777777778, 0.50625, 0.15847677875573488, 0.6033796296296297, 0.3374315476190476, 0.1526600003006253, 0.5225, 0.3033333333333333, 0.5433333333333333, 0.3102317821067821, 0.4085496794871795, 0.45287698412698413, 0.20321542245370372, 0.43863636363636366, 0.3973333333333333, 0.44133333333333336, 0.34951814058956915, 0.14225080646376942, 0.350297619047619, 0.27512345679012346, 0.6847222222222222, 0.17587031024531027, 0.4188864087301587, 0.278773544973545, 0.58375, 0.2726092360020932, 0.08881944444444445, 0.33359002976190477, 0.2703315263605442, 0.33704906204906204, 0.18383333333333335, 0.33493114909781574, 0.2981670382637644, 0.18130952380952378, 0.37928571428571434, 0.36013026089556704, 0.5854166666666667, 0.2595, 0.5077777777777778, 0.33817760942760944, 0.35845238095238097, 0.40750000000000003, 0.21965918803418805, 0.2965451388888889, 0.3335884254634255, 0.2743055555555556, 0.47445054945054943, 0.6136666666666667, 0.3394888367805035, 0.17291666666666666, 0.31256885664436873, 0.40555555555555556, 0.4111979166666667, 0.33461734693877554, 0.3972222222222222, 0.3, 0.3433492965367966, 0.2572471901318055, 0.12904040404040407, 0.29998181216931213, 0.32585714285714285, 0.2375, 0.1541666666666667, 0.3854166666666667, 0.31946428571428576, 0.29833333333333334, 0.22431441326530613, 0.03902677569344235, 0.3873875661375662, 0.41387037037037033, 0.2973958333333333, 0.4206770833333333, 0.27473193473193475, 0.3124368686868687, 0.35583333333333333, 0.3988636363636364, 0.3003779761904762, 0.3336329365079365, 0.24511904761904763, 0.28125, 0.5263690476190476, 0.25576984126984126, 0.46507575757575753, 0.34193599918599915, 0.2512513227513228, 0.34805555555555556, 0.3498021885521886, 0.31255787037037036, 0.6035555555555555, 0.32696886446886453, 0.3600085034013606, 0.374897693452381, 0.3894444444444445, 0.2916666666666667, 0.39495663265306125, 0.48408203124999993, 0.4484126984126984, 0.3380952380952381, 0.3739209401709402, 0.3575892857142857, 0.20632245532245533, 0.4277818868374424, 0.21422619047619046, 0.1076388888888889, 0.33407712657712657, 0.2138103318250377, 0.40089285714285716, 0.28125, 0.42767063492063495, 0.2614156268568033, 0.26357142857142857, 0.3934850863422292, 0.22512152777777772, 0.14809523809523809, 0.3949488536155203, 0.3136979166666667, 0.09961670274170274, 0.1250132275132275, 0.2543470418470419, 0.36578983516483515, 0.26462301587301584, 0.10648809523809524, 0.32, 0.3190476190476191, 0.40125, 0.25326719576719575, 0.29271796066252587, 0.1443287037037037, 0.39273152156485486, 0.4270833333333333, 0.3509623015873016, 0.13194444444444445, 0.3192708333333333, 0.4, 0.23677910052910053, 0.10512021543271544, 0.1943881335678211, 0.7078125, 0.33708333333333335, 0.5833333333333334, 0.3760416666666667, 0.4538690476190476, 0.3390625, 0.47678571428571426, 0.40966457153957153, 0.2532859105180534, 0.302125, 0.5866666666666667, 0.3648809523809524, 0.44185523386706205, 0.30186498917748916, 0.5722222222222223, 0.2774206349206349, 0.34049603174603166, 0.5767361111111111, 0.31457635073260076, 0.25343033509700175, 0.23247863247863246, 0.3937950937950938, 0.14450892857142858, 0.37420745920745924, 0.35797979797979795, 0.33035714285714285, 0.34291666666666665, 0.2312121212121212, 0.2535968660968661, 0.37397959183673474, 0.477625, 0.3219444444444444, 0.37469135802469133, 0.298994708994709, 0.29888095238095236, 0.4633333333333334, 0.30766369047619047, 0.59, 0.12229166666666666, 0.16142857142857145, 0.34125, 0.1813095238095238, 0.467063492063492, 0.43452380952380953, 0.3303968253968254, 0.08764423076923077, 0.4217733134920635, 0.02229166666666667, 0.28949140602986756, 0.3772619047619048, 0.2333994708994709, 0.38068360492021197, 0.20491311069882498, 0.3477777777777778, 0.2042493386243386, 0.6712611607142858, 0.24126190476190476, 0.23035714285714287, 0.1348783781033781, 0.2955059523809524, 0.23308531746031744, 0.4642857142857143, 0.3875, 0.2083714455950033, 0.30361755952380953, 0.10297619047619049, 0.28572276488943155, 0.39438822751322755, 0.4730357142857143, 0.18611111111111112, 0.27106157342212833, 0.09665343915343914, 0.27168650793650795, 0.26066190476190476, 0.20956349206349204, 0.23607142857142854, 0.22333333333333338, 0.3333333333333333, 0.3161885865457294, 0.2263278388278388, 0.4351785714285714, 0.2516372863247864, 0.3134548611111111, 0.1816220238095238, 0.28484757269479494, 0.46789682539682537, 0.2787833694083694, 0.5496744791666667, 0.19940476190476195, 0.3562916788541789, 0.5892643229166667, 0.35000000000000003, 0.5514880952380953, 0.1636737351190476, 0.18541666666666667, 0.26783281822344324, 0.1952129897185376, 0.17268518518518516, 0.148437664100728, 0.4063775510204082, 0.3370421245421245, 0.47148148148148156, 0.26021185064935065, 0.19236111111111115, 0.42812500000000003, 0.1752817552817553, 0.4482986111111111, 0.47686755952380955, 0.18944444444444444, 0.2571534863945578, 0.30112850690975695, 0.29340277777777773, 0.19229910714285714, 0.32316849816849813, 0.25559584223646725, 0.5214285714285715, 0.40617745535714284, 0.1596413308913309, 0.4330026455026455, 0.10892857142857143, 0.4085416666666667, 0.5375, 0.29041666666666666, 0.15320436507936508, 0.4225198412698412, 0.2839962121212121, 0.20026180637544275, 0.48124999999999996, 0.2714805194805195, 0.33267299107142856, 0.36614583333333334, 0.2941651404151404, 0.3930339138741916, 0.3082142857142857, 0.43833333333333335, 0.08422619047619045, 0.42333333333333334, 0.45380208333333333, 0.49944444444444447, 0.12476896741602624, 0.26340773809523804, 0.14992063492063495, 0.24355717447235306, 0.6324652777777777, 0.37803030303030305, 0.214063784604751, 0.20662240537240537, 0.26255952380952385, 0.2705171130952381, 0.38614417989417993, 0.5266666666666666, 0.3251762820512821, 0.19151785714285716, 0.28203125, 0.3585157339099647, 0.40952777777777777, 0.1409371492704826, 0.22379201680672267, 0.26738232666804096, 0.23387335927960928, 0.30786195286195284, 0.5245535714285714, 0.20616319444444445, 0.2231746031746032, 0.33510416666666665, 0.35051020408163264, 0.14621036371036372, 0.21270299145299146, 0.2131150793650794, 0.23000000000000004, 0.45850649350649353, 0.36409090909090913, 0.27309027777777783, 0.23555555555555555, 0.2302527625882889, 0.1504237528344671, 0.40958333333333335, 0.2379896723646724, 0.2831256082294029, 0.30048992369047317, 0.23972222222222223, 0.36339691558441556, 0.4803571428571428, 0.40582291666666664, 0.42896969696969695, 0.22894288912146055, 0.14433390022675738, 0.2614555776014109, 0.24004545454545456, 0.2368696581196581, 0.17646683673469388, 0.3015178571428571, 0.3543915343915344, 0.3286253191253191, 0.4401041666666667, 0.4239973958333333, 0.47443452380952383, 0.6424206349206348, 0.2855, 0.4921666666666667, 0.27305622248899564, 0.33992617880485526, 0.2690705128205128, 0.6541666666666667, 0.15630104463437797, 0.16113636363636363, 0.30092592592592593, 0.1798611111111111, 0.5090123456790123, 0.25268610853432283, 0.09776936026936027, 0.6495054945054944, 0.5030071924603174, 0.3232805735930736, 0.17410714285714285, 0.19410803041755423, 0.3558745421245421, 0.40204916741244867, 0.33111111111111113, 0.3414562474562475, 0.31432208994708993, 0.2884604978354978, 0.21031679894179897, 0.37249452184720044, 0.1920833333333333, 0.19005008320532513, 0.21919434731934728, 0.13203125, 0.19811355311355308, 0.35634920634920636, 0.2541666666666667, 0.2944400637061351, 0.46555555555555556, 0.31089285714285714, 0.22033588435374152, 0.22050340136054425, 0.43946300612967276, 0.13995587745587745, 0.44833333333333336, 0.19388020833333333, 0.592962962962963, 0.20459147334147332, 0.40413832199546484, 0.1380518353174603, 0.21464285714285714, 0.03645833333333332, 0.22756835068585063, 0.4123611111111111, 0.16581400081400083, 0.26580952380952383, 0.3970486111111111, 0.09477513227513228, 0.3708712121212121, 0.26875000000000004, 0.24124007936507938, 0.2540847686795963, 0.26845238095238094, 0.18982040290863822, 0.41406746031746033, 0.18583333333333332, 0.41041666666666665, 0.39916666666666667, 0.32421875, 0.29850000000000004, 0.4658730158730158, 0.39722270322270326, 0.2501289682539683, 0.1815813725490196, 0.3306351082321541, 0.41540394176136364, 0.1409375, 0.2917410714285714, 0.5324305555555556, 0.12803418803418803, 0.2675915750915751, 0.1965873015873016, 0.3195271164021164, 0.1313172414246633, 0.22277678571428572, 0.24601949555074556, 0.3987370962370962, 0.2105921855921856, 0.13749999999999996, 0.43500000000000005, 0.2584126984126984, 0.29909209656084657, 0.43419270833333334, 0.23444230982692518, 0.1500484126984127, 0.3154128828347578, 0.21474305555555556, 0.3170634920634921, 0.28852380952380957, 0.10081487140310669, 0.35136666666666666, 0.27953307880391215, 0.43854166666666666, 0.528058201058201, 0.33502555641821946, 0.41587301587301584, 0.29612274220032847, 0.24087616528092715, 0.24683390022675736, 0.23360340956558062, 0.25819384575411364, 0.4600694444444444, 0.30746173469387755, 0.35777777777777775, 0.34302083333333333, 0.33772264579556244, 0.18466961755564698, 0.19566964285714283, 0.35348366910866913, 0.3192679247835498, 0.4208333333333334, 0.36000000000000004, 0.209906462585034, 0.6711111111111111, 0.23598214285714286, 0.06885608659418184, 0.2506445689386866, 0.21000000000000002, 0.4319110863095238, 0.29601190476190475, 0.31666666666666676, 0.35727932098765436, 0.3583333333333333, 0.56, 0.4374792768959435, 0.4377338693052979, 0.47500000000000003, 0.20034832451499118, 0.2838085317460317, 0.3565081845238095, 0.3583333333333333, 0.2441220238095238, 0.18805614909781573, 0.2363425925925926, 0.3098809523809524, 0.20625, 0.333125, 0.4249880952380952, 0.3895748299319728, 0.10650793650793651, 0.20733084816418149, 0.4518333333333333, 0.1896354128962825, 0.2816666666666667, 0.319696275946276, 0.42737175324675325, 0.23212572150072153, 0.34176388888888887, 0.3571626984126984, 0.3738876748251749, 0.1796626984126984, 0.0831845238095238, 0.32958333333333334, 0.24108796296296295, 0.013346354166666678, 0.34498263888888886, 0.22145124716553288, 0.2229365079365079, 0.27595238095238095, 0.33875, 0.29333333333333333, 0.14730376766091055, 0.26821428571428574, 0.35520833333333335, 0.23325586178527352, 0.3416666666666667, 0.17797619047619045, 0.31666666666666665, 0.2268308630435789, -0.04567307692307693, 0.25171107331821624, 0.2623073593073593, 0.1705357142857143, 0.3306184895833333, 0.5, 0.2889236111111111, 0.2423759050403787, 0.5536451247165532, 0.35596064814814815, 0.6093776455026456, 0.33553571428571427, 0.2162110805860806, 0.3633333333333333, 0.39002380952380955, 0.5415740740740741, 0.27616809116809116, 0.4171611721611721, 0.27733672288359784, 0.3941797924297924, 0.17393543956043958, 0.20917175417175415, 0.36869408369408374, 0.1726388888888889, 0.4348958333333333, 0.4302380952380953, 0.2031436011904762, 0.3933982683982684, 0.23998941798941803, 0.21387499999999998, 0.3401846590909091, 0.385625, 0.11714285714285715, 0.5834821428571428, -0.012499999999999997, 0.16773809523809524, 0.22441505022755023, 0.10915854978354977, 0.505136684303351, 0.38594841269841274, 0.5122606787743507, 0.18585470085470085, 0.4225, 0.27100694444444445, 0.42777777777777776, 0.2000892857142857, 0.2506727994227994, 0.04107142857142854, 0.15867479283380018, 0.8, 0.4657913059163059, 0.3264893535615789, 0.4386966490299823, 0.36179301948051956, 0.2507385361552028, 0.3040625, 0.19601190476190478, 0.284017094017094, 0.38958333333333334, 0.5447916666666667, 0.40855811553548627, 0.21620944531658817, 0.25959129594820385, 0.4035714285714285, 0.18601952060285393, 0.3095833333333333, 0.30629629629629623, 0.2938709077380952, 0.3130787037037037, 0.1906437389770723, 0.40197852246959387, 0.3182539682539683, 0.3541666666666667, 0.6166666666666667, 0.3689814814814814, 0.4318232709750568, 0.30785714285714283, 0.4738452380952381, 0.02482142857142855, 0.5966666666666667, 0.2763095238095238, 0.2076388888888889, 0.19573412698412698, 0.2732026901669759, 0.6270703125, 0.4346666666666667, 0.5618749999999999, 0.21197089947089948, 0.14594056372549022, 0.40295346628679957, 0.3107753357753358, 0.675, 0.4045454545454545, 0.49374999999999997, 0.261001640764707, 0.31019230769230766, 0.35017006802721085, 0.3678819444444444, 0.32541666666666663, 0.30896577380952384, 0.40126470656622026, 0.1588020676606725, 0.30642135642135643, 0.3843229166666667, 0.33897095959595963, 0.12144108124018836, 0.11374649859943978, 0.2738102157102157, 0.5449999999999999, 0.3359484126984127, 0.4969708994708994, 0.33958333333333335, 0.22916666666666669, 0.4291132508915247, 0.28349702380952385, 0.6875, 0.5534722222222223, 0.40287946428571425, 0.22838089440321582, 0.25252209595959596, 0.281549099049099, 0.08471382783882783, 0.27628833406177156, 0.3454861111111111, 0.32143055555555555, 0.3206597222222222, 0.33350217490842493, 0.28869047619047616, 0.2950620094191523, 0.5412499999999999, 0.38820110939407815, 0.3939393939393939, 0.45697278911564626, 0.1743608474858475, 0.4989583333333333, 0.361412037037037, 0.15545745149911816, 0.47356770833333334, 0.5342117604617604, 0.28854166666666664, 0.20347871572871573, 0.09827777777777776, 0.06349330357142857, 0.5, 0.2815622745310245, 0.2330357142857143, 0.28490879779942274, 0.19283513970352598, 0.4525, 0.4943452380952381, 0.13465045371295375, 0.2282871097156811, 0.24778409090909093, 0.4416666666666667, 0.13967893217893218, 0.49969841269841275, 0.17170972471458953, 0.3552358906525573, 0.3462962962962963, 0.4313582251082251, 0.5753472222222222, 0.4262755102040816, 0.25250000000000006, 0.27912968512968517, 0.41074198618841473, 0.4913344155844156, 0.21198735475051264, 0.3383333333333334, 0.36145337301587294, 0.21029538017129928, -0.008333333333333328, 0.55, 0.43984036796536796, 0.3536168154761905, 0.24503968253968256, 0.28420610754985753, 0.39864583333333337, 0.25930555555555557, 0.37030339105339105, 0.1603620189334475, 0.13262896825396825, 0.28217653006715504, 0.5527777777777778, 0.26727825745682887, 0.44166666666666665, 0.4738461538461539, 0.4574691358024692, 0.24667527978993814, 0.23340018315018315, 0.17489658489658488, 0.3786100088183421, 0.35497974537037036, 0.26494874338624336, 0.24718171785479473, 0.2812906273620559, 0.19895238095238096, 0.24135069444444443, 0.18445389266817838, 0.3205555555555556, 0.22683150183150183, 0.4124940476190476, 0.39483300264550264, 0.19754464285714285, 0.30583333333333335, 0.18760204081632653, 0.28002865961199297, 0.5235555555555556, 0.4784375, 0.46353403540903537, 0.4746428571428572, 0.4506418650793651, 0.46571428571428575, 0.4919888314810191, 0.3571759259259259, 0.25767195767195766, 0.3089475281662782, 0.42946428571428574, 0.3083303049289891, 0.5013392857142858, 0.33292410714285714, 0.5577777777777778, 0.4190277777777778, 0.4839583333333334, 0.221682686856794, 0.2813529339250493, 0.2602728174603175, 0.2992361111111111, 0.3488730158730159, 0.5909370748299321, 0.06100518925518925, 0.33184523809523814, 0.2451388888888889, 0.47104166666666664, 0.4766666666666667, 0.29, 0.41944444444444445, -0.07608333333333334, 0.34249118165784836, 0.28505971706864563, 0.42083333333333334, 0.5110677083333334, 0.3988113084740069, 0.10218352141203703, 0.24104166666666668, 0.3013333333333333, 0.41666666666666663, 0.22675693354264784, 0.18778044871794872, 0.13999999999999999, 0.3497773279352227, 0.198968253968254, 0.3516015466015466, 0.3313661680213183, 0.5191220238095238, 0.34851190476190474, 0.31497354497354496, 0.3144704270597128, 0.28430059523809526, 0.38274016203703703, 0.4781084656084656, 0.28708333333333336, 0.39375, 0.2765357142857143, 0.136815137987013, 0.6583333333333333, 0.3512087912087912, 0.20263412620143392, 0.22037037037037036, 0.35562499999999997, 0.46057142857142863, 0.4823214285714286, 0.28441269841269845, 0.38769841269841265, 0.061678743961352644, 0.46119171626984135, 0.18141298516298518, 0.25832199546485257, 0.3951839826839827, 0.18331349206349207, 0.1717261904761905, 0.46125, 0.40572530864197526, 0.443226911976912, 0.2905324074074074, 0.17199074074074072, 0.37583333333333335, 0.04502565488251763, 0.17455908289241626, 0.3048611111111111, 0.39809523809523806, 0.2690761724757015, 0.36277777777777775, 0.2919837454212454, 0.2875551485551486, 0.31347718253968254, 0.318125, 0.3386539502164502, 0.3491666666666666, 0.11736607142857143, 0.18602020096537641, 0.625, 0.40635405643738975, 0.2517121380603523, 0.1645652958152958, 0.1642058850830781, 0.3215085764103621, 0.2761904761904762, 0.2688454861111111, 0.3676190476190477, 0.1957142857142857]}, {\"name\": \"Men\", \"type\": \"box\", \"y\": [0.4629464285714286, 0.5361791383219955, 0.32401515151515153, 0.33994708994708994, 0.30952380952380953, 0.5125, 0.3954365079365079, 0.35968750000000005, 0.44722222222222224, 0.2978835978835979, 0.5268154761904762, 0.6883333333333332, 0.4395833333333333, 0.4088888888888889, 0.3829761904761904, 0.2583333333333333, 0.13495788689867635, 0.3230555555555555, 0.2151105442176871, 0.3591231684981685, 0.29999999999999993, 0.41640625000000003, 0.51125, 0.3470000000000001, 0.3262896825396825, 0.22916666666666666, 0.5, 0.34375, 0.5080208333333334, 0.39, 0.3164285714285714, 0.27191762007833437, 0.305711038961039, 0.16010530474816187, 0.22026515151515155, 0.5041666666666667, 0.29702380952380947, 0.30969854797979796, 0.3340972222222222, 0.3444444444444445, 0.13855555555555557, 0.3597222222222222, 0.11546296296296296, 0.875, 0.4756944444444444, 0.2804280430261399, 0.29200000000000004, 0.38794817927170866, 0.0029513888888888914, 0.28654761904761905, 0.3190021244187911, 0.1234722222222222, 0.30527777777777776, 0.1360655929038282, 0.5055, 0.2477777777777778, -0.1949404761904762, 0.2927777777777778, 0.07235491071428571, 0.4145833333333333, 0.4131944444444445, 0.3554642857142857, 0.6087500000000001, 0.22644303613053612, 0.2934375, 0.2803819444444445, 0.12502834467120183, 0.3902777777777778, 0.1486242974861396, 0.5245833333333334, 0.23357142857142854, 0.2801874069940476, 0.2211607142857143, 0.25198806244260796, 0.26531746031746034, 0.32883763227513224, 0.48125, 0.371767563591093, 0.3960606060606061, 0.2808333333333334, 0.29872023809523807, 0.4140648148148148, 0.051155045351473916, 0.3139668367346939, 0.3848593073593074, 0.1386894465894466, 0.11462962962962962, 0.26079545454545455, 0.3028195488721805, 0.3438311688311688, 0.52625, 0.5326530612244897, 0.604, 0.055009920634920634, 0.2029513888888889, 0.3, 0.4094480519480519, 0.34732142857142856, 0.44306175595238095, 0.42116666666666663, 0.45260416666666675, 0.09086174242424243, 0.2964523809523809, 0.5217207792207792, 0.2694444444444445, 0.6149956597222223, 0.38232954545454545, 0.23664529914529916, 0.6188888888888888, 0.2995833333333333, 0.19198809523809524, -0.11467236467236468, 0.48046130952380955, 0.7141666666666666, 0.349619708994709, 0.1301388888888889, 0.4916666666666667, 0.31304121572871574, 0.22242681000971817, 0.5166666666666667, 0.37036931818181823, 0.3104269784448356, 0.3318055555555555, 0.3696428571428571, 0.15626543209876545, 0.4027083333333332, 0.09097222222222222, 0.30271364795918365, 0.295, 0.13381639194139194, 0.24477777777777776, 0.3017361111111111, 0.32744614512471654, 0.29642857142857143, 0.5055555555555555, 0.1878761446886447, 0.1096792847304211, 0.542064393939394, 0.30132508116883117, 0.30114033189033196, 0.28956810235219327, 0.35478937728937726, 0.41804166666666676, 0.175, 0.26659010228454677, 0.4611111111111111, 0.2692362201290773, 0.5337500000000001, 0.36696056547619044, 0.23790509259259257, 0.41083333333333333, 0.33299242424242426, 0.3330397727272727, 0.4212962962962963, 0.4179315547767929, 0.4866666666666667, 0.4357142857142857, 0.19203373015873015, 0.19593253968253968, 0.40959750566893427, 0.16976190476190475, 0.3479117063492064, 0.17291666666666666, 0.36000000000000004, 0.24125, 0.4263333333333333, 0.45625000000000004, 0.3639596118167547, 0.4117559523809524, 0.4345899470899471, 0.4177991452991453, 0.4506547619047619, 0.4390476190476191, 0.20439713064713064, 0.19909458494936436, 0.43416666666666665, 0.4608333333333333, 0.36081813186813194, 0.18893253968253967, 0.28825757575757577, 0.33838271103896106, 0.5150000000000001, 0.21330952380952378, 0.20038295038295037, 0.125, 0.4094020562770563, 0.21883361678004534, 0.19583333333333333, 0.08583333333333332, 0.2644132653061224, 0.3541666666666667, 0.5064285714285716, 0.55, 0.3107142857142857, 0.36624999999999996, 0.16417410714285716, 0.15000000000000002, 0.5012698412698412, 0.12638888888888888, 0.3868055555555555, 0.12295351473922901, 0.44472222222222224, 0.006442307692307678, 0.32970628908128913, 0.334212512025012, 0.4583333333333333, 0.3045345218095905, 0.20287698412698413, 0.160462962962963, 0.24609778911564625, 0.12441468253968255, 0.26233516483516484, 0.2708333333333333, -0.0675265731292517, 0.534, 0.46439318783068784, 0.29141666666666666, 0.634375, 0.2713383838383839, 0.29193121693121693, 0.248534152423287, 0.13169642857142858, 0.5, 0.1893939393939394, 0.317718253968254, 0.25476190476190474, 0.20274801587301583, 0.41818783068783066, 0.30333333333333334, -0.02996173469387757, 0.31511904761904763, 0.20733901515151512, 0.37222222222222223, 0.096375, 0.30242559523809526, 0.22904761904761903, 0.47708333333333336, 0.30156489769844314, 0.325234375, 0.4347619047619048, 0.40226190476190476, 0.38083333333333336, 0.4932539682539682, 0.14854166666666666, 0.282989477842419, 0.20911044973544973, 0.31364583333333335, 0.21800912698412694, 0.43749999999999994, 0.24772727272727274, 0.07722819715007213, 0.5461666666666667, 0.22961309523809523, 0.23415242165242164, 0.25901785714285713, 0.75, 0.30341666666666667, 0.44583333333333336, 0.5, -0.09999999999999992, 0.6125, 0.30803571428571425, 0.4239586089065255, 0.23777651515151516, 0.39387755102040817, 0.3803030303030303, 0.25, 0.5944444444444444, 0.01562500000000004, 0.29166666666666663, 0.49603174603174605, 0.20327777777777778, 0.395, 0.5099206349206349, 0.8160000000000001, 0.3401957671957672, 0.29771825396825397, 0.502470238095238, 0.3994444444444445, 0.4067460317460318, 0.3620833333333333, 0.31126923076923074, 0.35071428571428576, 0.35816433566433564, 0.4281249999999999, 0.4611111111111111, 0.3198263888888889, 0.23604166666666665, 0.2833906525573192, 0.37, 0.05277777777777778, 0.19955357142857144, 0.2548511904761905, 0.5220714285714286, 0.4619208958715761, 0.3810185185185185, 0.29928571428571427, 0.12398315018315018, 0.3038265306122449, 0.23317804737672548, 0.2868000637755102, 0.2902480158730159, 0.23702062643239113, 0.45805555555555555, 0.17782407407407408, 0.48862500000000003, 0.09433333333333332, 0.2283459595959596, 0.251712396069539, 0.5562500000000001, 0.38472222222222224, 0.3339285714285714, 0.5486507936507936, 0.5673333333333334, 0.5734300595238095, 0.19080357142857143, 0.3510204081632653, 0.4767965367965368, 0.44191433896791044, 0.23854166666666665, 0.09392857142857142, 0.5357142857142857, 0.1, 0.4275, 0.48733333333333334, 0.18175, 0.4009615384615384, 0.4469337606837607, 0.35, 0.26694444444444443, 0.37335246598639454, 0.38647186147186147, 0.35320350362367164, 0.40006377551020406, 0.23106060606060605, 0.1582090132090132, 0.22633333333333333, 0.3520119047619048, 0.4291666666666666, 0.36269841269841274, 0.35388095238095235, 0.3371599002849003, 0.32281746031746034, 0.6028645833333334, 0.2731547619047619, 0.29111111111111115, 0.11666666666666667, 0.2800076530612245, 0.6000056689342403, 0.18305555555555553, 0.5424627976190477, 0.3621279761904762, 0.4943455782312925, 0.5311423611111111, 0.25409564393939393, 0.427046130952381, 0.5454545454545454, 0.15083333333333332, 0.020833333333333343, 0.19411830357142856, 0.44849046015712685, 0.3416666666666667, 0.30583333333333335, 0.07995430495430496, 0.46268253968253964, 0.2488238095238095, 0.32767857142857143, 0.48839569160997737, 0.036660879629629654, 0.3296654555761699, 0.36, 0.258032965037867, 0.0811607142857143, 0.11942046957671959, 0.2328125, 0.33297288359788363, 0.1649702380952381, 0.2830849395313681, 0.2226172161172161, 0.44791666666666663, 0.17375, 0.33046875, 0.407647266313933, 0.3040722222222222, 0.55, 0.19493981481481482, 0.2486734693877551, 0.209293395009519, 0.3647331349206349, 0.3819444444444444, 0.36975056689342406, 0.6667380952380952, 0.4291666666666667, 0.2898271474297136, 0.08368205868205869, 0.43333333333333335, 0.09360269360269359, 0.23918518518518517, 0.2839488636363636, 0.32467948717948725, 0.38, 0.21666666666666667, 0.3443610093610094, 0.18587301587301588, 0.109, 0.46041666666666664, 0.19970238095238096, 0.445107646982647, 0.08071428571428571, 0.41620408163265304, 0.1725, 0.26026455026455025, 0.16634920634920633, 0.22976190476190475, 0.6169285714285715, 0.20958333333333334, 0.3771494708994709, 0.6131249999999999, 0.47916666666666663, 0.1077157738095238, 0.19362244897959185, 0.23619047619047623, 0.349537037037037, 0.3840277777777778, 0.5025000000000001, 0.048214285714285716, 0.19148809523809526, 0.29479399172256315, 0.35, -0.015303030303030303, 0.1758482142857143, 0.009280303030303036, 0.18339947089947092, 0.5738888888888889, 0.24323593073593072, 0.2896825396825397, 0.29883333333333334, 0.3313383838383838, 0.24773809523809526, 0.30996472663139324, 0.08206018518518518, 0.33958333333333335, 0.4363095238095238, 0.6392857142857142, 0.34500687143544284, 0.6200000000000001, 0.4151388888888889, 0.23537774725274724, 0.19339521919879066, 0.45699074074074075, 0.3190476190476191, 0.20658895502645502, 0.3758333333333333, 0.17142857142857143, 0.24111679491143775, 0.40817761479591835, 0.39979166666666666, 0.3540909090909091, 0.02834280303030303, -0.031428571428571424, 0.45499999999999996, 0.23177083333333334, 0.3645833333333333, 0.2582077922077922, 0.31086309523809524, 0.24577838827838827, 0.3439523100907029, 0.27641369047619047, 0.38080014859479144, 0.18229166666666663, 0.29579081632653065, 0.5445238095238095, 0.46166666666666667, 0.7333333333333333, 0.4742061237373737, 0.2384332024144054, 0.2610119047619048, 0.2875, 0.22485119047619048, 0.12380952380952381, 0.1605004409171076, 0.48000000000000015, 0.40128571428571425, 0.37744212962962964, 0.4395833333333333, 0.35714285714285715, 0.0570394882894883, 0.21726190476190474, 0.5771527777777777, 0.1597222222222222, 0.15378559557726226, 0.42063492063492064, 0.29591420153920156, 0.5833333333333333, 0.6015178571428572, 0.2256439393939394, 0.3511111111111111, 0.15615827800049076, 0.17500000000000002, 0.19380555555555556, 0.13952380952380952, 0.09229166666666666, 0.49666666666666665, 0.16726190476190478, 0.2157638888888889, 0.214498371998372, 0.34998582766439906, 0.3905059523809524, 0.4975, 0.3644230769230769, 0.42823412698412694, 0.24270833333333336, 0.15503296703296704, 0.2830867346938776, 0.12017857142857141, 0.13837698412698413, 0.47066964285714286, 0.690625, -0.02312499999999998, 0.33006155303030305, 0.3348882783882784, 0.07231792717086835, 0.40416666666666673, 0.4574801587301587, 0.0, 0.4392857142857143, 0.4343434343434343, 0.228693404064309, 0.34208333333333335, 0.07166666666666667, 0.715625, 0.32880180776014106, 0.18560168997668997, 0.1586213786213786, 0.17935339506172843, 0.37533129444959806, 0.06437074829931974, 0.2349153439153439, 0.08750000000000001, 0.4644465252009895, 0.4226190476190476, 0.20435698088759313, 0.34833333333333333, 0.27314814814814814, 0.215625, 0.3281428571428571, 0.2879166666666667, 0.4461998456790124, 0.452020202020202, 0.3470238095238095, 0.29566326530612247, 0.08333333333333333, 0.2871207248331431, 0.5750000000000001, 0.2673868312757201, 0.30326767676767674, 0.40106666666666674, 0.3639974053724054, 0.3383333333333333, 0.36875, 0.29595734126984125, 0.2769444444444445, 0.5108333333333334, 0.5138888888888888, 0.41573260073260077, 0.5748139880952381, 0.287396978021978, 0.2411630036630037, 0.2361904761904762, 0.39204545454545453, 0.2696825396825397, 0.10333333333333333, 0.18417735951218095, 0.40921470342522975, 0.4925595238095238, 0.3527777777777778, 0.5315714285714285, 0.0, 0.06859747023809523, 0.21816666666666665, 0.08407407407407408, 0.2250504298941799, 0.26787037037037037, 0.17035714285714287, 0.42128571428571426, 0.17505681818181817, 0.34747931697931705, 0.12910714285714286, 0.43847222222222226, 0.48500000000000004, 0.3888965201465202, 0.21684628237259815, 0.5619047619047619, 0.2241666666666667, 0.26607142857142857, 0.3833333333333333, 0.3958333333333333, 0.5016666666666667, 0.39687500000000003, 0.3676417824074074, 0.45440228174603176, 0.44562500000000005, 0.2916666666666667, 0.5016666666666667, 0.4010416666666667, 0.3123076923076923, 0.565422619047619, 0.5595833333333333, 0.09986111111111107, 0.43487878787878786, 0.2673, 0.60075, 0.4132169011544012, 0.20313852813852817, 0.4274038461538462, 0.35666666666666663, 0.14907407407407408, 0.2834535834535835, 0.5833333333333333, 0.11666666666666664, 0.40763888888888894, 0.5931972789115646, 0.39618055555555554, 0.30669642857142854, 0.3332407407407407, 0.18693134093915342, 0.6100000000000001, 0.3363888888888889, 0.34858333333333336, 0.34014649193010543, 0.29305555555555557, 0.4756944444444444, 0.5508928571428572, 0.4747048611111111, 0.3536781091535435, 0.3424512987012987, 0.5958333333333333, 0.18878968253968256, 0.34845238095238096, 0.44236201298701305, 0.48000000000000004, 0.05500000000000001, 0.5270833333333333, 0.31667617349970295, 0.11154761904761906, 0.371875, 0.0, 0.5370039682539683, 0.13348214285714285, 0.5484126984126984, 0.25275, 0.2550298466965134, 0.5521717171717172, 0.4186597222222222, 0.22325925925925927, 0.26639564732142856, 0.5325, 0.0, 0.23083333333333336, 0.04999999999999999, 0.49700000000000005, 0.25661931818181816, 0.41625, 0.2633055337519623, 0.2053794642857143, 0.22034438775510204, 0.2985267857142857, 0.03208333333333334, 0.17791666666666667, 0.10967579365079365, 0.323452380952381, 0.3197380952380952, 0.3176704545454545, 0.3370238095238095, 0.3671269841269841, 0.38958333333333334, 0.3499999999999999, 0.7, 0.26666666666666666, 0.23921957671957672, 0.10229013480392157, 0.18160714285714286, 0.2132147327980661, 0.35088564213564216, 0.28928571428571426, 0.53125, 0.33830544455544453, 0.43506944444444445, 0.41333333333333333, 0.1754166666666667, 0.192109477124183, 0.4777777777777778, 0.21458333333333335, 0.19870823409492003, 0.2588333333333333, 0.38973214285714286, 0.26311624649859944, 0.24151234567901236, 0.07291666666666667, 0.18071794871794866, 0.4563425925925926, 0.6645833333333333, 0.3367857142857143, 0.22366666666666668, 0.47777777777777775, 0.21687708855472015, 0.2931746031746032, 0.09446396857111142, 0.5622510822510822, 0.32923403976975407, 0.2513888888888889, 0.03451999389499388, 0.4765625, 0.590625, 0.2255080191798942, 0.3424898678428621, 0.09380952380952381, 0.4039259259259259, 0.6087037037037036, 0.22919348398515063, 0.28777777777777774, 0.5010757575757575, 0.41501736111111115, 0.3315972222222222, 0.692, 0.38125, 0.9126562500000001, 0.48261904761904756, 0.17863335077620793, 0.059402391259534115, 0.35211309523809525, 0.2954135948927615, 0.24220238095238095, 0.26666666666666666, 0.2232984607984608, 0.6222222222222221, 0.4558333333333333, 0.23033609988642334, 0.43125, 0.32272222222222224, 0.589937641723356, 0.2464285714285714, 0.3416666666666667, 0.07776785714285714, 0.47337868480725626, 0.44375, 0.21363033234126982, 0.3260187155864677, 0.2578300865800866, 0.31625000000000003, 0.20906001984126985, 0.6166666666666667, 0.20576388888888889, 0.3375, 0.17504050925925926, 0.34682539682539687, 0.28121598639455786, 0.6310937499999999, 0.3113888888888888, 0.16482015533486125, 0.2056994047619048, 0.21299016955266953, 0.18290107709750567, 0.1459479879046342, 0.5151118326118327, 0.44945833333333335, 0.3, 0.1995773996442983, 0.31833050794289336, 0.29428571428571426, 0.647, 0.21111111111111114, 0.07348502577669244, 0.17301587301587298, 0.17791077969649396, 0.36298611111111106, 0.17405753968253967, 0.20552517361111108, 0.5209305555555556, 0.6388888888888888, 0.505625, 0.04166666666666666, 0.39444444444444443, 0.5866666666666667, 0.22804487179487176, 0.31625000000000003, 0.23333333333333334, 0.3527676027676028, 0.1543175747863248, 0.2596898835291693, 0.512716049382716, 0.32002289562289565, 0.24192857142857144, 0.40166666666666667, 0.35748797498797497, 0.26359126984126985, 0.15481247477804683, 0.605, 0.3657380952380952, 0.1654103535353535, 0.31631944444444443, 0.315, 0.22370039682539683, 0.1703220390720391, 0.4724285714285714, 0.17674902547298382, 0.44416666666666665, 0.4083333333333333, 0.4303125, 0.5050952380952382, 0.4054677579365079, 0.14583333333333331, 0.5916666666666667, 0.4316826923076923, 0.31721500721500717, 0.1598214285714286, 0.4302116038723181, 0.2337492913832199, 0.34306060606060607, 0.3801587301587302, 0.19965367965367964, 0.26034197052947056, 0.509375, 0.42708333333333337, 0.2719449213980464, 0.3213888888888889, 0.3836397058823529, 0.24794642857142857, 0.2365975690975691, 0.3033333333333333, 0.6575, 0.2592261904761905, 0.17791467079928616, 0.3954960317460317, 0.26966540404040407, 0.3827690972222222, 0.34765151515151516, 0.3540277777777777, 0.35080158730158734, 0.35000000000000003, 0.2298253524253524, 0.1785714285714286, 0.0, 0.21561207311207312, 0.5286666666666666, 0.2969583333333333, 0.26135735544217686, 0.3577777777777778, 0.23413318452380952, 0.3564331501831502, 0.3386127946127946, 0.351, 0.31402407116692826, 0.2743055555555556, 0.10680555555555554, 0.315625, 0.182703373015873, 0.20174024470899474, 0.42232142857142857, 0.31310515873015876, 0.38625, 0.2223063973063973, 0.21462962962962961, 0.18932422189969356, 0.4732142857142857, 0.41208333333333336, 0.28821759259259266, 0.3850262237762238, 0.12854166666666667, 0.575, 0.33695436507936505, 0.4140972222222223, 0.25857959850606904, 0.40325000000000005, 0.2079671717171717, 0.38875000000000004, 0.6075353535353536, 0.4602136752136752, 0.11708829365079365, 0.1767750235875236, 0.1488558201058201, 0.47000000000000003, 0.4493367346938776, 0.2674393315018315, 0.2835882173382173, 0.13997280345677912, 0.5954166666666667, 0.1685537686809616, 0.4709750566893424, 0.1803505291005291, 0.1249985259662679, 0.3162962962962963, 0.242405532104733, 0.20923826173826174, 0.19519008769008772, 0.1629804876496053, 0.4848958333333333, 0.34424603174603174, 0.26425894431846814, 0.2024456941867656, 0.3735888528138528, 0.3228160430839002, 0.234755291005291, 0.7214285714285714, 0.37857142857142856, 0.24895833333333334, 0.3771306818181818, 0.18500768893415953, 0.22254464285714287, 0.24958333333333332, 0.5046666666666667, 0.16970532391585022, 0.320987293956044, 0.2631764069264069, 0.21284293831168835, 0.3375, 0.2802380952380952, 0.3394179894179894, 0.3362951853918651, 0.5043333333333334, 0.22373188405797106, 0.22416666666666665, 0.24652777777777776, 0.25104166666666666, 0.4427455357142857, 0.2828120490620491, 0.36808035714285714, 0.3070634920634921, 0.21635101010101013, 0.2220145089285714, 0.5607142857142857, 0.3001785714285714, 0.7000000000000001, 0.2896875, 0.20764221799831045, 0.21639880952380958, 0.462936507936508, 0.27365384615384614, 0.16911341289615608, 0.12666666666666668, 0.3515625, 0.4525555555555556, 0.24011904761904762, 0.36458333333333337, 0.34270833333333334, -0.05500000000000005, 0.24532814407814407, 0.3206349206349206, 0.15014880952380952, 0.5103219696969697, 0.4294158286736412, 0.1326997770747771, 0.4465515873015873, 0.2988095238095238, 0.2860064935064935, 0.14136280386280387, 0.3010008169934641, 0.06832070707070709, 0.26210750360750357, 0.2888888888888889, 0.12229010025062657, 0.235, 0.34375, 0.6239583333333334, 0.22863636363636364, 0.20071598847109048, 0.42905303030303027, 0.2968253968253968, 0.5107374847374847, 0.530952380952381, 0.3390625, 0.4833333333333333, 0.34791666666666665, 0.39829763407888413, 0.24785283389450055, 0.4821074481074481, 0.3606415343915344, 0.4162202380952381, 0.08275396825396825, 0.11591421277135563, 0.36875, 0.45089285714285715, 0.2565277777777778, 0.3428472222222222, 0.23741567460317464, 0.3741666666666667, 0.291297619047619, 0.47627314814814814, 0.4716666666666667, 0.2694444444444445, 0.2626388888888889, 0.34140008140008143, 0.42252607709750567, 0.26687500000000003, 0.47489583333333335, 0.05, 0.33904761904761904, 0.6572916666666666, 0.38875000000000004, 0.24034086284086284, 0.40290211640211643, 0.42295, 0.27055555555555555, 0.29672619047619053, 0.24000000000000005, 0.09973290598290599, 0.4091269841269842, 0.32590277777777776, 0.36875, 0.3712244897959184, 0.34303703703703703, 0.35989969135802474, 0.47089285714285717, 0.4, 0.2422821569456185, 0.355925925925926, 0.45388888888888895, 0.5000000000000001, 0.2548568376068376, 0.3422222222222222, 0.3511904761904763, 0.42121212121212126, 0.6346666666666666, 0.012876157407407406, 0.62, 0.029374999999999984, 0.06716666666666667, 0.4828395061728395, 0.23720238095238094, 0.1506548774166646, 0.0322172619047619, 0.09675339366515835, 0.3489748677248678, 0.1975, 0.3909722222222222, 0.22795815295815294, 0.07741611067503926, 0.37299620132953465, 0.23800000000000004, 0.05942063492063492, 0.1524621212121212, 0.6339285714285714, 0.2907341960288389, 0.34895833333333337, 0.43111111111111106, 0.3147619047619048, 0.26333333333333336, 0.625, 0.3111111111111111, 0.36041666666666666, 0.14083333333333334, 0.2811596513605442, 0.175696131550911, 0.25625, 0.38694047619047617, 0.2279761904761905, 0.2569932306255836, 0.3456052593742811, 0.3166827755577756, 0.35455357142857147, 0.17983022486772487, 0.35333333333333333, 0.49587301587301585, 0.15962250481000484, 0.358425925925926, 0.15101190476190476, 0.125, 0.56, 0.004067460317460317, 0.8166666666666667, 0.3983333333333334, 0.1467032967032967, 0.44642857142857145, 0.32045454545454544, 0.11949786324786325, 0.12083333333333335, -0.05, 0.3046296296296296, 0.3679783950617284, 0.17520833333333333, 0.06864417989417992, 0.3671374458874459, 0.311525974025974, 0.42033564814814817, 0.410625, 0.59, 0.584672619047619, 0.30277777777777776, 0.47571428571428576, 0.49250000000000005, 0.2559149184149184, 0.3408982683982684, 0.5174776785714286, 0.2726190476190476, 0.26375000000000004, 0.08688725490196078, 0.2028985507246377, 0.38518518518518513, 0.4446560846560847, 0.1542063492063492, 0.35086805555555556, 0.5038888888888889, 0.024375000000000004, 0.32898076923076924, 0.11717236467236469, 0.28979076479076477, 0.29477241805813237, 0.43410418407128937, 0.6616071428571428, 0.2571428571428571, 0.32235449735449734, 0.32954545454545453, 0.3721354166666666, 0.29408786848072566, 0.2925347222222222, 0.396875, 0.16238275613275613, 0.39250621402407115, 0.4230424783549784, 0.3063015873015873, 0.22666666666666668, 0.6452380952380953, 0.48564754689754686, 0.33166666666666667, 0.4021874999999999, 0.4878968253968254, 0.5670436507936507, 0.23899016135379775, 0.3560847042576429, 0.1673827776059919, 0.6666666666666666, 0.5551111111111111, 0.295, 0.35208333333333336, 0.4, 0.39049999999999996, 0.2517708333333334, 0.071875, 0.09167379712301588, 0.19565476190476191, 0.2564312770562771, 0.3041666666666667, 0.3628663003663003, 0.3121341066341066, 0.24305555555555555, 0.2512673357692155, 0.35725623582766436, 0.2978381229034824, 0.41463293650793653, 0.49547619047619046, 0.35002216958211857, 0.48888888888888893, 0.28408730158730156, 0.38333333333333336, 0.27777777777777773, 0.20303585567871282, 0.4675, 0.18940170940170942, 0.49861111111111117, 0.35, 0.0576923076923077, 0.1760814246803258, 0.425, 0.254047619047619, 0.4311291454081633, 0.41666666666666674, 0.27596064814814814, 0.2581845238095238, 0.725, 0.44363636363636366, 0.21127946127946126, 0.1779653987987321, 0.15625, 0.31666666666666665, 0.3284722222222222, 0.28738977072310407, 0.1413938492063492, 0.5354166666666667, 0.3599596088435374, 0.16005293263646925, 0.17916666666666664, 0.19172280844155842, 0.34875661375661376, 0.12083333333333333, 0.3015993265993266, 0.35229166666666667, 0.2849047619047619, 0.22728693181818183, 0.4816666666666667, 0.1892857142857143, 0.22780102040816325, 0.2684375, 0.10411458333333333, 0.24166666666666664, 0.526875, 0.34512362637362637, 0.11237103174603175, 0.51875, 0.3227966889880952, 0.22146464646464645, 0.2807291666666667, 0.2923232323232323, 0.3109246675943104, 0.3230074896694215, 0.42000000000000004, 0.15322222222222223, 0.6958333333333333, 0.3470833333333333, 0.3484948979591837, 0.24, 0.14, 0.3159208152958153, 0.5041666666666667, 0.30518518518518517, 0.17850508866133868, 0.16195436507936506, 0.34437321937321935, 0.17124999999999999, 0.48392857142857143, 0.3738095238095238, 0.43726190476190474, -0.0361111111111111, 0.6135416666666667, 0.5375, 0.059260267555909, 0.5251984126984127, 0.1276984126984127, 0.3458333333333333, 0.4330496632996633, 0.44244791666666666, 0.1336160714285714, 0.614030505952381, 0.3766642278439153, 0.35583333333333333, 0.37222222222222223, 0.2875, 0.0025000000000000022, 0.5767857142857143, 0.42447916666666663, 0.32499999999999996, 0.17738095238095236, 0.38357142857142856, 0.01953125, 0.39647321428571425, 0.26878908128908124, 0.38265151515151513, 0.45499999999999996, 0.2497101449275362, 0.2716857142857142, 0.44817212301587306, 0.1854421126012035, 0.1871138186177249, 0.3983346560846561, 0.5210884353741496, 0.23888888888888887, 0.5125, 0.025226856476856477, 0.29125, 0.32045899470899475, 0.4159682539682539, 0.21345486111111112, 0.16389880952380953, 0.07953703703703703, 0.4344444444444444, 0.1915277777777778, 0.1435479720109822, 0.3238095238095238, 0.24907738095238097, 0.43060952380952383, 0.07115740740740742, 0.2041510323721862, 0.08210317460317461, 0.34630102040816324, 0.4559126984126984, 0.3322222222222222, 0.05384424603174602, 0.2686111111111111, 0.3207892416225749, 0.09879535147392289, 0.45, 0.33012286985501266, 0.35100000000000015, 0.3626984126984127, 0.30436904761904765, 0.27704545454545454, 0.12752267573696144, 0.225, 0.3423611111111111, 0.11572613894042467, 0.058035714285714274, 0.03626860119047619, 0.26949816849816854, 0.2773003472222222, 0.18774022108843536, 0.379, 0.2809752747252747, 0.47475, 0.19131944444444443, 0.36011904761904767, 0.4295833333333334, 0.4813177083333333, 0.47972222222222216, 0.13444444444444448, 0.1658375850340136, 0.2576984126984127, 0.5610999999999999, 0.17006944444444444, 0.40975000000000006, 0.3589285714285714, 0.625, 0.1505050505050505, 0.358125, 0.14166666666666666, 0.40541666666666665, 0.200741594714809, 0.19630952380952382, 0.37916666666666665, 0.53125, 0.13291202844774272, 0.1815208333333333, 0.2125, 0.1713131313131313, 0.23080357142857144, 0.4137738095238096, 0.4669416099773242, 0.25666666666666665, 0.20554193899782136, 0.12386561355311355, 0.007490079365079366, 0.21087642609126983, 0.43935897435897436, 0.12604166666666666, 0.3259163059163059, 0.24054761904761904, 0.4455587301587302, 0.248647633744856, 0.1613267195767196, 0.4372222222222222, 0.5, 0.525892857142857, 0.276875, 0.23333333333333336, 0.6078125, 0.4744791666666667, 0.3491964285714285, 0.18538690476190475, 0.21933740857454093, 0.25170917508417506, 0.28500000000000003, 0.24732234432234432, 0.625, 0.42781250000000004, 0.3446628787878788, 0.40079861111111115, 0.49902777777777785, 0.17881944444444445, -0.19305555555555556, 0.23835813492063493, 0.41579365079365077, 0.27499999999999997, 0.2209077380952381, 0.5257086167800454, 0.5479166666666667, 0.16111111111111112, 0.3791323953823954, 0.1766540404040404, 0.5371130952380953, 0.17777777777777776, 0.10464015151515152, 0.46509469696969696, 0.022499999999999985, 0.33229166666666665, 0.2605708874458874, 0.26154761904761903, 0.39446401515151513, 0.22922739297739295, 0.17821428571428571, 0.5241468253968254, 0.28284632034632035, 0.26388888888888884, 0.15669888147566718, -0.016666666666666663, 0.5395833333333333, 0.2414948532044397, 0.377175, 0.45439236111111114, 0.22950757575757577, 0.06312500000000001, 0.12285464535464535, 0.2540744843391902, 0.1408333333333333, 0.29120535714285717, 0.29374999999999996, 0.18055555555555555, 0.2714285714285715, 0.37085606812169314, 0.5042857142857143, 0.5116666666666667, 0.38400613275613277, 0.62625, 0.29595454545454547, 0.5525, 0.40375, 0.2779775432900433, 0.3310185185185185, 0.1323611111111111, 0.24416666666666667, 0.35321150097465887, 0.013869047619047638, 0.395765306122449, 0.4611160714285714, 0.4906926406926407, 0.2942708333333333, 0.3585965307840308, 0.37812500000000004, 0.30252380952380953, 0.3191666666666667, 0.13679025706803483, 0.25293650793650796, 0.22267857142857142, 0.3734862172097871, 0.18613636363636363, 0.2657008508732646, 0.41247023809523814, 0.24768518518518515, 0.1966696575816474, 0.5449999999999999, 0.1538095238095238, 0.5928571428571429, 0.5933333333333333, 0.354375, 0.2, 0.3173373015873016, 0.34619047619047627, 0.23053354978354976, 0.22083333333333333, 0.5809523809523809, 0.20429834054834053, 0.5266666666666666, 0.35, 0.12557738095238094, 0.6842063492063492, 0.39335648148148145, 0.4247916666666667, 0.3532528409090909, 0.6269620907738095, 1.0, 0.5070833333333333, 0.15941786283891546, 0.4349603174603175, 0.5515625, 0.5533333333333333, 0.2102976190476191, 0.29665178571428574, 0.1473148148148148, 0.28903809523809526, 0.24407407407407408, 0.27977114898989897, 0.44375, 0.32104166666666667, 0.04543939393939394, 0.15096161616161616, 0.33394345238095235, 0.636, 0.28799997745310246, 0.11784090909090908, 0.30462962962962964, 0.39584859584859583, 0.5799999999999998, 0.3575071699134199, 0.38722943722943726, 0.3349692307692308, 0.44767609126984126, 0.3595335149181304, 0.6071428571428571, 0.4663888888888889, -0.034104938271604934, 0.48333333333333334, 0.27449156746031744, 0.2630246913580247, 0.5536666666666666, 0.19208333333333333, 0.4916666666666667, 0.28863203463203463, 0.23841071428571428, 0.39656249999999993, 0.31142857142857144, 0.2912552213868004, 0.3579166666666667, 0.3205952380952381, 0.4408673469387755, 0.4180357142857143, 0.1830121930538597, 0.625, 0.45957792207792203, 0.5255, 0.575, 0.29, 0.36959996220710506, 0.3835, 0.02185156113727542, 0.217531746031746, 0.46943620457824997, 0.3354875283446712, 0.06066666666666668, 0.27983368097951433, 0.48875, 0.1628541666666667, 0.3904166666666667, 0.42214285714285715, 0.26651785714285714, 0.09093194444444444, 0.2117517006802721, 0.3557436868686869, 0.20033882783882787, 0.4574907384282384, 0.3422619047619047, 0.22874999999999998, 0.7250000000000001, 0.2275, 0.3177083333333333, 0.1376068376068376, 0.2503571428571429, 0.20779637896825398, 0.26335978835978835, 0.37666666666666665, 0.6067857142857143, 0.47395833333333337, 0.3104166666666667, 0.2565476190476191, 0.3086111111111111, 0.28305555555555556, 0.1627973455942206, 0.23335227272727274, 0.29756944444444444, 0.4075, 0.12291666666666667, 0.38493939393939397, 0.2939444444444444, 0.40395833333333336, 0.16111567691518655, 0.22052484882842024, 0.31081196581196585, 0.32569444444444445, 0.41901823870573873, 0.20885416666666667, 0.24885064935064938, 0.3220703125, 0.40625, 0.38160416666666663, 0.012384259259259251, 0.4395238095238095, 0.2333333333333333, 0.5266666666666666, 0.2735, 0.30306437389770724, 0.24385606060606063, 0.17299603174603176, 0.14391098484848486, 0.11740837287712289, 0.3403815628815629, 0.36882480130099177, 0.36720238095238095, 0.31750000000000006, 0.4395833333333333, 0.485, 0.3988888888888889, 0.04450000000000001, 0.4705555555555556, 0.13255102040816327, -0.025000000000000022, 0.2619444444444444, 0.2900233667847304, 0.2985008818342152, 0.35416666666666663, 0.0, 0.2329045414462081, 0.2703535997732426, 0.2152457958707959, 0.5641666666666667, 0.3172013888888889, 0.2346875, 0.17839940297444945, 0.21192099567099568, 0.3024590092447235, 0.24604761904761904, 0.7375, 0.4990500000000001, 0.4502430555555556, 0.23391203703703697, 0.26416666666666666, 0.2932679581221248, 0.25375000000000003, 0.18333333333333332, 0.21458333333333335, 0.253314594356261, 0.21420811287477956, 0.4246761363636364, 0.5808771306818181, 0.4341666666666667, 0.27852884615384615, 0.10267857142857142, 0.42000000000000004, 0.14745535714285715, 0.2607129774986918, 0.0391626984126984, 0.4675774754346183, 0.42382936507936514, 0.3125, 0.46375000000000005, 0.2773319128787879, 0.38421717171717173, 0.6725, 0.346875, 0.14617024840239126, 0.3056610056610056, 0.6394847470238095, 0.3894223484848485, 0.31428571428571433, 0.6410714285714285, 0.2670610119047619, 0.38666666666666666, 0.4140304667040778, 0.2930555555555555, 0.2791666666666667, 0.44219708994708995, 0.10677083333333334, 0.1749349206349206, 0.3080555555555556, 0.1986111111111111, 0.5549999999999999, 0.3666666666666667, 0.13120163034619442, 0.35000000000000003, 0.525, 0.2319444444444444, 0.27603772306023855, 0.34625, 0.28016156462585035, 0.475, 0.4883333333333333, 0.29208333333333336, 0.1863888888888889, 0.19083333333333333, 0.17031513338953813, 0.32007575757575757, 0.1255324074074074, 0.37121031746031746, 0.4299107142857143, 0.2001736111111111, 0.566125, 0.33660317460317457, 0.22795758928571427, 0.17853168326382612, 0.2645234765234765, 0.15279982363315694, 0.2875, 0.30513532763532764, 0.31310185185185185, 0.20052083333333334, 0.3061499530167733, 0.7, 0.6, 0.6614285714285714, 0.44538690476190473, 0.47034722222222225, 0.42833333333333334, 0.40415013227513225, 0.3688463718820862, 0.0450892857142857, 0.37222222222222223, 0.06440476190476191, 0.23294238683127574, 0.05462962962962962, 0.2571888528138528, 0.36523809523809525, 0.4076884920634921, 0.32588293650793654, 0.32053571428571426, 0.22837301587301584, 0.40826407967032974, 0.5175, 0.3025, 0.36251217532467533, 0.25055555555555553, 0.44002752009894863, 0.5346651785714286, 0.3666666666666667, 0.21133658008658007, 0.3385714285714286, 0.4357435483663162, 0.5711111111111111, 0.27197512601358753, 0.3755555555555556, 0.2794196428571428, 0.19737180885636657, 0.4097112750014536, 0.18955026455026455, 0.2935802469135803, 0.16892857142857143, 0.17037037037037037, 0.4334256897203326, 0.405, 0.40686111111111106, 0.21802881275373395, 0.42777777777777776, 0.1529761904761905, 0.15634920634920635, 0.24249999999999997, 0.30625, 0.14654761904761904, 0.4861111111111111, 0.30764742202242207, 0.16099771825396825, 0.20060296846011133, 0.5273015873015873, 0.4271527777777777, 0.4666666666666666, 0.18411172161172165, 0.39313548752834465, 0.27362861811391226, 0.3511679292929293, 0.3890476190476191, 0.37809027777777776, 0.09000000000000001, 0.4245651455026455, 0.12272727272727273, 0.4261111111111111, 0.23008301803274112, 0.453125, 0.4368055555555556, 0.17361111111111113, 0.19352495822890559, 0.512020202020202, 0.1820345961908462, 0.14479166666666665, 0.3833333333333333, 0.3786111111111111, 0.46, 0.30073181592712844, 0.1577557319223986, 0.425, 0.16330357142857144, 0.5045034013605443, 0.1439814814814815, 0.42972966269841273, 0.4803571428571428, 0.31858353524369154, 0.24627916065416067, 0.3364814814814815, 0.3018801965230537, 0.19791666666666669, 0.1864484126984127, 0.2942029785168883, 0.3154374999999999, 0.5799404761904762, 0.10381944444444444, 0.4375, 0.6822048611111112, 0.5319444444444444, 0.09914772727272728, 0.32734375, 0.49416666666666675, 0.29166666666666663, 0.23680555555555557, 0.5968888888888888, 0.239525462962963, 0.19464285714285712, 0.41833333333333333, 0.39888888888888885, 0.6172222222222222, 0.26, 0.13810893901420215, 0.2322727272727273, 0.396875, 0.22514430014430012, 0.5866666666666666, 0.4566666666666667, 0.42500000000000004, 0.5473958333333333, 0.46319444444444446, 0.47770833333333335, 0.18055555555555555, 0.26336367880485523, 0.24174567816968384, 0.53, 0.4755555555555555, 0.3138888888888889, 0.16661458333333332, 0.21100274725274726, 0.4175, 0.19702380952380952, 0.19249999999999998, 0.4029166666666667, 0.5983333333333333, 0.18825757575757573, 0.45138888888888884, 0.5183928571428572, 0.26666666666666666, 0.3938888888888889, 0.20541666666666666, 0.3753769841269841, 0.3106580919080919, 0.27022930194805195, 0.10925843253968254, 0.43991344809208077, 0.14652648096275547, 0.2972517361111111, 0.2163944128787879, 0.26995343040797587, 0.15310639880952384, 0.08701092558235413, 0.5491666666666667, 0.46957671957671954, 0.22333333333333333, 0.22583586151188192, 0.5452083333333333, 0.1299537037037037, 0.41666666666666663, 0.3566724537037037, 0.3293662067099567, 0.17250694444444445, 0.003705357142857149, 0.5049470592680432, 0.36178571428571427, 0.2835860582558305, 0.3988095238095238, 0.24424558080808081, 0.36568750000000005, 0.025376984126984123, 0.2729124149659864, 0.14033560090702948, 0.3226190476190476, 0.2709360469777136, 0.22880952380952382, 0.15252794612794612, 0.11486607142857143, 0.3816666666666667, 0.3396216931216931, 0.41735714285714287, -0.020833333333333332, 0.3916666666666666, 0.3614583333333334, 0.2934895833333333, 0.4069166666666666, 0.21666666666666667, 0.3972222222222222, 0.1761326741440378, 0.20952380952380953, 0.44097222222222227, 0.33047960069444443, 0.07948468198468198, 0.3693333333333333, 0.3164965986394558, 0.4003968253968254, 0.31192838210620943, 0.21666666666666667, 0.21944444444444441, 0.154265873015873, 0.1499581128747795, 0.4042889030612245, 0.4768181818181818, 0.427, 0.5, 0.19124999999999998, 0.3435836385836386, 0.3257509157509158, 0.666261574074074, 0.5073863636363636, 0.15252976190476192, 0.2933928571428571, 0.24404761904761907, 0.1802777777777778, 0.2442104797484262, 0.2931806958473625, 0.4817857142857143, 0.47343749999999996, 0.6278765190972222, 0.6597402597402597, 0.5219444444444444, 0.4681122448979591, 0.13905438311688315, 0.10624999999999998, 0.28757976591309925, 0.4013737100004069, 0.1386391981034838, 0.4469444444444444, 0.3610166396103896, 0.4929722222222222, 0.685, 0.4833333333333334, 0.15004652972300034, 0.3185218253968254, 0.5709895833333334, 0.38510416666666675, 0.4325, 0.3423611111111111, -0.011263227513227524, 0.0886564166827325, 0.46184371184371187, 0.25863095238095235, 0.4913580246913581, 0.20288600288600286, 0.4974305555555555, 0.4333333333333333, 0.3109335839598998, 0.7000000000000001, 0.22591269841269843, 0.15844065656565653, 0.5308333333333333, 0.30061507936507936, 0.1458942982460655, 0.2669096866096866, 0.23441764178193758, 0.5020833333333333, 0.26825396825396824, 0.17091410903910906, 0.4, 0.2788690476190476, 0.1517760942760943, 0.35736309523809523, 0.5558531746031746, 0.2812229437229437, 0.6637150072150072, -0.05791666666666671, 0.2841269841269842, 0.19246031746031744, 0.2422222222222222, 0.6316666666666667, 0.35, 0.12312654320987655, 0.6, 0.30368303571428573, 0.2629761904761905, 0.1848116169544741, 0.3671741452991453, 0.41214967818629283, 0.47650462962962964, 0.43333333333333335, 0.1711111111111111, 0.2660218253968254, 0.34671428571428575, 0.285, 0.05769325912183054, 0.1436449400906295, 0.32081746031746033, 0.595, 0.3782638888888889, 0.3716071428571429, 0.21870551889233955, 0.17979297488226062, 0.20120125245125245, 0.2284311224489796, 0.5385912698412698, 0.4341269841269841, 0.20085034013605443, 0.17381180094415388, 0.4285714285714286, 0.18086805555555557, 0.20969356261022928, 0.5620833333333334, 0.14331977546263258, 0.24583333333333335, 0.3242777777777777, 0.23677580536346773, 0.39255952380952386, 0.1529761904761905, 0.5754718846450618, 0.7374999999999999, 0.30768872331372327, 0.5977777777777777, 0.23671343537414968, 0.7464285714285714, 0.35833333333333334, 0.44250000000000006, 0.43333333333333335, 0.39783549783549776, 0.413, 0.26563949938949943, 0.056398809523809525, 0.14916666666666667, 0.125, 0.1843181818181818, 0.3330357142857143, 0.16354166666666667, 0.26776960784313725, 0.2586590909090909, 0.503125, 0.297436846543624, 0.02557142857142858, 0.46979591836734697, 0.2472363400488401, 0.2128826530612245, 0.20111381673881676, 0.29527777777777775, 0.6183333333333334, 0.32314814814814813, 0.3335388321995465, 0.3026190476190476, 0.2508333333333333, 0.4309895833333333, 0.29561447811447805, 0.37461032196969696, 0.21113636363636365, 0.7188888888888888, 0.31018518518518523, 0.47431860269360276, 0.1581547619047619, 0.21646031746031746, 0.8342708333333334, 0.11703703703703704, 0.004464285714285698, 0.1602951388888889, 0.1588979341736695, 0.4608333333333334, 0.15215848965848966, 0.2033333333333333, 0.37200000000000005, 0.14319901571739807, 0.21657186948853618, 0.08124999999999999, 0.30190476190476195, 0.16665332546362494, 0.1483824211502783, 0.2596607905982906, 0.1427142857142857, 0.1851602564102564, 0.3919761904761905, 0.5916666666666666, 0.18, 0.4590833333333333, 0.19097222222222224, 0.27248484848484844, 0.12705555555555553, 0.6258333333333332, 0.3498299319727891, 0.4583333333333333, 0.6, 0.3264718614718615, 0.3365184583934584, 0.27363095238095236, 0.3029513888888889, 0.40605324074074084, 0.34523809523809523, 0.5625, 0.28196428571428567, 0.24805009920634916, 0.42566137566137563, 0.5107142857142857, 0.05720238095238095, 0.1291419631093544, 0.4873784722222223, 0.4166666666666667, 0.5170454545454546, 0.18005952380952378, 0.31957491582491576, 0.2671098901098901, 0.31645833333333334, 0.15545995670995674, 0.64, 0.3776785714285714, 0.4781904761904762, 0.15073784722222222, 0.2416666666666667, 0.4307094017094018, 0.3416666666666667, 0.43735449735449733, 0.375, 0.05530612244897959, 0.2643939393939394, 0.19148809523809524, 0.3362373737373738, 0.2624814814814815, 0.31182929421768707, 0.19666666666666666, 0.541170634920635, 0.3500000000000001, 0.10324255071851227, 0.2311111111111111, 0.45, 0.15944019274376417, 0.44375, 0.625, 0.37797619047619047, 0.10658730158730156, 0.28598214285714285, 0.25655243945868944, 0.15465277777777778, 0.49936459720834725, 0.2261991341991342, 0.5397395833333333, 0.16006424702090025, 0.196984126984127, 0.29864718614718616, 0.30625, 0.7388888888888889, 0.14553571428571427, 0.370625, 0.28465029761904764, 0.5784722222222223, 0.2786666666666667, 0.23208333333333336, 0.4596726190476191, 0.22080853174603174, 0.00663580246913581, 0.22630332341269843, 0.39489087301587306, 0.5522738095238094, 0.25805555555555554, 0.17517573696145125, 0.37, 0.48035714285714287, 0.30787037037037035, 0.528125, 0.054166666666666675, 0.3125, 0.37462962962962965, 0.2899047619047619, 0.3017857142857143, 0.2517857142857143, 0.17544444444444446, 0.42777777777777776, 0.32029012345679014, 0.5906529017857143, 0.2630952380952381, 0.43355555555555564, 0.31603937728937725, 0.5095238095238095, 0.08398268398268399, 0.08772182610417904, 0.4000000000000001, 0.5171458333333333, 0.10507936507936506, 0.25493055555555555, 0.19410375867518725, 0.009722222222222224, 0.4606666666666667, 0.438030303030303, 0.48651190476190476, 0.5745833333333334, 0.4619047619047619, 0.01583333333333331, 0.3580952380952381, 0.075, 0.3532738095238095, 0.08594093406593406, 0.29436285936285933, 0.2554848484848484, 0.16240079365079366, 0.2884920634920635, 0.37395833333333334, 0.493, 0.43875, 0.39255952380952386, 0.1720898977895413, 0.34195965608465606, 0.20045238095238097, 0.696, 0.4625, 0.41888888888888887, 0.335452380952381, 0.45536458333333335, 0.10561631944444441, 0.10200000000000002, 0.8025, 0.2140625, 0.19288600288600288, 0.2516203703703704, 0.15, 0.46704545454545454, 0.25999999999999995, 0.207423154446964, 0.21164894364894363, 0.5425, 0.34964285714285714, 0.3803571428571429, 0.459375, 0.38707482993197284, 0.23917446750780086, 0.19201190476190477, 0.10442599786126569, 0.3223888888888889, 0.36737998900808927, 0.21869949494949492, 0.2324776785714286, 0.5241477272727273, 0.2279899691358025, 0.394047619047619, 0.27641847363945576, 0.3335578703703703, 0.31935692195231674, 0.20677477614977618, 0.27003472222222225, 0.5177678571428572, 0.46285714285714286, 0.3986304873511905, -0.045833333333333344, 0.565579365079365, 0.17563591269841272, 0.3017361111111111, 0.26750496031746035, 0.43875000000000003, 0.19844742063492066, 0.43293333333333334, 0.15468749999999998, 0.18833333333333332, 0.2556335034013605, 0.2828656084656085, 0.01157407407407407, 0.46166666666666667, 0.3575, 0.2263425925925926, -0.028749999999999984, 0.28125, 0.525, 0.4666666666666666, 0.2066653591916839, 0.5874999999999999, 0.2883387445887446, 0.540753732048375, 0.39055102040816325, 0.23089285714285718, 0.6833333333333333, 0.2158203125, 0.1351739618406285, 0.249347617252029, 0.21407935236060235, 0.2316550925925926, 0.19548363095238094, 0.24109940984940986, 0.25833333333333336, 0.19683352758352757, 0.44511111111111107, 0.18488636363636365, 0.24605639730639733, 0.48244047619047614, 0.38215238095238097, 0.1268253968253968, 0.139375, 0.2489285714285714, 0.49215909996811225, 0.2010993867243867, 0.38761904761904764, 0.15338899911816578, 0.16087772181522184, 0.4784722222222222, 0.40619474275724277, 0.15600790775247297, 0.1881324404761905, 0.46071428571428574, 0.6277777777777778, 0.4666666666666667, 0.39773242630385486, 0.17704411139455783, 0.08110817166372723, 0.23268849206349207, 0.3356410256410256, 0.13086580086580085, 0.20797173746392494, 0.14500000000000002, 0.3391203703703704, 0.4708333333333333, 0.2947587977498692, 0.2255263772175537, 0.3812693688586546, 0.4285416666666667, 0.13984126984126985, 0.45499999999999996, 0.3929292929292929, 0.36709898230424554, 0.4797619047619047, 0.185, 0.3418019480519481, 0.24699776785714284, 0.4439761904761905, 0.33601562500000004, 0.1939342403628118, 0.5062500000000001, 0.29048241341991343, 0.1611706349206349, 0.41892857142857143, 0.23124783549783548, 0.22849025974025972, 0.43106060606060603, 0.3633214285714285, 0.3574594155844156, 0.3829506802721089, 0.12238636363636361, 0.2620659722222222, 0.4333333333333333, 0.27079790249433106, 0.15559027777777779, 0.0, 0.18154761904761904, 0.2755952380952381, 0.12839032475520482, 0.2460985419808949, 0.313, 0.22286255411255412, 0.1954439796314796, 0.4116071428571429, 0.20549431818181818, 0.23645833333333335, 0.4465131662169, 0.035320004070004095, 0.42500000000000004, 0.40843915343915344, 0.34930555555555554, 0.21190365961199295, 0.14083333333333334, 0.5394345238095238, 0.42388888888888887, 0.11944444444444444, 0.313234126984127, 0.225, 0.32102380952380954, 0.41879629629629633, 0.016666666666666656, 0.15321022727272732, 0.17946428571428572, 0.3992857142857143, 0.5119791666666667, 0.4625, 0.6754687500000001, 0.4125, 0.13925, 0.32122767857142853, 0.14375000000000002, 0.49282812500000006, 0.10432539682539684, 0.23559303350970018, 0.33836805555555555, 0.17162851037851037, 0.3845238095238095, 0.2587225274725275, 0.29113636363636364, 0.19436986840895193, 0.3213075396825397, 0.25535714285714284, 0.17022222222222225, 0.3834063852813853, 0.5833333333333334, 0.6062103174603175, 0.11122508278758278, 0.218415607404578, 0.3198943615907902, 0.2665866540866541, 0.24210113960113958, 0.32875000000000004, 0.08999313186813185, 0.54375, 0.5966666666666667, 0.38547438672438666, 0.17217048836580084, 0.1404761904761905, 0.49696969696969695, 0.19257679455047874, 0.20460393772893773, 0.23120370370370372, 0.2878130511463845, 0.17594217608849716, 0.23313492063492067, 0.36348544973544966, 0.06964285714285713, 0.13502184139784948, 0.23461202938475667, 0.3177083333333333, 0.5142857142857142, 0.6434444444444445, 0.44861111111111107, 0.2677777777777778, 0.2546875, 0.19424221611721612, 0.2315623475092401, 0.2827116402116402, 0.26409027777777777, 0.65625, 0.24426905505659563, 0.16583333333333333, 0.15638888888888888, 0.26797472075249856, 0.20572916666666669, 0.6005050505050505, 0.60625, 0.23151708227669765, 0.21055555555555555, -0.0744047619047619, 0.2504910714285714, 0.3541666666666667, 0.40224206349206354, 0.2497916666666667, 0.26880952380952383, 0.5747222222222222, 0.35708333333333336, -0.02013888888888888, 0.5124553571428572, 0.375, 0.1918154761904762, 0.4953333333333334, 0.2246476616817526, 0.26263888888888887, 0.34582721167170566, 0.19870370370370372, 0.22048196984421473, 0.35000000000000003, 0.25, 0.2678174603174603, 0.23827380952380955, 0.4259444444444444, 0.36268077601410936, 0.38125, 0.4005912698412698, 0.548, 0.2875, 0.39999999999999997, 0.23858569382006883, 0.27976190476190477, 0.48270833333333335, 0.38256172839506175, 0.2426967592592593, 0.08124999999999999, 0.4529166666666667, 0.3797321428571429, 0.32452380952380955, 0.1917559523809524, 0.3577777777777778, 0.42235978835978844, 0.49666666666666665, 0.3833333333333333, 0.2833333333333333, 0.16850198412698414, 0.1792077228327228, 0.03958333333333333, 0.31010989010989015, 0.385125, 0.10083333333333333, 0.25555555555555554, 0.11226204351204351, 0.22013888888888888, 0.233, 0.4932916666666667, 0.4607419217687075, 0.2745423280423281, 0.645, 0.3763095238095238, 0.33976190476190476, 0.30666666666666664, 0.6483333333333333, 0.31496031746031744, 0.38166666666666665, 0.06964285714285715, 0.23424823633156966, 0.11865079365079366, 0.5404166666666667, 0.2266474358974359, 0.27996031746031746, 0.3583786324786325, 0.07184640522875817, 0.28620370370370374, 0.1830274470899471, 0.22436666666666666, 0.14209199700594627, -0.005909391534391538, 0.34436507936507943, 0.3685779914529915, 0.4860416666666667, 0.2340277777777778, 0.19061126373626375, 0.19847222222222222, 0.18541666666666667, 0.4679220779220779, 0.17318452380952382, 0.275, 0.06696428571428571, 0.30437905844155844, 0.475, 0.3709821428571428, 0.44020833333333337, 0.4359854282622139, 0.20033453525641023, 0.04031452087007644, 0.24372874149659865, 0.26956229581229585, 0.1866013071895425, 0.20275676263771503, 0.3710069444444445, 0.37083333333333335, 0.44943452380952376, 0.20641908198638964, 0.3319212962962963, 0.37197742733457023, 0.3842171717171717, 0.5027777777777779, 0.42194444444444446, 0.5721666666666667, 0.09461805555555555, 0.10419146825396824, 0.18718253968253967, 0.4903132891414141, 0.13401785714285713, 0.35975942460317467, 0.3950396825396825, -0.024999999999999994, 0.3400119047619048, 0.26180555555555557, 0.23128747795414462, 0.3492435897435897, 0.40549404761904767, 0.302323717948718, 0.19407987012987013, 0.2989958900226757, 0.2905357142857143, 0.21285353535353535, 0.28363690476190473, 0.3270833333333334, 0.6403333333333333, 0.5555555555555555, 0.3186607142857143, 0.33204545454545453, 0.3277777777777778, 0.4404166666666667, 0.19969076479076478, 0.4038888888888889, 0.3078703703703704, 0.30364583333333334, 0.3511851851851852, 0.6520833333333333, 0.23670816814023338, 0.45724489795918366, 0.4103333333333333, 0.21250000000000002, 0.3625, 0.19328123784235918, 0.4926041666666667, 0.16999999999999998, 0.5625, 0.08119047619047619, 0.27832671957671956, 0.3096598424723425, 0.12044871794871795, 0.20694588681309103, 0.581111111111111, 0.35773148148148143, 0.35583333333333333, 0.48895833333333333, 0.18257972582972584, 0.2718253968253968, 0.40375, 0.6477777777777778, 0.19972222222222222, 0.39916666666666667, 0.20357142857142857, 0.2828102453102453, 0.31673076923076926, 0.13761487050960733, 0.1857142857142857, 0.3217573696145125, 0.23268939393939395, 0.5391666666666666, 0.4485185185185185, 0.36, 0.2103000992063492, 0.3736111111111111, 0.455625, 0.31596266901822456, 0.17669185906685908, 0.34929523809523805, 0.20426112467779137, 0.20090228174603175, 0.31916666666666665, 0.2772252747252747, 0.15436011904761904, 0.27316795183982684, 0.575, 0.23134302503052498, 0.2650396825396825, -0.012500000000000025, 1.0, 0.12320436507936508, 0.37700617283950616, 0.3773962053571429, 0.11693452380952381, 0.33934895833333334, 0.41041666666666665, 0.30107142857142855, 0.21757215007215006, 0.16048601398601398, 0.35205026455026456, 0.3728392857142857, 0.1491170634920635, 0.13518518518518516, 0.30483333333333335, 0.35777529761904764, 0.15687500000000001, 0.38260416666666663, 0.2786666666666667, 0.4664649001172439, 0.5312456597222223, 0.49750000000000005, 0.595, 0.389375, 0.20046130952380953, 0.49375, 0.554, 0.5739880952380952, 0.3625, 0.4040277777777778, 0.42537878787878786, 0.5227083333333333, 0.4583333333333333, 0.3360515873015873, 0.20870535714285712, 0.58, 0.39799206349206356, 0.4116666666666667, 0.18333333333333335, 0.343841952690167, 0.29553587962962957, 0.22436507936507938, 0.38015873015873014, 0.2388510101010101, 0.3625, 0.31027529761904765, 0.5674999999999999, 0.1658266697588126, 0.7125, 0.5174603174603174, 0.2622762648809524, 0.3238095238095238, 0.3797209821428571, 0.3173809523809524, 0.18333333333333335, 0.3762220982142857, 0.4250578703703703, 0.20363527676027676, 0.20736598792154348, 0.1358482142857143, 0.34417100694444447, 0.1280208333333333, 0.3184722222222222, 0.23020833333333332, 0.2796149646943298, 0.1696682946682947, 0.15181878306878305, 0.445077380952381, 0.2727753727753728, 0.3532291666666667, 0.4107142857142857, 0.24657738095238094, 0.21959821428571424, 0.36904761904761907, 0.236156462585034, 0.4034907407407407, 0.33121693121693124, 0.2111111111111111, 0.31611607142857145, 0.49976190476190485, 0.35111607142857143, 0.27189480110532743, 0.12877777777777777, 0.2729796358665844, -0.08652777777777779, 0.3521875, 0.3194444444444445, 0.1855241402116402, 0.30887648809523804, 0.3838809523809523, 0.3228794642857143, 0.3692984693877551, 0.40811287477954145, 0.527482993197279, 0.21688836416109147, 0.21333333333333332, 0.16008730158730156, 0.34197775263951735, 0.33815609737484736, 0.32785714285714285, 0.4548469387755103, 0.3291517857142857, 0.31389770723104055, 0.6166666666666667, 0.41327851386928766, 0.14815934065934067, 0.4008333333333334, 0.29871031746031745, 0.38669969512195124, 0.2801162494912495, 0.05499999999999999, 0.3793518518518519, 0.32166666666666666, 0.4464722222222222, 0.3615419501133787, 0.46177890011223344, -0.25000000000000006, 0.1341517857142857, 0.6333333333333333, 0.6083333333333333, 0.052678571428571436, 0.185933411826269, 0.5111111111111111, 0.5232568027210884, 0.527, 0.171983024691358, 0.2041337481962482, -0.042205215419501126, 0.14943310657596373, 0.2933680555555555, 0.46875, 0.5462142857142858, 0.3310208333333333, 0.5916666666666667, 0.08061111111111112, 0.30311639749139746, 0.14966517857142855, 0.40875, 0.2916971371882086, 0.10394444444444444, 0.6922222222222221, 0.24970238095238095, 0.6900000000000001, 0.4123095238095238, 0.18700396825396826, 0.4443452380952381, 0.1682079081632653, 0.30255952380952383, 0.16171190675266764, 0.1398148148148148, 0.4578888888888889, 0.69375, 0.27601313713891357, 0.396484375, 0.1439767573696145, 0.4890063904349619, 0.1513555445326279, 0.23182314213564212, 0.2020833333333333, 0.1262324929971989, 0.4704614504419192, 0.2387194055944056, 0.23669902319902322, 0.18230820105820109, 0.4375, 0.3491220238095238, 0.2650180375180375, 0.175, 0.35297817460317465, 0.36875, 0.34030303030303033, 0.33730158730158727, 0.15, 0.23108465608465611, 0.4339583333333334, 0.42625, 0.27244444444444443, 0.6016666666666667, 0.4411234301412873, 0.5916666666666667, 0.6925, 0.3114606227106227, 0.43607142857142855, 0.26998206731540064, 0.13124542124542127, 0.2766919191919192, 0.40246031746031746, 0.2958482142857143, 0.5702919813368055, 0.42791666666666667, 0.3426190476190476, 0.4033333333333333, 0.18884083922030354, 0.24375, 0.16739771666242254, 0.21153795202291445, 0.14910714285714288, 0.4885416666666667, 0.21302083333333338, 0.5083333333333333, 0.2879220779220779, 0.35938492063492067, 0.3666666666666667, 0.2896081349206349, 0.3097278911564626, 0.08802761061689635, 0.13061933106575963, 0.6428571428571428, 0.32586805555555554, 0.16666666666666666, 0.3354166666666667, 0.22258493455861875, 0.31676587301587306, 0.15217213074990854, 0.3206886574074074, 0.005833333333333329, 0.3680357142857143, 0.3077916666666667, 0.42414772727272726, 0.49149999999999994, 0.3291666666666666, 0.34190476190476193, 0.375, 0.3396428571428572, 0.32375, 0.18340683621933626, 0.19011755189255186, 0.48583333333333334, 0.24583333333333335, 0.661875, 0.2711309523809524, 0.42083333333333334, 0.15000000000000002, 0.2149630230880231, 0.16350274725274724, 0.6708333333333334, 0.2532738095238095, 0.3516666666666667, 0.2916666666666667, 0.3592757936507937, 0.3569444444444444, 0.021626984126984123, 0.13730982253041077, 0.34500000000000003, 0.1340909090909091, 0.3152980642043142, 0.14266098484848486, 0.27199404761904766, 0.1581060606060606, 0.0, 0.2834027777777778, 0.09893691130298271, 0.15760425993759328, 0.3187083333333333, 0.43657407407407406, 0.355, 0.1958333333333333, 0.32984375, 0.37866300366300365, 0.42, 0.22208333333333335, 0.08560606060606062, 0.13779761904761906, 0.3193877551020408, 0.36073606601731606, 0.36, 0.5291666666666667, 0.29355158730158726, 0.005555555555555554, 0.5404799367299368, 0.47222222222222227, 0.3583333333333334, 0.49730056980056986, 0.22292032967032968, 0.28993197278911564, 0.10068783068783067, 0.22452380952380951, 0.6318333333333332, 0.4407275132275132, 0.12701785714285715, 0.2986979166666667, 0.3, 0.45152777777777775, 0.43277777777777776, 0.35184249084249086, 0.38916666666666666, 0.3373798076923077, 0.19803571428571426, 0.2500496031746032, 0.24600694444444443, 0.5729166666666667, 0.11745911826268969, 0.1935019841269841, 0.500515873015873, 0.18255055437184348, 0.30374999999999996, 0.3583333333333334, -0.096875, 0.5171428571428571, 0.074073782942204, 0.18047839506172839, 0.31420763760049475, 0.324, 0.15069444444444444, 0.30673469387755103, 0.37530303030303025, 0.16984481292517006, 0.3466666666666666, 0.22999999999999998, 0.40854166666666664, 0.4328108465608466, 0.4370476190476191, 0.2586111111111111, 0.566170634920635, 0.28694223985890654, 0.3104166666666667, 0.6, 0.537881324404762, 0.6187499999999999, 0.36904761904761907, 0.273030303030303, 0.29030257936507936, 0.508095238095238, 0.24000000000000005, 0.19132829554704553, 0.34375, 0.4158564814814815, 0.22166666666666668, 0.30520833333333336, 0.44119047619047624, 0.12335317460317463, 0.1761458333333333, 0.1702297364951898, 0.5082433862433863, 0.3130208333333333, 0.37165178571428575, 0.09583333333333333, 0.2925107709750567, 0.15419669913419912, 0.5703703703703703, 0.1678931523205172, 0.49988247863247864, 0.3626363636363636, 0.3535912698412698, 0.10194805194805194, 0.191, 0.26999999999999996, 0.35666666666666663, 0.3780478395061729, 0.35208333333333336, 0.5104166666666666, 0.3833333333333333, 0.38666666666666666, 0.2744747539167182, 0.31805555555555554, 0.1741096866096866, 0.5316666666666667, 0.4991666666666667, 0.486468962585034, 0.39255102040816325, 0.20544306184012068, 0.4469322344322344, 0.20495453042328043, 0.1618054533186112, 0.12311688311688312, 0.40427380952380954, 0.3133333333333333, 0.25208829365079366, 0.5554398148148149, 0.31141439909297053, 0.3405555555555555, 0.2036309523809524, 0.2634722222222222, 0.049999999999999996, 0.5258974358974359, 0.2698809523809524, 0.08250000000000002, 0.4735, 0.5016666666666667, 0.24913015873015873, 0.4033333333333333, 0.30760091145833335, 0.5964615862667235, 0.2533895502645503, 0.2175925925925926, 0.25625000000000003, 0.2244060932453789, 0.45833333333333326, 0.40208333333333335, 0.13752714646464648, 0.3775462962962963, 0.1667991970826792, 0.225135582010582, 0.3906344696969697, 0.2788888888888889, 0.20239583333333333, 0.4792410714285715, 0.1295746584933375, 0.48750000000000004, 0.35000000000000003, 0.85, 0.445, 0.10232796964939822, 0.23494588744588749, 0.2583333333333333, 0.27990636778680256, 0.3458333333333333, 0.19794879062736204, 0.22779017857142855, 0.6015357142857143, 0.4341666666666666, 0.6750000000000002, 0.23283289241622582, 0.6277866861030127, 0.41214285714285714, 0.4038417658730159, 0.41666666666666663, 0.1085714285714286, 0.26733333333333337, 0.20476190476190476, 0.30000000000000004, 0.24312499999999998, 0.4922284226190476, 0.2406950456950457, 0.3297115800865801, 0.13229166666666667, 0.3298772675736962, 0.27675595238095235, 0.16856153786300845, 0.16006944444444443, 0.3833333333333333, 0.44906250000000003, 0.4466666666666667, 0.3840714285714285, 0.49738888888888894, 0.4820833333333333, 0.3392795349019839, 0.33062499999999995, 0.2104166666666667, 0.4889793010673137, 0.18495963912630578, 0.275, 0.45458333333333334, 0.046473214285714284, 0.4628814935064935, 0.21625, 0.2011616376348519, 0.5520833333333334, 0.7333333333333334, 0.26816468253968256, 0.38697916666666665, 0.46406250000000004, 0.32347222222222216, 0.3670535714285714, 0.4435416666666666, 0.17089285714285715, 0.31086309523809524, 0.24786268939393938, 0.08634502752149809, 0.6096296296296296, 0.34975, 0.4464171245421245, 0.15013708513708515, 0.4052777777777778, 0.7, 0.4911111111111111, 0.24764309764309764, 0.33785714285714286, 0.25916666666666666, 0.3232142857142857, 0.09756578947368419, 0.6467857142857143, 0.31875, 0.23675000000000004, 0.30223765432098765, 0.5687872023809524, 0.27207341269841273, 0.2698214285714286, 0.5133333333333333, 0.08834378391670059, 0.26634542705971276, 0.038500000000000006, 0.4004166666666667, 0.12063492063492062, 0.497125, 0.31127777777777776, 0.293437322845805, 0.23489583333333333, 0.46250930059523804, 0.20049908685064938, 0.1532785336356765, 0.31416666666666665, 0.2326376488095238, 0.35343749999999996, 0.3986111111111111, 0.17450000000000002, 0.3783333333333333, 0.15580769989155085, 0.23499999999999996, 0.28898391988669764, 0.3395220734126984, 0.2667809174952032, 0.4344444444444445, 0.2120238095238095, 0.5727083333333334, 0.15000000000000002, 0.578125, 0.22972222222222224, 0.48850649350649356, 0.40106060606060606, 0.3627777777777778, 0.3160351518736612, 0.2819047619047619, 0.16545291514041519, 0.2056666666666667, 0.29510416666666667, 0.23607142857142857, 0.28943265068265067, 0.7250000000000001, 0.41111111111111115, 0.39525545634920634, 0.3167938311688312, 0.15771604938271602, 0.2999285714285715, 0.06616409632034634, 0.2814674648268398, 0.3784722222222222, 0.18616522366522367, 0.64525, 0.40134910024615905, 0.2024003461033536, 0.20807627428931777, 0.2230952380952381, 0.24662494912494912, 0.39375000000000004, 0.38196106472892183, 0.4008333333333333, 0.11575753421276441, 0.2413425099206349, 0.15527777777777776, 0.5096666666666666, 0.34172619047619046, 0.2972205687830688, 0.07321428571428568, 0.6096428571428572, 0.5130208333333333, 0.2151121794871795, 0.5666666666666667, 0.3515863095238096, 0.07479166666666666, 0.24637445887445888, 0.3334285714285714, 0.19666666666666666, 0.23850108225108224, 0.28267045454545453, 0.3076666666666667, 0.44509476273148146, 0.34574074074074074, 0.4797619047619047, 0.25892857142857145, 0.5541666666666667, 0.39232323232323224, 0.5375, 0.31160714285714286, 0.31805555555555554, 0.2582440476190476, 0.3504464285714286, 0.6225, 0.4623469387755102, 0.3336877289377289, 0.41733333333333333, 0.12053918650793652, 0.13859375, 0.35520833333333335, 0.3332777777777778, 0.17495265151515152, 0.31, 0.37891774891774893, 0.4017767857142857, 0.41626190476190483, 0.13410218253968254, 0.5358333333333334, 0.4149479166666667, 0.36911458333333336, 0.1785576923076923, 0.42472222222222217, 0.2109775641025641, 0.5398833333333333, 0.7, 0.35, 0.24020318223443224, 0.27588673832180327, 0.5770833333333334, 0.10574404761904761, 0.23272108843537417, 0.40499999999999997, 0.09120370370370372, 0.30222222222222217, 0.22270304803540242, 0.16203703703703706, 0.2546875, 0.23285710841049387, 0.06593915343915342, 0.325, 0.016666666666666677, 0.23459821428571428, 0.30833333333333335, 0.3547619047619048, 0.33384848484848484, 0.32064732142857144, 0.13990578865578868, 0.454484126984127, 0.23798374905517763, 0.1216504329004329, 0.3453858024691358, 0.40832407407407406, 0.25171875, 0.275, 0.2701226551226551, 0.27057549221611726, 0.316601713762428, 0.14709755688663875, 0.4777777777777778, 0.30972222222222223, 0.2922222222222222, -0.056770833333333326, 0.18125944822373397, 0.45624999999999993, 0.5375, 0.24446428571428575, 0.18333333333333332, 0.4559490526834277, 0.19133283995513692, 0.14517006802721089, 0.5425, 0.35797725340136055, 0.6499999999999999, 0.7, 0.06354166666666666, 0.24083533750200414, 0.12316220238095238, 0.4536458333333333, 0.2589977199671077, 0.17711998456790126, 0.4521954174297925, 0.325, 0.2258333333333333, 0.2245365418775506, 0.43577706349206347, 0.08284970238095239, -0.05625000000000001, 0.30429012345679013, 0.5, 0.2852281746031746, 0.24979967948717946, 0.20844444444444446, 0.2888888888888889, 0.24965060763888888, 0.4336904761904761, 0.19595238095238093, 0.2596607142857143, 0.25432539682539684, 0.26262838468720817, 0.25954427516927514, 0.4502380952380952, 0.5235229276895943, 0.2762962962962963, 0.022458791208791205, 0.28208333333333335, 0.5650000000000001, 0.11362949907235623, 0.2833333333333333, 0.47666666666666657, 0.5125, 0.31875, 0.5083333333333333, 0.26144143554857835, 0.329, 0.3299305555555555, 0.4625, 0.32142857142857145, 0.3833333333333333, 0.4683333333333333, 0.2916666666666667, 0.32749999999999996, 0.3735185185185185, 0.38669047619047614, 0.24163690476190475, 0.3233643990929705, 0.28106190476190474, 0.3611111111111111, 0.5302949134199134, -0.003156887755102032, 0.2811507936507936, 0.5645833333333333, 0.10957410053885713, 0.07644112060778725, 0.3601666666666667, 0.2995448179271708, 0.07572636853886854, 0.30185185185185187, 0.50625, 0.12248677248677248, 0.38030663780663776, 0.4054036458333333, 0.27599999999999997, 0.4096229186118892, 0.2875, 0.1765625, 0.27025396825396825, 0.35714285714285715, 0.10631519274376416, 0.3958482142857142, 0.6442976190476191, 0.47187499999999993, 0.25375000000000003, 0.4395833333333333, 0.26709145769744846, 0.21098157051282054, 0.4253571428571429, 0.16898148148148148, 0.31587782587782587, 0.615, 0.5094345238095238, 0.21517857142857144, 0.35349206349206347, 0.48827777777777787, 0.3483723958333333, 0.28202302021567777, 0.19404761904761905, 0.11686578798185943, 0.2316770729270729, 0.16964325412242082, 0.20655555555555558, 0.040934523809523816, 0.33184343434343433, 0.14933035714285714, 0.34494047619047624, 0.49375, 0.08586309523809521, 0.044915674603174596, 0.37837372448979595, 0.4766666666666667, 0.41616666666666663, 0.3529265873015873, 0.42566666666666675, 0.3035714285714286, 0.4, 0.25474537037037037, 0.3957792207792208, 0.4179991883116883, 0.5838068181818182, 0.3916666666666666, 0.29339991605616605, 0.42626262626262634, 0.3215145502645503, 0.40468750000000003, 0.019603174603174598, 0.3213321995464853, 0.4124028922466423, 0.39258967169569847, 0.3942123015873016, 0.21223214285714287, 0.5892857142857143, 0.17616815476190473, 0.3737179487179487, 0.17388488247863249, 0.0, 0.42338095238095236, 0.30798611111111107, 0.503030303030303, 0.6333333333333333, 0.21071428571428574, 0.22563082385450808, 0.46475, 0.19930777555777557, 0.6788888888888889, 0.35113662131519274, 0.4633333333333333, 0.34672619047619047, 0.2549316578483245, 0.4708333333333333, 0.07152777777777777, 0.33771825396825395, 0.06357142857142856, 0.07777777777777778, 0.16237774725274723, 0.0876918536009445, 0.600952380952381, 0.3890625, 0.3642526455026455, 0.08625000000000002, 0.32031250000000006, 0.14118686868686867, 0.4015873015873016, 0.2866666666666667, 0.5162698412698412, 0.23903120409301523, 0.068125, 0.1736235119047619, 0.28256448412698415, 0.3818990384615385, 0.4416666666666667, 0.5115625, 0.28609693877551023, 0.46556277056277057, 0.45833333333333337, 0.1650651927437642, 0.32555555555555554, 0.16315934065934065, 0.4970833333333334, 0.831111111111111, 0.08101851851851853, 0.20197228891556623, 0.36187500000000006, 0.26246811224489797, 0.5321428571428571, 0.42708333333333337, 0.3976190476190476, 0.07222222222222223, 0.31601190476190477, 0.12083333333333336, 0.3313234126984127, 0.17626861884689207, 0.4125, 0.23894444444444443, 0.19434525543900544, 0.5218750000000001, 0.4648834792439702, 0.16562728937728938, 0.35257936507936505, 0.1955830964864578, 0.6, 0.10833333333333335, 0.465, 0.08499999999999999, 0.25558333333333333, 0.3265476190476191, 0.20302083333333332, 0.4666269841269841, 0.2403846153846154, 0.3316552197802197, 0.519375, 0.2838125, 0.4247916666666667, 0.18734257567260962, 0.18775144608477942, 0.28572438672438677, 0.2807011217948718, -0.060937500000000006, 0.5466666666666666, 0.3995164835164834, 0.22331349206349205, 0.6959613532913165, 0.25277777777777777, 0.3683333333333333, 0.24050925925925928, 0.2928333333333333, 0.38166666666666665, 0.4458333333333333, 0.10900919627110105, 0.19913386657434273, 0.5358630952380952, 0.21958333333333332, 0.3861309523809524, 0.49047979797979796, 0.12324404761904761, 0.324484126984127, 0.3711561673280423, 0.2591382575757576, 0.1757936507936508, 0.2929639804639805, 0.45, 0.17389870931537602, 0.38923611111111117, 0.17011660561660563, 0.5875, 0.3556818181818182, 0.21609397546897546, 0.5658333333333334, 0.07724358974358972, 0.26674623113512, 0.30815476190476193, 0.41666666666666663, 0.24250000000000002, 0.14666666666666667, 0.2145833333333334, 0.5376388888888888, 0.5833333333333333, 0.5452261904761905, 0.37187499999999996, 0.4699349647266314, 0.215625, 0.675, 0.18385416666666668, 0.18947195767195765, 0.41352380952380957, 0.2525, 0.0319047619047619, 0.4041666666666667, 0.1359983766233766, 0.17772449772449772, 0.698828125, 0.22055059523809525, 0.3476666666666667, 0.1092013888888889, 0.37389156298247206, 0.26974588744588746, 0.18888888888888888, 0.25929232804232805, 0.39444444444444454, 0.30140861742424246, 0.1407886109583601, 0.31461688311688313, 0.4666418650793651, 0.34950000000000003, 0.365, 0.22165704665704666, 0.08247767857142857, 0.19233276643990926, 0.3128492063492063, 0.3072407407407407, 0.325, 0.2126454274891775, 0.2768055555555556, 0.24063131313131314, 0.42895833333333333, 0.4025974025974026, 0.21875, 0.32698412698412693, 0.44249999999999995, 0.43004464285714283, 0.2669561688311688, 0.17769451530612246, 0.4133210578002245, 0.13874185074185075, 0.32076719576719576, 0.28830795454545455, 0.3324421296296296, 0.2284090909090909, 0.21020833333333339, 0.16085790753784474, 0.029960317460317454, 0.22916666666666663, 0.13776094884647516, 0.6225, 0.25965288679574394, 0.3065277777777778, 0.1614795918367347, 0.11038764266036995, 0.4222916666666667, 0.219208664021164, 0.27051587301587304, 0.24535714285714286, 0.30597222222222226, 0.38095238095238093, 0.1878422619047619, 0.22025474091880343, 0.5392261904761906, 0.35833333333333334, 0.5099116161616162, 0.1392207792207792, 0.23363980463980463, -0.07595238095238094, 0.32047619047619047, 0.5092063492063492, 0.598828125, 0.2961464102686529, 0.14920517676767675, 0.66359375, 0.3052083333333333, 0.23416666666666666, 0.4620833333333333, 0.24944083694083694, 0.39999999999999997, 0.4221984126984127, 0.20616491584102312, 0.28368833943833943, 0.1748511904761905, 0.335, 0.383234126984127, 0.28, 0.23730158730158732, 0.17090630269201698, 0.1512216553287982, 0.45646572012643444, 0.04300677001569856, 0.4530486111111111, 0.11443158331830207, 0.47522222222222227, 0.21238789682539683, 0.4701235431235431, 0.09789417989417991, 0.2998744151810922, 0.21675444925444923, 0.18024691358024691, 0.2589186507936508, 0.2671825396825397, 0.2750805246340961, 0.38112500000000005, 0.6061154513888889, 0.038938492063492064, 0.28750000000000003, 0.575, 0.4638392857142857, 0.5875, 0.2802441431117902, 0.4857465277777777, 0.2938129578754579, 0.27241760198490966, 0.2698106833642548, 0.23631701631701635, 0.31142045454545453, 0.19245713878985937, 0.3838333333333333, 0.383654185320852, 0.29873015873015873, 0.6006944444444444, 0.1482142857142857, 0.6111111111111112, 0.15829670329670328, 0.5691666666666666, 0.43102380952380953, 0.06184615384615385, 0.31457352171637887, 0.4875, 0.33751517772351103, 0.47022902494331065, 0.625, 0.2596354166666666, 0.23277380952380952, 0.3710503472222222, 0.43265625, 0.36046626984126984, 0.42324263038548754, 0.15220238095238098, 0.22440759916721456, -0.08499999999999996, 0.1777186588921283, 0.3575851521164021, 0.16891723356009072, -0.08333333333333333, 0.06806036656580135, 0.5514583333333333, 0.26868844952361437, 0.1582702482702483, 0.4080332479312071, 0.3791973544973545, 0.5244444444444444, 0.29630230880230884, 0.07886904761904762, 0.04027777777777778, 0.36875, 0.21716269841269842, 0.3015746753246753, 0.5829166666666667, 0.3808333333333333, 0.1341723877973878, 0.2905122481684982, 0.3458333333333333, 0.05625, 0.4398809523809524, 0.16686507936507936, 0.19831349206349208, 0.49078231292517005, 0.4030555555555555, 0.22354166666666667, 0.2671428571428571, 0.022448979591836726, 0.4304545454545455, -0.10624999999999997, 0.3061170238926415, 0.5123095238095238, 0.2051817365835223, 0.4453888888888889, 0.49000000000000005, 0.2134077380952381, 0.09817069504569503, 0.32791666666666663, 0.281487493987494, 0.23909762032838958, 0.6525000000000001, 0.27840151204159824, 0.30784545631136545, 0.39166666666666666, 0.31494897959183676, 0.3342803030303031, 0.38150297619047624, 0.4902444444444445, 0.2896494708994709, 0.17944444444444443, 0.25809126984126984, 0.6138392857142857, 0.18359638047138047, 0.5862499999999999, 0.34270833333333334, 0.6336363636363637, 0.1952380952380952, 0.16026584526584528, 0.1903382034632035, 0.19865079365079363, 0.34909226190476195, 0.29472870879120877, -0.23333333333333334, 0.25, 0.20142839964268539, 0.521, 0.2974537037037037, 0.48583333333333334, 0.45617857142857143, 0.11297619047619047, 0.5481944444444444, 0.245, 0.31821428571428567, 0.28472222222222227, 0.48917824074074073, 0.18303635342532046, 0.049181547619047625, 0.45416666666666666, 0.6708333333333334, 0.15746336996336996, 0.5438095238095239, 0.24952614379084967, 0.14236111111111113, 0.309, 0.6125, 0.16107407407407406, 0.3156481481481481, 0.6002604166666666, 0.050855654761904776, 0.09186452762923353, 0.09841269841269841, 0.0, 0.34055555555555556, 0.17416396103896103, 0.3547619047619047, 0.11603163992869873, 0.23158135981665393, 0.3333333333333333, 0.26447610294117646, 0.37222222222222223, 0.525, 0.3755685036414203, 0.0819139194139194, 0.22133597883597883, 0.1575883093978332, 0.5291666666666667, 0.659375, 0.2846417006196418, 0.07247777396214897, 0.20675099206349204, 0.23895070207570204, 0.32816666666666666, 0.3117733134920635, 0.2155681818181818, 0.401077380952381, 0.13226851851851854, 0.47777777777777775, 0.45500000000000007, 0.18067182817182817, 0.12769951499118168, 0.32746704862089476, 0.3616666666666667, 0.17291666666666666, 0.4309115646258504, 0.03287037037037037, 0.3160539233852191, 0.49955018939393936, 0.09430555555555556, 0.2495612874779541, 0.412797619047619, 0.18251578282828285, 0.36406250000000007, 0.27319305694305696, 0.3239325396825397, 0.20770833333333333, 0.4083333333333333, 0.41698863636363637, 0.5111111111111111, 0.42933333333333334, 0.07255163817663818, 0.2367453231292517, 0.14196064298115083, 0.20971202550284188, 0.17230769230769233, 0.4203619047619048, 0.2598809523809524, 0.12833333333333335, 0.2071949404761905, 0.7110000000000001, 0.5992113095238096, 0.644047619047619, 0.17043285248504178, 0.33705555555555555, 0.23541156462585036, 0.3466666666666667, 0.5203125, 0.4093377976190476, 0.16619865441996198, 0.36050000966295603, 0.2802083333333333, 0.007733134920634915, 0.40237878787878784, 0.31875000000000003, 0.2138888888888889, 0.40654761904761905, 0.19611978262133545, 0.1826248237359349, 0.2882619047619047, 0.16873115079365078, 0.6376488095238095, 0.38567930581323434, 0.242598792989418, 0.3933333333333333, 0.42500000000000004, 0.0, 0.38920085470085464, 0.395, 0.1390338827838828, 0.29747565692943845, 0.11602182539682539, 0.35119047619047616, 0.20333333333333334, 0.22708333333333336, 0.3109722222222222, 0.15000000000000002, 0.350679788961039, 0.1979632391418106, 0.17988425925925924, 0.2683531746031746, 0.04895833333333334, 0.31875, 0.34180555555555553, 0.15625, 0.1937010582010582, 0.5328240740740741, 0.6680555555555556, 0.35877551020408166, -0.007394688644688637, 0.44500000000000006, 0.7593333333333334, 0.24282625360750365, 0.4005431547619047, 0.3401844336219336, 0.1915972222222222, 0.3358333333333333, 0.2906471861471861, 0.37777777777777777, 0.2774568288854003, 0.30202442956349207, 0.45499999999999996, 0.14111111111111113, 0.27847222222222223, 0.22996031746031748, 0.17730199483814318, 0.14736013986013985, 0.614375]}],\n",
              "                        {\"height\": 600, \"template\": {\"data\": {\"bar\": [{\"error_x\": {\"color\": \"#2a3f5f\"}, \"error_y\": {\"color\": \"#2a3f5f\"}, \"marker\": {\"line\": {\"color\": \"#E5ECF6\", \"width\": 0.5}}, \"type\": \"bar\"}], \"barpolar\": [{\"marker\": {\"line\": {\"color\": \"#E5ECF6\", \"width\": 0.5}}, \"type\": \"barpolar\"}], \"carpet\": [{\"aaxis\": {\"endlinecolor\": \"#2a3f5f\", \"gridcolor\": \"white\", \"linecolor\": \"white\", \"minorgridcolor\": \"white\", \"startlinecolor\": \"#2a3f5f\"}, \"baxis\": {\"endlinecolor\": \"#2a3f5f\", \"gridcolor\": \"white\", \"linecolor\": \"white\", \"minorgridcolor\": \"white\", \"startlinecolor\": \"#2a3f5f\"}, \"type\": \"carpet\"}], \"choropleth\": [{\"colorbar\": {\"outlinewidth\": 0, \"ticks\": \"\"}, \"type\": \"choropleth\"}], \"contour\": [{\"colorbar\": {\"outlinewidth\": 0, \"ticks\": \"\"}, \"colorscale\": [[0.0, \"#0d0887\"], [0.1111111111111111, \"#46039f\"], [0.2222222222222222, \"#7201a8\"], [0.3333333333333333, \"#9c179e\"], [0.4444444444444444, \"#bd3786\"], [0.5555555555555556, \"#d8576b\"], [0.6666666666666666, \"#ed7953\"], [0.7777777777777778, \"#fb9f3a\"], [0.8888888888888888, \"#fdca26\"], [1.0, \"#f0f921\"]], \"type\": \"contour\"}], \"contourcarpet\": [{\"colorbar\": {\"outlinewidth\": 0, \"ticks\": \"\"}, \"type\": \"contourcarpet\"}], \"heatmap\": [{\"colorbar\": {\"outlinewidth\": 0, \"ticks\": \"\"}, \"colorscale\": [[0.0, \"#0d0887\"], [0.1111111111111111, \"#46039f\"], [0.2222222222222222, \"#7201a8\"], [0.3333333333333333, \"#9c179e\"], [0.4444444444444444, \"#bd3786\"], [0.5555555555555556, \"#d8576b\"], [0.6666666666666666, \"#ed7953\"], [0.7777777777777778, \"#fb9f3a\"], [0.8888888888888888, \"#fdca26\"], [1.0, \"#f0f921\"]], \"type\": \"heatmap\"}], \"heatmapgl\": [{\"colorbar\": {\"outlinewidth\": 0, \"ticks\": \"\"}, \"colorscale\": [[0.0, \"#0d0887\"], [0.1111111111111111, \"#46039f\"], [0.2222222222222222, \"#7201a8\"], [0.3333333333333333, \"#9c179e\"], [0.4444444444444444, \"#bd3786\"], [0.5555555555555556, \"#d8576b\"], [0.6666666666666666, \"#ed7953\"], [0.7777777777777778, \"#fb9f3a\"], [0.8888888888888888, \"#fdca26\"], [1.0, \"#f0f921\"]], \"type\": \"heatmapgl\"}], \"histogram\": [{\"marker\": {\"colorbar\": {\"outlinewidth\": 0, \"ticks\": \"\"}}, \"type\": \"histogram\"}], \"histogram2d\": [{\"colorbar\": {\"outlinewidth\": 0, \"ticks\": \"\"}, \"colorscale\": [[0.0, \"#0d0887\"], [0.1111111111111111, \"#46039f\"], [0.2222222222222222, \"#7201a8\"], [0.3333333333333333, \"#9c179e\"], [0.4444444444444444, \"#bd3786\"], [0.5555555555555556, \"#d8576b\"], [0.6666666666666666, \"#ed7953\"], [0.7777777777777778, \"#fb9f3a\"], [0.8888888888888888, \"#fdca26\"], [1.0, \"#f0f921\"]], \"type\": \"histogram2d\"}], \"histogram2dcontour\": [{\"colorbar\": {\"outlinewidth\": 0, \"ticks\": \"\"}, \"colorscale\": [[0.0, \"#0d0887\"], [0.1111111111111111, \"#46039f\"], [0.2222222222222222, \"#7201a8\"], [0.3333333333333333, \"#9c179e\"], [0.4444444444444444, \"#bd3786\"], [0.5555555555555556, \"#d8576b\"], [0.6666666666666666, \"#ed7953\"], [0.7777777777777778, \"#fb9f3a\"], [0.8888888888888888, \"#fdca26\"], [1.0, \"#f0f921\"]], \"type\": \"histogram2dcontour\"}], \"mesh3d\": [{\"colorbar\": {\"outlinewidth\": 0, \"ticks\": \"\"}, \"type\": \"mesh3d\"}], \"parcoords\": [{\"line\": {\"colorbar\": {\"outlinewidth\": 0, \"ticks\": \"\"}}, \"type\": \"parcoords\"}], \"pie\": [{\"automargin\": true, \"type\": \"pie\"}], \"scatter\": [{\"marker\": {\"colorbar\": {\"outlinewidth\": 0, \"ticks\": \"\"}}, \"type\": \"scatter\"}], \"scatter3d\": [{\"line\": {\"colorbar\": {\"outlinewidth\": 0, \"ticks\": \"\"}}, \"marker\": {\"colorbar\": {\"outlinewidth\": 0, \"ticks\": \"\"}}, \"type\": \"scatter3d\"}], \"scattercarpet\": [{\"marker\": {\"colorbar\": {\"outlinewidth\": 0, \"ticks\": \"\"}}, \"type\": \"scattercarpet\"}], \"scattergeo\": [{\"marker\": {\"colorbar\": {\"outlinewidth\": 0, \"ticks\": \"\"}}, \"type\": \"scattergeo\"}], \"scattergl\": [{\"marker\": {\"colorbar\": {\"outlinewidth\": 0, \"ticks\": \"\"}}, \"type\": \"scattergl\"}], \"scattermapbox\": [{\"marker\": {\"colorbar\": {\"outlinewidth\": 0, \"ticks\": \"\"}}, \"type\": \"scattermapbox\"}], \"scatterpolar\": [{\"marker\": {\"colorbar\": {\"outlinewidth\": 0, \"ticks\": \"\"}}, \"type\": \"scatterpolar\"}], \"scatterpolargl\": [{\"marker\": {\"colorbar\": {\"outlinewidth\": 0, \"ticks\": \"\"}}, \"type\": \"scatterpolargl\"}], \"scatterternary\": [{\"marker\": {\"colorbar\": {\"outlinewidth\": 0, \"ticks\": \"\"}}, \"type\": \"scatterternary\"}], \"surface\": [{\"colorbar\": {\"outlinewidth\": 0, \"ticks\": \"\"}, \"colorscale\": [[0.0, \"#0d0887\"], [0.1111111111111111, \"#46039f\"], [0.2222222222222222, \"#7201a8\"], [0.3333333333333333, \"#9c179e\"], [0.4444444444444444, \"#bd3786\"], [0.5555555555555556, \"#d8576b\"], [0.6666666666666666, \"#ed7953\"], [0.7777777777777778, \"#fb9f3a\"], [0.8888888888888888, \"#fdca26\"], [1.0, \"#f0f921\"]], \"type\": \"surface\"}], \"table\": [{\"cells\": {\"fill\": {\"color\": \"#EBF0F8\"}, \"line\": {\"color\": \"white\"}}, \"header\": {\"fill\": {\"color\": \"#C8D4E3\"}, \"line\": {\"color\": \"white\"}}, \"type\": \"table\"}]}, \"layout\": {\"annotationdefaults\": {\"arrowcolor\": \"#2a3f5f\", \"arrowhead\": 0, \"arrowwidth\": 1}, \"coloraxis\": {\"colorbar\": {\"outlinewidth\": 0, \"ticks\": \"\"}}, \"colorscale\": {\"diverging\": [[0, \"#8e0152\"], [0.1, \"#c51b7d\"], [0.2, \"#de77ae\"], [0.3, \"#f1b6da\"], [0.4, \"#fde0ef\"], [0.5, \"#f7f7f7\"], [0.6, \"#e6f5d0\"], [0.7, \"#b8e186\"], [0.8, \"#7fbc41\"], [0.9, \"#4d9221\"], [1, \"#276419\"]], \"sequential\": [[0.0, \"#0d0887\"], [0.1111111111111111, \"#46039f\"], [0.2222222222222222, \"#7201a8\"], [0.3333333333333333, \"#9c179e\"], [0.4444444444444444, \"#bd3786\"], [0.5555555555555556, \"#d8576b\"], [0.6666666666666666, \"#ed7953\"], [0.7777777777777778, \"#fb9f3a\"], [0.8888888888888888, \"#fdca26\"], [1.0, \"#f0f921\"]], \"sequentialminus\": [[0.0, \"#0d0887\"], [0.1111111111111111, \"#46039f\"], [0.2222222222222222, \"#7201a8\"], [0.3333333333333333, \"#9c179e\"], [0.4444444444444444, \"#bd3786\"], [0.5555555555555556, \"#d8576b\"], [0.6666666666666666, \"#ed7953\"], [0.7777777777777778, \"#fb9f3a\"], [0.8888888888888888, \"#fdca26\"], [1.0, \"#f0f921\"]]}, \"colorway\": [\"#636efa\", \"#EF553B\", \"#00cc96\", \"#ab63fa\", \"#FFA15A\", \"#19d3f3\", \"#FF6692\", \"#B6E880\", \"#FF97FF\", \"#FECB52\"], \"font\": {\"color\": \"#2a3f5f\"}, \"geo\": {\"bgcolor\": \"white\", \"lakecolor\": \"white\", \"landcolor\": \"#E5ECF6\", \"showlakes\": true, \"showland\": true, \"subunitcolor\": \"white\"}, \"hoverlabel\": {\"align\": \"left\"}, \"hovermode\": \"closest\", \"mapbox\": {\"style\": \"light\"}, \"paper_bgcolor\": \"white\", \"plot_bgcolor\": \"#E5ECF6\", \"polar\": {\"angularaxis\": {\"gridcolor\": \"white\", \"linecolor\": \"white\", \"ticks\": \"\"}, \"bgcolor\": \"#E5ECF6\", \"radialaxis\": {\"gridcolor\": \"white\", \"linecolor\": \"white\", \"ticks\": \"\"}}, \"scene\": {\"xaxis\": {\"backgroundcolor\": \"#E5ECF6\", \"gridcolor\": \"white\", \"gridwidth\": 2, \"linecolor\": \"white\", \"showbackground\": true, \"ticks\": \"\", \"zerolinecolor\": \"white\"}, \"yaxis\": {\"backgroundcolor\": \"#E5ECF6\", \"gridcolor\": \"white\", \"gridwidth\": 2, \"linecolor\": \"white\", \"showbackground\": true, \"ticks\": \"\", \"zerolinecolor\": \"white\"}, \"zaxis\": {\"backgroundcolor\": \"#E5ECF6\", \"gridcolor\": \"white\", \"gridwidth\": 2, \"linecolor\": \"white\", \"showbackground\": true, \"ticks\": \"\", \"zerolinecolor\": \"white\"}}, \"shapedefaults\": {\"line\": {\"color\": \"#2a3f5f\"}}, \"ternary\": {\"aaxis\": {\"gridcolor\": \"white\", \"linecolor\": \"white\", \"ticks\": \"\"}, \"baxis\": {\"gridcolor\": \"white\", \"linecolor\": \"white\", \"ticks\": \"\"}, \"bgcolor\": \"#E5ECF6\", \"caxis\": {\"gridcolor\": \"white\", \"linecolor\": \"white\", \"ticks\": \"\"}}, \"title\": {\"x\": 0.05}, \"xaxis\": {\"automargin\": true, \"gridcolor\": \"white\", \"linecolor\": \"white\", \"ticks\": \"\", \"title\": {\"standoff\": 15}, \"zerolinecolor\": \"white\", \"zerolinewidth\": 2}, \"yaxis\": {\"automargin\": true, \"gridcolor\": \"white\", \"linecolor\": \"white\", \"ticks\": \"\", \"title\": {\"standoff\": 15}, \"zerolinecolor\": \"white\", \"zerolinewidth\": 2}}}, \"title\": {\"text\": \"Polaridad promedio de review por usuario\"}, \"width\": 800},\n",
              "                        {\"responsive\": true}\n",
              "                    ).then(function(){\n",
              "                            \n",
              "var gd = document.getElementById('0624cac9-2456-4c71-90a2-3bbc0e941f08');\n",
              "var x = new MutationObserver(function (mutations, observer) {{\n",
              "        var display = window.getComputedStyle(gd).display;\n",
              "        if (!display || display === 'none') {{\n",
              "            console.log([gd, 'removed!']);\n",
              "            Plotly.purge(gd);\n",
              "            observer.disconnect();\n",
              "        }}\n",
              "}});\n",
              "\n",
              "// Listen for the removal of the full notebook cells\n",
              "var notebookContainer = gd.closest('#notebook-container');\n",
              "if (notebookContainer) {{\n",
              "    x.observe(notebookContainer, {childList: true});\n",
              "}}\n",
              "\n",
              "// Listen for the clearing of the current output cell\n",
              "var outputEl = gd.closest('.output');\n",
              "if (outputEl) {{\n",
              "    x.observe(outputEl, {childList: true});\n",
              "}}\n",
              "\n",
              "                        })\n",
              "                };\n",
              "                \n",
              "            </script>\n",
              "        </div>\n",
              "</body>\n",
              "</html>"
            ]
          },
          "metadata": {}
        }
      ]
    },
    {
      "cell_type": "markdown",
      "metadata": {
        "id": "PaK8Nx1oruxQ"
      },
      "source": [
        "# boots"
      ]
    },
    {
      "cell_type": "markdown",
      "metadata": {
        "id": "JZKwLkFuruxR"
      },
      "source": [
        "## Inicialiazacion DNS"
      ]
    },
    {
      "cell_type": "code",
      "metadata": {
        "id": "JYotQYzSsBY5"
      },
      "source": [
        "DIS_TRAIN_FILE =workdir+ \"dis-train_boots_text.txt\"\n",
        "DIS_MODEL_FILE =   workdir+\"model_dns_IRGANvisual_boots_text.pkl\" #rutaaaa"
      ],
      "execution_count": null,
      "outputs": []
    },
    {
      "cell_type": "code",
      "metadata": {
        "id": "M3TRE2d7ruxR"
      },
      "source": [
        "def AUC(rating, test_users,dict_tov):\n",
        "  \"\"\"\n",
        "  para cada usuario cuenta cuantos items de una muestra aleatoria tiene rating menor a \n",
        "  al rating del item consumido en test\n",
        "  \"\"\"\n",
        "  ans=0\n",
        "  cc=0\n",
        "  for user in test_users:\n",
        "      user_ind= test_users.index(user)\n",
        "      user_= all_user[user]\n",
        "      if dict_tov[user_][0] in all_items:\n",
        "          item_test= list(all_items).index(dict_tov[user_][0])\n",
        "          cc+=1\n",
        "          items_train= [ list(all_items).index(i) for i in user_pos_train[user_]]  \n",
        "          no_considerar= set(items_train+ [item_test]) \n",
        "          count=0\n",
        "          tmpans=0 \n",
        "          for j in random.sample(range(ITEM_NUM),int(50*(len(no_considerar)-1))): #sample\n",
        "              if j in no_considerar: continue\n",
        "              if rating[user_ind,item_test]>rating[user_ind,j]: tmpans+=1\n",
        "              count+=1\n",
        "\n",
        "          tmpans/=float(count)\n",
        "          ans+=tmpans\n",
        "  \n",
        "  ans/=float(cc)\n",
        "  return ans\n",
        "\n",
        "\n",
        "\n",
        "def simple_test(sess, model, dict_tov): \n",
        "  #Calcula AUC para todos los usuarios comparada con el elemento que quedo en el test set\n",
        "  #dict_tov: test o validacion\n",
        " test_users=[ all_user.index(i) for i in dict_tov.keys()]\n",
        " user_batch_rating = sess.run(model.all_rating, {model.u: test_users } ) \n",
        " batch_result= AUC(user_batch_rating,test_users, dict_tov)\n",
        "    \n",
        " return batch_result"
      ],
      "execution_count": null,
      "outputs": []
    },
    {
      "cell_type": "code",
      "metadata": {
        "id": "5-AUf7FsruxR",
        "scrolled": false
      },
      "source": [
        "tf.compat.v1.reset_default_graph()\n",
        "param = None\n",
        "discriminator = DIS(ITEM_NUM, USER_NUM, EMB_DIM, visual_matrix, K2, reviews, lamda=0.001, param=param, initdelta=0.1, learning_rate=0.1, imageFeatureDim=1536) #se llama al discriminador DNS\n",
        "\n",
        "\n",
        "config = tf.compat.v1.ConfigProto()\n",
        "config.gpu_options.allow_growth = True\n",
        "sess = tf.compat.v1.Session(config=config)\n",
        "sess.run(tf.compat.v1.global_variables_initializer())\n"
      ],
      "execution_count": null,
      "outputs": []
    },
    {
      "cell_type": "markdown",
      "metadata": {
        "id": "bneC4z8l8BDA"
      },
      "source": [
        "no sirve considerar todos ni tomar el top algo sobre una muestra mas grande"
      ]
    },
    {
      "cell_type": "code",
      "metadata": {
        "colab": {
          "background_save": true,
          "base_uri": "https://localhost:8080/"
        },
        "id": "8pajrsMCruxR",
        "scrolled": false,
        "outputId": "1293c137-1a58-4993-b779-bf4aaf887338"
      },
      "source": [
        "%%time\n",
        "dis_log = open(workdir+'dis_log_dns_IRGANvisual_text.txt', 'w')\n",
        "best_AUC=simple_test(sess, discriminator, user_pos_train)\n",
        "#print(sess.run(discriminator.pre_loss,feed_dict={discriminator.u: [0], discriminator.pos: [1],discriminator.neg: [2]}))\n",
        "#print(\"auc discriminador inicializado random\", best_AUC)\n",
        "losses=[]\n",
        "DNS_K= 5\n",
        "aucs=[]\n",
        "for epoch in range(int(3*13000)): \n",
        "        u= np.random.choice(list(user_pos_train.keys()),1)[0]\n",
        "        i = list(all_items).index(np.random.choice(user_pos_train[u],1)[0] ) #lo que consumio\n",
        "        pos = user_pos_train[u]\n",
        "        all_rating = sess.run(discriminator.dns_rating, {discriminator.u: all_user.index(u)}) #evalua el modelo\n",
        "        all_rating = np.array(all_rating)\n",
        "        neg = []\n",
        "        candidates = list(set(all_items) - set(pos) )#los que no ha consumido\n",
        "        \n",
        "        choice = np.random.choice(candidates, DNS_K) #se escogen DN_K aleatoriamente de los candidatos\n",
        "        choice= [list(all_items).index(i) for i in choice]\n",
        "        #choice_score = all_rating[choice] # sus rating\n",
        "        #top_10_ind=random.sample(heapq.nlargest(5, range(len(choice_score)), choice_score.take),1)\n",
        "        #j= top_10_ind[0]\n",
        "        j= np.random.choice(choice,1)[0]\n",
        "        u= all_user.index(u)\n",
        "\n",
        "              #se actualiza el discriminador para la nueva tripleta\n",
        "        _ ,loss= sess.run([discriminator.d_updates, discriminator.pre_loss ],\n",
        "                             feed_dict={discriminator.u: [u], discriminator.pos: [i],\n",
        "                                        discriminator.neg: [j]})\n",
        "                \n",
        "        if epoch%1000==0:\n",
        "          losses.append(loss)\n",
        "          AUC_actual = simple_test(sess, discriminator,user_pos_train) #evalua\n",
        "          print (\"epoch \", epoch, \"dis: \", AUC_actual, \"loss: \",loss )\n",
        "          aucs.append(AUC_actual)\n",
        "            \n",
        "          if AUC_actual> best_AUC:\n",
        "                  print(\"mejore\")\n",
        "                  best_AUC = AUC_actual\n",
        "                  discriminator.save_model(sess, DIS_MODEL_FILE)\n",
        "                  print (\"best AUC: \", best_AUC)\n",
        "                  \n",
        "        buf = '\\t'.join([str(AUC_actual)])\n",
        "        dis_log.write(str(epoch) + '\\t' + buf + '\\n')\n",
        "        dis_log.flush()\n",
        "\n",
        "dis_log.close()"
      ],
      "execution_count": null,
      "outputs": [
        {
          "name": "stdout",
          "output_type": "stream",
          "text": [
            "epoch  0 dis:  0.4983744277961383 loss:  1.539977\n",
            "mejore\n",
            "best AUC:  0.4983744277961383\n",
            "epoch  1000 dis:  0.6146867999237415 loss:  1.6333213\n",
            "mejore\n",
            "best AUC:  0.6146867999237415\n",
            "epoch  2000 dis:  0.6631743695496203 loss:  1.2778668\n",
            "mejore\n",
            "best AUC:  0.6631743695496203\n",
            "epoch  3000 dis:  0.7065721448936388 loss:  2.008354\n",
            "mejore\n",
            "best AUC:  0.7065721448936388\n",
            "epoch  4000 dis:  0.7301944191436266 loss:  1.9326353\n",
            "mejore\n",
            "best AUC:  0.7301944191436266\n",
            "epoch  5000 dis:  0.7444025379096048 loss:  1.449018\n",
            "mejore\n",
            "best AUC:  0.7444025379096048\n",
            "epoch  6000 dis:  0.7639117852965087 loss:  0.6821246\n",
            "mejore\n",
            "best AUC:  0.7639117852965087\n",
            "epoch  7000 dis:  0.7801468365064264 loss:  0.49464473\n",
            "mejore\n",
            "best AUC:  0.7801468365064264\n",
            "epoch  8000 dis:  0.7914429635391524 loss:  0.39758903\n",
            "mejore\n",
            "best AUC:  0.7914429635391524\n",
            "epoch  9000 dis:  0.7996113301557384 loss:  0.3422217\n",
            "mejore\n",
            "best AUC:  0.7996113301557384\n",
            "epoch  10000 dis:  0.8091242313406122 loss:  0.45051032\n",
            "mejore\n",
            "best AUC:  0.8091242313406122\n",
            "epoch  11000 dis:  0.8175106134599281 loss:  0.12710081\n",
            "mejore\n",
            "best AUC:  0.8175106134599281\n",
            "epoch  12000 dis:  0.8253815765820353 loss:  0.5540903\n",
            "mejore\n",
            "best AUC:  0.8253815765820353\n",
            "epoch  13000 dis:  0.8324230203977895 loss:  0.07882872\n",
            "mejore\n",
            "best AUC:  0.8324230203977895\n",
            "epoch  14000 dis:  0.837579412007131 loss:  0.16431135\n",
            "mejore\n",
            "best AUC:  0.837579412007131\n",
            "epoch  15000 dis:  0.8401369157962408 loss:  -0.067552626\n",
            "mejore\n",
            "best AUC:  0.8401369157962408\n",
            "epoch  16000 dis:  0.8448799666675502 loss:  2.4343915\n",
            "mejore\n",
            "best AUC:  0.8448799666675502\n",
            "epoch  17000 dis:  0.8468778616964443 loss:  -0.15373303\n",
            "mejore\n",
            "best AUC:  0.8468778616964443\n",
            "epoch  18000 dis:  0.8505875150755186 loss:  0.08118319\n",
            "mejore\n",
            "best AUC:  0.8505875150755186\n",
            "epoch  19000 dis:  0.8531227459312499 loss:  0.31862068\n",
            "mejore\n",
            "best AUC:  0.8531227459312499\n",
            "epoch  20000 dis:  0.8601508304802745 loss:  -0.0067099854\n",
            "mejore\n",
            "best AUC:  0.8601508304802745\n",
            "epoch  21000 dis:  0.8635346184132578 loss:  0.037581794\n",
            "mejore\n",
            "best AUC:  0.8635346184132578\n",
            "epoch  22000 dis:  0.8667576627280313 loss:  0.40047017\n",
            "mejore\n",
            "best AUC:  0.8667576627280313\n",
            "epoch  23000 dis:  0.8704199596526151 loss:  -0.03797722\n",
            "mejore\n",
            "best AUC:  0.8704199596526151\n",
            "epoch  24000 dis:  0.8725984602217998 loss:  0.04708744\n",
            "mejore\n",
            "best AUC:  0.8725984602217998\n",
            "epoch  25000 dis:  0.8738230799346295 loss:  0.073890485\n",
            "mejore\n",
            "best AUC:  0.8738230799346295\n",
            "epoch  26000 dis:  0.8754884473212453 loss:  0.05853377\n",
            "mejore\n",
            "best AUC:  0.8754884473212453\n",
            "epoch  27000 dis:  0.8763918573725884 loss:  -0.00018630177\n",
            "mejore\n",
            "best AUC:  0.8763918573725884\n",
            "epoch  28000 dis:  0.8781019211690554 loss:  -0.050525464\n",
            "mejore\n",
            "best AUC:  0.8781019211690554\n",
            "epoch  29000 dis:  0.881445067579923 loss:  0.094235666\n",
            "mejore\n",
            "best AUC:  0.881445067579923\n",
            "epoch  30000 dis:  0.8842230282156328 loss:  0.026649028\n",
            "mejore\n",
            "best AUC:  0.8842230282156328\n",
            "epoch  31000 dis:  0.8848449324805391 loss:  -0.0414896\n",
            "mejore\n",
            "best AUC:  0.8848449324805391\n",
            "epoch  32000 dis:  0.8867300707204825 loss:  0.020325996\n",
            "mejore\n",
            "best AUC:  0.8867300707204825\n",
            "epoch  33000 dis:  0.8868886092199475 loss:  -0.03140086\n",
            "mejore\n",
            "best AUC:  0.8868886092199475\n",
            "epoch  34000 dis:  0.889192894790514 loss:  -0.04158482\n",
            "mejore\n",
            "best AUC:  0.889192894790514\n",
            "epoch  35000 dis:  0.8910464700088131 loss:  0.007287346\n",
            "mejore\n",
            "best AUC:  0.8910464700088131\n",
            "epoch  36000 dis:  0.8920210954430332 loss:  0.07699499\n",
            "mejore\n",
            "best AUC:  0.8920210954430332\n",
            "epoch  37000 dis:  0.8922366714370946 loss:  0.4406698\n",
            "mejore\n",
            "best AUC:  0.8922366714370946\n",
            "epoch  38000 dis:  0.8941149247842136 loss:  0.058359683\n",
            "mejore\n",
            "best AUC:  0.8941149247842136\n",
            "CPU times: user 16min 17s, sys: 1min 9s, total: 17min 26s\n",
            "Wall time: 17min 17s\n"
          ]
        }
      ]
    },
    {
      "cell_type": "markdown",
      "metadata": {
        "id": "Ry3aQqjZ1aDa"
      },
      "source": [
        "1 h"
      ]
    },
    {
      "cell_type": "code",
      "metadata": {
        "colab": {
          "base_uri": "https://localhost:8080/",
          "height": 166
        },
        "id": "iPHNS7r3ruxR",
        "outputId": "335d2171-2f94-4c89-e23e-b21397e924b2"
      },
      "source": [
        "losses"
      ],
      "execution_count": null,
      "outputs": [
        {
          "output_type": "error",
          "ename": "NameError",
          "evalue": "ignored",
          "traceback": [
            "\u001b[0;31m---------------------------------------------------------------------------\u001b[0m",
            "\u001b[0;31mNameError\u001b[0m                                 Traceback (most recent call last)",
            "\u001b[0;32m<ipython-input-10-df3c821d0997>\u001b[0m in \u001b[0;36m<module>\u001b[0;34m()\u001b[0m\n\u001b[0;32m----> 1\u001b[0;31m \u001b[0mlosses\u001b[0m\u001b[0;34m\u001b[0m\u001b[0;34m\u001b[0m\u001b[0m\n\u001b[0m",
            "\u001b[0;31mNameError\u001b[0m: name 'losses' is not defined"
          ]
        }
      ]
    },
    {
      "cell_type": "code",
      "metadata": {
        "colab": {
          "base_uri": "https://localhost:8080/"
        },
        "id": "pimExmA0ruxR",
        "outputId": "d816f03e-d6ba-4298-e769-baf63fb0aa49"
      },
      "source": [
        "aucs"
      ],
      "execution_count": null,
      "outputs": [
        {
          "data": {
            "text/plain": [
              "[0.49572415247587154,\n",
              " 0.5662317180514732,\n",
              " 0.6057415187557841,\n",
              " 0.6405802112258008,\n",
              " 0.6675439335645527,\n",
              " 0.6913242631649663,\n",
              " 0.7156699068322885,\n",
              " 0.7308143598470864,\n",
              " 0.7433442523143571,\n",
              " 0.7519345398824647,\n",
              " 0.7642779672980266,\n",
              " 0.7765173203038385,\n",
              " 0.7863039602763786,\n",
              " 0.7969168473275811,\n",
              " 0.80272771660769,\n",
              " 0.8095012591546417,\n",
              " 0.8147216330093032,\n",
              " 0.8201110397309785,\n",
              " 0.8261917472514809,\n",
              " 0.8322983175197973,\n",
              " 0.8342949938717108,\n",
              " 0.8378111769256754,\n",
              " 0.8418648976167542,\n",
              " 0.8464328871552678,\n",
              " 0.8501455437597926,\n",
              " 0.8539392613175291,\n",
              " 0.8570886662740305,\n",
              " 0.8608740725484626,\n",
              " 0.8607784388499193,\n",
              " 0.863241103661213,\n",
              " 0.8656738943065189,\n",
              " 0.8692009868774703,\n",
              " 0.8732967283348574,\n",
              " 0.8747330631411706,\n",
              " 0.8753780653590701,\n",
              " 0.8767211875201576,\n",
              " 0.8794115217491388,\n",
              " 0.8808942039663467,\n",
              " 0.8836826007118018]"
            ]
          },
          "execution_count": 19,
          "metadata": {},
          "output_type": "execute_result"
        }
      ]
    },
    {
      "cell_type": "markdown",
      "metadata": {
        "id": "YRcPs3cLGi1c"
      },
      "source": [
        "1 43h"
      ]
    },
    {
      "cell_type": "markdown",
      "metadata": {
        "id": "AAGIbMDgruxR"
      },
      "source": [
        "## minmax"
      ]
    },
    {
      "cell_type": "markdown",
      "metadata": {
        "id": "1DVYZKcxruxR"
      },
      "source": [
        "la regularizacion es crucial"
      ]
    },
    {
      "cell_type": "code",
      "metadata": {
        "colab": {
          "base_uri": "https://localhost:8080/"
        },
        "id": "ylCrkCWDruxR",
        "outputId": "c867208c-45de-4a50-cc1d-7e9514e035f7"
      },
      "source": [
        "BATCH_SIZE = 1000 #16\n",
        "import pickle\n",
        "print (\"load model...\")\n",
        "\n",
        "\n",
        "with open( workdir+ \"model_dns_IRGANvisual_boots_text.pkl\", 'rb') as f: \n",
        "  param = pickle.load(f,encoding=\"bytes\")\n",
        "\n",
        "generator = GEN(ITEM_NUM, USER_NUM, EMB_DIM, visual_matrix, K2,reviews,lamda=0.001, param=param, initdelta=0.1,learning_rate=0.01, imageFeatureDim=1536 )\n",
        "\n",
        "discriminator = DIS(ITEM_NUM, USER_NUM, EMB_DIM,visual_matrix, K2,reviews, lamda=0.001, param=None, initdelta=0.1,\n",
        "                        learning_rate=0.01, imageFeatureDim=1536) #segundo discriminador (el que no es DNS)\n",
        "\n",
        "config = tf.compat.v1.ConfigProto()\n",
        "config.gpu_options.allow_growth = True\n",
        "sess = tf.compat.v1.Session(config=config)\n",
        "sess.run(tf.compat.v1.global_variables_initializer())\n",
        "g1= simple_test(sess, generator,user_pos_train)\n",
        "d1=simple_test(sess, discriminator,user_pos_train)\n",
        "print (\"gen \", g1)\n",
        "print (\"dis \", d1)"
      ],
      "execution_count": null,
      "outputs": [
        {
          "output_type": "stream",
          "name": "stdout",
          "text": [
            "load model...\n",
            "gen  0.893905287470569\n",
            "dis  0.5005801825944031\n"
          ]
        }
      ]
    },
    {
      "cell_type": "code",
      "metadata": {
        "id": "Ik7-DILq95e4",
        "colab": {
          "base_uri": "https://localhost:8080/"
        },
        "outputId": "f74c74f7-c70e-49e4-e90d-a41335dfb36c"
      },
      "source": [
        "simple_test(sess, generator,user_pos_train)"
      ],
      "execution_count": null,
      "outputs": [
        {
          "output_type": "execute_result",
          "data": {
            "text/plain": [
              "0.8935948956597833"
            ]
          },
          "metadata": {},
          "execution_count": 32
        }
      ]
    },
    {
      "cell_type": "code",
      "metadata": {
        "colab": {
          "base_uri": "https://localhost:8080/"
        },
        "id": "6zqybatpBRW9",
        "outputId": "a987b33a-4acf-4305-8ec4-ba6d375e3c6a"
      },
      "source": [
        "simple_test(sess, generator,user_pos_test)"
      ],
      "execution_count": null,
      "outputs": [
        {
          "output_type": "execute_result",
          "data": {
            "text/plain": [
              "0.8666143202968859"
            ]
          },
          "metadata": {},
          "execution_count": 33
        }
      ]
    },
    {
      "cell_type": "markdown",
      "metadata": {
        "id": "GiUXwwWDF3pw"
      },
      "source": [
        "17 min (women)"
      ]
    },
    {
      "cell_type": "markdown",
      "metadata": {
        "id": "DZnZP-p8FV6A"
      },
      "source": [
        "load model...\n",
        "gen  0.8837447040840262\n",
        "dis  0.5011702181114173\n",
        "\n",
        "0.8243988336222555"
      ]
    },
    {
      "cell_type": "code",
      "metadata": {
        "id": "KC6VhlmlruxR"
      },
      "source": [
        "\n",
        "def generate_for_d(sess, model, filename):\n",
        "    data = []\n",
        "    for u in user_pos_train: #para cada usario\n",
        "        pos = user_pos_train[u] #sus items \n",
        "        rating = sess.run(model.all_rating, {model.u: [all_user.index(u)]}) #completar la matriz \n",
        "        rating = np.array(rating[0]) #/ 0.2  # Temperature #infla los rating #plotear que pasa con la sigmoide cuando ponemos temperatura\n",
        "        exp_rating = np.exp(rating) \n",
        "        prob = exp_rating / np.sum(exp_rating)\n",
        "        #print(u)\n",
        "        neg = np.random.choice(list(all_items), size=len(pos), p=prob) #muestreo negativo \n",
        "        for i in range(len(pos)):\n",
        "            data.append( str(all_user.index(u)) + '\\t' + str(list(all_items).index(pos[i]) ) + '\\t' + str(list(all_items).index(neg[i])) ) \n",
        "\n",
        "    with open(filename, 'w')as fout:\n",
        "        fout.write('\\n'.join(data))\n",
        "\n"
      ],
      "execution_count": null,
      "outputs": []
    },
    {
      "cell_type": "code",
      "metadata": {
        "colab": {
          "base_uri": "https://localhost:8080/"
        },
        "id": "e-JN8iRGruxR",
        "scrolled": false,
        "outputId": "598b7bcd-255d-483d-db85-be85b5c55e91"
      },
      "source": [
        "# minimax training\n",
        "dis_log = open( workdir+ 'dis_log_boots_text.txt', 'w')\n",
        "gen_log = open( workdir+ 'gen_log_boots_text.txt', 'w')\n",
        "loss_d=[]\n",
        "auc_epocs_g=[]\n",
        "auc_epocs_d=[]\n",
        "loss_g=[]\n",
        "best_AUC=0.8505875150755186\n",
        "for epoch in range(15):#15\n",
        "    print(\"inicia minmax\")\n",
        "    if epoch >= 0:\n",
        "        #entrena D \n",
        "         for d_epoch in range(1):##100 #para el generador fijo, entrena al discriminador\n",
        "           # print(\"empieza a entrenarse el discriminador\")\n",
        "            loss_d_=0\n",
        "            if d_epoch % 5 == 0:\n",
        "                generate_for_d(sess, generator, DIS_TRAIN_FILE) #crea un archivo con las tripletas\n",
        "                #print(\"pase\")\n",
        "                train_size = file_len(DIS_TRAIN_FILE)\n",
        "            index = 1\n",
        "            c=0\n",
        "            while index < train_size-BATCH_SIZE: #hacer minibatch con etiquetado si es ejemplo positivo o negativo\n",
        "                if index + BATCH_SIZE <= train_size + 1:\n",
        "                    input_user, input_item, input_label = get_batch_data(DIS_TRAIN_FILE, index, BATCH_SIZE)\n",
        "                else:\n",
        "                    input_user, input_item, input_label = get_batch_data(DIS_TRAIN_FILE, index,\n",
        "                                                                            train_size - index + 1)\n",
        "                index += BATCH_SIZE\n",
        "               # print(index)\n",
        "                _, loss_dis = sess.run([discriminator.d_updates, discriminator.pre_loss],\n",
        "                                 feed_dict={discriminator.u: input_user, discriminator.i: input_item, discriminator.label: input_label}) #actualizaciones de los embeddings y bias tales que clasifiquen bien\n",
        "                loss_d_+=loss_dis\n",
        "                c+=1\n",
        "            \n",
        "            loss_d.append(loss_d_/c)\n",
        "            auc_actual = simple_test(sess, discriminator, user_pos_train)\n",
        "            auc_epocs_d.append(auc_actual)\n",
        "            print (\"epoch \", epoch, \"dis: \", loss_d_/c)\n",
        "            if auc_actual > best_AUC:\n",
        "                print ('mejore: ', auc_actual)\n",
        "                best_AUC = auc_actual\n",
        "\n",
        "         for g_epoch in range(1):  #\n",
        "            #print(\"empieza a entrenarse el generador\")\n",
        "            c=0\n",
        "            loss_g_=0\n",
        "            for u in user_pos_train: #por cada usuario #por cada usuario\n",
        "                #u= np.random.choice(list(user_pos_train.keys()),1)[0]\n",
        "                sample_lambda = 0.2 #temperatura\n",
        "                pos = [list(all_items).index(i) for i in user_pos_train[u]] #peliculas relevantes\n",
        "                rating = sess.run(generator.all_logits, {generator.u: all_user.index(u)}) #calcula los ratings para ese usuario\n",
        "                exp_rating = np.exp(rating)\n",
        "                prob = exp_rating / np.sum(exp_rating)  # prob is generator distribution p_\\theta\n",
        "                pn = (1 - sample_lambda) * prob\n",
        "                pn[pos] += sample_lambda * 1.0 / len(pos) #pedirle las prob a lo consumido + 0.2/la cantidad de items consumidos\n",
        "                # Now, pn is the Pn in importance sampling, prob is generator distribution p_\\theta\n",
        "                sample = np.random.choice(np.arange(ITEM_NUM), 2 * len(pos), p=pn) #elige el doble de items c/r a lo consumido\n",
        "                \n",
        "                #               # Get reward and adapt it with importance sampling                #######\n",
        "                reward = sess.run(discriminator.reward, {discriminator.u: all_user.index(u), discriminator.i: sample})\n",
        "                reward = reward * prob[sample] / pn[sample]\n",
        "                ######             # Update G              ####################\n",
        "                _, loss_gen = sess.run([generator.gan_updates, generator.gan_loss],{generator.u: all_user.index(u), generator.i: sample, generator.reward: reward}) #actualiza pesos\n",
        "                c+=1\n",
        "                loss_g_+=loss_gen\n",
        "                \n",
        "            loss_g.append(loss_g_/c)\n",
        "            auc_actual = simple_test(sess, generator, user_pos_train)\n",
        "            auc_epocs_g.append(auc_actual)\n",
        "            print (\"epoch \", epoch, \"gen: \", auc_actual)\n",
        "            buf = '\\t'.join([str(auc_actual) ])\n",
        "            gen_log.write(str(epoch) + '\\t' + buf + '\\n')\n",
        "            gen_log.flush()\n",
        "            if auc_actual > best_AUC:\n",
        "                print ('mejore: ', auc_actual)\n",
        "                best_AUC = auc_actual\n",
        "                generator.save_model(sess,  workdir+ \"gan_generator_boots_text.pkl\") #se guarda el mejor modelo, la mejor factorización matricial.\n",
        "\n",
        "gen_log.close()\n",
        "dis_log.close()\n",
        "\n"
      ],
      "execution_count": null,
      "outputs": [
        {
          "output_type": "stream",
          "name": "stdout",
          "text": [
            "inicia minmax\n",
            "epoch  0 dis:  [[7.499884  7.6103625 7.607486  ... 7.405161  7.5954103 7.3420444]]\n",
            "epoch  0 gen:  0.8923883631372945\n",
            "mejore:  0.8923883631372945\n",
            "inicia minmax\n",
            "epoch  1 dis:  [[5.580815  5.760684  5.6574054 ... 5.621743  5.5187488 5.5488544]]\n",
            "epoch  1 gen:  0.890811816455097\n",
            "inicia minmax\n",
            "epoch  2 dis:  [[ 5.8923783 89.81277    6.9418807 ...  5.259137   6.5777464  5.1808367]]\n",
            "epoch  2 gen:  0.8889771114817699\n",
            "inicia minmax\n",
            "epoch  3 dis:  [[819.8859  171.32182 299.53104 ... 130.37305 446.6196  143.83153]]\n",
            "epoch  3 gen:  0.8868317002126466\n",
            "inicia minmax\n",
            "epoch  4 dis:  [[  4066.146 102955.      4611.288 ...  14886.272   5765.599  11649.335]]\n",
            "epoch  4 gen:  0.884282122043487\n",
            "inicia minmax\n",
            "epoch  5 dis:  [[1217783.1    82652.38 2301589.8  ...  107268.73  858452.06  249192.61]]\n",
            "epoch  5 gen:  0.8824415283625489\n",
            "inicia minmax\n",
            "epoch  6 dis:  [[53210090.   5766534.  28918004.  ...  3263820.   8563567.   2188812.8]]\n",
            "epoch  6 gen:  0.8811319873955931\n",
            "inicia minmax\n",
            "epoch  7 dis:  [[1.5649774e+08 3.6332182e+08 1.2140232e+09 ... 5.9197892e+07\n",
            "  3.5386752e+08 4.8788216e+07]]\n",
            "epoch  7 gen:  0.8778624670123696\n",
            "inicia minmax\n",
            "epoch  8 dis:  [[2.7696007e+10 3.4398573e+10 2.5608686e+10 ... 1.2141027e+10\n",
            "  3.9640407e+09 1.4142438e+10]]\n",
            "epoch  8 gen:  0.876576660737925\n",
            "inicia minmax\n",
            "epoch  9 dis:  [[4.9975845e+12 2.9491342e+12 4.0538607e+11 ... 5.5323158e+11\n",
            "  6.0352810e+11 5.7888670e+11]]\n",
            "epoch  9 gen:  0.8728531792927954\n",
            "inicia minmax\n",
            "epoch  10 dis:  [[2.7928686e+14 2.8710896e+13 5.4160481e+13 ... 1.5032500e+13\n",
            "  3.2417969e+13 1.9126022e+13]]\n",
            "epoch  10 gen:  0.8710639986736458\n",
            "inicia minmax\n",
            "epoch  11 dis:  [[3.6791463e+15 7.8886604e+15 1.2168206e+15 ... 2.2724854e+15\n",
            "  8.6589695e+14 2.3074827e+15]]\n",
            "epoch  11 gen:  0.8689718622442025\n",
            "inicia minmax\n",
            "epoch  12 dis:  [[4.3990571e+16 3.0401417e+17 1.1869569e+17 ... 7.2704390e+16\n",
            "  6.0232265e+16 6.6854172e+16]]\n",
            "epoch  12 gen:  0.864954452686376\n",
            "inicia minmax\n",
            "epoch  13 dis:  [[3.3682076e+19 4.1955024e+19 5.5538026e+18 ... 2.9979757e+18\n",
            "  5.1934459e+18 1.5052129e+18]]\n",
            "epoch  13 gen:  0.8637717891185293\n",
            "inicia minmax\n",
            "epoch  14 dis:  [[8.24553500e+20 1.03663364e+21 1.04802845e+21 ... 3.74984588e+20\n",
            "  4.01877692e+20 2.64098383e+20]]\n",
            "epoch  14 gen:  0.863470182570883\n"
          ]
        }
      ]
    },
    {
      "cell_type": "markdown",
      "metadata": {
        "id": "qGBoRTVWLN0X"
      },
      "source": [
        "2 epoc 1 h\n"
      ]
    },
    {
      "cell_type": "markdown",
      "metadata": {
        "id": "f9cz3awNIpG5"
      },
      "source": [
        "15 min"
      ]
    },
    {
      "cell_type": "code",
      "metadata": {
        "colab": {
          "base_uri": "https://localhost:8080/"
        },
        "id": "g4QQBvswSmwp",
        "outputId": "5f4e700b-76ed-42ad-84df-0b68070a7bed"
      },
      "source": [
        "print(simple_test(sess, discriminator,user_pos_train))\n",
        "print(simple_test(sess, generator,user_pos_train))\n",
        "print(simple_test(sess, discriminator,user_pos_test))\n",
        "print(simple_test(sess, generator,user_pos_test))"
      ],
      "execution_count": null,
      "outputs": [
        {
          "output_type": "stream",
          "name": "stdout",
          "text": [
            "0.5084713460441559\n",
            "0.8631263960844127\n",
            "0.5010876943884807\n",
            "0.8708085340134709\n"
          ]
        }
      ]
    },
    {
      "cell_type": "code",
      "metadata": {
        "colab": {
          "base_uri": "https://localhost:8080/"
        },
        "id": "384bCOZNruxR",
        "outputId": "7c3d5a5a-2eaa-45e6-f5c9-a5ad7db42eb6"
      },
      "source": [
        "print(simple_test(sess, discriminator,user_pos_train))\n",
        "print(simple_test(sess, generator,user_pos_train))\n",
        "print(simple_test(sess, discriminator,user_pos_test))\n",
        "print(simple_test(sess, generator,user_pos_test))\n",
        "\n",
        "\n",
        "textfile = open(workdir+\"IRGAN_visual_boots_text.txt\", \"w\")\n",
        "textfile.write(str(loss_d) + \"\\n\")\n",
        "textfile.write(str(auc_epocs_g) + \"\\n\")\n",
        "textfile.write(str(auc_epocs_d) + \"\\n\")\n",
        "textfile.write(str(loss_g) + \"\\n\")\n",
        "textfile.close()"
      ],
      "execution_count": null,
      "outputs": [
        {
          "name": "stdout",
          "output_type": "stream",
          "text": [
            "0.5756609965568795\n",
            "0.8806364252583635\n",
            "0.5158881399868004\n",
            "0.8302309605734084\n"
          ]
        }
      ]
    },
    {
      "cell_type": "markdown",
      "metadata": {
        "id": "fnqc16npKAkl"
      },
      "source": [
        "0.5756609965568795\n",
        "0.8806364252583635\n",
        "0.5158881399868004\n",
        "0.8302309605734084"
      ]
    },
    {
      "cell_type": "code",
      "metadata": {
        "colab": {
          "base_uri": "https://localhost:8080/"
        },
        "id": "B9HAlMjGKFqy",
        "outputId": "536fcac8-ea77-487b-b1df-57b4b723f339"
      },
      "source": [
        "with open( workdir+ \"gan_generator_boots_text.pkl\", 'rb') as f: \n",
        "  param = pickle.load(f,encoding=\"bytes\")\n",
        "\n",
        "generator = GEN(ITEM_NUM, USER_NUM, EMB_DIM, visual_matrix, K2,reviews,lamda=0.001, param=param, initdelta=0.1,\n",
        "                    learning_rate=0.01, imageFeatureDim=1536 )\n",
        "textfile = open(workdir+\"IRGAN_visual_boots.txt\", \"w\")\n",
        "config = tf.compat.v1.ConfigProto()\n",
        "config.gpu_options.allow_growth = True\n",
        "sess = tf.compat.v1.Session(config=config)\n",
        "sess.run(tf.compat.v1.global_variables_initializer())\n",
        "\n",
        "\n",
        "print(simple_test(sess, generator,user_pos_train))\n",
        "print(simple_test(sess, generator,user_pos_test))"
      ],
      "execution_count": null,
      "outputs": [
        {
          "output_type": "stream",
          "name": "stdout",
          "text": [
            "0.8913130194756418\n",
            "0.8681502327126349\n"
          ]
        }
      ]
    },
    {
      "cell_type": "markdown",
      "metadata": {
        "id": "hbFAX-IZEE7N"
      },
      "source": [
        "aveces es mejor escoger el modelo final mas que el mejor en train..."
      ]
    },
    {
      "cell_type": "code",
      "metadata": {
        "id": "F3C49oYdEOeZ"
      },
      "source": [
        "import torch\n",
        "import torchaudio\n",
        "from torchaudio import transforms"
      ],
      "execution_count": null,
      "outputs": []
    },
    {
      "cell_type": "code",
      "metadata": {
        "colab": {
          "base_uri": "https://localhost:8080/"
        },
        "id": "SjDlnCkOEKTS",
        "outputId": "2e4ab830-192f-4f82-b736-492bb594b886"
      },
      "source": [
        "print(torchaudio.info(\"101848-9-0-0.wav\"))"
      ],
      "execution_count": null,
      "outputs": [
        {
          "output_type": "stream",
          "name": "stdout",
          "text": [
            "AudioMetaData(sample_rate=44100, num_frames=176400, num_channels=2, bits_per_sample=16, encoding=PCM_S)\n"
          ]
        }
      ]
    },
    {
      "cell_type": "code",
      "metadata": {
        "colab": {
          "base_uri": "https://localhost:8080/"
        },
        "id": "RsIFGn-rEL0H",
        "outputId": "4b8e016a-2c45-4a4c-9376-43529a02b5bc"
      },
      "source": [
        "sig.shape"
      ],
      "execution_count": null,
      "outputs": [
        {
          "output_type": "execute_result",
          "data": {
            "text/plain": [
              "torch.Size([2, 176400])"
            ]
          },
          "metadata": {},
          "execution_count": 6
        }
      ]
    },
    {
      "cell_type": "code",
      "metadata": {
        "colab": {
          "base_uri": "https://localhost:8080/"
        },
        "id": "aK6CJpltESYj",
        "outputId": "aa335779-c51f-4958-e853-4e36675962bb"
      },
      "source": [
        "sr"
      ],
      "execution_count": null,
      "outputs": [
        {
          "output_type": "execute_result",
          "data": {
            "text/plain": [
              "44100"
            ]
          },
          "metadata": {},
          "execution_count": 5
        }
      ]
    },
    {
      "cell_type": "code",
      "metadata": {
        "id": "2v9L0Bw3ETSJ"
      },
      "source": [
        ""
      ],
      "execution_count": null,
      "outputs": []
    }
  ]
}